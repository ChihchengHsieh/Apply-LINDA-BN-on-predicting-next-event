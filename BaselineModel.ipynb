{
 "cells": [
  {
   "cell_type": "markdown",
   "id": "e2e3ae0d",
   "metadata": {},
   "source": [
    "# Retrieve Data"
   ]
  },
  {
   "cell_type": "code",
   "execution_count": 1,
   "id": "a3db0b32",
   "metadata": {},
   "outputs": [
    {
     "name": "stderr",
     "output_type": "stream",
     "text": [
      "/Users/jrhs/.pyenv/versions/3.9.4/envs/dl/lib/python3.9/site-packages/pandas/compat/__init__.py:97: UserWarning: Could not import the lzma module. Your installed Python is incomplete. Attempting to use lzma compression will result in a RuntimeError.\n",
      "  warnings.warn(msg)\n"
     ]
    },
    {
     "data": {
      "application/vnd.jupyter.widget-view+json": {
       "model_id": "f41139658b784ae782ea32d876f191e8",
       "version_major": 2,
       "version_minor": 0
      },
      "text/plain": [
       "parsing log, completed traces ::   0%|          | 0/13087 [00:00<?, ?it/s]"
      ]
     },
     "metadata": {},
     "output_type": "display_data"
    }
   ],
   "source": [
    "import pm4py\n",
    "import pandas as pd\n",
    "from IPython.display import JSON\n",
    "from datetime import datetime, timedelta\n",
    "import itertools as it\n",
    "\n",
    "log = pm4py.read_xes('../Data/event_logs/BPI_Challenge_2012.xes')"
   ]
  },
  {
   "cell_type": "markdown",
   "id": "545cca8f",
   "metadata": {},
   "source": [
    "## Get default parameters needed for loading data."
   ]
  },
  {
   "cell_type": "code",
   "execution_count": 2,
   "id": "cd03c080",
   "metadata": {},
   "outputs": [],
   "source": [
    "parameters ={}\n",
    "\n",
    "column_names = {'Case ID': 'caseid',\n",
    "                    'Activity': 'task',\n",
    "                    'lifecycle:transition': 'event_type',\n",
    "                    'Resource': 'user'}\n",
    "    \n",
    "parameters['one_timestamp'] = False  # Only one timestamp in the log\n",
    "parameters['read_options'] = {\n",
    "    'timeformat': '%Y-%m-%dT%H:%M:%S.%f',\n",
    "    'column_names': column_names,\n",
    "    'one_timestamp': parameters['one_timestamp']}\n",
    "\n",
    "parameters['model_family'] = 'gru_cx'\n",
    "parameters['opt_method'] = 'rand_hpc' # 'rand_hpc', 'bayesian'\n",
    "parameters['max_eval'] = 1"
   ]
  },
  {
   "cell_type": "code",
   "execution_count": 3,
   "id": "5fc48147",
   "metadata": {},
   "outputs": [],
   "source": [
    "def reorder_xes(temp_data):\n",
    "    \"\"\"\n",
    "    this method match the duplicated events on the .xes log\n",
    "    \"\"\"\n",
    "    temp_data = pd.DataFrame(temp_data)\n",
    "    ordered_event_log = list()\n",
    "    if parameters['one_timestamp']:\n",
    "        column_names['Complete Timestamp'] = 'end_timestamp'\n",
    "        temp_data = temp_data[temp_data.event_type == 'complete']\n",
    "        ordered_event_log = temp_data.rename(\n",
    "            columns={'timestamp': 'end_timestamp'})\n",
    "        ordered_event_log = ordered_event_log.drop(columns='event_type')\n",
    "        ordered_event_log = ordered_event_log.to_dict('records')\n",
    "    else:\n",
    "        column_names['Start Timestamp'] = 'start_timestamp'\n",
    "        column_names['Complete Timestamp'] = 'end_timestamp'\n",
    "        for caseid, group in  temp_data.groupby(by=['caseid']):\n",
    "            trace = group.to_dict('records')\n",
    "            temp_trace = list()\n",
    "            for i in range(0, len(trace)-1):\n",
    "                incomplete = False\n",
    "                if trace[i]['event_type'] == 'start':\n",
    "                    c_task_name = trace[i]['task']\n",
    "                    remaining = trace[i+1:]\n",
    "                    complete_event = next((event for event in remaining if (event['task'] == c_task_name and event['event_type'] == 'complete')), None)\n",
    "                    if complete_event:\n",
    "                        temp_trace.append(\n",
    "                            {'caseid': caseid,\n",
    "                              'task': trace[i]['task'],\n",
    "                              'user': trace[i]['user'],\n",
    "                              'start_timestamp': trace[i]['timestamp'],\n",
    "                              'end_timestamp': complete_event['timestamp']})\n",
    "                    else:\n",
    "                        incomplete = True\n",
    "                        break\n",
    "            if not incomplete:\n",
    "                ordered_event_log.extend(temp_trace)\n",
    "    return ordered_event_log"
   ]
  },
  {
   "cell_type": "code",
   "execution_count": 4,
   "id": "2764affc",
   "metadata": {},
   "outputs": [],
   "source": [
    "def append_csv_start_end(data):\n",
    "    '''\n",
    "    The paper use this function to add start and end tasks to every trace.\n",
    "    '''\n",
    "    end_start_times = dict()\n",
    "    for case, group in pd.DataFrame(data).groupby('caseid'):\n",
    "        end_start_times[(case, 'Start')] = (\n",
    "            group.start_timestamp.min()-timedelta(microseconds=1))\n",
    "        end_start_times[(case, 'End')] = (\n",
    "            group.end_timestamp.max()+timedelta(microseconds=1))\n",
    "    new_data = list()\n",
    "    data = sorted(data, key=lambda x: x['caseid'])\n",
    "    for key, group in it.groupby(data, key=lambda x: x['caseid']):\n",
    "        trace = list(group)\n",
    "        for new_event in ['Start', 'End']:\n",
    "            idx = 0 if new_event == 'Start' else -1\n",
    "            temp_event = dict()\n",
    "            temp_event['caseid'] = trace[idx]['caseid']\n",
    "            temp_event['task'] = new_event\n",
    "            temp_event['user'] = new_event\n",
    "            temp_event['end_timestamp'] = end_start_times[(key, new_event)]\n",
    "            if not parameters['one_timestamp']:\n",
    "                temp_event['start_timestamp'] = end_start_times[(key, new_event)]\n",
    "            if new_event == 'Start':\n",
    "                trace.insert(0, temp_event)\n",
    "            else:\n",
    "                trace.append(temp_event)\n",
    "        new_data.extend(trace)\n",
    "    return new_data"
   ]
  },
  {
   "cell_type": "code",
   "execution_count": 5,
   "id": "86ea5808",
   "metadata": {},
   "outputs": [
    {
     "name": "stdout",
     "output_type": "stream",
     "text": [
      "\n"
     ]
    }
   ],
   "source": [
    "try:\n",
    "    source = log.attributes['source']\n",
    "except:\n",
    "    source = ''\n",
    "    \n",
    "print(source)"
   ]
  },
  {
   "cell_type": "code",
   "execution_count": 6,
   "id": "65892165",
   "metadata": {},
   "outputs": [
    {
     "data": {
      "application/json": [
       {
        "caseid": "173688",
        "concept:name": "A_SUBMITTED",
        "lifecycle:transition": "COMPLETE",
        "org:resource": "112",
        "time:timestamp": "2011-10-01T00:38:44.546000"
       },
       {
        "caseid": "173688",
        "concept:name": "A_PARTLYSUBMITTED",
        "lifecycle:transition": "COMPLETE",
        "org:resource": "112",
        "time:timestamp": "2011-10-01T00:38:44.880000"
       },
       {
        "caseid": "173688",
        "concept:name": "A_PREACCEPTED",
        "lifecycle:transition": "COMPLETE",
        "org:resource": "112",
        "time:timestamp": "2011-10-01T00:39:37.906000"
       }
      ],
      "text/plain": [
       "<IPython.core.display.JSON object>"
      ]
     },
     "execution_count": 6,
     "metadata": {
      "application/json": {
       "expanded": false,
       "root": "root"
      }
     },
     "output_type": "execute_result"
    }
   ],
   "source": [
    "# Flat the event with caseid\n",
    "flattern_log = ([{**event, \n",
    "                    'caseid': trace.attributes['concept:name']} \n",
    "                   for trace in log for event in trace])\n",
    "\n",
    "JSON(flattern_log[:3])"
   ]
  },
  {
   "cell_type": "code",
   "execution_count": 7,
   "id": "8a31ef20",
   "metadata": {},
   "outputs": [
    {
     "name": "stdout",
     "output_type": "stream",
     "text": [
      "262200\n"
     ]
    },
    {
     "data": {
      "text/html": [
       "<div>\n",
       "<style scoped>\n",
       "    .dataframe tbody tr th:only-of-type {\n",
       "        vertical-align: middle;\n",
       "    }\n",
       "\n",
       "    .dataframe tbody tr th {\n",
       "        vertical-align: top;\n",
       "    }\n",
       "\n",
       "    .dataframe thead th {\n",
       "        text-align: right;\n",
       "    }\n",
       "</style>\n",
       "<table border=\"1\" class=\"dataframe\">\n",
       "  <thead>\n",
       "    <tr style=\"text-align: right;\">\n",
       "      <th></th>\n",
       "      <th>org:resource</th>\n",
       "      <th>lifecycle:transition</th>\n",
       "      <th>concept:name</th>\n",
       "      <th>time:timestamp</th>\n",
       "      <th>caseid</th>\n",
       "    </tr>\n",
       "  </thead>\n",
       "  <tbody>\n",
       "    <tr>\n",
       "      <th>0</th>\n",
       "      <td>112</td>\n",
       "      <td>COMPLETE</td>\n",
       "      <td>A_SUBMITTED</td>\n",
       "      <td>2011-10-01 00:38:44.546000+02:00</td>\n",
       "      <td>173688</td>\n",
       "    </tr>\n",
       "    <tr>\n",
       "      <th>1</th>\n",
       "      <td>112</td>\n",
       "      <td>COMPLETE</td>\n",
       "      <td>A_PARTLYSUBMITTED</td>\n",
       "      <td>2011-10-01 00:38:44.880000+02:00</td>\n",
       "      <td>173688</td>\n",
       "    </tr>\n",
       "    <tr>\n",
       "      <th>2</th>\n",
       "      <td>112</td>\n",
       "      <td>COMPLETE</td>\n",
       "      <td>A_PREACCEPTED</td>\n",
       "      <td>2011-10-01 00:39:37.906000+02:00</td>\n",
       "      <td>173688</td>\n",
       "    </tr>\n",
       "    <tr>\n",
       "      <th>3</th>\n",
       "      <td>112</td>\n",
       "      <td>SCHEDULE</td>\n",
       "      <td>W_Completeren aanvraag</td>\n",
       "      <td>2011-10-01 00:39:38.875000+02:00</td>\n",
       "      <td>173688</td>\n",
       "    </tr>\n",
       "    <tr>\n",
       "      <th>4</th>\n",
       "      <td>NaN</td>\n",
       "      <td>START</td>\n",
       "      <td>W_Completeren aanvraag</td>\n",
       "      <td>2011-10-01 11:36:46.437000+02:00</td>\n",
       "      <td>173688</td>\n",
       "    </tr>\n",
       "  </tbody>\n",
       "</table>\n",
       "</div>"
      ],
      "text/plain": [
       "  org:resource lifecycle:transition            concept:name  \\\n",
       "0          112             COMPLETE             A_SUBMITTED   \n",
       "1          112             COMPLETE       A_PARTLYSUBMITTED   \n",
       "2          112             COMPLETE           A_PREACCEPTED   \n",
       "3          112             SCHEDULE  W_Completeren aanvraag   \n",
       "4          NaN                START  W_Completeren aanvraag   \n",
       "\n",
       "                     time:timestamp  caseid  \n",
       "0  2011-10-01 00:38:44.546000+02:00  173688  \n",
       "1  2011-10-01 00:38:44.880000+02:00  173688  \n",
       "2  2011-10-01 00:39:37.906000+02:00  173688  \n",
       "3  2011-10-01 00:39:38.875000+02:00  173688  \n",
       "4  2011-10-01 11:36:46.437000+02:00  173688  "
      ]
     },
     "metadata": {},
     "output_type": "display_data"
    }
   ],
   "source": [
    "## Construct log to dataframe.\n",
    "temp_data = pd.DataFrame(flattern_log)\n",
    "\n",
    "print(len(temp_data))\n",
    "display(temp_data.head(5))"
   ]
  },
  {
   "cell_type": "code",
   "execution_count": 8,
   "id": "ab5b98f6",
   "metadata": {},
   "outputs": [
    {
     "name": "stdout",
     "output_type": "stream",
     "text": [
      "262200\n"
     ]
    },
    {
     "data": {
      "text/html": [
       "<div>\n",
       "<style scoped>\n",
       "    .dataframe tbody tr th:only-of-type {\n",
       "        vertical-align: middle;\n",
       "    }\n",
       "\n",
       "    .dataframe tbody tr th {\n",
       "        vertical-align: top;\n",
       "    }\n",
       "\n",
       "    .dataframe thead th {\n",
       "        text-align: right;\n",
       "    }\n",
       "</style>\n",
       "<table border=\"1\" class=\"dataframe\">\n",
       "  <thead>\n",
       "    <tr style=\"text-align: right;\">\n",
       "      <th></th>\n",
       "      <th>org:resource</th>\n",
       "      <th>lifecycle:transition</th>\n",
       "      <th>concept:name</th>\n",
       "      <th>time:timestamp</th>\n",
       "      <th>caseid</th>\n",
       "    </tr>\n",
       "  </thead>\n",
       "  <tbody>\n",
       "    <tr>\n",
       "      <th>0</th>\n",
       "      <td>112</td>\n",
       "      <td>COMPLETE</td>\n",
       "      <td>A_SUBMITTED</td>\n",
       "      <td>2011-10-01 00:38:44.546</td>\n",
       "      <td>173688</td>\n",
       "    </tr>\n",
       "    <tr>\n",
       "      <th>1</th>\n",
       "      <td>112</td>\n",
       "      <td>COMPLETE</td>\n",
       "      <td>A_PARTLYSUBMITTED</td>\n",
       "      <td>2011-10-01 00:38:44.880</td>\n",
       "      <td>173688</td>\n",
       "    </tr>\n",
       "    <tr>\n",
       "      <th>2</th>\n",
       "      <td>112</td>\n",
       "      <td>COMPLETE</td>\n",
       "      <td>A_PREACCEPTED</td>\n",
       "      <td>2011-10-01 00:39:37.906</td>\n",
       "      <td>173688</td>\n",
       "    </tr>\n",
       "    <tr>\n",
       "      <th>3</th>\n",
       "      <td>112</td>\n",
       "      <td>SCHEDULE</td>\n",
       "      <td>W_Completeren aanvraag</td>\n",
       "      <td>2011-10-01 00:39:38.875</td>\n",
       "      <td>173688</td>\n",
       "    </tr>\n",
       "    <tr>\n",
       "      <th>4</th>\n",
       "      <td>NaN</td>\n",
       "      <td>START</td>\n",
       "      <td>W_Completeren aanvraag</td>\n",
       "      <td>2011-10-01 11:36:46.437</td>\n",
       "      <td>173688</td>\n",
       "    </tr>\n",
       "  </tbody>\n",
       "</table>\n",
       "</div>"
      ],
      "text/plain": [
       "  org:resource lifecycle:transition            concept:name  \\\n",
       "0          112             COMPLETE             A_SUBMITTED   \n",
       "1          112             COMPLETE       A_PARTLYSUBMITTED   \n",
       "2          112             COMPLETE           A_PREACCEPTED   \n",
       "3          112             SCHEDULE  W_Completeren aanvraag   \n",
       "4          NaN                START  W_Completeren aanvraag   \n",
       "\n",
       "           time:timestamp  caseid  \n",
       "0 2011-10-01 00:38:44.546  173688  \n",
       "1 2011-10-01 00:38:44.880  173688  \n",
       "2 2011-10-01 00:39:37.906  173688  \n",
       "3 2011-10-01 00:39:38.875  173688  \n",
       "4 2011-10-01 11:36:46.437  173688  "
      ]
     },
     "execution_count": 8,
     "metadata": {},
     "output_type": "execute_result"
    }
   ],
   "source": [
    "# formate time\n",
    "temp_data['time:timestamp'] = temp_data.apply(\n",
    "    lambda x: x['time:timestamp'].strftime(parameters[\"read_options\"][\"timeformat\"]), axis=1)\n",
    "\n",
    "temp_data['time:timestamp'] = pd.to_datetime(temp_data['time:timestamp'], \n",
    "                                        format=parameters[\"read_options\"][\"timeformat\"])\n",
    "\n",
    "print(len(temp_data))\n",
    "temp_data.head(5)"
   ]
  },
  {
   "cell_type": "code",
   "execution_count": 9,
   "id": "cf68744b",
   "metadata": {},
   "outputs": [
    {
     "name": "stdout",
     "output_type": "stream",
     "text": [
      "262200\n"
     ]
    },
    {
     "data": {
      "text/html": [
       "<div>\n",
       "<style scoped>\n",
       "    .dataframe tbody tr th:only-of-type {\n",
       "        vertical-align: middle;\n",
       "    }\n",
       "\n",
       "    .dataframe tbody tr th {\n",
       "        vertical-align: top;\n",
       "    }\n",
       "\n",
       "    .dataframe thead th {\n",
       "        text-align: right;\n",
       "    }\n",
       "</style>\n",
       "<table border=\"1\" class=\"dataframe\">\n",
       "  <thead>\n",
       "    <tr style=\"text-align: right;\">\n",
       "      <th></th>\n",
       "      <th>user</th>\n",
       "      <th>event_type</th>\n",
       "      <th>task</th>\n",
       "      <th>timestamp</th>\n",
       "      <th>caseid</th>\n",
       "    </tr>\n",
       "  </thead>\n",
       "  <tbody>\n",
       "    <tr>\n",
       "      <th>0</th>\n",
       "      <td>112</td>\n",
       "      <td>COMPLETE</td>\n",
       "      <td>A_SUBMITTED</td>\n",
       "      <td>2011-10-01 00:38:44.546</td>\n",
       "      <td>173688</td>\n",
       "    </tr>\n",
       "    <tr>\n",
       "      <th>1</th>\n",
       "      <td>112</td>\n",
       "      <td>COMPLETE</td>\n",
       "      <td>A_PARTLYSUBMITTED</td>\n",
       "      <td>2011-10-01 00:38:44.880</td>\n",
       "      <td>173688</td>\n",
       "    </tr>\n",
       "    <tr>\n",
       "      <th>2</th>\n",
       "      <td>112</td>\n",
       "      <td>COMPLETE</td>\n",
       "      <td>A_PREACCEPTED</td>\n",
       "      <td>2011-10-01 00:39:37.906</td>\n",
       "      <td>173688</td>\n",
       "    </tr>\n",
       "    <tr>\n",
       "      <th>3</th>\n",
       "      <td>112</td>\n",
       "      <td>SCHEDULE</td>\n",
       "      <td>W_Completeren aanvraag</td>\n",
       "      <td>2011-10-01 00:39:38.875</td>\n",
       "      <td>173688</td>\n",
       "    </tr>\n",
       "    <tr>\n",
       "      <th>4</th>\n",
       "      <td>NaN</td>\n",
       "      <td>START</td>\n",
       "      <td>W_Completeren aanvraag</td>\n",
       "      <td>2011-10-01 11:36:46.437</td>\n",
       "      <td>173688</td>\n",
       "    </tr>\n",
       "  </tbody>\n",
       "</table>\n",
       "</div>"
      ],
      "text/plain": [
       "  user event_type                    task               timestamp  caseid\n",
       "0  112   COMPLETE             A_SUBMITTED 2011-10-01 00:38:44.546  173688\n",
       "1  112   COMPLETE       A_PARTLYSUBMITTED 2011-10-01 00:38:44.880  173688\n",
       "2  112   COMPLETE           A_PREACCEPTED 2011-10-01 00:39:37.906  173688\n",
       "3  112   SCHEDULE  W_Completeren aanvraag 2011-10-01 00:39:38.875  173688\n",
       "4  NaN      START  W_Completeren aanvraag 2011-10-01 11:36:46.437  173688"
      ]
     },
     "execution_count": 9,
     "metadata": {},
     "output_type": "execute_result"
    }
   ],
   "source": [
    "## Replacde column name if exist\n",
    "temp_data.rename(columns={\n",
    "    'concept:name': 'task',\n",
    "    'lifecycle:transition': 'event_type',\n",
    "    'org:resource': 'user',\n",
    "    'time:timestamp': 'timestamp'}, inplace=True)\n",
    "\n",
    "print(len(temp_data))\n",
    "temp_data.head(5)"
   ]
  },
  {
   "cell_type": "code",
   "execution_count": 10,
   "id": "4c36ce1f",
   "metadata": {},
   "outputs": [
    {
     "name": "stdout",
     "output_type": "stream",
     "text": [
      "Keeping rate: 1.0\n",
      "262200\n"
     ]
    },
    {
     "data": {
      "text/html": [
       "<div>\n",
       "<style scoped>\n",
       "    .dataframe tbody tr th:only-of-type {\n",
       "        vertical-align: middle;\n",
       "    }\n",
       "\n",
       "    .dataframe tbody tr th {\n",
       "        vertical-align: top;\n",
       "    }\n",
       "\n",
       "    .dataframe thead th {\n",
       "        text-align: right;\n",
       "    }\n",
       "</style>\n",
       "<table border=\"1\" class=\"dataframe\">\n",
       "  <thead>\n",
       "    <tr style=\"text-align: right;\">\n",
       "      <th></th>\n",
       "      <th>user</th>\n",
       "      <th>event_type</th>\n",
       "      <th>task</th>\n",
       "      <th>timestamp</th>\n",
       "      <th>caseid</th>\n",
       "    </tr>\n",
       "  </thead>\n",
       "  <tbody>\n",
       "    <tr>\n",
       "      <th>0</th>\n",
       "      <td>112</td>\n",
       "      <td>COMPLETE</td>\n",
       "      <td>A_SUBMITTED</td>\n",
       "      <td>2011-10-01 00:38:44.546</td>\n",
       "      <td>173688</td>\n",
       "    </tr>\n",
       "    <tr>\n",
       "      <th>1</th>\n",
       "      <td>112</td>\n",
       "      <td>COMPLETE</td>\n",
       "      <td>A_PARTLYSUBMITTED</td>\n",
       "      <td>2011-10-01 00:38:44.880</td>\n",
       "      <td>173688</td>\n",
       "    </tr>\n",
       "    <tr>\n",
       "      <th>2</th>\n",
       "      <td>112</td>\n",
       "      <td>COMPLETE</td>\n",
       "      <td>A_PREACCEPTED</td>\n",
       "      <td>2011-10-01 00:39:37.906</td>\n",
       "      <td>173688</td>\n",
       "    </tr>\n",
       "    <tr>\n",
       "      <th>3</th>\n",
       "      <td>112</td>\n",
       "      <td>SCHEDULE</td>\n",
       "      <td>W_Completeren aanvraag</td>\n",
       "      <td>2011-10-01 00:39:38.875</td>\n",
       "      <td>173688</td>\n",
       "    </tr>\n",
       "    <tr>\n",
       "      <th>4</th>\n",
       "      <td>NaN</td>\n",
       "      <td>START</td>\n",
       "      <td>W_Completeren aanvraag</td>\n",
       "      <td>2011-10-01 11:36:46.437</td>\n",
       "      <td>173688</td>\n",
       "    </tr>\n",
       "  </tbody>\n",
       "</table>\n",
       "</div>"
      ],
      "text/plain": [
       "  user event_type                    task               timestamp  caseid\n",
       "0  112   COMPLETE             A_SUBMITTED 2011-10-01 00:38:44.546  173688\n",
       "1  112   COMPLETE       A_PARTLYSUBMITTED 2011-10-01 00:38:44.880  173688\n",
       "2  112   COMPLETE           A_PREACCEPTED 2011-10-01 00:39:37.906  173688\n",
       "3  112   SCHEDULE  W_Completeren aanvraag 2011-10-01 00:39:38.875  173688\n",
       "4  NaN      START  W_Completeren aanvraag 2011-10-01 11:36:46.437  173688"
      ]
     },
     "execution_count": 10,
     "metadata": {},
     "output_type": "execute_result"
    }
   ],
   "source": [
    "cond = ~temp_data.task.apply(lambda v: v.lower() in ['start', 'end'])\n",
    "print('Keeping rate: ' + str(cond.sum()/len(cond)))\n",
    "\n",
    "temp_data = (temp_data[cond].reset_index(drop=True))\n",
    "\n",
    "print(len(temp_data))\n",
    "temp_data.head(5)"
   ]
  },
  {
   "cell_type": "code",
   "execution_count": 11,
   "id": "3a6db259",
   "metadata": {},
   "outputs": [
    {
     "data": {
      "text/html": [
       "<div>\n",
       "<style scoped>\n",
       "    .dataframe tbody tr th:only-of-type {\n",
       "        vertical-align: middle;\n",
       "    }\n",
       "\n",
       "    .dataframe tbody tr th {\n",
       "        vertical-align: top;\n",
       "    }\n",
       "\n",
       "    .dataframe thead th {\n",
       "        text-align: right;\n",
       "    }\n",
       "</style>\n",
       "<table border=\"1\" class=\"dataframe\">\n",
       "  <thead>\n",
       "    <tr style=\"text-align: right;\">\n",
       "      <th></th>\n",
       "      <th>user</th>\n",
       "      <th>event_type</th>\n",
       "      <th>task</th>\n",
       "      <th>timestamp</th>\n",
       "      <th>caseid</th>\n",
       "    </tr>\n",
       "  </thead>\n",
       "  <tbody>\n",
       "    <tr>\n",
       "      <th>0</th>\n",
       "      <td>112</td>\n",
       "      <td>complete</td>\n",
       "      <td>A_SUBMITTED</td>\n",
       "      <td>2011-10-01 00:38:44.546</td>\n",
       "      <td>173688</td>\n",
       "    </tr>\n",
       "    <tr>\n",
       "      <th>1</th>\n",
       "      <td>112</td>\n",
       "      <td>complete</td>\n",
       "      <td>A_PARTLYSUBMITTED</td>\n",
       "      <td>2011-10-01 00:38:44.880</td>\n",
       "      <td>173688</td>\n",
       "    </tr>\n",
       "    <tr>\n",
       "      <th>2</th>\n",
       "      <td>112</td>\n",
       "      <td>complete</td>\n",
       "      <td>A_PREACCEPTED</td>\n",
       "      <td>2011-10-01 00:39:37.906</td>\n",
       "      <td>173688</td>\n",
       "    </tr>\n",
       "    <tr>\n",
       "      <th>3</th>\n",
       "      <td>112</td>\n",
       "      <td>schedule</td>\n",
       "      <td>W_Completeren aanvraag</td>\n",
       "      <td>2011-10-01 00:39:38.875</td>\n",
       "      <td>173688</td>\n",
       "    </tr>\n",
       "    <tr>\n",
       "      <th>4</th>\n",
       "      <td>NaN</td>\n",
       "      <td>start</td>\n",
       "      <td>W_Completeren aanvraag</td>\n",
       "      <td>2011-10-01 11:36:46.437</td>\n",
       "      <td>173688</td>\n",
       "    </tr>\n",
       "  </tbody>\n",
       "</table>\n",
       "</div>"
      ],
      "text/plain": [
       "  user event_type                    task               timestamp  caseid\n",
       "0  112   complete             A_SUBMITTED 2011-10-01 00:38:44.546  173688\n",
       "1  112   complete       A_PARTLYSUBMITTED 2011-10-01 00:38:44.880  173688\n",
       "2  112   complete           A_PREACCEPTED 2011-10-01 00:39:37.906  173688\n",
       "3  112   schedule  W_Completeren aanvraag 2011-10-01 00:39:38.875  173688\n",
       "4  NaN      start  W_Completeren aanvraag 2011-10-01 11:36:46.437  173688"
      ]
     },
     "execution_count": 11,
     "metadata": {},
     "output_type": "execute_result"
    }
   ],
   "source": [
    "# lower event_type\n",
    "temp_data.event_type = temp_data.event_type.str.lower()\n",
    "temp_data.head(5)"
   ]
  },
  {
   "cell_type": "code",
   "execution_count": 12,
   "id": "a6b29a92",
   "metadata": {},
   "outputs": [
    {
     "name": "stdout",
     "output_type": "stream",
     "text": [
      "Keeping rate: 0.8996262395118231\n",
      "235882\n"
     ]
    },
    {
     "data": {
      "text/html": [
       "<div>\n",
       "<style scoped>\n",
       "    .dataframe tbody tr th:only-of-type {\n",
       "        vertical-align: middle;\n",
       "    }\n",
       "\n",
       "    .dataframe tbody tr th {\n",
       "        vertical-align: top;\n",
       "    }\n",
       "\n",
       "    .dataframe thead th {\n",
       "        text-align: right;\n",
       "    }\n",
       "</style>\n",
       "<table border=\"1\" class=\"dataframe\">\n",
       "  <thead>\n",
       "    <tr style=\"text-align: right;\">\n",
       "      <th></th>\n",
       "      <th>user</th>\n",
       "      <th>event_type</th>\n",
       "      <th>task</th>\n",
       "      <th>timestamp</th>\n",
       "      <th>caseid</th>\n",
       "    </tr>\n",
       "  </thead>\n",
       "  <tbody>\n",
       "    <tr>\n",
       "      <th>0</th>\n",
       "      <td>112</td>\n",
       "      <td>complete</td>\n",
       "      <td>A_SUBMITTED</td>\n",
       "      <td>2011-10-01 00:38:44.546</td>\n",
       "      <td>173688</td>\n",
       "    </tr>\n",
       "    <tr>\n",
       "      <th>1</th>\n",
       "      <td>112</td>\n",
       "      <td>complete</td>\n",
       "      <td>A_PARTLYSUBMITTED</td>\n",
       "      <td>2011-10-01 00:38:44.880</td>\n",
       "      <td>173688</td>\n",
       "    </tr>\n",
       "    <tr>\n",
       "      <th>2</th>\n",
       "      <td>112</td>\n",
       "      <td>complete</td>\n",
       "      <td>A_PREACCEPTED</td>\n",
       "      <td>2011-10-01 00:39:37.906</td>\n",
       "      <td>173688</td>\n",
       "    </tr>\n",
       "    <tr>\n",
       "      <th>3</th>\n",
       "      <td>NaN</td>\n",
       "      <td>start</td>\n",
       "      <td>W_Completeren aanvraag</td>\n",
       "      <td>2011-10-01 11:36:46.437</td>\n",
       "      <td>173688</td>\n",
       "    </tr>\n",
       "    <tr>\n",
       "      <th>4</th>\n",
       "      <td>10862</td>\n",
       "      <td>complete</td>\n",
       "      <td>A_ACCEPTED</td>\n",
       "      <td>2011-10-01 11:42:43.308</td>\n",
       "      <td>173688</td>\n",
       "    </tr>\n",
       "  </tbody>\n",
       "</table>\n",
       "</div>"
      ],
      "text/plain": [
       "    user event_type                    task               timestamp  caseid\n",
       "0    112   complete             A_SUBMITTED 2011-10-01 00:38:44.546  173688\n",
       "1    112   complete       A_PARTLYSUBMITTED 2011-10-01 00:38:44.880  173688\n",
       "2    112   complete           A_PREACCEPTED 2011-10-01 00:39:37.906  173688\n",
       "3    NaN      start  W_Completeren aanvraag 2011-10-01 11:36:46.437  173688\n",
       "4  10862   complete              A_ACCEPTED 2011-10-01 11:42:43.308  173688"
      ]
     },
     "execution_count": 12,
     "metadata": {},
     "output_type": "execute_result"
    }
   ],
   "source": [
    "temp_data['event_type'].str.lower()\n",
    "\n",
    "cond = temp_data.event_type.isin(['start','complete'])\n",
    "print('Keeping rate: ' + str(cond.sum()/len(cond)))\n",
    "temp_data = temp_data[cond].reset_index(drop=True)\n",
    "\n",
    "print(len(temp_data))\n",
    "temp_data.head(5)"
   ]
  },
  {
   "cell_type": "code",
   "execution_count": 13,
   "id": "dbff07cf",
   "metadata": {},
   "outputs": [],
   "source": [
    "if source == 'com.qbpsimulator':\n",
    "    if len(temp_data.iloc[0].elementId.split('_'))>1: \n",
    "        temp_data['etype'] = temp_data.apply(\n",
    "            lambda x: x.elementId.split('_')[0], axis=1)\n",
    "        temp_data = (\n",
    "            temp_data[temp_data.etype=='Task'].reset_index(drop=True))\n",
    "        \n"
   ]
  },
  {
   "cell_type": "code",
   "execution_count": 14,
   "id": "2268771c",
   "metadata": {},
   "outputs": [
    {
     "data": {
      "application/json": [
       {
        "caseid": "173688",
        "event_type": "complete",
        "task": "A_SUBMITTED",
        "timestamp": "2011-10-01T00:38:44.546000",
        "user": "112"
       },
       {
        "caseid": "173688",
        "event_type": "complete",
        "task": "A_PARTLYSUBMITTED",
        "timestamp": "2011-10-01T00:38:44.880000",
        "user": "112"
       },
       {
        "caseid": "173688",
        "event_type": "complete",
        "task": "A_PREACCEPTED",
        "timestamp": "2011-10-01T00:39:37.906000",
        "user": "112"
       },
       {
        "caseid": "173688",
        "event_type": "start",
        "task": "W_Completeren aanvraag",
        "timestamp": "2011-10-01T11:36:46.437000",
        "user": "nan"
       },
       {
        "caseid": "173688",
        "event_type": "complete",
        "task": "A_ACCEPTED",
        "timestamp": "2011-10-01T11:42:43.308000",
        "user": "10862"
       }
      ],
      "text/plain": [
       "<IPython.core.display.JSON object>"
      ]
     },
     "execution_count": 14,
     "metadata": {
      "application/json": {
       "expanded": false,
       "root": "root"
      }
     },
     "output_type": "execute_result"
    }
   ],
   "source": [
    "# trnasform to dict for applying functions on it.\n",
    "raw_data = temp_data.to_dict('records')\n",
    "\n",
    "# Show some example\n",
    "JSON(raw_data[:5])"
   ]
  },
  {
   "cell_type": "code",
   "execution_count": 15,
   "id": "003132bf",
   "metadata": {},
   "outputs": [],
   "source": [
    "orderedXes = reorder_xes(temp_data)"
   ]
  },
  {
   "cell_type": "code",
   "execution_count": 16,
   "id": "aeeacd0d",
   "metadata": {},
   "outputs": [
    {
     "name": "stdout",
     "output_type": "stream",
     "text": [
      "Event count before appending \"Start & End\": 71373\n",
      "Event count After appending \"Start & End\": 90687\n"
     ]
    },
    {
     "data": {
      "application/json": [
       {
        "caseid": "173688",
        "end_timestamp": "2011-10-01T11:36:46.436999",
        "start_timestamp": "2011-10-01T11:36:46.436999",
        "task": "Start",
        "user": "Start"
       },
       {
        "caseid": "173688",
        "end_timestamp": "2011-10-01T11:45:13.917000",
        "start_timestamp": "2011-10-01T11:36:46.437000",
        "task": "W_Completeren aanvraag",
        "user": "nan"
       },
       {
        "caseid": "173688",
        "end_timestamp": "2011-10-01T12:17:08.924000",
        "start_timestamp": "2011-10-01T12:15:41.290000",
        "task": "W_Nabellen offertes",
        "user": "nan"
       },
       {
        "caseid": "173688",
        "end_timestamp": "2011-10-08T16:32:00.886000",
        "start_timestamp": "2011-10-08T16:26:57.720000",
        "task": "W_Nabellen offertes",
        "user": "10913"
       },
       {
        "caseid": "173688",
        "end_timestamp": "2011-10-10T11:33:05.791000",
        "start_timestamp": "2011-10-10T11:32:22.495000",
        "task": "W_Nabellen offertes",
        "user": "11049"
       }
      ],
      "text/plain": [
       "<IPython.core.display.JSON object>"
      ]
     },
     "execution_count": 16,
     "metadata": {
      "application/json": {
       "expanded": false,
       "root": "root"
      }
     },
     "output_type": "execute_result"
    }
   ],
   "source": [
    "print(\"Event count before appending \\\"Start & End\\\": {}\".format(len(orderedXes)))\n",
    "data = append_csv_start_end(orderedXes)\n",
    "print(\"Event count After appending \\\"Start & End\\\": {}\".format(len(data)))\n",
    "\n",
    "JSON(data[:5])"
   ]
  },
  {
   "cell_type": "code",
   "execution_count": 17,
   "id": "882510b9",
   "metadata": {},
   "outputs": [
    {
     "data": {
      "text/html": [
       "<div>\n",
       "<style scoped>\n",
       "    .dataframe tbody tr th:only-of-type {\n",
       "        vertical-align: middle;\n",
       "    }\n",
       "\n",
       "    .dataframe tbody tr th {\n",
       "        vertical-align: top;\n",
       "    }\n",
       "\n",
       "    .dataframe thead th {\n",
       "        text-align: right;\n",
       "    }\n",
       "</style>\n",
       "<table border=\"1\" class=\"dataframe\">\n",
       "  <thead>\n",
       "    <tr style=\"text-align: right;\">\n",
       "      <th></th>\n",
       "      <th>caseid</th>\n",
       "      <th>task</th>\n",
       "      <th>user</th>\n",
       "      <th>end_timestamp</th>\n",
       "      <th>start_timestamp</th>\n",
       "    </tr>\n",
       "  </thead>\n",
       "  <tbody>\n",
       "    <tr>\n",
       "      <th>0</th>\n",
       "      <td>173688</td>\n",
       "      <td>Start</td>\n",
       "      <td>Start</td>\n",
       "      <td>2011-10-01 11:36:46.436999</td>\n",
       "      <td>2011-10-01 11:36:46.436999</td>\n",
       "    </tr>\n",
       "    <tr>\n",
       "      <th>1</th>\n",
       "      <td>173688</td>\n",
       "      <td>W_Completeren aanvraag</td>\n",
       "      <td>NaN</td>\n",
       "      <td>2011-10-01 11:45:13.917000</td>\n",
       "      <td>2011-10-01 11:36:46.437000</td>\n",
       "    </tr>\n",
       "    <tr>\n",
       "      <th>2</th>\n",
       "      <td>173688</td>\n",
       "      <td>W_Nabellen offertes</td>\n",
       "      <td>NaN</td>\n",
       "      <td>2011-10-01 12:17:08.924000</td>\n",
       "      <td>2011-10-01 12:15:41.290000</td>\n",
       "    </tr>\n",
       "    <tr>\n",
       "      <th>3</th>\n",
       "      <td>173688</td>\n",
       "      <td>W_Nabellen offertes</td>\n",
       "      <td>10913</td>\n",
       "      <td>2011-10-08 16:32:00.886000</td>\n",
       "      <td>2011-10-08 16:26:57.720000</td>\n",
       "    </tr>\n",
       "    <tr>\n",
       "      <th>4</th>\n",
       "      <td>173688</td>\n",
       "      <td>W_Nabellen offertes</td>\n",
       "      <td>11049</td>\n",
       "      <td>2011-10-10 11:33:05.791000</td>\n",
       "      <td>2011-10-10 11:32:22.495000</td>\n",
       "    </tr>\n",
       "  </tbody>\n",
       "</table>\n",
       "</div>"
      ],
      "text/plain": [
       "   caseid                    task   user              end_timestamp  \\\n",
       "0  173688                   Start  Start 2011-10-01 11:36:46.436999   \n",
       "1  173688  W_Completeren aanvraag    NaN 2011-10-01 11:45:13.917000   \n",
       "2  173688     W_Nabellen offertes    NaN 2011-10-01 12:17:08.924000   \n",
       "3  173688     W_Nabellen offertes  10913 2011-10-08 16:32:00.886000   \n",
       "4  173688     W_Nabellen offertes  11049 2011-10-10 11:33:05.791000   \n",
       "\n",
       "             start_timestamp  \n",
       "0 2011-10-01 11:36:46.436999  \n",
       "1 2011-10-01 11:36:46.437000  \n",
       "2 2011-10-01 12:15:41.290000  \n",
       "3 2011-10-08 16:26:57.720000  \n",
       "4 2011-10-10 11:32:22.495000  "
      ]
     },
     "metadata": {},
     "output_type": "display_data"
    }
   ],
   "source": [
    "# Get the \n",
    "log_df = pd.DataFrame(data)\n",
    "display(log_df.head(5))"
   ]
  },
  {
   "cell_type": "code",
   "execution_count": 18,
   "id": "18535117",
   "metadata": {},
   "outputs": [
    {
     "name": "stdout",
     "output_type": "stream",
     "text": [
      "Keeping rate: 0.7870257037943696, original length: 90687, length after removing: 71373\n"
     ]
    }
   ],
   "source": [
    "if set(['Unnamed: 0', 'role']).issubset(set(log_df.columns)):\n",
    "    log_df.drop(columns=['Unnamed: 0', 'role'], inplace=True)\n",
    "    \n",
    "# Drop the task with \"Start\" and \"End\"\n",
    "# Q: why dropping the events that we just added to the traces?\n",
    "# A: Since the implementation is from different authors, this part can be deleted\n",
    "originalLength = len(log_df)    \n",
    "log_df = log_df[~log_df.task.isin(['Start', 'End'])]\n",
    "lenAfterRemoving = len(log_df)\n",
    "\n",
    "print(\"Keeping rate: {}, original length: {}, length after removing: {}\".format(lenAfterRemoving/ originalLength, originalLength, lenAfterRemoving))"
   ]
  },
  {
   "cell_type": "code",
   "execution_count": 19,
   "id": "7df478de",
   "metadata": {},
   "outputs": [
    {
     "data": {
      "text/html": [
       "<div>\n",
       "<style scoped>\n",
       "    .dataframe tbody tr th:only-of-type {\n",
       "        vertical-align: middle;\n",
       "    }\n",
       "\n",
       "    .dataframe tbody tr th {\n",
       "        vertical-align: top;\n",
       "    }\n",
       "\n",
       "    .dataframe thead th {\n",
       "        text-align: right;\n",
       "    }\n",
       "</style>\n",
       "<table border=\"1\" class=\"dataframe\">\n",
       "  <thead>\n",
       "    <tr style=\"text-align: right;\">\n",
       "      <th></th>\n",
       "      <th>caseid</th>\n",
       "      <th>task</th>\n",
       "      <th>user</th>\n",
       "      <th>end_timestamp</th>\n",
       "      <th>start_timestamp</th>\n",
       "    </tr>\n",
       "  </thead>\n",
       "  <tbody>\n",
       "    <tr>\n",
       "      <th>1</th>\n",
       "      <td>173688</td>\n",
       "      <td>W_Completeren aanvraag</td>\n",
       "      <td>NaN</td>\n",
       "      <td>2011-10-01 11:45:13.917</td>\n",
       "      <td>2011-10-01 11:36:46.437</td>\n",
       "    </tr>\n",
       "    <tr>\n",
       "      <th>2</th>\n",
       "      <td>173688</td>\n",
       "      <td>W_Nabellen offertes</td>\n",
       "      <td>NaN</td>\n",
       "      <td>2011-10-01 12:17:08.924</td>\n",
       "      <td>2011-10-01 12:15:41.290</td>\n",
       "    </tr>\n",
       "    <tr>\n",
       "      <th>3</th>\n",
       "      <td>173688</td>\n",
       "      <td>W_Nabellen offertes</td>\n",
       "      <td>10913</td>\n",
       "      <td>2011-10-08 16:32:00.886</td>\n",
       "      <td>2011-10-08 16:26:57.720</td>\n",
       "    </tr>\n",
       "    <tr>\n",
       "      <th>4</th>\n",
       "      <td>173688</td>\n",
       "      <td>W_Nabellen offertes</td>\n",
       "      <td>11049</td>\n",
       "      <td>2011-10-10 11:33:05.791</td>\n",
       "      <td>2011-10-10 11:32:22.495</td>\n",
       "    </tr>\n",
       "    <tr>\n",
       "      <th>5</th>\n",
       "      <td>173688</td>\n",
       "      <td>W_Valideren aanvraag</td>\n",
       "      <td>10629</td>\n",
       "      <td>2011-10-13 10:37:37.026</td>\n",
       "      <td>2011-10-13 10:05:26.925</td>\n",
       "    </tr>\n",
       "  </tbody>\n",
       "</table>\n",
       "</div>"
      ],
      "text/plain": [
       "   caseid                    task   user           end_timestamp  \\\n",
       "1  173688  W_Completeren aanvraag    NaN 2011-10-01 11:45:13.917   \n",
       "2  173688     W_Nabellen offertes    NaN 2011-10-01 12:17:08.924   \n",
       "3  173688     W_Nabellen offertes  10913 2011-10-08 16:32:00.886   \n",
       "4  173688     W_Nabellen offertes  11049 2011-10-10 11:33:05.791   \n",
       "5  173688    W_Valideren aanvraag  10629 2011-10-13 10:37:37.026   \n",
       "\n",
       "          start_timestamp  \n",
       "1 2011-10-01 11:36:46.437  \n",
       "2 2011-10-01 12:15:41.290  \n",
       "3 2011-10-08 16:26:57.720  \n",
       "4 2011-10-10 11:32:22.495  \n",
       "5 2011-10-13 10:05:26.925  "
      ]
     },
     "execution_count": 19,
     "metadata": {},
     "output_type": "execute_result"
    }
   ],
   "source": [
    "log_df.head(5)"
   ]
  },
  {
   "cell_type": "code",
   "execution_count": 20,
   "id": "f4f87da9",
   "metadata": {},
   "outputs": [],
   "source": [
    "def create_index(log_df, column):\n",
    "    \"\"\"Creates an idx for a categorical attribute.\n",
    "    parms:\n",
    "        log_df: dataframe.\n",
    "        column: column name.\n",
    "    Returns:\n",
    "        index of a categorical attribute pairs.\n",
    "    \"\"\"\n",
    "    temp_list = log_df[[column]].values.tolist()\n",
    "    subsec_set = {(x[0]) for x in temp_list}\n",
    "    subsec_set = sorted(list(subsec_set))\n",
    "    alias = dict()\n",
    "    for i, _ in enumerate(subsec_set):\n",
    "        alias[subsec_set[i]] = i + 1\n",
    "    return alias\n"
   ]
  },
  {
   "cell_type": "code",
   "execution_count": 93,
   "id": "ab4484b3",
   "metadata": {},
   "outputs": [],
   "source": [
    "def indexing(log):\n",
    "    # Activities index creation\n",
    "    ac_index = create_index(log, 'task')\n",
    "    ac_index['start'] = 0\n",
    "    ac_index['end'] = len(ac_index)\n",
    "    index_ac = {v: k for k, v in ac_index.items()}\n",
    "    # Roles index creation\n",
    "#     rl_index = create_index(log, 'role')\n",
    "#     rl_index['start'] = 0\n",
    "#     rl_index['end'] = len(rl_index)\n",
    "#     index_rl = {v: k for k, v in rl_index.items()}\n",
    "    # Add index to the event log\n",
    "    ac_idx = lambda x: ac_index[x['task']]\n",
    "    log['ac_index'] = log.apply(ac_idx, axis=1)\n",
    "#     rl_idx = lambda x: rl_index[x['role']]\n",
    "#     log['rl_index'] = log.apply(rl_idx, axis=1)\n",
    "    return log;"
   ]
  },
  {
   "cell_type": "code",
   "execution_count": 94,
   "id": "b9e62f6c",
   "metadata": {},
   "outputs": [],
   "source": [
    "log_df = indexing(log_df)"
   ]
  },
  {
   "cell_type": "code",
   "execution_count": 95,
   "id": "d8a30969",
   "metadata": {},
   "outputs": [
    {
     "data": {
      "text/html": [
       "<div>\n",
       "<style scoped>\n",
       "    .dataframe tbody tr th:only-of-type {\n",
       "        vertical-align: middle;\n",
       "    }\n",
       "\n",
       "    .dataframe tbody tr th {\n",
       "        vertical-align: top;\n",
       "    }\n",
       "\n",
       "    .dataframe thead th {\n",
       "        text-align: right;\n",
       "    }\n",
       "</style>\n",
       "<table border=\"1\" class=\"dataframe\">\n",
       "  <thead>\n",
       "    <tr style=\"text-align: right;\">\n",
       "      <th></th>\n",
       "      <th>caseid</th>\n",
       "      <th>task</th>\n",
       "      <th>user</th>\n",
       "      <th>end_timestamp</th>\n",
       "      <th>start_timestamp</th>\n",
       "      <th>ac_index</th>\n",
       "    </tr>\n",
       "  </thead>\n",
       "  <tbody>\n",
       "    <tr>\n",
       "      <th>1</th>\n",
       "      <td>173688</td>\n",
       "      <td>W_Completeren aanvraag</td>\n",
       "      <td>NaN</td>\n",
       "      <td>2011-10-01 11:45:13.917</td>\n",
       "      <td>2011-10-01 11:36:46.437</td>\n",
       "      <td>3</td>\n",
       "    </tr>\n",
       "    <tr>\n",
       "      <th>2</th>\n",
       "      <td>173688</td>\n",
       "      <td>W_Nabellen offertes</td>\n",
       "      <td>NaN</td>\n",
       "      <td>2011-10-01 12:17:08.924</td>\n",
       "      <td>2011-10-01 12:15:41.290</td>\n",
       "      <td>5</td>\n",
       "    </tr>\n",
       "    <tr>\n",
       "      <th>3</th>\n",
       "      <td>173688</td>\n",
       "      <td>W_Nabellen offertes</td>\n",
       "      <td>10913</td>\n",
       "      <td>2011-10-08 16:32:00.886</td>\n",
       "      <td>2011-10-08 16:26:57.720</td>\n",
       "      <td>5</td>\n",
       "    </tr>\n",
       "    <tr>\n",
       "      <th>4</th>\n",
       "      <td>173688</td>\n",
       "      <td>W_Nabellen offertes</td>\n",
       "      <td>11049</td>\n",
       "      <td>2011-10-10 11:33:05.791</td>\n",
       "      <td>2011-10-10 11:32:22.495</td>\n",
       "      <td>5</td>\n",
       "    </tr>\n",
       "    <tr>\n",
       "      <th>5</th>\n",
       "      <td>173688</td>\n",
       "      <td>W_Valideren aanvraag</td>\n",
       "      <td>10629</td>\n",
       "      <td>2011-10-13 10:37:37.026</td>\n",
       "      <td>2011-10-13 10:05:26.925</td>\n",
       "      <td>6</td>\n",
       "    </tr>\n",
       "  </tbody>\n",
       "</table>\n",
       "</div>"
      ],
      "text/plain": [
       "   caseid                    task   user           end_timestamp  \\\n",
       "1  173688  W_Completeren aanvraag    NaN 2011-10-01 11:45:13.917   \n",
       "2  173688     W_Nabellen offertes    NaN 2011-10-01 12:17:08.924   \n",
       "3  173688     W_Nabellen offertes  10913 2011-10-08 16:32:00.886   \n",
       "4  173688     W_Nabellen offertes  11049 2011-10-10 11:33:05.791   \n",
       "5  173688    W_Valideren aanvraag  10629 2011-10-13 10:37:37.026   \n",
       "\n",
       "          start_timestamp  ac_index  \n",
       "1 2011-10-01 11:36:46.437         3  \n",
       "2 2011-10-01 12:15:41.290         5  \n",
       "3 2011-10-08 16:26:57.720         5  \n",
       "4 2011-10-10 11:32:22.495         5  \n",
       "5 2011-10-13 10:05:26.925         6  "
      ]
     },
     "execution_count": 95,
     "metadata": {},
     "output_type": "execute_result"
    }
   ],
   "source": [
    "log_df.head(5)"
   ]
  },
  {
   "cell_type": "code",
   "execution_count": 96,
   "id": "c28c07a9",
   "metadata": {},
   "outputs": [],
   "source": [
    "import copy\n",
    "from operator import itemgetter\n",
    "\n",
    "def _sort_log(log):\n",
    "    log = copy.deepcopy(log)\n",
    "    log = sorted(log.to_dict('records'), key=lambda x: x['caseid'])\n",
    "    for key, group in it.groupby(log, key=lambda x: x['caseid']):\n",
    "        events = list(group)\n",
    "        events = sorted(events, key=itemgetter('end_timestamp'))\n",
    "        length = len(events)\n",
    "        for i in range(0, len(events)):\n",
    "            events[i]['pos_trace'] = i + 1\n",
    "            events[i]['trace_len'] = length\n",
    "    log = pd.DataFrame.from_dict(log)\n",
    "    log.sort_values(by='end_timestamp', ascending=False, inplace=True)\n",
    "    return log"
   ]
  },
  {
   "cell_type": "code",
   "execution_count": 97,
   "id": "e8f571d6",
   "metadata": {},
   "outputs": [],
   "source": [
    "def timeline_contained(log: pd.DataFrame, size: float, one_timestamp: bool) -> None:\n",
    "    # log = self.log.data.to_dict('records')\n",
    "    num_events = int(np.round(len(log)*(1 - size)))\n",
    "\n",
    "    df_train = log.iloc[num_events:]\n",
    "    df_test = log.iloc[:num_events]\n",
    "    display(df_train.head(5))\n",
    "\n",
    "    # Incomplete final traces\n",
    "    df_train = df_train.sort_values(by=['caseid'],\n",
    "                                    ascending=True)\n",
    "    inc_traces = pd.DataFrame(df_train.groupby('caseid')\n",
    "                              .last()\n",
    "                              .reset_index())\n",
    "#     inc_traces = inc_traces[inc_traces.pos_trace != inc_traces.trace_len]\n",
    "    inc_traces = inc_traces['caseid'].to_list()\n",
    "\n",
    "    # Drop incomplete traces\n",
    "    df_test = df_test[~df_test.caseid.isin(inc_traces)]\n",
    "    df_test = df_test.drop(columns=['trace_len', 'pos_trace'],errors='ignore')\n",
    "\n",
    "    df_train = df_train[~df_train.caseid.isin(inc_traces)]\n",
    "    df_train = df_train.drop(columns=['trace_len', 'pos_trace'],errors='ignore')\n",
    "    key = 'end_timestamp' if one_timestamp else 'start_timestamp'\n",
    "    df_test = (df_test\n",
    "               .sort_values(key, ascending=True)\n",
    "               .reset_index(drop=True).to_dict('records'))\n",
    "    df_train = (df_train\n",
    "                .sort_values(key, ascending=True)\n",
    "                .reset_index(drop=True).to_dict('records'))\n",
    "    return df_train, df_test\n",
    "\n",
    "def timeline_trace(log: pd.DataFrame, size: float, one_timestamp: bool) -> None:\n",
    "    # log = self.log.data.to_dict('records')\n",
    "#     cases = log[log.pos_trace == 1]\n",
    "    cases = log\n",
    "    key = 'end_timestamp' if one_timestamp else 'start_timestamp'\n",
    "    cases = cases.sort_values(key, ascending=False)\n",
    "    cases = cases.caseid.to_list()\n",
    "    num_test_cases = int(np.round(len(cases)*(1 - size)))\n",
    "    test_cases = cases[:num_test_cases]\n",
    "    train_cases = cases[num_test_cases:]\n",
    "    df_train = log[log.caseid.isin(train_cases)]\n",
    "    df_test = log[log.caseid.isin(test_cases)]\n",
    "    df_train = df_train.drop(columns=['trace_len', 'pos_trace'],errors='ignore')\n",
    "    df_test = df_test.drop(columns=['trace_len', 'pos_trace'],errors='ignore')\n",
    "    return df_train, df_test\n",
    "\n",
    "def random(log: pd.DataFrame, size: float, one_timestamp: bool) -> None:\n",
    "    cases = list(log.caseid.unique())\n",
    "    sample_sz = int(np.ceil(len(cases)*size))\n",
    "    scases = random.sample(cases, sample_sz)\n",
    "    df_train = log[log.caseid.isin(scases)]\n",
    "    df_test = log[~log.caseid.isin(scases)]\n",
    "    return df_train, df_test"
   ]
  },
  {
   "cell_type": "code",
   "execution_count": 98,
   "id": "cd9dd49c",
   "metadata": {},
   "outputs": [],
   "source": [
    "def _get_splitter(method):\n",
    "        if method == 'timeline_contained':\n",
    "            return timeline_contained\n",
    "        elif method == 'timeline_trace':\n",
    "            return timeline_trace\n",
    "        elif method == 'random':\n",
    "            return random\n",
    "        else:\n",
    "            raise ValueError(method)"
   ]
  },
  {
   "cell_type": "code",
   "execution_count": 99,
   "id": "92fb3036",
   "metadata": {},
   "outputs": [],
   "source": [
    "def split_log(log: pd.DataFrame, method: str, size: float, one_timestamp: bool):\n",
    "    splitter = _get_splitter(method)\n",
    "    return splitter(log, size, one_timestamp)"
   ]
  },
  {
   "cell_type": "code",
   "execution_count": 112,
   "id": "b5f5c262",
   "metadata": {},
   "outputs": [],
   "source": [
    "def split_timeline(size: float, one_ts: bool, log: pd.DataFrame) -> (pd.DataFrame, pd.DataFrame) :\n",
    "        \"\"\"\n",
    "        Split an event log dataframe by time to peform split-validation.\n",
    "        prefered method time splitting removing incomplete traces.\n",
    "        If the testing set is smaller than the 10% of the log size\n",
    "        the second method is sort by traces start and split taking the whole\n",
    "        traces no matter if they are contained in the timeframe or not\n",
    "\n",
    "        Parameters\n",
    "        ----------\n",
    "        size : float, validation percentage.\n",
    "        one_ts : bool, Support only one timestamp.\n",
    "        \"\"\"\n",
    "        # Split log data\n",
    "        sortedLog = _sort_log(log)\n",
    "        train, test = split_log(log,'timeline_contained', size, one_ts)\n",
    "        print(\"1. train set size: {}\".format(len(train)))\n",
    "        total_events = len(log)\n",
    "        # Check size and change time splitting method if necesary\n",
    "        if len(test) < int(total_events*0.1):\n",
    "            train, test = split_log(log, 'timeline_trace', size, one_ts)\n",
    "        # Set splits\n",
    "        key = 'end_timestamp' if one_ts else 'start_timestamp'\n",
    "        test = pd.DataFrame(test)\n",
    "        train = pd.DataFrame(train)\n",
    "        print(train)\n",
    "        print('training set')\n",
    "        display(train.head(5))\n",
    "        \n",
    "#         print(\"display set\")\n",
    "#         display(test.head(5))\n",
    "        \n",
    "        log_test = (test.sort_values(key, ascending=True)\n",
    "                         .reset_index(drop=True))\n",
    "        log_train = (train.sort_values(key, ascending=True)\n",
    "                          .reset_index(drop=True))\n",
    "        return log_train, log_test"
   ]
  },
  {
   "cell_type": "code",
   "execution_count": 113,
   "id": "49aea69e",
   "metadata": {},
   "outputs": [
    {
     "data": {
      "text/html": [
       "<div>\n",
       "<style scoped>\n",
       "    .dataframe tbody tr th:only-of-type {\n",
       "        vertical-align: middle;\n",
       "    }\n",
       "\n",
       "    .dataframe tbody tr th {\n",
       "        vertical-align: top;\n",
       "    }\n",
       "\n",
       "    .dataframe thead th {\n",
       "        text-align: right;\n",
       "    }\n",
       "</style>\n",
       "<table border=\"1\" class=\"dataframe\">\n",
       "  <thead>\n",
       "    <tr style=\"text-align: right;\">\n",
       "      <th></th>\n",
       "      <th>caseid</th>\n",
       "      <th>task</th>\n",
       "      <th>user</th>\n",
       "      <th>end_timestamp</th>\n",
       "      <th>start_timestamp</th>\n",
       "      <th>ac_index</th>\n",
       "    </tr>\n",
       "  </thead>\n",
       "  <tbody>\n",
       "    <tr>\n",
       "      <th>18050</th>\n",
       "      <td>181511</td>\n",
       "      <td>W_Valideren aanvraag</td>\n",
       "      <td>10809</td>\n",
       "      <td>2011-11-21 12:15:06.482</td>\n",
       "      <td>2011-11-21 12:00:32.637</td>\n",
       "      <td>6</td>\n",
       "    </tr>\n",
       "    <tr>\n",
       "      <th>18051</th>\n",
       "      <td>181511</td>\n",
       "      <td>W_Nabellen incomplete dossiers</td>\n",
       "      <td>NaN</td>\n",
       "      <td>2011-11-21 13:12:46.125</td>\n",
       "      <td>2011-11-21 13:08:48.969</td>\n",
       "      <td>4</td>\n",
       "    </tr>\n",
       "    <tr>\n",
       "      <th>18052</th>\n",
       "      <td>181511</td>\n",
       "      <td>W_Valideren aanvraag</td>\n",
       "      <td>10809</td>\n",
       "      <td>2011-11-21 14:30:57.244</td>\n",
       "      <td>2011-11-21 14:27:59.248</td>\n",
       "      <td>6</td>\n",
       "    </tr>\n",
       "    <tr>\n",
       "      <th>18055</th>\n",
       "      <td>181517</td>\n",
       "      <td>W_Completeren aanvraag</td>\n",
       "      <td>11189</td>\n",
       "      <td>2011-11-02 09:52:10.047</td>\n",
       "      <td>2011-11-02 09:42:27.778</td>\n",
       "      <td>3</td>\n",
       "    </tr>\n",
       "    <tr>\n",
       "      <th>18056</th>\n",
       "      <td>181517</td>\n",
       "      <td>W_Nabellen offertes</td>\n",
       "      <td>11119</td>\n",
       "      <td>2011-11-07 20:51:38.472</td>\n",
       "      <td>2011-11-07 20:46:46.690</td>\n",
       "      <td>5</td>\n",
       "    </tr>\n",
       "  </tbody>\n",
       "</table>\n",
       "</div>"
      ],
      "text/plain": [
       "       caseid                            task   user           end_timestamp  \\\n",
       "18050  181511            W_Valideren aanvraag  10809 2011-11-21 12:15:06.482   \n",
       "18051  181511  W_Nabellen incomplete dossiers    NaN 2011-11-21 13:12:46.125   \n",
       "18052  181511            W_Valideren aanvraag  10809 2011-11-21 14:30:57.244   \n",
       "18055  181517          W_Completeren aanvraag  11189 2011-11-02 09:52:10.047   \n",
       "18056  181517             W_Nabellen offertes  11119 2011-11-07 20:51:38.472   \n",
       "\n",
       "              start_timestamp  ac_index  \n",
       "18050 2011-11-21 12:00:32.637         6  \n",
       "18051 2011-11-21 13:08:48.969         4  \n",
       "18052 2011-11-21 14:27:59.248         6  \n",
       "18055 2011-11-02 09:42:27.778         3  \n",
       "18056 2011-11-07 20:46:46.690         5  "
      ]
     },
     "metadata": {},
     "output_type": "display_data"
    },
    {
     "name": "stdout",
     "output_type": "stream",
     "text": [
      "1. train set size: 0\n",
      "Empty DataFrame\n",
      "Columns: []\n",
      "Index: []\n",
      "training set\n"
     ]
    },
    {
     "data": {
      "text/html": [
       "<div>\n",
       "<style scoped>\n",
       "    .dataframe tbody tr th:only-of-type {\n",
       "        vertical-align: middle;\n",
       "    }\n",
       "\n",
       "    .dataframe tbody tr th {\n",
       "        vertical-align: top;\n",
       "    }\n",
       "\n",
       "    .dataframe thead th {\n",
       "        text-align: right;\n",
       "    }\n",
       "</style>\n",
       "<table border=\"1\" class=\"dataframe\">\n",
       "  <thead>\n",
       "    <tr style=\"text-align: right;\">\n",
       "      <th></th>\n",
       "    </tr>\n",
       "  </thead>\n",
       "  <tbody>\n",
       "  </tbody>\n",
       "</table>\n",
       "</div>"
      ],
      "text/plain": [
       "Empty DataFrame\n",
       "Columns: []\n",
       "Index: []"
      ]
     },
     "metadata": {},
     "output_type": "display_data"
    },
    {
     "ename": "KeyError",
     "evalue": "'start_timestamp'",
     "output_type": "error",
     "traceback": [
      "\u001b[0;31m---------------------------------------------------------------------------\u001b[0m",
      "\u001b[0;31mKeyError\u001b[0m                                  Traceback (most recent call last)",
      "\u001b[0;32m<ipython-input-113-ed5661f741cd>\u001b[0m in \u001b[0;36m<module>\u001b[0;34m\u001b[0m\n\u001b[0;32m----> 1\u001b[0;31m \u001b[0msplit_timeline\u001b[0m\u001b[0;34m(\u001b[0m\u001b[0;36m0.8\u001b[0m\u001b[0;34m,\u001b[0m \u001b[0mparameters\u001b[0m\u001b[0;34m[\u001b[0m\u001b[0;34m'one_timestamp'\u001b[0m\u001b[0;34m]\u001b[0m\u001b[0;34m,\u001b[0m \u001b[0mlog_df\u001b[0m\u001b[0;34m)\u001b[0m\u001b[0;34m\u001b[0m\u001b[0;34m\u001b[0m\u001b[0m\n\u001b[0m",
      "\u001b[0;32m<ipython-input-112-44936562f95c>\u001b[0m in \u001b[0;36msplit_timeline\u001b[0;34m(size, one_ts, log)\u001b[0m\n\u001b[1;32m     33\u001b[0m         log_test = (test.sort_values(key, ascending=True)\n\u001b[1;32m     34\u001b[0m                          .reset_index(drop=True))\n\u001b[0;32m---> 35\u001b[0;31m         log_train = (train.sort_values(key, ascending=True)\n\u001b[0m\u001b[1;32m     36\u001b[0m                           .reset_index(drop=True))\n\u001b[1;32m     37\u001b[0m         \u001b[0;32mreturn\u001b[0m \u001b[0mlog_train\u001b[0m\u001b[0;34m,\u001b[0m \u001b[0mlog_test\u001b[0m\u001b[0;34m\u001b[0m\u001b[0;34m\u001b[0m\u001b[0m\n",
      "\u001b[0;32m~/.pyenv/versions/3.9.4/envs/dl/lib/python3.9/site-packages/pandas/core/frame.py\u001b[0m in \u001b[0;36msort_values\u001b[0;34m(self, by, axis, ascending, inplace, kind, na_position, ignore_index, key)\u001b[0m\n\u001b[1;32m   5453\u001b[0m \u001b[0;34m\u001b[0m\u001b[0m\n\u001b[1;32m   5454\u001b[0m             \u001b[0mby\u001b[0m \u001b[0;34m=\u001b[0m \u001b[0mby\u001b[0m\u001b[0;34m[\u001b[0m\u001b[0;36m0\u001b[0m\u001b[0;34m]\u001b[0m\u001b[0;34m\u001b[0m\u001b[0;34m\u001b[0m\u001b[0m\n\u001b[0;32m-> 5455\u001b[0;31m             \u001b[0mk\u001b[0m \u001b[0;34m=\u001b[0m \u001b[0mself\u001b[0m\u001b[0;34m.\u001b[0m\u001b[0m_get_label_or_level_values\u001b[0m\u001b[0;34m(\u001b[0m\u001b[0mby\u001b[0m\u001b[0;34m,\u001b[0m \u001b[0maxis\u001b[0m\u001b[0;34m=\u001b[0m\u001b[0maxis\u001b[0m\u001b[0;34m)\u001b[0m\u001b[0;34m\u001b[0m\u001b[0;34m\u001b[0m\u001b[0m\n\u001b[0m\u001b[1;32m   5456\u001b[0m \u001b[0;34m\u001b[0m\u001b[0m\n\u001b[1;32m   5457\u001b[0m             \u001b[0;31m# need to rewrap column in Series to apply key function\u001b[0m\u001b[0;34m\u001b[0m\u001b[0;34m\u001b[0m\u001b[0;34m\u001b[0m\u001b[0m\n",
      "\u001b[0;32m~/.pyenv/versions/3.9.4/envs/dl/lib/python3.9/site-packages/pandas/core/generic.py\u001b[0m in \u001b[0;36m_get_label_or_level_values\u001b[0;34m(self, key, axis)\u001b[0m\n\u001b[1;32m   1682\u001b[0m             \u001b[0mvalues\u001b[0m \u001b[0;34m=\u001b[0m \u001b[0mself\u001b[0m\u001b[0;34m.\u001b[0m\u001b[0maxes\u001b[0m\u001b[0;34m[\u001b[0m\u001b[0maxis\u001b[0m\u001b[0;34m]\u001b[0m\u001b[0;34m.\u001b[0m\u001b[0mget_level_values\u001b[0m\u001b[0;34m(\u001b[0m\u001b[0mkey\u001b[0m\u001b[0;34m)\u001b[0m\u001b[0;34m.\u001b[0m\u001b[0m_values\u001b[0m\u001b[0;34m\u001b[0m\u001b[0;34m\u001b[0m\u001b[0m\n\u001b[1;32m   1683\u001b[0m         \u001b[0;32melse\u001b[0m\u001b[0;34m:\u001b[0m\u001b[0;34m\u001b[0m\u001b[0;34m\u001b[0m\u001b[0m\n\u001b[0;32m-> 1684\u001b[0;31m             \u001b[0;32mraise\u001b[0m \u001b[0mKeyError\u001b[0m\u001b[0;34m(\u001b[0m\u001b[0mkey\u001b[0m\u001b[0;34m)\u001b[0m\u001b[0;34m\u001b[0m\u001b[0;34m\u001b[0m\u001b[0m\n\u001b[0m\u001b[1;32m   1685\u001b[0m \u001b[0;34m\u001b[0m\u001b[0m\n\u001b[1;32m   1686\u001b[0m         \u001b[0;31m# Check for duplicates\u001b[0m\u001b[0;34m\u001b[0m\u001b[0;34m\u001b[0m\u001b[0;34m\u001b[0m\u001b[0m\n",
      "\u001b[0;31mKeyError\u001b[0m: 'start_timestamp'"
     ]
    }
   ],
   "source": [
    "split_timeline(0.8, parameters['one_timestamp'], log_df)"
   ]
  },
  {
   "cell_type": "code",
   "execution_count": null,
   "id": "f214ce1e",
   "metadata": {},
   "outputs": [],
   "source": [
    "import numpy as np\n"
   ]
  },
  {
   "cell_type": "code",
   "execution_count": null,
   "id": "c4aa5f09",
   "metadata": {},
   "outputs": [],
   "source": [
    "### We need to add resource to apply the same algo"
   ]
  },
  {
   "cell_type": "code",
   "execution_count": null,
   "id": "7ee86403",
   "metadata": {},
   "outputs": [],
   "source": []
  },
  {
   "cell_type": "code",
   "execution_count": null,
   "id": "f4e5f84c",
   "metadata": {},
   "outputs": [],
   "source": []
  },
  {
   "cell_type": "code",
   "execution_count": null,
   "id": "8295d235",
   "metadata": {},
   "outputs": [],
   "source": [
    "# split validation"
   ]
  }
 ],
 "metadata": {
  "kernelspec": {
   "display_name": "Python 3",
   "language": "python",
   "name": "python3"
  },
  "language_info": {
   "codemirror_mode": {
    "name": "ipython",
    "version": 3
   },
   "file_extension": ".py",
   "mimetype": "text/x-python",
   "name": "python",
   "nbconvert_exporter": "python",
   "pygments_lexer": "ipython3",
   "version": "3.9.4"
  }
 },
 "nbformat": 4,
 "nbformat_minor": 5
}
