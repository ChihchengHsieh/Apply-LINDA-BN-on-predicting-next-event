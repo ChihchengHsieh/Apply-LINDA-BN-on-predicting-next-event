{
 "cells": [
  {
   "cell_type": "markdown",
   "id": "e2e3ae0d",
   "metadata": {},
   "source": [
    "# Retrieve Data"
   ]
  },
  {
   "cell_type": "code",
   "execution_count": 63,
   "id": "a3db0b32",
   "metadata": {},
   "outputs": [
    {
     "output_type": "stream",
     "name": "stderr",
     "text": [
      "parsing log, completed traces :: 100%|██████████| 13087/13087 [00:15<00:00, 820.30it/s] \n"
     ]
    }
   ],
   "source": [
    "import pm4py\n",
    "import pandas as pd\n",
    "from IPython.display import JSON\n",
    "from datetime import datetime, timedelta\n",
    "import itertools as it\n",
    "import numpy as np\n",
    "\n",
    "log = pm4py.read_xes('../Data/event_logs/BPI_Challenge_2012.xes')"
   ]
  },
  {
   "cell_type": "code",
   "execution_count": 65,
   "metadata": {},
   "outputs": [
    {
     "output_type": "execute_result",
     "data": {
      "text/plain": [
       "pm4py.objects.log.obj.EventLog"
      ]
     },
     "metadata": {},
     "execution_count": 65
    }
   ],
   "source": [
    "type(log)"
   ]
  },
  {
   "cell_type": "markdown",
   "id": "545cca8f",
   "metadata": {},
   "source": [
    "## Get default parameters needed for loading data."
   ]
  },
  {
   "cell_type": "code",
   "execution_count": 2,
   "id": "cd03c080",
   "metadata": {},
   "outputs": [],
   "source": [
    "parameters ={}\n",
    "\n",
    "column_names = {'Case ID': 'caseid',\n",
    "                    'Activity': 'task',\n",
    "                    'lifecycle:transition': 'event_type',\n",
    "                    'Resource': 'user'}\n",
    "    \n",
    "parameters['one_timestamp'] = False  # Only one timestamp in the log\n",
    "parameters['read_options'] = {\n",
    "    'timeformat': '%Y-%m-%dT%H:%M:%S.%f',\n",
    "    'column_names': column_names,\n",
    "    'one_timestamp': parameters['one_timestamp']}\n",
    "\n",
    "parameters['model_family'] = 'gru_cx'\n",
    "parameters['opt_method'] = 'rand_hpc' # 'rand_hpc', 'bayesian'\n",
    "parameters['max_eval'] = 1"
   ]
  },
  {
   "cell_type": "code",
   "execution_count": 3,
   "id": "5fc48147",
   "metadata": {},
   "outputs": [],
   "source": [
    "def reorder_xes(temp_data):\n",
    "    \"\"\"\n",
    "    this method match the duplicated events on the .xes log\n",
    "    \"\"\"\n",
    "    temp_data = pd.DataFrame(temp_data)\n",
    "    ordered_event_log = list()\n",
    "    if parameters['one_timestamp']:\n",
    "        column_names['Complete Timestamp'] = 'end_timestamp'\n",
    "        temp_data = temp_data[temp_data.event_type == 'complete']\n",
    "        ordered_event_log = temp_data.rename(\n",
    "            columns={'timestamp': 'end_timestamp'})\n",
    "        ordered_event_log = ordered_event_log.drop(columns='event_type')\n",
    "        ordered_event_log = ordered_event_log.to_dict('records')\n",
    "    else:\n",
    "        column_names['Start Timestamp'] = 'start_timestamp'\n",
    "        column_names['Complete Timestamp'] = 'end_timestamp'\n",
    "        for caseid, group in  temp_data.groupby(by=['caseid']):\n",
    "            trace = group.to_dict('records')\n",
    "            temp_trace = list()\n",
    "            for i in range(0, len(trace)-1):\n",
    "                incomplete = False\n",
    "                if trace[i]['event_type'] == 'start':\n",
    "                    c_task_name = trace[i]['task']\n",
    "                    remaining = trace[i+1:]\n",
    "                    complete_event = next((event for event in remaining if (event['task'] == c_task_name and event['event_type'] == 'complete')), None)\n",
    "                    if complete_event:\n",
    "                        temp_trace.append(\n",
    "                            {'caseid': caseid,\n",
    "                              'task': trace[i]['task'],\n",
    "                              'user': trace[i]['user'],\n",
    "                              'start_timestamp': trace[i]['timestamp'],\n",
    "                              'end_timestamp': complete_event['timestamp']})\n",
    "                    else:\n",
    "                        incomplete = True\n",
    "                        break\n",
    "            if not incomplete:\n",
    "                ordered_event_log.extend(temp_trace)\n",
    "    return ordered_event_log"
   ]
  },
  {
   "cell_type": "code",
   "execution_count": 4,
   "id": "2764affc",
   "metadata": {},
   "outputs": [],
   "source": [
    "def append_csv_start_end(data):\n",
    "    '''\n",
    "    The paper use this function to add start and end tasks to every trace.\n",
    "    '''\n",
    "    end_start_times = dict()\n",
    "    for case, group in pd.DataFrame(data).groupby('caseid'):\n",
    "        end_start_times[(case, 'Start')] = (\n",
    "            group.start_timestamp.min()-timedelta(microseconds=1))\n",
    "        end_start_times[(case, 'End')] = (\n",
    "            group.end_timestamp.max()+timedelta(microseconds=1))\n",
    "    new_data = list()\n",
    "    data = sorted(data, key=lambda x: x['caseid'])\n",
    "    for key, group in it.groupby(data, key=lambda x: x['caseid']):\n",
    "        trace = list(group)\n",
    "        for new_event in ['Start', 'End']:\n",
    "            idx = 0 if new_event == 'Start' else -1\n",
    "            temp_event = dict()\n",
    "            temp_event['caseid'] = trace[idx]['caseid']\n",
    "            temp_event['task'] = new_event\n",
    "            temp_event['user'] = new_event\n",
    "            temp_event['end_timestamp'] = end_start_times[(key, new_event)]\n",
    "            if not parameters['one_timestamp']:\n",
    "                temp_event['start_timestamp'] = end_start_times[(key, new_event)]\n",
    "            if new_event == 'Start':\n",
    "                trace.insert(0, temp_event)\n",
    "            else:\n",
    "                trace.append(temp_event)\n",
    "        new_data.extend(trace)\n",
    "    return new_data"
   ]
  },
  {
   "cell_type": "code",
   "execution_count": 5,
   "id": "86ea5808",
   "metadata": {},
   "outputs": [
    {
     "output_type": "stream",
     "name": "stdout",
     "text": [
      "\n"
     ]
    }
   ],
   "source": [
    "try:\n",
    "    source = log.attributes['source']\n",
    "except:\n",
    "    source = ''\n",
    "    \n",
    "print(source)"
   ]
  },
  {
   "cell_type": "code",
   "execution_count": 6,
   "id": "65892165",
   "metadata": {},
   "outputs": [
    {
     "output_type": "execute_result",
     "data": {
      "text/plain": [
       "<IPython.core.display.JSON object>"
      ],
      "application/json": [
       {
        "org:resource": "112",
        "lifecycle:transition": "COMPLETE",
        "concept:name": "A_SUBMITTED",
        "time:timestamp": "2011-10-01T00:38:44.546000",
        "caseid": "173688"
       },
       {
        "org:resource": "112",
        "lifecycle:transition": "COMPLETE",
        "concept:name": "A_PARTLYSUBMITTED",
        "time:timestamp": "2011-10-01T00:38:44.880000",
        "caseid": "173688"
       },
       {
        "org:resource": "112",
        "lifecycle:transition": "COMPLETE",
        "concept:name": "A_PREACCEPTED",
        "time:timestamp": "2011-10-01T00:39:37.906000",
        "caseid": "173688"
       }
      ]
     },
     "metadata": {
      "application/json": {
       "expanded": false,
       "root": "root"
      }
     },
     "execution_count": 6
    }
   ],
   "source": [
    "# Flat the event with caseid\n",
    "flattern_log = ([{**event, \n",
    "                    'caseid': trace.attributes['concept:name']} \n",
    "                   for trace in log for event in trace])\n",
    "\n",
    "JSON(flattern_log[:3])"
   ]
  },
  {
   "cell_type": "code",
   "execution_count": 7,
   "id": "8a31ef20",
   "metadata": {},
   "outputs": [
    {
     "output_type": "stream",
     "name": "stdout",
     "text": [
      "262200\n"
     ]
    },
    {
     "output_type": "display_data",
     "data": {
      "text/plain": "  org:resource lifecycle:transition            concept:name  \\\n0          112             COMPLETE             A_SUBMITTED   \n1          112             COMPLETE       A_PARTLYSUBMITTED   \n2          112             COMPLETE           A_PREACCEPTED   \n3          112             SCHEDULE  W_Completeren aanvraag   \n4          NaN                START  W_Completeren aanvraag   \n\n                     time:timestamp  caseid  \n0  2011-10-01 00:38:44.546000+02:00  173688  \n1  2011-10-01 00:38:44.880000+02:00  173688  \n2  2011-10-01 00:39:37.906000+02:00  173688  \n3  2011-10-01 00:39:38.875000+02:00  173688  \n4  2011-10-01 11:36:46.437000+02:00  173688  ",
      "text/html": "<div>\n<style scoped>\n    .dataframe tbody tr th:only-of-type {\n        vertical-align: middle;\n    }\n\n    .dataframe tbody tr th {\n        vertical-align: top;\n    }\n\n    .dataframe thead th {\n        text-align: right;\n    }\n</style>\n<table border=\"1\" class=\"dataframe\">\n  <thead>\n    <tr style=\"text-align: right;\">\n      <th></th>\n      <th>org:resource</th>\n      <th>lifecycle:transition</th>\n      <th>concept:name</th>\n      <th>time:timestamp</th>\n      <th>caseid</th>\n    </tr>\n  </thead>\n  <tbody>\n    <tr>\n      <th>0</th>\n      <td>112</td>\n      <td>COMPLETE</td>\n      <td>A_SUBMITTED</td>\n      <td>2011-10-01 00:38:44.546000+02:00</td>\n      <td>173688</td>\n    </tr>\n    <tr>\n      <th>1</th>\n      <td>112</td>\n      <td>COMPLETE</td>\n      <td>A_PARTLYSUBMITTED</td>\n      <td>2011-10-01 00:38:44.880000+02:00</td>\n      <td>173688</td>\n    </tr>\n    <tr>\n      <th>2</th>\n      <td>112</td>\n      <td>COMPLETE</td>\n      <td>A_PREACCEPTED</td>\n      <td>2011-10-01 00:39:37.906000+02:00</td>\n      <td>173688</td>\n    </tr>\n    <tr>\n      <th>3</th>\n      <td>112</td>\n      <td>SCHEDULE</td>\n      <td>W_Completeren aanvraag</td>\n      <td>2011-10-01 00:39:38.875000+02:00</td>\n      <td>173688</td>\n    </tr>\n    <tr>\n      <th>4</th>\n      <td>NaN</td>\n      <td>START</td>\n      <td>W_Completeren aanvraag</td>\n      <td>2011-10-01 11:36:46.437000+02:00</td>\n      <td>173688</td>\n    </tr>\n  </tbody>\n</table>\n</div>"
     },
     "metadata": {}
    }
   ],
   "source": [
    "## Construct log to dataframe.\n",
    "temp_data = pd.DataFrame(flattern_log)\n",
    "\n",
    "print(len(temp_data))\n",
    "display(temp_data.head(5))"
   ]
  },
  {
   "cell_type": "code",
   "execution_count": 8,
   "id": "ab5b98f6",
   "metadata": {},
   "outputs": [
    {
     "output_type": "stream",
     "name": "stdout",
     "text": [
      "262200\n"
     ]
    },
    {
     "output_type": "execute_result",
     "data": {
      "text/plain": [
       "  org:resource lifecycle:transition            concept:name  \\\n",
       "0          112             COMPLETE             A_SUBMITTED   \n",
       "1          112             COMPLETE       A_PARTLYSUBMITTED   \n",
       "2          112             COMPLETE           A_PREACCEPTED   \n",
       "3          112             SCHEDULE  W_Completeren aanvraag   \n",
       "4          NaN                START  W_Completeren aanvraag   \n",
       "\n",
       "           time:timestamp  caseid  \n",
       "0 2011-10-01 00:38:44.546  173688  \n",
       "1 2011-10-01 00:38:44.880  173688  \n",
       "2 2011-10-01 00:39:37.906  173688  \n",
       "3 2011-10-01 00:39:38.875  173688  \n",
       "4 2011-10-01 11:36:46.437  173688  "
      ],
      "text/html": "<div>\n<style scoped>\n    .dataframe tbody tr th:only-of-type {\n        vertical-align: middle;\n    }\n\n    .dataframe tbody tr th {\n        vertical-align: top;\n    }\n\n    .dataframe thead th {\n        text-align: right;\n    }\n</style>\n<table border=\"1\" class=\"dataframe\">\n  <thead>\n    <tr style=\"text-align: right;\">\n      <th></th>\n      <th>org:resource</th>\n      <th>lifecycle:transition</th>\n      <th>concept:name</th>\n      <th>time:timestamp</th>\n      <th>caseid</th>\n    </tr>\n  </thead>\n  <tbody>\n    <tr>\n      <th>0</th>\n      <td>112</td>\n      <td>COMPLETE</td>\n      <td>A_SUBMITTED</td>\n      <td>2011-10-01 00:38:44.546</td>\n      <td>173688</td>\n    </tr>\n    <tr>\n      <th>1</th>\n      <td>112</td>\n      <td>COMPLETE</td>\n      <td>A_PARTLYSUBMITTED</td>\n      <td>2011-10-01 00:38:44.880</td>\n      <td>173688</td>\n    </tr>\n    <tr>\n      <th>2</th>\n      <td>112</td>\n      <td>COMPLETE</td>\n      <td>A_PREACCEPTED</td>\n      <td>2011-10-01 00:39:37.906</td>\n      <td>173688</td>\n    </tr>\n    <tr>\n      <th>3</th>\n      <td>112</td>\n      <td>SCHEDULE</td>\n      <td>W_Completeren aanvraag</td>\n      <td>2011-10-01 00:39:38.875</td>\n      <td>173688</td>\n    </tr>\n    <tr>\n      <th>4</th>\n      <td>NaN</td>\n      <td>START</td>\n      <td>W_Completeren aanvraag</td>\n      <td>2011-10-01 11:36:46.437</td>\n      <td>173688</td>\n    </tr>\n  </tbody>\n</table>\n</div>"
     },
     "metadata": {},
     "execution_count": 8
    }
   ],
   "source": [
    "# formate time\n",
    "temp_data['time:timestamp'] = temp_data.apply(\n",
    "    lambda x: x['time:timestamp'].strftime(parameters[\"read_options\"][\"timeformat\"]), axis=1)\n",
    "\n",
    "temp_data['time:timestamp'] = pd.to_datetime(temp_data['time:timestamp'], \n",
    "                                        format=parameters[\"read_options\"][\"timeformat\"])\n",
    "\n",
    "print(len(temp_data))\n",
    "temp_data.head(5)"
   ]
  },
  {
   "cell_type": "code",
   "execution_count": 9,
   "id": "cf68744b",
   "metadata": {},
   "outputs": [
    {
     "output_type": "stream",
     "name": "stdout",
     "text": [
      "262200\n"
     ]
    },
    {
     "output_type": "execute_result",
     "data": {
      "text/plain": [
       "  user event_type                    task               timestamp  caseid\n",
       "0  112   COMPLETE             A_SUBMITTED 2011-10-01 00:38:44.546  173688\n",
       "1  112   COMPLETE       A_PARTLYSUBMITTED 2011-10-01 00:38:44.880  173688\n",
       "2  112   COMPLETE           A_PREACCEPTED 2011-10-01 00:39:37.906  173688\n",
       "3  112   SCHEDULE  W_Completeren aanvraag 2011-10-01 00:39:38.875  173688\n",
       "4  NaN      START  W_Completeren aanvraag 2011-10-01 11:36:46.437  173688"
      ],
      "text/html": "<div>\n<style scoped>\n    .dataframe tbody tr th:only-of-type {\n        vertical-align: middle;\n    }\n\n    .dataframe tbody tr th {\n        vertical-align: top;\n    }\n\n    .dataframe thead th {\n        text-align: right;\n    }\n</style>\n<table border=\"1\" class=\"dataframe\">\n  <thead>\n    <tr style=\"text-align: right;\">\n      <th></th>\n      <th>user</th>\n      <th>event_type</th>\n      <th>task</th>\n      <th>timestamp</th>\n      <th>caseid</th>\n    </tr>\n  </thead>\n  <tbody>\n    <tr>\n      <th>0</th>\n      <td>112</td>\n      <td>COMPLETE</td>\n      <td>A_SUBMITTED</td>\n      <td>2011-10-01 00:38:44.546</td>\n      <td>173688</td>\n    </tr>\n    <tr>\n      <th>1</th>\n      <td>112</td>\n      <td>COMPLETE</td>\n      <td>A_PARTLYSUBMITTED</td>\n      <td>2011-10-01 00:38:44.880</td>\n      <td>173688</td>\n    </tr>\n    <tr>\n      <th>2</th>\n      <td>112</td>\n      <td>COMPLETE</td>\n      <td>A_PREACCEPTED</td>\n      <td>2011-10-01 00:39:37.906</td>\n      <td>173688</td>\n    </tr>\n    <tr>\n      <th>3</th>\n      <td>112</td>\n      <td>SCHEDULE</td>\n      <td>W_Completeren aanvraag</td>\n      <td>2011-10-01 00:39:38.875</td>\n      <td>173688</td>\n    </tr>\n    <tr>\n      <th>4</th>\n      <td>NaN</td>\n      <td>START</td>\n      <td>W_Completeren aanvraag</td>\n      <td>2011-10-01 11:36:46.437</td>\n      <td>173688</td>\n    </tr>\n  </tbody>\n</table>\n</div>"
     },
     "metadata": {},
     "execution_count": 9
    }
   ],
   "source": [
    "## Replacde column name if exist\n",
    "temp_data.rename(columns={\n",
    "    'concept:name': 'task',\n",
    "    'lifecycle:transition': 'event_type',\n",
    "    'org:resource': 'user',\n",
    "    'time:timestamp': 'timestamp'}, inplace=True)\n",
    "\n",
    "print(len(temp_data))\n",
    "temp_data.head(5)"
   ]
  },
  {
   "cell_type": "code",
   "execution_count": 10,
   "id": "4c36ce1f",
   "metadata": {},
   "outputs": [
    {
     "output_type": "stream",
     "name": "stdout",
     "text": [
      "Keeping rate: 1.0\n262200\n"
     ]
    },
    {
     "output_type": "execute_result",
     "data": {
      "text/plain": [
       "  user event_type                    task               timestamp  caseid\n",
       "0  112   COMPLETE             A_SUBMITTED 2011-10-01 00:38:44.546  173688\n",
       "1  112   COMPLETE       A_PARTLYSUBMITTED 2011-10-01 00:38:44.880  173688\n",
       "2  112   COMPLETE           A_PREACCEPTED 2011-10-01 00:39:37.906  173688\n",
       "3  112   SCHEDULE  W_Completeren aanvraag 2011-10-01 00:39:38.875  173688\n",
       "4  NaN      START  W_Completeren aanvraag 2011-10-01 11:36:46.437  173688"
      ],
      "text/html": "<div>\n<style scoped>\n    .dataframe tbody tr th:only-of-type {\n        vertical-align: middle;\n    }\n\n    .dataframe tbody tr th {\n        vertical-align: top;\n    }\n\n    .dataframe thead th {\n        text-align: right;\n    }\n</style>\n<table border=\"1\" class=\"dataframe\">\n  <thead>\n    <tr style=\"text-align: right;\">\n      <th></th>\n      <th>user</th>\n      <th>event_type</th>\n      <th>task</th>\n      <th>timestamp</th>\n      <th>caseid</th>\n    </tr>\n  </thead>\n  <tbody>\n    <tr>\n      <th>0</th>\n      <td>112</td>\n      <td>COMPLETE</td>\n      <td>A_SUBMITTED</td>\n      <td>2011-10-01 00:38:44.546</td>\n      <td>173688</td>\n    </tr>\n    <tr>\n      <th>1</th>\n      <td>112</td>\n      <td>COMPLETE</td>\n      <td>A_PARTLYSUBMITTED</td>\n      <td>2011-10-01 00:38:44.880</td>\n      <td>173688</td>\n    </tr>\n    <tr>\n      <th>2</th>\n      <td>112</td>\n      <td>COMPLETE</td>\n      <td>A_PREACCEPTED</td>\n      <td>2011-10-01 00:39:37.906</td>\n      <td>173688</td>\n    </tr>\n    <tr>\n      <th>3</th>\n      <td>112</td>\n      <td>SCHEDULE</td>\n      <td>W_Completeren aanvraag</td>\n      <td>2011-10-01 00:39:38.875</td>\n      <td>173688</td>\n    </tr>\n    <tr>\n      <th>4</th>\n      <td>NaN</td>\n      <td>START</td>\n      <td>W_Completeren aanvraag</td>\n      <td>2011-10-01 11:36:46.437</td>\n      <td>173688</td>\n    </tr>\n  </tbody>\n</table>\n</div>"
     },
     "metadata": {},
     "execution_count": 10
    }
   ],
   "source": [
    "cond = ~temp_data.task.apply(lambda v: v.lower() in ['start', 'end'])\n",
    "print('Keeping rate: ' + str(cond.sum()/len(cond)))\n",
    "\n",
    "temp_data = (temp_data[cond].reset_index(drop=True))\n",
    "\n",
    "print(len(temp_data))\n",
    "temp_data.head(5)"
   ]
  },
  {
   "cell_type": "code",
   "execution_count": 11,
   "id": "3a6db259",
   "metadata": {},
   "outputs": [
    {
     "output_type": "execute_result",
     "data": {
      "text/plain": [
       "  user event_type                    task               timestamp  caseid\n",
       "0  112   complete             A_SUBMITTED 2011-10-01 00:38:44.546  173688\n",
       "1  112   complete       A_PARTLYSUBMITTED 2011-10-01 00:38:44.880  173688\n",
       "2  112   complete           A_PREACCEPTED 2011-10-01 00:39:37.906  173688\n",
       "3  112   schedule  W_Completeren aanvraag 2011-10-01 00:39:38.875  173688\n",
       "4  NaN      start  W_Completeren aanvraag 2011-10-01 11:36:46.437  173688"
      ],
      "text/html": "<div>\n<style scoped>\n    .dataframe tbody tr th:only-of-type {\n        vertical-align: middle;\n    }\n\n    .dataframe tbody tr th {\n        vertical-align: top;\n    }\n\n    .dataframe thead th {\n        text-align: right;\n    }\n</style>\n<table border=\"1\" class=\"dataframe\">\n  <thead>\n    <tr style=\"text-align: right;\">\n      <th></th>\n      <th>user</th>\n      <th>event_type</th>\n      <th>task</th>\n      <th>timestamp</th>\n      <th>caseid</th>\n    </tr>\n  </thead>\n  <tbody>\n    <tr>\n      <th>0</th>\n      <td>112</td>\n      <td>complete</td>\n      <td>A_SUBMITTED</td>\n      <td>2011-10-01 00:38:44.546</td>\n      <td>173688</td>\n    </tr>\n    <tr>\n      <th>1</th>\n      <td>112</td>\n      <td>complete</td>\n      <td>A_PARTLYSUBMITTED</td>\n      <td>2011-10-01 00:38:44.880</td>\n      <td>173688</td>\n    </tr>\n    <tr>\n      <th>2</th>\n      <td>112</td>\n      <td>complete</td>\n      <td>A_PREACCEPTED</td>\n      <td>2011-10-01 00:39:37.906</td>\n      <td>173688</td>\n    </tr>\n    <tr>\n      <th>3</th>\n      <td>112</td>\n      <td>schedule</td>\n      <td>W_Completeren aanvraag</td>\n      <td>2011-10-01 00:39:38.875</td>\n      <td>173688</td>\n    </tr>\n    <tr>\n      <th>4</th>\n      <td>NaN</td>\n      <td>start</td>\n      <td>W_Completeren aanvraag</td>\n      <td>2011-10-01 11:36:46.437</td>\n      <td>173688</td>\n    </tr>\n  </tbody>\n</table>\n</div>"
     },
     "metadata": {},
     "execution_count": 11
    }
   ],
   "source": [
    "# lower event_type\n",
    "temp_data.event_type = temp_data.event_type.str.lower()\n",
    "temp_data.head(5)"
   ]
  },
  {
   "cell_type": "code",
   "execution_count": 12,
   "id": "a6b29a92",
   "metadata": {},
   "outputs": [
    {
     "output_type": "stream",
     "name": "stdout",
     "text": [
      "Keeping rate: 0.8996262395118231\n235882\n"
     ]
    },
    {
     "output_type": "execute_result",
     "data": {
      "text/plain": [
       "    user event_type                    task               timestamp  caseid\n",
       "0    112   complete             A_SUBMITTED 2011-10-01 00:38:44.546  173688\n",
       "1    112   complete       A_PARTLYSUBMITTED 2011-10-01 00:38:44.880  173688\n",
       "2    112   complete           A_PREACCEPTED 2011-10-01 00:39:37.906  173688\n",
       "3    NaN      start  W_Completeren aanvraag 2011-10-01 11:36:46.437  173688\n",
       "4  10862   complete              A_ACCEPTED 2011-10-01 11:42:43.308  173688"
      ],
      "text/html": "<div>\n<style scoped>\n    .dataframe tbody tr th:only-of-type {\n        vertical-align: middle;\n    }\n\n    .dataframe tbody tr th {\n        vertical-align: top;\n    }\n\n    .dataframe thead th {\n        text-align: right;\n    }\n</style>\n<table border=\"1\" class=\"dataframe\">\n  <thead>\n    <tr style=\"text-align: right;\">\n      <th></th>\n      <th>user</th>\n      <th>event_type</th>\n      <th>task</th>\n      <th>timestamp</th>\n      <th>caseid</th>\n    </tr>\n  </thead>\n  <tbody>\n    <tr>\n      <th>0</th>\n      <td>112</td>\n      <td>complete</td>\n      <td>A_SUBMITTED</td>\n      <td>2011-10-01 00:38:44.546</td>\n      <td>173688</td>\n    </tr>\n    <tr>\n      <th>1</th>\n      <td>112</td>\n      <td>complete</td>\n      <td>A_PARTLYSUBMITTED</td>\n      <td>2011-10-01 00:38:44.880</td>\n      <td>173688</td>\n    </tr>\n    <tr>\n      <th>2</th>\n      <td>112</td>\n      <td>complete</td>\n      <td>A_PREACCEPTED</td>\n      <td>2011-10-01 00:39:37.906</td>\n      <td>173688</td>\n    </tr>\n    <tr>\n      <th>3</th>\n      <td>NaN</td>\n      <td>start</td>\n      <td>W_Completeren aanvraag</td>\n      <td>2011-10-01 11:36:46.437</td>\n      <td>173688</td>\n    </tr>\n    <tr>\n      <th>4</th>\n      <td>10862</td>\n      <td>complete</td>\n      <td>A_ACCEPTED</td>\n      <td>2011-10-01 11:42:43.308</td>\n      <td>173688</td>\n    </tr>\n  </tbody>\n</table>\n</div>"
     },
     "metadata": {},
     "execution_count": 12
    }
   ],
   "source": [
    "temp_data['event_type'].str.lower()\n",
    "\n",
    "cond = temp_data.event_type.isin(['start','complete'])\n",
    "print('Keeping rate: ' + str(cond.sum()/len(cond)))\n",
    "temp_data = temp_data[cond].reset_index(drop=True)\n",
    "\n",
    "print(len(temp_data))\n",
    "temp_data.head(5)"
   ]
  },
  {
   "cell_type": "code",
   "execution_count": 13,
   "id": "dbff07cf",
   "metadata": {},
   "outputs": [],
   "source": [
    "if source == 'com.qbpsimulator':\n",
    "    if len(temp_data.iloc[0].elementId.split('_'))>1: \n",
    "        temp_data['etype'] = temp_data.apply(\n",
    "            lambda x: x.elementId.split('_')[0], axis=1)\n",
    "        temp_data = (\n",
    "            temp_data[temp_data.etype=='Task'].reset_index(drop=True))\n",
    "        \n"
   ]
  },
  {
   "cell_type": "code",
   "execution_count": 14,
   "id": "2268771c",
   "metadata": {},
   "outputs": [
    {
     "output_type": "execute_result",
     "data": {
      "text/plain": [
       "<IPython.core.display.JSON object>"
      ],
      "application/json": [
       {
        "user": "112",
        "event_type": "complete",
        "task": "A_SUBMITTED",
        "timestamp": "2011-10-01T00:38:44.546000",
        "caseid": "173688"
       },
       {
        "user": "112",
        "event_type": "complete",
        "task": "A_PARTLYSUBMITTED",
        "timestamp": "2011-10-01T00:38:44.880000",
        "caseid": "173688"
       },
       {
        "user": "112",
        "event_type": "complete",
        "task": "A_PREACCEPTED",
        "timestamp": "2011-10-01T00:39:37.906000",
        "caseid": "173688"
       },
       {
        "user": "nan",
        "event_type": "start",
        "task": "W_Completeren aanvraag",
        "timestamp": "2011-10-01T11:36:46.437000",
        "caseid": "173688"
       },
       {
        "user": "10862",
        "event_type": "complete",
        "task": "A_ACCEPTED",
        "timestamp": "2011-10-01T11:42:43.308000",
        "caseid": "173688"
       }
      ]
     },
     "metadata": {
      "application/json": {
       "expanded": false,
       "root": "root"
      }
     },
     "execution_count": 14
    }
   ],
   "source": [
    "# trnasform to dict for applying functions on it.\n",
    "raw_data = temp_data.to_dict('records')\n",
    "\n",
    "# Show some example\n",
    "JSON(raw_data[:5])"
   ]
  },
  {
   "cell_type": "code",
   "execution_count": 15,
   "id": "003132bf",
   "metadata": {},
   "outputs": [],
   "source": [
    "orderedXes = reorder_xes(temp_data)"
   ]
  },
  {
   "cell_type": "code",
   "execution_count": 16,
   "id": "aeeacd0d",
   "metadata": {},
   "outputs": [
    {
     "output_type": "stream",
     "name": "stdout",
     "text": [
      "Event count before appending \"Start & End\": 71373\n",
      "Event count After appending \"Start & End\": 90687\n"
     ]
    },
    {
     "output_type": "execute_result",
     "data": {
      "text/plain": [
       "<IPython.core.display.JSON object>"
      ],
      "application/json": [
       {
        "caseid": "173688",
        "task": "Start",
        "user": "Start",
        "end_timestamp": "2011-10-01T11:36:46.436999",
        "start_timestamp": "2011-10-01T11:36:46.436999"
       },
       {
        "caseid": "173688",
        "task": "W_Completeren aanvraag",
        "user": "nan",
        "start_timestamp": "2011-10-01T11:36:46.437000",
        "end_timestamp": "2011-10-01T11:45:13.917000"
       },
       {
        "caseid": "173688",
        "task": "W_Nabellen offertes",
        "user": "nan",
        "start_timestamp": "2011-10-01T12:15:41.290000",
        "end_timestamp": "2011-10-01T12:17:08.924000"
       },
       {
        "caseid": "173688",
        "task": "W_Nabellen offertes",
        "user": "10913",
        "start_timestamp": "2011-10-08T16:26:57.720000",
        "end_timestamp": "2011-10-08T16:32:00.886000"
       },
       {
        "caseid": "173688",
        "task": "W_Nabellen offertes",
        "user": "11049",
        "start_timestamp": "2011-10-10T11:32:22.495000",
        "end_timestamp": "2011-10-10T11:33:05.791000"
       }
      ]
     },
     "metadata": {
      "application/json": {
       "expanded": false,
       "root": "root"
      }
     },
     "execution_count": 16
    }
   ],
   "source": [
    "print(\"Event count before appending \\\"Start & End\\\": {}\".format(len(orderedXes)))\n",
    "data = append_csv_start_end(orderedXes)\n",
    "print(\"Event count After appending \\\"Start & End\\\": {}\".format(len(data)))\n",
    "\n",
    "JSON(data[:5])"
   ]
  },
  {
   "cell_type": "code",
   "execution_count": 17,
   "id": "882510b9",
   "metadata": {},
   "outputs": [
    {
     "output_type": "display_data",
     "data": {
      "text/plain": "   caseid                    task   user              end_timestamp  \\\n0  173688                   Start  Start 2011-10-01 11:36:46.436999   \n1  173688  W_Completeren aanvraag    NaN 2011-10-01 11:45:13.917000   \n2  173688     W_Nabellen offertes    NaN 2011-10-01 12:17:08.924000   \n3  173688     W_Nabellen offertes  10913 2011-10-08 16:32:00.886000   \n4  173688     W_Nabellen offertes  11049 2011-10-10 11:33:05.791000   \n\n             start_timestamp  \n0 2011-10-01 11:36:46.436999  \n1 2011-10-01 11:36:46.437000  \n2 2011-10-01 12:15:41.290000  \n3 2011-10-08 16:26:57.720000  \n4 2011-10-10 11:32:22.495000  ",
      "text/html": "<div>\n<style scoped>\n    .dataframe tbody tr th:only-of-type {\n        vertical-align: middle;\n    }\n\n    .dataframe tbody tr th {\n        vertical-align: top;\n    }\n\n    .dataframe thead th {\n        text-align: right;\n    }\n</style>\n<table border=\"1\" class=\"dataframe\">\n  <thead>\n    <tr style=\"text-align: right;\">\n      <th></th>\n      <th>caseid</th>\n      <th>task</th>\n      <th>user</th>\n      <th>end_timestamp</th>\n      <th>start_timestamp</th>\n    </tr>\n  </thead>\n  <tbody>\n    <tr>\n      <th>0</th>\n      <td>173688</td>\n      <td>Start</td>\n      <td>Start</td>\n      <td>2011-10-01 11:36:46.436999</td>\n      <td>2011-10-01 11:36:46.436999</td>\n    </tr>\n    <tr>\n      <th>1</th>\n      <td>173688</td>\n      <td>W_Completeren aanvraag</td>\n      <td>NaN</td>\n      <td>2011-10-01 11:45:13.917000</td>\n      <td>2011-10-01 11:36:46.437000</td>\n    </tr>\n    <tr>\n      <th>2</th>\n      <td>173688</td>\n      <td>W_Nabellen offertes</td>\n      <td>NaN</td>\n      <td>2011-10-01 12:17:08.924000</td>\n      <td>2011-10-01 12:15:41.290000</td>\n    </tr>\n    <tr>\n      <th>3</th>\n      <td>173688</td>\n      <td>W_Nabellen offertes</td>\n      <td>10913</td>\n      <td>2011-10-08 16:32:00.886000</td>\n      <td>2011-10-08 16:26:57.720000</td>\n    </tr>\n    <tr>\n      <th>4</th>\n      <td>173688</td>\n      <td>W_Nabellen offertes</td>\n      <td>11049</td>\n      <td>2011-10-10 11:33:05.791000</td>\n      <td>2011-10-10 11:32:22.495000</td>\n    </tr>\n  </tbody>\n</table>\n</div>"
     },
     "metadata": {}
    }
   ],
   "source": [
    "# Get the \n",
    "log_df = pd.DataFrame(data)\n",
    "display(log_df.head(5))"
   ]
  },
  {
   "cell_type": "code",
   "execution_count": 18,
   "id": "18535117",
   "metadata": {},
   "outputs": [
    {
     "output_type": "stream",
     "name": "stdout",
     "text": [
      "Keeping rate: 0.7870257037943696, original length: 90687, length after removing: 71373\n"
     ]
    }
   ],
   "source": [
    "if set(['Unnamed: 0', 'role']).issubset(set(log_df.columns)):\n",
    "    log_df.drop(columns=['Unnamed: 0', 'role'], inplace=True)\n",
    "    \n",
    "# Drop the task with \"Start\" and \"End\"\n",
    "# Q: why dropping the events that we just added to the traces?\n",
    "# A: Since the implementation is from different authors, this part can be deleted\n",
    "originalLength = len(log_df)    \n",
    "log_df = log_df[~log_df.task.isin(['Start', 'End'])]\n",
    "lenAfterRemoving = len(log_df)\n",
    "\n",
    "print(\"Keeping rate: {}, original length: {}, length after removing: {}\".format(lenAfterRemoving/ originalLength, originalLength, lenAfterRemoving))"
   ]
  },
  {
   "cell_type": "code",
   "execution_count": 19,
   "id": "7df478de",
   "metadata": {},
   "outputs": [
    {
     "output_type": "execute_result",
     "data": {
      "text/plain": [
       "   caseid                    task   user           end_timestamp  \\\n",
       "1  173688  W_Completeren aanvraag    NaN 2011-10-01 11:45:13.917   \n",
       "2  173688     W_Nabellen offertes    NaN 2011-10-01 12:17:08.924   \n",
       "3  173688     W_Nabellen offertes  10913 2011-10-08 16:32:00.886   \n",
       "4  173688     W_Nabellen offertes  11049 2011-10-10 11:33:05.791   \n",
       "5  173688    W_Valideren aanvraag  10629 2011-10-13 10:37:37.026   \n",
       "\n",
       "          start_timestamp  \n",
       "1 2011-10-01 11:36:46.437  \n",
       "2 2011-10-01 12:15:41.290  \n",
       "3 2011-10-08 16:26:57.720  \n",
       "4 2011-10-10 11:32:22.495  \n",
       "5 2011-10-13 10:05:26.925  "
      ],
      "text/html": "<div>\n<style scoped>\n    .dataframe tbody tr th:only-of-type {\n        vertical-align: middle;\n    }\n\n    .dataframe tbody tr th {\n        vertical-align: top;\n    }\n\n    .dataframe thead th {\n        text-align: right;\n    }\n</style>\n<table border=\"1\" class=\"dataframe\">\n  <thead>\n    <tr style=\"text-align: right;\">\n      <th></th>\n      <th>caseid</th>\n      <th>task</th>\n      <th>user</th>\n      <th>end_timestamp</th>\n      <th>start_timestamp</th>\n    </tr>\n  </thead>\n  <tbody>\n    <tr>\n      <th>1</th>\n      <td>173688</td>\n      <td>W_Completeren aanvraag</td>\n      <td>NaN</td>\n      <td>2011-10-01 11:45:13.917</td>\n      <td>2011-10-01 11:36:46.437</td>\n    </tr>\n    <tr>\n      <th>2</th>\n      <td>173688</td>\n      <td>W_Nabellen offertes</td>\n      <td>NaN</td>\n      <td>2011-10-01 12:17:08.924</td>\n      <td>2011-10-01 12:15:41.290</td>\n    </tr>\n    <tr>\n      <th>3</th>\n      <td>173688</td>\n      <td>W_Nabellen offertes</td>\n      <td>10913</td>\n      <td>2011-10-08 16:32:00.886</td>\n      <td>2011-10-08 16:26:57.720</td>\n    </tr>\n    <tr>\n      <th>4</th>\n      <td>173688</td>\n      <td>W_Nabellen offertes</td>\n      <td>11049</td>\n      <td>2011-10-10 11:33:05.791</td>\n      <td>2011-10-10 11:32:22.495</td>\n    </tr>\n    <tr>\n      <th>5</th>\n      <td>173688</td>\n      <td>W_Valideren aanvraag</td>\n      <td>10629</td>\n      <td>2011-10-13 10:37:37.026</td>\n      <td>2011-10-13 10:05:26.925</td>\n    </tr>\n  </tbody>\n</table>\n</div>"
     },
     "metadata": {},
     "execution_count": 19
    }
   ],
   "source": [
    "log_df.head(5)"
   ]
  },
  {
   "cell_type": "code",
   "execution_count": 20,
   "id": "f4f87da9",
   "metadata": {},
   "outputs": [],
   "source": [
    "def create_index(log_df, column):\n",
    "    \"\"\"Creates an idx for a categorical attribute.\n",
    "    parms:\n",
    "        log_df: dataframe.\n",
    "        column: column name.\n",
    "    Returns:\n",
    "        index of a categorical attribute pairs.\n",
    "    \"\"\"\n",
    "    temp_list = log_df[[column]].values.tolist()\n",
    "    subsec_set = {(x[0]) for x in temp_list}\n",
    "    subsec_set = sorted(list(subsec_set))\n",
    "    alias = dict()\n",
    "    for i, _ in enumerate(subsec_set):\n",
    "        alias[subsec_set[i]] = i + 1\n",
    "    return alias\n"
   ]
  },
  {
   "cell_type": "code",
   "execution_count": 21,
   "id": "ab4484b3",
   "metadata": {},
   "outputs": [],
   "source": [
    "def indexing(log):\n",
    "    # Activities index creation\n",
    "    ac_index = create_index(log, 'task')\n",
    "    ac_index['start'] = 0\n",
    "    ac_index['end'] = len(ac_index)\n",
    "    index_ac = {v: k for k, v in ac_index.items()}\n",
    "    # Roles index creation\n",
    "#     rl_index = create_index(log, 'role')\n",
    "#     rl_index['start'] = 0\n",
    "#     rl_index['end'] = len(rl_index)\n",
    "#     index_rl = {v: k for k, v in rl_index.items()}\n",
    "    # Add index to the event log\n",
    "    ac_idx = lambda x: ac_index[x['task']]\n",
    "    log['ac_index'] = log.apply(ac_idx, axis=1)\n",
    "#     rl_idx = lambda x: rl_index[x['role']]\n",
    "#     log['rl_index'] = log.apply(rl_idx, axis=1)\n",
    "    return log"
   ]
  },
  {
   "cell_type": "code",
   "execution_count": 22,
   "id": "b9e62f6c",
   "metadata": {},
   "outputs": [],
   "source": [
    "log_df = indexing(log_df)"
   ]
  },
  {
   "cell_type": "code",
   "execution_count": 23,
   "id": "d8a30969",
   "metadata": {},
   "outputs": [
    {
     "output_type": "execute_result",
     "data": {
      "text/plain": [
       "   caseid                    task   user           end_timestamp  \\\n",
       "1  173688  W_Completeren aanvraag    NaN 2011-10-01 11:45:13.917   \n",
       "2  173688     W_Nabellen offertes    NaN 2011-10-01 12:17:08.924   \n",
       "3  173688     W_Nabellen offertes  10913 2011-10-08 16:32:00.886   \n",
       "4  173688     W_Nabellen offertes  11049 2011-10-10 11:33:05.791   \n",
       "5  173688    W_Valideren aanvraag  10629 2011-10-13 10:37:37.026   \n",
       "\n",
       "          start_timestamp  ac_index  \n",
       "1 2011-10-01 11:36:46.437         3  \n",
       "2 2011-10-01 12:15:41.290         5  \n",
       "3 2011-10-08 16:26:57.720         5  \n",
       "4 2011-10-10 11:32:22.495         5  \n",
       "5 2011-10-13 10:05:26.925         6  "
      ],
      "text/html": "<div>\n<style scoped>\n    .dataframe tbody tr th:only-of-type {\n        vertical-align: middle;\n    }\n\n    .dataframe tbody tr th {\n        vertical-align: top;\n    }\n\n    .dataframe thead th {\n        text-align: right;\n    }\n</style>\n<table border=\"1\" class=\"dataframe\">\n  <thead>\n    <tr style=\"text-align: right;\">\n      <th></th>\n      <th>caseid</th>\n      <th>task</th>\n      <th>user</th>\n      <th>end_timestamp</th>\n      <th>start_timestamp</th>\n      <th>ac_index</th>\n    </tr>\n  </thead>\n  <tbody>\n    <tr>\n      <th>1</th>\n      <td>173688</td>\n      <td>W_Completeren aanvraag</td>\n      <td>NaN</td>\n      <td>2011-10-01 11:45:13.917</td>\n      <td>2011-10-01 11:36:46.437</td>\n      <td>3</td>\n    </tr>\n    <tr>\n      <th>2</th>\n      <td>173688</td>\n      <td>W_Nabellen offertes</td>\n      <td>NaN</td>\n      <td>2011-10-01 12:17:08.924</td>\n      <td>2011-10-01 12:15:41.290</td>\n      <td>5</td>\n    </tr>\n    <tr>\n      <th>3</th>\n      <td>173688</td>\n      <td>W_Nabellen offertes</td>\n      <td>10913</td>\n      <td>2011-10-08 16:32:00.886</td>\n      <td>2011-10-08 16:26:57.720</td>\n      <td>5</td>\n    </tr>\n    <tr>\n      <th>4</th>\n      <td>173688</td>\n      <td>W_Nabellen offertes</td>\n      <td>11049</td>\n      <td>2011-10-10 11:33:05.791</td>\n      <td>2011-10-10 11:32:22.495</td>\n      <td>5</td>\n    </tr>\n    <tr>\n      <th>5</th>\n      <td>173688</td>\n      <td>W_Valideren aanvraag</td>\n      <td>10629</td>\n      <td>2011-10-13 10:37:37.026</td>\n      <td>2011-10-13 10:05:26.925</td>\n      <td>6</td>\n    </tr>\n  </tbody>\n</table>\n</div>"
     },
     "metadata": {},
     "execution_count": 23
    }
   ],
   "source": [
    "log_df.head(5)"
   ]
  },
  {
   "cell_type": "code",
   "execution_count": 54,
   "id": "c28c07a9",
   "metadata": {},
   "outputs": [],
   "source": [
    "import copy\n",
    "from operator import itemgetter\n",
    "\n",
    "def _sort_log(log):\n",
    "    log = copy.deepcopy(log)\n",
    "    log = sorted(log.to_dict('records'), key=lambda x: x['caseid'])\n",
    "    for key, group in it.groupby(log, key=lambda x: x['caseid']):\n",
    "        events = list(group)\n",
    "        events = sorted(events, key=itemgetter('end_timestamp'))\n",
    "        length = len(events)\n",
    "        for i in range(0, len(events)):\n",
    "            events[i]['pos_trace'] = i + 1\n",
    "            events[i]['trace_len'] = length\n",
    "    log = pd.DataFrame.from_dict(log)\n",
    "    log.sort_values(by='end_timestamp', ascending=False, inplace=True)\n",
    "    return log"
   ]
  },
  {
   "cell_type": "code",
   "execution_count": 55,
   "id": "e8f571d6",
   "metadata": {},
   "outputs": [],
   "source": [
    "def timeline_contained(log: pd.DataFrame, size: float, one_timestamp: bool) -> None:\n",
    "    # log = self.log.data.to_dict('records')\n",
    "    num_events = int(np.round(len(log)*(1 - size)))\n",
    "\n",
    "    df_train = log.iloc[num_events:]\n",
    "    df_test = log.iloc[:num_events]\n",
    "\n",
    "    # Incomplete final traces\n",
    "    df_train = df_train.sort_values(by=['caseid'],\n",
    "                                    ascending=True)\n",
    "    inc_traces = pd.DataFrame(df_train.groupby('caseid')\n",
    "                              .last()\n",
    "                              .reset_index())\n",
    "\n",
    "    inc_traces = inc_traces[inc_traces.pos_trace != inc_traces.trace_len]\n",
    "    inc_traces = inc_traces['caseid'].to_list()\n",
    "\n",
    "    print(\"Imcomplete rate: {}\".format(len(inc_traces)/ len(df_train)))\n",
    "\n",
    "    # Drop incomplete traces\n",
    "    df_test = df_test[~df_test.caseid.isin(inc_traces)]\n",
    "    df_test = df_test.drop(columns=['trace_len', 'pos_trace'],errors='ignore')\n",
    "    df_train = df_train[~df_train.caseid.isin(inc_traces)]\n",
    "\n",
    "    print(\"train set size after dropping: {}\".format(len(df_train)))\n",
    "\n",
    "    df_train = df_train.drop(columns=['trace_len', 'pos_trace'],errors='ignore')\n",
    "    key = 'end_timestamp' if one_timestamp else 'start_timestamp'\n",
    "    df_test = (df_test\n",
    "               .sort_values(key, ascending=True)\n",
    "               .reset_index(drop=True).to_dict('records'))\n",
    "    df_train = (df_train\n",
    "                .sort_values(key, ascending=True)\n",
    "                .reset_index(drop=True).to_dict('records'))\n",
    "    return df_train, df_test\n",
    "\n",
    "def timeline_trace(log: pd.DataFrame, size: float, one_timestamp: bool) -> None:\n",
    "    # log = self.log.data.to_dict('records')\n",
    "#     cases = log[log.pos_trace == 1]\n",
    "    cases = log\n",
    "    key = 'end_timestamp' if one_timestamp else 'start_timestamp'\n",
    "    cases = cases.sort_values(key, ascending=False)\n",
    "    cases = cases.caseid.to_list()\n",
    "    num_test_cases = int(np.round(len(cases)*(1 - size)))\n",
    "    test_cases = cases[:num_test_cases]\n",
    "    train_cases = cases[num_test_cases:]\n",
    "    df_train = log[log.caseid.isin(train_cases)]\n",
    "    df_test = log[log.caseid.isin(test_cases)]\n",
    "    df_train = df_train.drop(columns=['trace_len', 'pos_trace'],errors='ignore')\n",
    "    df_test = df_test.drop(columns=['trace_len', 'pos_trace'],errors='ignore')\n",
    "    return df_train, df_test\n",
    "\n",
    "def random(log: pd.DataFrame, size: float, one_timestamp: bool) -> None:\n",
    "    cases = list(log.caseid.unique())\n",
    "    sample_sz = int(np.ceil(len(cases)*size))\n",
    "    scases = random.sample(cases, sample_sz)\n",
    "    df_train = log[log.caseid.isin(scases)]\n",
    "    df_test = log[~log.caseid.isin(scases)]\n",
    "    return df_train, df_test"
   ]
  },
  {
   "cell_type": "code",
   "execution_count": 56,
   "id": "cd9dd49c",
   "metadata": {},
   "outputs": [],
   "source": [
    "def _get_splitter(method):\n",
    "        if method == 'timeline_contained':\n",
    "            return timeline_contained\n",
    "        elif method == 'timeline_trace':\n",
    "            return timeline_trace\n",
    "        elif method == 'random':\n",
    "            return random\n",
    "        else:\n",
    "            raise ValueError(method)"
   ]
  },
  {
   "cell_type": "code",
   "execution_count": 57,
   "id": "92fb3036",
   "metadata": {},
   "outputs": [],
   "source": [
    "def split_log(log: pd.DataFrame, method: str, size: float, one_timestamp: bool):\n",
    "    splitter = _get_splitter(method)\n",
    "    return splitter(log, size, one_timestamp)"
   ]
  },
  {
   "cell_type": "code",
   "execution_count": 58,
   "id": "b5f5c262",
   "metadata": {},
   "outputs": [],
   "source": [
    "def split_timeline(size: float, one_ts: bool, log: pd.DataFrame) -> (pd.DataFrame, pd.DataFrame) :\n",
    "        \"\"\"\n",
    "        Split an event log dataframe by time to peform split-validation.\n",
    "        prefered method time splitting removing incomplete traces.\n",
    "        If the testing set is smaller than the 10% of the log size\n",
    "        the second method is sort by traces start and split taking the whole\n",
    "        traces no matter if they are contained in the timeframe or not\n",
    "\n",
    "        Parameters\n",
    "        ----------\n",
    "        size : float, validation percentage.\n",
    "        one_ts : bool, Support only one timestamp.\n",
    "        \"\"\"\n",
    "        # Split log data\n",
    "        sortedLog = _sort_log(log)\n",
    "        print(\"sorted log size {}\".format(len(sortedLog)))\n",
    "        # display(sortedLog.head(5))\n",
    "        print(\"soted log end -----\")\n",
    "\n",
    "        ## problem is here\n",
    "        train, test = split_log(sortedLog,'timeline_contained', size, one_ts)\n",
    "        print(\"1. train set size: {}\".format(len(train)))\n",
    "        total_events = len(sortedLog)\n",
    "        # Check size and change time splitting method if necesary\n",
    "        if len(test) < int(total_events*0.1):\n",
    "            train, test = split_log(sortedLog, 'timeline_trace', size, one_ts)\n",
    "        # Set splits\n",
    "        key = 'end_timestamp' if one_ts else 'start_timestamp'\n",
    "        test = pd.DataFrame(test)\n",
    "        train = pd.DataFrame(train)\n",
    "        print(train)\n",
    "        print('training set')\n",
    "        # display(train.head(5))\n",
    "        \n",
    "#         print(\"display set\")\n",
    "#         display(test.head(5))\n",
    "        \n",
    "        log_test = (test.sort_values(key, ascending=True)\n",
    "                         .reset_index(drop=True))\n",
    "        log_train = (train.sort_values(key, ascending=True)\n",
    "                          .reset_index(drop=True))\n",
    "        return log_train, log_test"
   ]
  },
  {
   "cell_type": "code",
   "execution_count": 60,
   "id": "49aea69e",
   "metadata": {},
   "outputs": [
    {
     "output_type": "stream",
     "name": "stdout",
     "text": [
      "sorted log size 71373\n",
      "soted log end -----\n",
      "Imcomplete rate: 0.09129916984833095\n",
      "train set size after dropping: 7971\n",
      "1. train set size: 7971\n",
      "      caseid                    task   user           end_timestamp  \\\n",
      "0     173706      W_Afhandelen leads  10912 2011-10-01 10:16:49.843   \n",
      "1     173688  W_Completeren aanvraag    NaN 2011-10-01 11:45:13.917   \n",
      "2     173691  W_Completeren aanvraag    NaN 2011-10-01 11:43:13.178   \n",
      "3     173706  W_Completeren aanvraag  10912 2011-10-01 11:50:14.483   \n",
      "4     173706  W_Completeren aanvraag  10912 2011-10-01 11:53:55.769   \n",
      "...      ...                     ...    ...                     ...   \n",
      "7966  208133      W_Afhandelen leads  10629 2012-02-10 17:05:23.731   \n",
      "7967  208268      W_Afhandelen leads  11201 2012-02-10 20:06:30.178   \n",
      "7968  208208  W_Completeren aanvraag  10913 2012-02-10 20:05:21.713   \n",
      "7969  208256      W_Afhandelen leads    NaN 2012-02-10 20:04:56.142   \n",
      "7970  208271      W_Afhandelen leads    NaN 2012-02-10 20:19:31.576   \n",
      "\n",
      "             start_timestamp  ac_index  \n",
      "0    2011-10-01 10:15:43.883         1  \n",
      "1    2011-10-01 11:36:46.437         3  \n",
      "2    2011-10-01 11:37:32.393         3  \n",
      "3    2011-10-01 11:49:28.183         3  \n",
      "4    2011-10-01 11:50:21.451         3  \n",
      "...                      ...       ...  \n",
      "7966 2012-02-10 17:01:06.079         1  \n",
      "7967 2012-02-10 19:56:45.827         1  \n",
      "7968 2012-02-10 20:00:35.659         3  \n",
      "7969 2012-02-10 20:01:51.162         1  \n",
      "7970 2012-02-10 20:18:25.436         1  \n",
      "\n",
      "[7971 rows x 6 columns]\n",
      "training set\n"
     ]
    }
   ],
   "source": [
    "log_train, log_test = split_timeline(0.8, parameters['one_timestamp'], log_df)"
   ]
  },
  {
   "cell_type": "code",
   "execution_count": 62,
   "id": "f214ce1e",
   "metadata": {},
   "outputs": [
    {
     "output_type": "execute_result",
     "data": {
      "text/plain": [
       "   caseid                    task   user           end_timestamp  \\\n",
       "0  173706      W_Afhandelen leads  10912 2011-10-01 10:16:49.843   \n",
       "1  173688  W_Completeren aanvraag    NaN 2011-10-01 11:45:13.917   \n",
       "2  173691  W_Completeren aanvraag    NaN 2011-10-01 11:43:13.178   \n",
       "3  173706  W_Completeren aanvraag  10912 2011-10-01 11:50:14.483   \n",
       "4  173706  W_Completeren aanvraag  10912 2011-10-01 11:53:55.769   \n",
       "\n",
       "          start_timestamp  ac_index  \n",
       "0 2011-10-01 10:15:43.883         1  \n",
       "1 2011-10-01 11:36:46.437         3  \n",
       "2 2011-10-01 11:37:32.393         3  \n",
       "3 2011-10-01 11:49:28.183         3  \n",
       "4 2011-10-01 11:50:21.451         3  "
      ],
      "text/html": "<div>\n<style scoped>\n    .dataframe tbody tr th:only-of-type {\n        vertical-align: middle;\n    }\n\n    .dataframe tbody tr th {\n        vertical-align: top;\n    }\n\n    .dataframe thead th {\n        text-align: right;\n    }\n</style>\n<table border=\"1\" class=\"dataframe\">\n  <thead>\n    <tr style=\"text-align: right;\">\n      <th></th>\n      <th>caseid</th>\n      <th>task</th>\n      <th>user</th>\n      <th>end_timestamp</th>\n      <th>start_timestamp</th>\n      <th>ac_index</th>\n    </tr>\n  </thead>\n  <tbody>\n    <tr>\n      <th>0</th>\n      <td>173706</td>\n      <td>W_Afhandelen leads</td>\n      <td>10912</td>\n      <td>2011-10-01 10:16:49.843</td>\n      <td>2011-10-01 10:15:43.883</td>\n      <td>1</td>\n    </tr>\n    <tr>\n      <th>1</th>\n      <td>173688</td>\n      <td>W_Completeren aanvraag</td>\n      <td>NaN</td>\n      <td>2011-10-01 11:45:13.917</td>\n      <td>2011-10-01 11:36:46.437</td>\n      <td>3</td>\n    </tr>\n    <tr>\n      <th>2</th>\n      <td>173691</td>\n      <td>W_Completeren aanvraag</td>\n      <td>NaN</td>\n      <td>2011-10-01 11:43:13.178</td>\n      <td>2011-10-01 11:37:32.393</td>\n      <td>3</td>\n    </tr>\n    <tr>\n      <th>3</th>\n      <td>173706</td>\n      <td>W_Completeren aanvraag</td>\n      <td>10912</td>\n      <td>2011-10-01 11:50:14.483</td>\n      <td>2011-10-01 11:49:28.183</td>\n      <td>3</td>\n    </tr>\n    <tr>\n      <th>4</th>\n      <td>173706</td>\n      <td>W_Completeren aanvraag</td>\n      <td>10912</td>\n      <td>2011-10-01 11:53:55.769</td>\n      <td>2011-10-01 11:50:21.451</td>\n      <td>3</td>\n    </tr>\n  </tbody>\n</table>\n</div>"
     },
     "metadata": {},
     "execution_count": 62
    }
   ],
   "source": [
    "log_train.head(5)"
   ]
  },
  {
   "cell_type": "code",
   "execution_count": null,
   "id": "c4aa5f09",
   "metadata": {},
   "outputs": [],
   "source": [
    "### We need to add resource to apply the same algo"
   ]
  },
  {
   "cell_type": "code",
   "execution_count": null,
   "id": "7ee86403",
   "metadata": {},
   "outputs": [],
   "source": []
  },
  {
   "cell_type": "code",
   "execution_count": null,
   "id": "f4e5f84c",
   "metadata": {},
   "outputs": [],
   "source": []
  },
  {
   "cell_type": "code",
   "execution_count": null,
   "id": "8295d235",
   "metadata": {},
   "outputs": [],
   "source": [
    "# split validation"
   ]
  }
 ],
 "metadata": {
  "kernelspec": {
   "name": "python394jvsc74a57bd00fab9f4e2480a02528c8c5e2c5eed9f6f178de25ad0614451a9194f538e2ccc5",
   "display_name": "Python 3.9.4 64-bit ('dl')"
  },
  "language_info": {
   "codemirror_mode": {
    "name": "ipython",
    "version": 3
   },
   "file_extension": ".py",
   "mimetype": "text/x-python",
   "name": "python",
   "nbconvert_exporter": "python",
   "pygments_lexer": "ipython3",
   "version": "3.9.4-final"
  }
 },
 "nbformat": 4,
 "nbformat_minor": 5
}