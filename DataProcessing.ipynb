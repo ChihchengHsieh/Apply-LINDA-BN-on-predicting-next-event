{
 "cells": [
  {
   "cell_type": "markdown",
   "id": "e2e3ae0d",
   "metadata": {},
   "source": [
    "# Retrieve Data"
   ]
  },
  {
   "cell_type": "code",
   "execution_count": 27,
   "id": "a3db0b32",
   "metadata": {},
   "outputs": [
    {
     "output_type": "stream",
     "name": "stderr",
     "text": [
      "parsing log, completed traces :: 100%|██████████| 13087/13087 [00:21<00:00, 615.70it/s]\n"
     ]
    }
   ],
   "source": [
    "import pm4py\n",
    "import pandas as pd\n",
    "from IPython.display import JSON\n",
    "from datetime import datetime, timedelta\n",
    "import itertools as it\n",
    "import numpy as np\n",
    "\n",
    "log = pm4py.read_xes('../Data/event_logs/BPI_Challenge_2012.xes')"
   ]
  },
  {
   "cell_type": "code",
   "execution_count": 1,
   "metadata": {},
   "outputs": [
    {
     "output_type": "stream",
     "name": "stderr",
     "text": [
      "/Users/jrhs/.pyenv/versions/dl/lib/python3.9/site-packages/pandas/compat/__init__.py:97: UserWarning: Could not import the lzma module. Your installed Python is incomplete. Attempting to use lzma compression will result in a RuntimeError.\n  warnings.warn(msg)\n"
     ]
    }
   ],
   "source": [
    "from Data import BPI2012Dataset"
   ]
  },
  {
   "cell_type": "code",
   "execution_count": null,
   "metadata": {},
   "outputs": [],
   "source": []
  },
  {
   "cell_type": "code",
   "execution_count": null,
   "metadata": {},
   "outputs": [],
   "source": []
  },
  {
   "cell_type": "code",
   "execution_count": null,
   "metadata": {},
   "outputs": [],
   "source": []
  },
  {
   "cell_type": "code",
   "execution_count": null,
   "metadata": {},
   "outputs": [],
   "source": []
  },
  {
   "cell_type": "code",
   "execution_count": null,
   "metadata": {},
   "outputs": [],
   "source": []
  },
  {
   "cell_type": "code",
   "execution_count": null,
   "metadata": {},
   "outputs": [],
   "source": []
  },
  {
   "cell_type": "code",
   "execution_count": null,
   "metadata": {},
   "outputs": [],
   "source": []
  },
  {
   "cell_type": "code",
   "execution_count": null,
   "metadata": {},
   "outputs": [],
   "source": []
  },
  {
   "cell_type": "code",
   "execution_count": null,
   "metadata": {},
   "outputs": [],
   "source": []
  },
  {
   "cell_type": "code",
   "execution_count": null,
   "metadata": {},
   "outputs": [],
   "source": []
  },
  {
   "cell_type": "code",
   "execution_count": null,
   "metadata": {},
   "outputs": [],
   "source": []
  },
  {
   "cell_type": "code",
   "execution_count": null,
   "metadata": {},
   "outputs": [],
   "source": []
  },
  {
   "cell_type": "code",
   "execution_count": null,
   "metadata": {},
   "outputs": [],
   "source": []
  },
  {
   "cell_type": "code",
   "execution_count": null,
   "metadata": {},
   "outputs": [],
   "source": []
  },
  {
   "cell_type": "code",
   "execution_count": null,
   "metadata": {},
   "outputs": [],
   "source": []
  },
  {
   "cell_type": "code",
   "execution_count": null,
   "metadata": {},
   "outputs": [],
   "source": []
  },
  {
   "cell_type": "code",
   "execution_count": null,
   "metadata": {},
   "outputs": [],
   "source": []
  },
  {
   "cell_type": "code",
   "execution_count": null,
   "metadata": {},
   "outputs": [],
   "source": []
  },
  {
   "cell_type": "code",
   "execution_count": 2,
   "metadata": {},
   "outputs": [
    {
     "output_type": "error",
     "ename": "NameError",
     "evalue": "name 'pd' is not defined",
     "traceback": [
      "\u001b[0;31m---------------------------------------------------------------------------\u001b[0m",
      "\u001b[0;31mNameError\u001b[0m                                 Traceback (most recent call last)",
      "\u001b[0;32m<ipython-input-2-b71cba0e29b6>\u001b[0m in \u001b[0;36m<module>\u001b[0;34m\u001b[0m\n\u001b[0;32m----> 1\u001b[0;31m \u001b[0mpd\u001b[0m\u001b[0;34m.\u001b[0m\u001b[0mSeries\u001b[0m\u001b[0;34m(\u001b[0m\u001b[0;34m[\u001b[0m\u001b[0;36m1\u001b[0m\u001b[0;34m,\u001b[0m\u001b[0;36m2\u001b[0m\u001b[0;34m,\u001b[0m\u001b[0;36m3\u001b[0m\u001b[0;34m]\u001b[0m\u001b[0;34m)\u001b[0m\u001b[0;34m\u001b[0m\u001b[0;34m\u001b[0m\u001b[0m\n\u001b[0m",
      "\u001b[0;31mNameError\u001b[0m: name 'pd' is not defined"
     ]
    }
   ],
   "source": [
    "\n",
    "pd.Series([1,2,3])"
   ]
  },
  {
   "cell_type": "code",
   "execution_count": 3,
   "metadata": {},
   "outputs": [],
   "source": [
    "import pandas as pd"
   ]
  },
  {
   "cell_type": "code",
   "execution_count": 4,
   "metadata": {},
   "outputs": [
    {
     "output_type": "error",
     "ename": "TypeError",
     "evalue": "'type' object is not iterable",
     "traceback": [
      "\u001b[0;31m---------------------------------------------------------------------------\u001b[0m",
      "\u001b[0;31mTypeError\u001b[0m                                 Traceback (most recent call last)",
      "\u001b[0;32m<ipython-input-4-25ebdaec6965>\u001b[0m in \u001b[0;36m<module>\u001b[0;34m\u001b[0m\n\u001b[0;32m----> 1\u001b[0;31m \u001b[0ma\u001b[0m \u001b[0;34m:\u001b[0m\u001b[0mlist\u001b[0m\u001b[0;34m(\u001b[0m\u001b[0mpd\u001b[0m\u001b[0;34m.\u001b[0m\u001b[0mSeries\u001b[0m\u001b[0;34m)\u001b[0m\u001b[0;34m\u001b[0m\u001b[0;34m\u001b[0m\u001b[0m\n\u001b[0m",
      "\u001b[0;31mTypeError\u001b[0m: 'type' object is not iterable"
     ]
    }
   ],
   "source": [
    "a :list(pd.Series)"
   ]
  },
  {
   "cell_type": "code",
   "execution_count": null,
   "metadata": {},
   "outputs": [],
   "source": []
  },
  {
   "cell_type": "code",
   "execution_count": null,
   "metadata": {},
   "outputs": [],
   "source": []
  },
  {
   "cell_type": "code",
   "execution_count": null,
   "metadata": {},
   "outputs": [],
   "source": []
  },
  {
   "cell_type": "code",
   "execution_count": null,
   "metadata": {},
   "outputs": [],
   "source": []
  },
  {
   "cell_type": "code",
   "execution_count": null,
   "metadata": {},
   "outputs": [],
   "source": []
  },
  {
   "cell_type": "code",
   "execution_count": null,
   "metadata": {},
   "outputs": [],
   "source": [
    "BIP."
   ]
  },
  {
   "cell_type": "code",
   "execution_count": 3,
   "metadata": {},
   "outputs": [
    {
     "output_type": "execute_result",
     "data": {
      "text/plain": [
       "{'attributes': {'REG_DATE': datetime.datetime(2011, 10, 1, 0, 38, 44, 546000, tzinfo=datetime.timezone(datetime.timedelta(seconds=7200))), 'concept:name': '173688', 'AMOUNT_REQ': '20000'}, 'events': [{'org:resource': '112', 'lifecycle:transition': 'COMPLETE', 'concept:name': 'A_SUBMITTED', 'time:timestamp': datetime.datetime(2011, 10, 1, 0, 38, 44, 546000, tzinfo=datetime.timezone(datetime.timedelta(seconds=7200)))}, '..', {'org:resource': '10629', 'lifecycle:transition': 'COMPLETE', 'concept:name': 'W_Valideren aanvraag', 'time:timestamp': datetime.datetime(2011, 10, 13, 10, 37, 37, 26000, tzinfo=datetime.timezone(datetime.timedelta(seconds=7200)))}]}"
      ]
     },
     "metadata": {},
     "execution_count": 3
    }
   ],
   "source": [
    "log[0]"
   ]
  },
  {
   "cell_type": "code",
   "execution_count": 87,
   "metadata": {},
   "outputs": [],
   "source": [
    "flattern_log = ([{**event, \n",
    "                    'caseid': trace.attributes['concept:name']} \n",
    "                   for trace in log for event in trace])\n",
    "df  = pd.DataFrame(flattern_log)"
   ]
  },
  {
   "cell_type": "code",
   "execution_count": 14,
   "metadata": {},
   "outputs": [
    {
     "output_type": "execute_result",
     "data": {
      "text/plain": [
       "       org:resource lifecycle:transition            concept:name  \\\n",
       "count        244190               262200                  262200   \n",
       "unique           68                    3                      24   \n",
       "top             112             COMPLETE  W_Completeren aanvraag   \n",
       "freq          45687               164506                   54850   \n",
       "\n",
       "                          time:timestamp  caseid  \n",
       "count                             262200  262200  \n",
       "unique                            248189   13087  \n",
       "top     2011-11-16 12:54:02.245000+01:00  185548  \n",
       "freq                                   4     175  "
      ],
      "text/html": "<div>\n<style scoped>\n    .dataframe tbody tr th:only-of-type {\n        vertical-align: middle;\n    }\n\n    .dataframe tbody tr th {\n        vertical-align: top;\n    }\n\n    .dataframe thead th {\n        text-align: right;\n    }\n</style>\n<table border=\"1\" class=\"dataframe\">\n  <thead>\n    <tr style=\"text-align: right;\">\n      <th></th>\n      <th>org:resource</th>\n      <th>lifecycle:transition</th>\n      <th>concept:name</th>\n      <th>time:timestamp</th>\n      <th>caseid</th>\n    </tr>\n  </thead>\n  <tbody>\n    <tr>\n      <th>count</th>\n      <td>244190</td>\n      <td>262200</td>\n      <td>262200</td>\n      <td>262200</td>\n      <td>262200</td>\n    </tr>\n    <tr>\n      <th>unique</th>\n      <td>68</td>\n      <td>3</td>\n      <td>24</td>\n      <td>248189</td>\n      <td>13087</td>\n    </tr>\n    <tr>\n      <th>top</th>\n      <td>112</td>\n      <td>COMPLETE</td>\n      <td>W_Completeren aanvraag</td>\n      <td>2011-11-16 12:54:02.245000+01:00</td>\n      <td>185548</td>\n    </tr>\n    <tr>\n      <th>freq</th>\n      <td>45687</td>\n      <td>164506</td>\n      <td>54850</td>\n      <td>4</td>\n      <td>175</td>\n    </tr>\n  </tbody>\n</table>\n</div>"
     },
     "metadata": {},
     "execution_count": 14
    }
   ],
   "source": [
    "df.describe()"
   ]
  },
  {
   "cell_type": "code",
   "execution_count": 88,
   "metadata": {},
   "outputs": [],
   "source": [
    "df[df[\"caseid\"] == \"173688\"].sort_values(\"time:timestamp\")\n",
    "df[\"name_and_transition\"] =  df [\"concept:name\"] + \"_\" + df[\"lifecycle:transition:\"]"
   ]
  },
  {
   "cell_type": "code",
   "execution_count": 16,
   "metadata": {},
   "outputs": [
    {
     "output_type": "execute_result",
     "data": {
      "text/plain": [
       "       org:resource lifecycle:transition            concept:name  \\\n",
       "count        244190               262200                  262200   \n",
       "unique           68                    3                      24   \n",
       "top             112             COMPLETE  W_Completeren aanvraag   \n",
       "freq          45687               164506                   54850   \n",
       "\n",
       "                          time:timestamp  caseid  \\\n",
       "count                             262200  262200   \n",
       "unique                            248189   13087   \n",
       "top     2011-11-16 12:54:02.245000+01:00  185548   \n",
       "freq                                   4     175   \n",
       "\n",
       "                    name_and_transition  \n",
       "count                            262200  \n",
       "unique                               36  \n",
       "top     W_Completeren aanvraag_COMPLETE  \n",
       "freq                              23967  "
      ],
      "text/html": "<div>\n<style scoped>\n    .dataframe tbody tr th:only-of-type {\n        vertical-align: middle;\n    }\n\n    .dataframe tbody tr th {\n        vertical-align: top;\n    }\n\n    .dataframe thead th {\n        text-align: right;\n    }\n</style>\n<table border=\"1\" class=\"dataframe\">\n  <thead>\n    <tr style=\"text-align: right;\">\n      <th></th>\n      <th>org:resource</th>\n      <th>lifecycle:transition</th>\n      <th>concept:name</th>\n      <th>time:timestamp</th>\n      <th>caseid</th>\n      <th>name_and_transition</th>\n    </tr>\n  </thead>\n  <tbody>\n    <tr>\n      <th>count</th>\n      <td>244190</td>\n      <td>262200</td>\n      <td>262200</td>\n      <td>262200</td>\n      <td>262200</td>\n      <td>262200</td>\n    </tr>\n    <tr>\n      <th>unique</th>\n      <td>68</td>\n      <td>3</td>\n      <td>24</td>\n      <td>248189</td>\n      <td>13087</td>\n      <td>36</td>\n    </tr>\n    <tr>\n      <th>top</th>\n      <td>112</td>\n      <td>COMPLETE</td>\n      <td>W_Completeren aanvraag</td>\n      <td>2011-11-16 12:54:02.245000+01:00</td>\n      <td>185548</td>\n      <td>W_Completeren aanvraag_COMPLETE</td>\n    </tr>\n    <tr>\n      <th>freq</th>\n      <td>45687</td>\n      <td>164506</td>\n      <td>54850</td>\n      <td>4</td>\n      <td>175</td>\n      <td>23967</td>\n    </tr>\n  </tbody>\n</table>\n</div>"
     },
     "metadata": {},
     "execution_count": 16
    }
   ],
   "source": [
    "df.describe()\n"
   ]
  },
  {
   "cell_type": "code",
   "execution_count": 17,
   "metadata": {},
   "outputs": [
    {
     "output_type": "execute_result",
     "data": {
      "text/plain": [
       "  org:resource lifecycle:transition            concept:name  \\\n",
       "0          112             COMPLETE             A_SUBMITTED   \n",
       "1          112             COMPLETE       A_PARTLYSUBMITTED   \n",
       "2          112             COMPLETE           A_PREACCEPTED   \n",
       "3          112             SCHEDULE  W_Completeren aanvraag   \n",
       "4          NaN                START  W_Completeren aanvraag   \n",
       "\n",
       "                     time:timestamp  caseid              name_and_transition  \n",
       "0  2011-10-01 00:38:44.546000+02:00  173688             A_SUBMITTED_COMPLETE  \n",
       "1  2011-10-01 00:38:44.880000+02:00  173688       A_PARTLYSUBMITTED_COMPLETE  \n",
       "2  2011-10-01 00:39:37.906000+02:00  173688           A_PREACCEPTED_COMPLETE  \n",
       "3  2011-10-01 00:39:38.875000+02:00  173688  W_Completeren aanvraag_SCHEDULE  \n",
       "4  2011-10-01 11:36:46.437000+02:00  173688     W_Completeren aanvraag_START  "
      ],
      "text/html": "<div>\n<style scoped>\n    .dataframe tbody tr th:only-of-type {\n        vertical-align: middle;\n    }\n\n    .dataframe tbody tr th {\n        vertical-align: top;\n    }\n\n    .dataframe thead th {\n        text-align: right;\n    }\n</style>\n<table border=\"1\" class=\"dataframe\">\n  <thead>\n    <tr style=\"text-align: right;\">\n      <th></th>\n      <th>org:resource</th>\n      <th>lifecycle:transition</th>\n      <th>concept:name</th>\n      <th>time:timestamp</th>\n      <th>caseid</th>\n      <th>name_and_transition</th>\n    </tr>\n  </thead>\n  <tbody>\n    <tr>\n      <th>0</th>\n      <td>112</td>\n      <td>COMPLETE</td>\n      <td>A_SUBMITTED</td>\n      <td>2011-10-01 00:38:44.546000+02:00</td>\n      <td>173688</td>\n      <td>A_SUBMITTED_COMPLETE</td>\n    </tr>\n    <tr>\n      <th>1</th>\n      <td>112</td>\n      <td>COMPLETE</td>\n      <td>A_PARTLYSUBMITTED</td>\n      <td>2011-10-01 00:38:44.880000+02:00</td>\n      <td>173688</td>\n      <td>A_PARTLYSUBMITTED_COMPLETE</td>\n    </tr>\n    <tr>\n      <th>2</th>\n      <td>112</td>\n      <td>COMPLETE</td>\n      <td>A_PREACCEPTED</td>\n      <td>2011-10-01 00:39:37.906000+02:00</td>\n      <td>173688</td>\n      <td>A_PREACCEPTED_COMPLETE</td>\n    </tr>\n    <tr>\n      <th>3</th>\n      <td>112</td>\n      <td>SCHEDULE</td>\n      <td>W_Completeren aanvraag</td>\n      <td>2011-10-01 00:39:38.875000+02:00</td>\n      <td>173688</td>\n      <td>W_Completeren aanvraag_SCHEDULE</td>\n    </tr>\n    <tr>\n      <th>4</th>\n      <td>NaN</td>\n      <td>START</td>\n      <td>W_Completeren aanvraag</td>\n      <td>2011-10-01 11:36:46.437000+02:00</td>\n      <td>173688</td>\n      <td>W_Completeren aanvraag_START</td>\n    </tr>\n  </tbody>\n</table>\n</div>"
     },
     "metadata": {},
     "execution_count": 17
    }
   ],
   "source": [
    "df.head(5)"
   ]
  },
  {
   "cell_type": "code",
   "execution_count": 27,
   "metadata": {},
   "outputs": [
    {
     "output_type": "stream",
     "name": "stdout",
     "text": [
      "case id: 173688\n"
     ]
    },
    {
     "output_type": "error",
     "ename": "InterruptedError",
     "evalue": "",
     "traceback": [
      "\u001b[0;31m---------------------------------------------------------------------------\u001b[0m",
      "\u001b[0;31mInterruptedError\u001b[0m                          Traceback (most recent call last)",
      "\u001b[0;32m<ipython-input-27-ffe2e00f30e2>\u001b[0m in \u001b[0;36m<module>\u001b[0;34m\u001b[0m\n\u001b[1;32m      3\u001b[0m     \u001b[0mc\u001b[0m \u001b[0;34m=\u001b[0m \u001b[0mcaseid\u001b[0m\u001b[0;34m\u001b[0m\u001b[0;34m\u001b[0m\u001b[0m\n\u001b[1;32m      4\u001b[0m     \u001b[0mg\u001b[0m \u001b[0;34m=\u001b[0m \u001b[0mgroup\u001b[0m\u001b[0;34m\u001b[0m\u001b[0;34m\u001b[0m\u001b[0m\n\u001b[0;32m----> 5\u001b[0;31m     \u001b[0;32mraise\u001b[0m \u001b[0mInterruptedError\u001b[0m\u001b[0;34m\u001b[0m\u001b[0;34m\u001b[0m\u001b[0m\n\u001b[0m",
      "\u001b[0;31mInterruptedError\u001b[0m: "
     ]
    }
   ],
   "source": [
    "for caseid, group in df.groupby(by=\"caseid\"):\n",
    "    print(\"case id: {}\".format(caseid))\n",
    "    c = caseid\n",
    "    g = group\n",
    "    raise InterruptedError"
   ]
  },
  {
   "cell_type": "code",
   "execution_count": null,
   "metadata": {},
   "outputs": [],
   "source": []
  },
  {
   "cell_type": "code",
   "execution_count": 30,
   "metadata": {},
   "outputs": [],
   "source": [
    "newData = [{\n",
    "\"caseid\":c,\n",
    "\"seq\": list(g.sort_values(by= \"time:timestamp\").name_and_transition)\n",
    "}\n",
    "]"
   ]
  },
  {
   "cell_type": "code",
   "execution_count": 32,
   "metadata": {},
   "outputs": [],
   "source": [
    "newDf =pd.DataFrame(newData)"
   ]
  },
  {
   "cell_type": "code",
   "execution_count": 38,
   "metadata": {},
   "outputs": [
    {
     "output_type": "execute_result",
     "data": {
      "text/plain": [
       "'A_SUBMITTED_COMPLETE'"
      ]
     },
     "metadata": {},
     "execution_count": 38
    }
   ],
   "source": [
    "newDf.iloc[0][\"seq\"][0]"
   ]
  },
  {
   "cell_type": "code",
   "execution_count": 39,
   "metadata": {},
   "outputs": [
    {
     "output_type": "stream",
     "name": "stdout",
     "text": [
      "caseid\nseq\n"
     ]
    }
   ],
   "source": [
    "for d in newDf.:\n",
    "    print(d)"
   ]
  },
  {
   "source": [
    "df['name_and_transition'].astype('category')"
   ],
   "cell_type": "code",
   "metadata": {},
   "execution_count": 89,
   "outputs": [
    {
     "output_type": "execute_result",
     "data": {
      "text/plain": [
       "0                    A_SUBMITTED_COMPLETE\n",
       "1              A_PARTLYSUBMITTED_COMPLETE\n",
       "2                  A_PREACCEPTED_COMPLETE\n",
       "3         W_Completeren aanvraag_SCHEDULE\n",
       "4            W_Completeren aanvraag_START\n",
       "                       ...               \n",
       "262195         A_PARTLYSUBMITTED_COMPLETE\n",
       "262196        W_Afhandelen leads_SCHEDULE\n",
       "262197           W_Afhandelen leads_START\n",
       "262198                A_DECLINED_COMPLETE\n",
       "262199        W_Afhandelen leads_COMPLETE\n",
       "Name: name_and_transition, Length: 262200, dtype: category\n",
       "Categories (36, object): ['A_ACCEPTED_COMPLETE', 'A_ACTIVATED_COMPLETE', 'A_APPROVED_COMPLETE', 'A_CANCELLED_COMPLETE', ..., 'W_Valideren aanvraag_COMPLETE', 'W_Valideren aanvraag_SCHEDULE', 'W_Valideren aanvraag_START', 'W_Wijzigen contractgegevens_SCHEDULE']"
      ]
     },
     "metadata": {},
     "execution_count": 89
    }
   ]
  },
  {
   "cell_type": "code",
   "execution_count": 66,
   "metadata": {},
   "outputs": [
    {
     "output_type": "execute_result",
     "data": {
      "text/plain": [
       "0         2011-10-01 00:38:44.545999+02:00\n",
       "1         2011-10-01 00:38:44.879999+02:00\n",
       "2         2011-10-01 00:39:37.905999+02:00\n",
       "3         2011-10-01 00:39:38.874999+02:00\n",
       "4         2011-10-01 11:36:46.436999+02:00\n",
       "                        ...               \n",
       "262195    2012-02-29 23:51:17.422999+01:00\n",
       "262196    2012-02-29 23:52:01.286999+01:00\n",
       "262197    2012-03-01 09:26:46.735999+01:00\n",
       "262198    2012-03-01 09:27:37.117999+01:00\n",
       "262199    2012-03-01 09:27:41.324999+01:00\n",
       "Name: time:timestamp, Length: 262200, dtype: object"
      ]
     },
     "metadata": {},
     "execution_count": 66
    }
   ],
   "source": [
    "df['time:timestamp'] - timedelta(microseconds=1)"
   ]
  },
  {
   "source": [
    "df.head(5)"
   ],
   "cell_type": "code",
   "metadata": {},
   "execution_count": 63,
   "outputs": [
    {
     "output_type": "execute_result",
     "data": {
      "text/plain": [
       "  org:resource lifecycle:transition            concept:name  \\\n",
       "0          112             COMPLETE             A_SUBMITTED   \n",
       "1          112             COMPLETE       A_PARTLYSUBMITTED   \n",
       "2          112             COMPLETE           A_PREACCEPTED   \n",
       "3          112             SCHEDULE  W_Completeren aanvraag   \n",
       "4          NaN                START  W_Completeren aanvraag   \n",
       "\n",
       "                     time:timestamp  caseid              name_and_transition  \n",
       "0  2011-10-01 00:38:44.546000+02:00  173688             A_SUBMITTED_COMPLETE  \n",
       "1  2011-10-01 00:38:44.880000+02:00  173688       A_PARTLYSUBMITTED_COMPLETE  \n",
       "2  2011-10-01 00:39:37.906000+02:00  173688           A_PREACCEPTED_COMPLETE  \n",
       "3  2011-10-01 00:39:38.875000+02:00  173688  W_Completeren aanvraag_SCHEDULE  \n",
       "4  2011-10-01 11:36:46.437000+02:00  173688     W_Completeren aanvraag_START  "
      ],
      "text/html": "<div>\n<style scoped>\n    .dataframe tbody tr th:only-of-type {\n        vertical-align: middle;\n    }\n\n    .dataframe tbody tr th {\n        vertical-align: top;\n    }\n\n    .dataframe thead th {\n        text-align: right;\n    }\n</style>\n<table border=\"1\" class=\"dataframe\">\n  <thead>\n    <tr style=\"text-align: right;\">\n      <th></th>\n      <th>org:resource</th>\n      <th>lifecycle:transition</th>\n      <th>concept:name</th>\n      <th>time:timestamp</th>\n      <th>caseid</th>\n      <th>name_and_transition</th>\n    </tr>\n  </thead>\n  <tbody>\n    <tr>\n      <th>0</th>\n      <td>112</td>\n      <td>COMPLETE</td>\n      <td>A_SUBMITTED</td>\n      <td>2011-10-01 00:38:44.546000+02:00</td>\n      <td>173688</td>\n      <td>A_SUBMITTED_COMPLETE</td>\n    </tr>\n    <tr>\n      <th>1</th>\n      <td>112</td>\n      <td>COMPLETE</td>\n      <td>A_PARTLYSUBMITTED</td>\n      <td>2011-10-01 00:38:44.880000+02:00</td>\n      <td>173688</td>\n      <td>A_PARTLYSUBMITTED_COMPLETE</td>\n    </tr>\n    <tr>\n      <th>2</th>\n      <td>112</td>\n      <td>COMPLETE</td>\n      <td>A_PREACCEPTED</td>\n      <td>2011-10-01 00:39:37.906000+02:00</td>\n      <td>173688</td>\n      <td>A_PREACCEPTED_COMPLETE</td>\n    </tr>\n    <tr>\n      <th>3</th>\n      <td>112</td>\n      <td>SCHEDULE</td>\n      <td>W_Completeren aanvraag</td>\n      <td>2011-10-01 00:39:38.875000+02:00</td>\n      <td>173688</td>\n      <td>W_Completeren aanvraag_SCHEDULE</td>\n    </tr>\n    <tr>\n      <th>4</th>\n      <td>NaN</td>\n      <td>START</td>\n      <td>W_Completeren aanvraag</td>\n      <td>2011-10-01 11:36:46.437000+02:00</td>\n      <td>173688</td>\n      <td>W_Completeren aanvraag_START</td>\n    </tr>\n  </tbody>\n</table>\n</div>"
     },
     "metadata": {},
     "execution_count": 63
    }
   ]
  },
  {
   "cell_type": "code",
   "execution_count": 61,
   "metadata": {},
   "outputs": [],
   "source": [
    "# Add start and end\n",
    "\n",
    "def add_start_and_end_tag(df):\n",
    "    end_start_times = dict()\n",
    "    for case, group in pd.DataFrame(df).groupby('caseid'):\n",
    "        end_start_times[(case, 'Start')] = (\n",
    "            group.start_timestamp.min()-timedelta(microseconds=1))\n",
    "        end_start_times[(case, 'End')] = (\n",
    "            group.end_timestamp.max()+timedelta(microseconds=1))\n",
    "    new_data = list()\n",
    "    data = sorted(df, key=lambda x: x['caseid'])\n",
    "    for key, group in it.groupby(data, key=lambda x: x['caseid']):\n",
    "        trace = list(group)\n",
    "        for new_event in ['Start', 'End']:\n",
    "            idx = 0 if new_event == 'Start' else -1\n",
    "            temp_event = dict()\n",
    "            temp_event['caseid'] = trace[idx]['caseid']\n",
    "            temp_event['task'] = new_event\n",
    "            temp_event['user'] = new_event\n",
    "            temp_event['end_timestamp'] = end_start_times[(key, new_event)]\n",
    "            if not self.one_timestamp:\n",
    "                temp_event['start_timestamp'] = end_start_times[(key, new_event)]\n",
    "            if new_event == 'Start':\n",
    "                trace.insert(0, temp_event)\n",
    "            else:\n",
    "                trace.append(temp_event)\n",
    "        new_data.extend(trace)\n",
    "    return new_data\n",
    "    "
   ]
  },
  {
   "cell_type": "code",
   "execution_count": 100,
   "metadata": {},
   "outputs": [],
   "source": [
    "## We can drop other columns before this.\n",
    "df = df[['time:timestamp', 'name_and_transition']]\n",
    "## create another df will be faster? A: yes\n",
    "newData = list()\n",
    "for case, group in df.groupby('caseid'):\n",
    "    group.sort_values(\"time:timestamp\", ascending= True, inplace=True)\n",
    "    strating_time =  group.iloc[0][\"time:timestamp\"]- timedelta(microseconds=1)\n",
    "    ending_time = group.iloc[-1][\"time:timestamp\"]+ timedelta(microseconds=1)\n",
    "    traces = group.to_dict('record')\n",
    "    traces.insert(0, {\"caseid\": case, \"time:timestamp\": strating_time, \"name_and_transition\": \"<START>\"})\n",
    "    traces.append({\"caseid\": case, \"time:timestamp\": ending_time, \"name_and_transition\": \"<END>\"})\n",
    "    newData.extend(traces)\n"
   ]
  },
  {
   "cell_type": "code",
   "execution_count": 101,
   "metadata": {},
   "outputs": [],
   "source": [
    "newDf = pd.DataFrame(newData)"
   ]
  },
  {
   "cell_type": "code",
   "execution_count": 102,
   "metadata": {},
   "outputs": [
    {
     "output_type": "execute_result",
     "data": {
      "text/plain": [
       "   caseid                    time:timestamp         name_and_transition  \\\n",
       "0  173688  2011-10-01 00:38:44.545998+02:00                     <START>   \n",
       "1  173688  2011-10-01 00:38:44.545999+02:00                     <START>   \n",
       "2  173688  2011-10-01 00:38:44.546000+02:00        A_SUBMITTED_COMPLETE   \n",
       "3  173688  2011-10-01 00:38:44.880000+02:00  A_PARTLYSUBMITTED_COMPLETE   \n",
       "4  173688  2011-10-01 00:39:37.906000+02:00      A_PREACCEPTED_COMPLETE   \n",
       "\n",
       "  org:resource lifecycle:transition       concept:name  \n",
       "0          NaN                  NaN                NaN  \n",
       "1          NaN                  NaN                NaN  \n",
       "2          112             COMPLETE        A_SUBMITTED  \n",
       "3          112             COMPLETE  A_PARTLYSUBMITTED  \n",
       "4          112             COMPLETE      A_PREACCEPTED  "
      ],
      "text/html": "<div>\n<style scoped>\n    .dataframe tbody tr th:only-of-type {\n        vertical-align: middle;\n    }\n\n    .dataframe tbody tr th {\n        vertical-align: top;\n    }\n\n    .dataframe thead th {\n        text-align: right;\n    }\n</style>\n<table border=\"1\" class=\"dataframe\">\n  <thead>\n    <tr style=\"text-align: right;\">\n      <th></th>\n      <th>caseid</th>\n      <th>time:timestamp</th>\n      <th>name_and_transition</th>\n      <th>org:resource</th>\n      <th>lifecycle:transition</th>\n      <th>concept:name</th>\n    </tr>\n  </thead>\n  <tbody>\n    <tr>\n      <th>0</th>\n      <td>173688</td>\n      <td>2011-10-01 00:38:44.545998+02:00</td>\n      <td>&lt;START&gt;</td>\n      <td>NaN</td>\n      <td>NaN</td>\n      <td>NaN</td>\n    </tr>\n    <tr>\n      <th>1</th>\n      <td>173688</td>\n      <td>2011-10-01 00:38:44.545999+02:00</td>\n      <td>&lt;START&gt;</td>\n      <td>NaN</td>\n      <td>NaN</td>\n      <td>NaN</td>\n    </tr>\n    <tr>\n      <th>2</th>\n      <td>173688</td>\n      <td>2011-10-01 00:38:44.546000+02:00</td>\n      <td>A_SUBMITTED_COMPLETE</td>\n      <td>112</td>\n      <td>COMPLETE</td>\n      <td>A_SUBMITTED</td>\n    </tr>\n    <tr>\n      <th>3</th>\n      <td>173688</td>\n      <td>2011-10-01 00:38:44.880000+02:00</td>\n      <td>A_PARTLYSUBMITTED_COMPLETE</td>\n      <td>112</td>\n      <td>COMPLETE</td>\n      <td>A_PARTLYSUBMITTED</td>\n    </tr>\n    <tr>\n      <th>4</th>\n      <td>173688</td>\n      <td>2011-10-01 00:39:37.906000+02:00</td>\n      <td>A_PREACCEPTED_COMPLETE</td>\n      <td>112</td>\n      <td>COMPLETE</td>\n      <td>A_PREACCEPTED</td>\n    </tr>\n  </tbody>\n</table>\n</div>"
     },
     "metadata": {},
     "execution_count": 102
    }
   ],
   "source": [
    "newDf.head(5)"
   ]
  },
  {
   "cell_type": "code",
   "execution_count": 104,
   "metadata": {},
   "outputs": [
    {
     "output_type": "execute_result",
     "data": {
      "text/plain": [
       "caseid                  object\n",
       "time:timestamp          object\n",
       "name_and_transition     object\n",
       "org:resource            object\n",
       "lifecycle:transition    object\n",
       "concept:name            object\n",
       "dtype: object"
      ]
     },
     "metadata": {},
     "execution_count": 104
    }
   ],
   "source": [
    "newDf.dtypes"
   ]
  },
  {
   "cell_type": "code",
   "execution_count": null,
   "metadata": {},
   "outputs": [],
   "source": []
  },
  {
   "cell_type": "code",
   "execution_count": null,
   "metadata": {},
   "outputs": [],
   "source": []
  },
  {
   "cell_type": "code",
   "execution_count": 147,
   "metadata": {},
   "outputs": [
    {
     "output_type": "execute_result",
     "data": {
      "text/plain": [
       "   caseid                    time:timestamp         name_and_transition  \\\n",
       "0  173688  2011-10-01 00:38:44.545998+02:00                     <START>   \n",
       "1  173688  2011-10-01 00:38:44.545999+02:00                     <START>   \n",
       "2  173688  2011-10-01 00:38:44.546000+02:00        A_SUBMITTED_COMPLETE   \n",
       "3  173688  2011-10-01 00:38:44.880000+02:00  A_PARTLYSUBMITTED_COMPLETE   \n",
       "4  173688  2011-10-01 00:39:37.906000+02:00      A_PREACCEPTED_COMPLETE   \n",
       "\n",
       "  org:resource lifecycle:transition       concept:name  indexed_cat  \n",
       "0          NaN                  NaN                NaN            2  \n",
       "1          NaN                  NaN                NaN            2  \n",
       "2          112             COMPLETE        A_SUBMITTED           12  \n",
       "3          112             COMPLETE  A_PARTLYSUBMITTED            9  \n",
       "4          112             COMPLETE      A_PREACCEPTED           10  "
      ],
      "text/html": "<div>\n<style scoped>\n    .dataframe tbody tr th:only-of-type {\n        vertical-align: middle;\n    }\n\n    .dataframe tbody tr th {\n        vertical-align: top;\n    }\n\n    .dataframe thead th {\n        text-align: right;\n    }\n</style>\n<table border=\"1\" class=\"dataframe\">\n  <thead>\n    <tr style=\"text-align: right;\">\n      <th></th>\n      <th>caseid</th>\n      <th>time:timestamp</th>\n      <th>name_and_transition</th>\n      <th>org:resource</th>\n      <th>lifecycle:transition</th>\n      <th>concept:name</th>\n      <th>indexed_cat</th>\n    </tr>\n  </thead>\n  <tbody>\n    <tr>\n      <th>0</th>\n      <td>173688</td>\n      <td>2011-10-01 00:38:44.545998+02:00</td>\n      <td>&lt;START&gt;</td>\n      <td>NaN</td>\n      <td>NaN</td>\n      <td>NaN</td>\n      <td>2</td>\n    </tr>\n    <tr>\n      <th>1</th>\n      <td>173688</td>\n      <td>2011-10-01 00:38:44.545999+02:00</td>\n      <td>&lt;START&gt;</td>\n      <td>NaN</td>\n      <td>NaN</td>\n      <td>NaN</td>\n      <td>2</td>\n    </tr>\n    <tr>\n      <th>2</th>\n      <td>173688</td>\n      <td>2011-10-01 00:38:44.546000+02:00</td>\n      <td>A_SUBMITTED_COMPLETE</td>\n      <td>112</td>\n      <td>COMPLETE</td>\n      <td>A_SUBMITTED</td>\n      <td>12</td>\n    </tr>\n    <tr>\n      <th>3</th>\n      <td>173688</td>\n      <td>2011-10-01 00:38:44.880000+02:00</td>\n      <td>A_PARTLYSUBMITTED_COMPLETE</td>\n      <td>112</td>\n      <td>COMPLETE</td>\n      <td>A_PARTLYSUBMITTED</td>\n      <td>9</td>\n    </tr>\n    <tr>\n      <th>4</th>\n      <td>173688</td>\n      <td>2011-10-01 00:39:37.906000+02:00</td>\n      <td>A_PREACCEPTED_COMPLETE</td>\n      <td>112</td>\n      <td>COMPLETE</td>\n      <td>A_PREACCEPTED</td>\n      <td>10</td>\n    </tr>\n  </tbody>\n</table>\n</div>"
     },
     "metadata": {},
     "execution_count": 147
    }
   ],
   "source": [
    "newDf.head(5)\n"
   ]
  },
  {
   "cell_type": "code",
   "execution_count": 86,
   "metadata": {},
   "outputs": [
    {
     "output_type": "execute_result",
     "data": {
      "text/plain": [
       "       org:resource lifecycle:transition concept:name  \\\n",
       "262200          NaN                  NaN          NaN   \n",
       "262202          NaN                  NaN          NaN   \n",
       "\n",
       "                          time:timestamp  caseid name_and_transition  \n",
       "262200  2011-10-01 00:38:44.545999+02:00     NaN             <START>  \n",
       "262202  2011-10-01 00:38:44.545999+02:00  173688             <START>  "
      ],
      "text/html": "<div>\n<style scoped>\n    .dataframe tbody tr th:only-of-type {\n        vertical-align: middle;\n    }\n\n    .dataframe tbody tr th {\n        vertical-align: top;\n    }\n\n    .dataframe thead th {\n        text-align: right;\n    }\n</style>\n<table border=\"1\" class=\"dataframe\">\n  <thead>\n    <tr style=\"text-align: right;\">\n      <th></th>\n      <th>org:resource</th>\n      <th>lifecycle:transition</th>\n      <th>concept:name</th>\n      <th>time:timestamp</th>\n      <th>caseid</th>\n      <th>name_and_transition</th>\n    </tr>\n  </thead>\n  <tbody>\n    <tr>\n      <th>262200</th>\n      <td>NaN</td>\n      <td>NaN</td>\n      <td>NaN</td>\n      <td>2011-10-01 00:38:44.545999+02:00</td>\n      <td>NaN</td>\n      <td>&lt;START&gt;</td>\n    </tr>\n    <tr>\n      <th>262202</th>\n      <td>NaN</td>\n      <td>NaN</td>\n      <td>NaN</td>\n      <td>2011-10-01 00:38:44.545999+02:00</td>\n      <td>173688</td>\n      <td>&lt;START&gt;</td>\n    </tr>\n  </tbody>\n</table>\n</div>"
     },
     "metadata": {},
     "execution_count": 86
    }
   ],
   "source": [
    "df[df['name_and_transition'] == '<START>']"
   ]
  },
  {
   "cell_type": "code",
   "execution_count": 105,
   "metadata": {},
   "outputs": [],
   "source": [
    "df['name_and_transition'] = df['name_and_transition'].astype('category')"
   ]
  },
  {
   "cell_type": "code",
   "execution_count": 112,
   "metadata": {},
   "outputs": [],
   "source": [
    "newDf['name_and_transition'] = newDf['name_and_transition'].astype('category')"
   ]
  },
  {
   "cell_type": "code",
   "execution_count": 120,
   "metadata": {},
   "outputs": [],
   "source": [
    "new_cat_code = [ v+1 for v in list(newDf['name_and_transition'].cat.codes)]"
   ]
  },
  {
   "cell_type": "code",
   "execution_count": 143,
   "metadata": {},
   "outputs": [],
   "source": [
    "event_bag = {}\n",
    "for i , cat in enumerate(newDf['name_and_transition'].cat.categories):\n",
    "    event_bag[cat] = i+1 \n"
   ]
  },
  {
   "cell_type": "code",
   "execution_count": 145,
   "metadata": {},
   "outputs": [],
   "source": [
    "event_bag['<PAD>'] = 0"
   ]
  },
  {
   "cell_type": "code",
   "execution_count": 154,
   "metadata": {},
   "outputs": [],
   "source": [
    "newDf['cat'] = newDf['name_and_transition'].apply(lambda c: event_bag[c])"
   ]
  },
  {
   "cell_type": "code",
   "execution_count": 161,
   "metadata": {},
   "outputs": [],
   "source": [
    "final_df_data = []\n",
    "for caseid, group in newDf.groupby('caseid'):\n",
    "\n",
    "    final_df_data.append({\n",
    "        \"trace\": list(group['cat']),\n",
    "        \"caseid\": caseid\n",
    "    })\n",
    "\n"
   ]
  },
  {
   "cell_type": "code",
   "execution_count": 162,
   "metadata": {},
   "outputs": [],
   "source": [
    "last_df = pd.DataFrame(final_df_data)"
   ]
  },
  {
   "cell_type": "code",
   "execution_count": 163,
   "metadata": {},
   "outputs": [
    {
     "output_type": "execute_result",
     "data": {
      "text/plain": [
       "                                               trace  caseid\n",
       "0  [2, 2, 12, 9, 10, 27, 28, 3, 17, 8, 15, 19, 33...  173688\n",
       "1  [2, 2, 12, 9, 10, 27, 28, 26, 28, 3, 8, 17, 15...  173691\n",
       "2  [2, 2, 12, 9, 10, 27, 28, 26, 28, 26, 28, 26, ...  173694\n",
       "3                             [2, 2, 12, 9, 7, 1, 1]  173697\n",
       "4                             [2, 2, 12, 9, 7, 1, 1]  173700"
      ],
      "text/html": "<div>\n<style scoped>\n    .dataframe tbody tr th:only-of-type {\n        vertical-align: middle;\n    }\n\n    .dataframe tbody tr th {\n        vertical-align: top;\n    }\n\n    .dataframe thead th {\n        text-align: right;\n    }\n</style>\n<table border=\"1\" class=\"dataframe\">\n  <thead>\n    <tr style=\"text-align: right;\">\n      <th></th>\n      <th>trace</th>\n      <th>caseid</th>\n    </tr>\n  </thead>\n  <tbody>\n    <tr>\n      <th>0</th>\n      <td>[2, 2, 12, 9, 10, 27, 28, 3, 17, 8, 15, 19, 33...</td>\n      <td>173688</td>\n    </tr>\n    <tr>\n      <th>1</th>\n      <td>[2, 2, 12, 9, 10, 27, 28, 26, 28, 3, 8, 17, 15...</td>\n      <td>173691</td>\n    </tr>\n    <tr>\n      <th>2</th>\n      <td>[2, 2, 12, 9, 10, 27, 28, 26, 28, 26, 28, 26, ...</td>\n      <td>173694</td>\n    </tr>\n    <tr>\n      <th>3</th>\n      <td>[2, 2, 12, 9, 7, 1, 1]</td>\n      <td>173697</td>\n    </tr>\n    <tr>\n      <th>4</th>\n      <td>[2, 2, 12, 9, 7, 1, 1]</td>\n      <td>173700</td>\n    </tr>\n  </tbody>\n</table>\n</div>"
     },
     "metadata": {},
     "execution_count": 163
    }
   ],
   "source": [
    "last_df.head(5)"
   ]
  },
  {
   "cell_type": "code",
   "execution_count": 164,
   "metadata": {},
   "outputs": [
    {
     "output_type": "execute_result",
     "data": {
      "text/plain": [
       "                   trace  caseid\n",
       "count              13087   13087\n",
       "unique              4726   13087\n",
       "top     [2, 12, 9, 7, 1]  173991\n",
       "freq                2488       1"
      ],
      "text/html": "<div>\n<style scoped>\n    .dataframe tbody tr th:only-of-type {\n        vertical-align: middle;\n    }\n\n    .dataframe tbody tr th {\n        vertical-align: top;\n    }\n\n    .dataframe thead th {\n        text-align: right;\n    }\n</style>\n<table border=\"1\" class=\"dataframe\">\n  <thead>\n    <tr style=\"text-align: right;\">\n      <th></th>\n      <th>trace</th>\n      <th>caseid</th>\n    </tr>\n  </thead>\n  <tbody>\n    <tr>\n      <th>count</th>\n      <td>13087</td>\n      <td>13087</td>\n    </tr>\n    <tr>\n      <th>unique</th>\n      <td>4726</td>\n      <td>13087</td>\n    </tr>\n    <tr>\n      <th>top</th>\n      <td>[2, 12, 9, 7, 1]</td>\n      <td>173991</td>\n    </tr>\n    <tr>\n      <th>freq</th>\n      <td>2488</td>\n      <td>1</td>\n    </tr>\n  </tbody>\n</table>\n</div>"
     },
     "metadata": {},
     "execution_count": 164
    }
   ],
   "source": [
    "last_df.describe()"
   ]
  },
  {
   "cell_type": "code",
   "execution_count": 167,
   "metadata": {},
   "outputs": [],
   "source": [
    "longest_trace = last_df.trace.map(len).max()"
   ]
  },
  {
   "cell_type": "code",
   "execution_count": null,
   "metadata": {},
   "outputs": [],
   "source": [
    "### how to mask the loss? torch pack pad?"
   ]
  },
  {
   "cell_type": "code",
   "execution_count": null,
   "metadata": {},
   "outputs": [],
   "source": []
  },
  {
   "cell_type": "code",
   "execution_count": null,
   "metadata": {},
   "outputs": [],
   "source": []
  },
  {
   "cell_type": "code",
   "execution_count": null,
   "metadata": {},
   "outputs": [],
   "source": []
  },
  {
   "cell_type": "code",
   "execution_count": null,
   "metadata": {},
   "outputs": [],
   "source": []
  },
  {
   "source": [
    "event_bag[  df['name_and_transition'][0]]"
   ],
   "cell_type": "markdown",
   "metadata": {}
  },
  {
   "cell_type": "code",
   "execution_count": 153,
   "metadata": {},
   "outputs": [
    {
     "output_type": "execute_result",
     "data": {
      "text/plain": [
       "'A_SUBMITTED_COMPLETE'"
      ]
     },
     "metadata": {},
     "execution_count": 153
    }
   ],
   "source": [
    "df['name_and_transition'][0]"
   ]
  },
  {
   "cell_type": "code",
   "execution_count": null,
   "metadata": {},
   "outputs": [],
   "source": []
  },
  {
   "cell_type": "code",
   "execution_count": 155,
   "metadata": {},
   "outputs": [
    {
     "output_type": "execute_result",
     "data": {
      "text/plain": [
       "   caseid                    time:timestamp         name_and_transition  \\\n",
       "0  173688  2011-10-01 00:38:44.545998+02:00                     <START>   \n",
       "1  173688  2011-10-01 00:38:44.545999+02:00                     <START>   \n",
       "2  173688  2011-10-01 00:38:44.546000+02:00        A_SUBMITTED_COMPLETE   \n",
       "3  173688  2011-10-01 00:38:44.880000+02:00  A_PARTLYSUBMITTED_COMPLETE   \n",
       "4  173688  2011-10-01 00:39:37.906000+02:00      A_PREACCEPTED_COMPLETE   \n",
       "\n",
       "  org:resource lifecycle:transition       concept:name  indexed_cat cat  \n",
       "0          NaN                  NaN                NaN            2   2  \n",
       "1          NaN                  NaN                NaN            2   2  \n",
       "2          112             COMPLETE        A_SUBMITTED           12  12  \n",
       "3          112             COMPLETE  A_PARTLYSUBMITTED            9   9  \n",
       "4          112             COMPLETE      A_PREACCEPTED           10  10  "
      ],
      "text/html": "<div>\n<style scoped>\n    .dataframe tbody tr th:only-of-type {\n        vertical-align: middle;\n    }\n\n    .dataframe tbody tr th {\n        vertical-align: top;\n    }\n\n    .dataframe thead th {\n        text-align: right;\n    }\n</style>\n<table border=\"1\" class=\"dataframe\">\n  <thead>\n    <tr style=\"text-align: right;\">\n      <th></th>\n      <th>caseid</th>\n      <th>time:timestamp</th>\n      <th>name_and_transition</th>\n      <th>org:resource</th>\n      <th>lifecycle:transition</th>\n      <th>concept:name</th>\n      <th>indexed_cat</th>\n      <th>cat</th>\n    </tr>\n  </thead>\n  <tbody>\n    <tr>\n      <th>0</th>\n      <td>173688</td>\n      <td>2011-10-01 00:38:44.545998+02:00</td>\n      <td>&lt;START&gt;</td>\n      <td>NaN</td>\n      <td>NaN</td>\n      <td>NaN</td>\n      <td>2</td>\n      <td>2</td>\n    </tr>\n    <tr>\n      <th>1</th>\n      <td>173688</td>\n      <td>2011-10-01 00:38:44.545999+02:00</td>\n      <td>&lt;START&gt;</td>\n      <td>NaN</td>\n      <td>NaN</td>\n      <td>NaN</td>\n      <td>2</td>\n      <td>2</td>\n    </tr>\n    <tr>\n      <th>2</th>\n      <td>173688</td>\n      <td>2011-10-01 00:38:44.546000+02:00</td>\n      <td>A_SUBMITTED_COMPLETE</td>\n      <td>112</td>\n      <td>COMPLETE</td>\n      <td>A_SUBMITTED</td>\n      <td>12</td>\n      <td>12</td>\n    </tr>\n    <tr>\n      <th>3</th>\n      <td>173688</td>\n      <td>2011-10-01 00:38:44.880000+02:00</td>\n      <td>A_PARTLYSUBMITTED_COMPLETE</td>\n      <td>112</td>\n      <td>COMPLETE</td>\n      <td>A_PARTLYSUBMITTED</td>\n      <td>9</td>\n      <td>9</td>\n    </tr>\n    <tr>\n      <th>4</th>\n      <td>173688</td>\n      <td>2011-10-01 00:39:37.906000+02:00</td>\n      <td>A_PREACCEPTED_COMPLETE</td>\n      <td>112</td>\n      <td>COMPLETE</td>\n      <td>A_PREACCEPTED</td>\n      <td>10</td>\n      <td>10</td>\n    </tr>\n  </tbody>\n</table>\n</div>"
     },
     "metadata": {},
     "execution_count": 155
    }
   ],
   "source": [
    "newDf.head(5)"
   ]
  },
  {
   "cell_type": "code",
   "execution_count": null,
   "metadata": {},
   "outputs": [],
   "source": []
  },
  {
   "cell_type": "code",
   "execution_count": null,
   "metadata": {},
   "outputs": [],
   "source": []
  },
  {
   "cell_type": "code",
   "execution_count": 121,
   "metadata": {},
   "outputs": [],
   "source": [
    "newDf['indexed_cat'] = new_cat_code"
   ]
  },
  {
   "cell_type": "code",
   "execution_count": 122,
   "metadata": {},
   "outputs": [
    {
     "output_type": "execute_result",
     "data": {
      "text/plain": [
       "   caseid                    time:timestamp         name_and_transition  \\\n",
       "0  173688  2011-10-01 00:38:44.545998+02:00                     <START>   \n",
       "1  173688  2011-10-01 00:38:44.545999+02:00                     <START>   \n",
       "2  173688  2011-10-01 00:38:44.546000+02:00        A_SUBMITTED_COMPLETE   \n",
       "3  173688  2011-10-01 00:38:44.880000+02:00  A_PARTLYSUBMITTED_COMPLETE   \n",
       "4  173688  2011-10-01 00:39:37.906000+02:00      A_PREACCEPTED_COMPLETE   \n",
       "\n",
       "  org:resource lifecycle:transition       concept:name  indexed_cat  \n",
       "0          NaN                  NaN                NaN            2  \n",
       "1          NaN                  NaN                NaN            2  \n",
       "2          112             COMPLETE        A_SUBMITTED           12  \n",
       "3          112             COMPLETE  A_PARTLYSUBMITTED            9  \n",
       "4          112             COMPLETE      A_PREACCEPTED           10  "
      ],
      "text/html": "<div>\n<style scoped>\n    .dataframe tbody tr th:only-of-type {\n        vertical-align: middle;\n    }\n\n    .dataframe tbody tr th {\n        vertical-align: top;\n    }\n\n    .dataframe thead th {\n        text-align: right;\n    }\n</style>\n<table border=\"1\" class=\"dataframe\">\n  <thead>\n    <tr style=\"text-align: right;\">\n      <th></th>\n      <th>caseid</th>\n      <th>time:timestamp</th>\n      <th>name_and_transition</th>\n      <th>org:resource</th>\n      <th>lifecycle:transition</th>\n      <th>concept:name</th>\n      <th>indexed_cat</th>\n    </tr>\n  </thead>\n  <tbody>\n    <tr>\n      <th>0</th>\n      <td>173688</td>\n      <td>2011-10-01 00:38:44.545998+02:00</td>\n      <td>&lt;START&gt;</td>\n      <td>NaN</td>\n      <td>NaN</td>\n      <td>NaN</td>\n      <td>2</td>\n    </tr>\n    <tr>\n      <th>1</th>\n      <td>173688</td>\n      <td>2011-10-01 00:38:44.545999+02:00</td>\n      <td>&lt;START&gt;</td>\n      <td>NaN</td>\n      <td>NaN</td>\n      <td>NaN</td>\n      <td>2</td>\n    </tr>\n    <tr>\n      <th>2</th>\n      <td>173688</td>\n      <td>2011-10-01 00:38:44.546000+02:00</td>\n      <td>A_SUBMITTED_COMPLETE</td>\n      <td>112</td>\n      <td>COMPLETE</td>\n      <td>A_SUBMITTED</td>\n      <td>12</td>\n    </tr>\n    <tr>\n      <th>3</th>\n      <td>173688</td>\n      <td>2011-10-01 00:38:44.880000+02:00</td>\n      <td>A_PARTLYSUBMITTED_COMPLETE</td>\n      <td>112</td>\n      <td>COMPLETE</td>\n      <td>A_PARTLYSUBMITTED</td>\n      <td>9</td>\n    </tr>\n    <tr>\n      <th>4</th>\n      <td>173688</td>\n      <td>2011-10-01 00:39:37.906000+02:00</td>\n      <td>A_PREACCEPTED_COMPLETE</td>\n      <td>112</td>\n      <td>COMPLETE</td>\n      <td>A_PREACCEPTED</td>\n      <td>10</td>\n    </tr>\n  </tbody>\n</table>\n</div>"
     },
     "metadata": {},
     "execution_count": 122
    }
   ],
   "source": [
    "newDf.head(5)"
   ]
  },
  {
   "cell_type": "code",
   "execution_count": 124,
   "metadata": {},
   "outputs": [],
   "source": [
    "from sklearn.preprocessing import OrdinalEncoder"
   ]
  },
  {
   "cell_type": "code",
   "execution_count": null,
   "metadata": {},
   "outputs": [],
   "source": [
    "encoder = OrdinalEncoder()"
   ]
  },
  {
   "cell_type": "code",
   "execution_count": null,
   "metadata": {},
   "outputs": [],
   "source": []
  },
  {
   "cell_type": "code",
   "execution_count": null,
   "metadata": {},
   "outputs": [],
   "source": []
  },
  {
   "cell_type": "code",
   "execution_count": null,
   "metadata": {},
   "outputs": [],
   "source": []
  },
  {
   "cell_type": "code",
   "execution_count": 49,
   "metadata": {},
   "outputs": [],
   "source": [
    "from sklearn.preprocessing import OrdinalEncoder"
   ]
  },
  {
   "cell_type": "code",
   "execution_count": 128,
   "metadata": {
    "tags": []
   },
   "outputs": [],
   "source": [
    "ord_enc = OrdinalEncoder()"
   ]
  },
  {
   "cell_type": "code",
   "execution_count": 129,
   "metadata": {},
   "outputs": [
    {
     "output_type": "execute_result",
     "data": {
      "text/plain": [
       "OrdinalEncoder()"
      ]
     },
     "metadata": {},
     "execution_count": 129
    }
   ],
   "source": [
    "ord_enc.fit( np.array(list(newDf['name_and_transition'])).reshape(-1, 1))"
   ]
  },
  {
   "cell_type": "code",
   "execution_count": 135,
   "metadata": {},
   "outputs": [
    {
     "output_type": "execute_result",
     "data": {
      "text/plain": [
       "array([['<END>']], dtype='<U39')"
      ]
     },
     "metadata": {},
     "execution_count": 135
    }
   ],
   "source": [
    "ord_enc.inverse_transform([[0]])"
   ]
  },
  {
   "cell_type": "code",
   "execution_count": 11,
   "metadata": {},
   "outputs": [],
   "source": [
    "a = [{\n",
    "    \"A\": 1,\n",
    "    \"B\":2\n",
    "}]"
   ]
  },
  {
   "cell_type": "code",
   "execution_count": null,
   "metadata": {},
   "outputs": [],
   "source": []
  },
  {
   "cell_type": "code",
   "execution_count": 5,
   "metadata": {},
   "outputs": [
    {
     "output_type": "stream",
     "name": "stdout",
     "text": [
      "A: 1 \nB: 2 \n"
     ]
    }
   ],
   "source": [
    "for k, v in a.items():\n",
    "    print(\"{}: {} \".format(k,v))"
   ]
  },
  {
   "cell_type": "code",
   "execution_count": 6,
   "metadata": {},
   "outputs": [
    {
     "output_type": "execute_result",
     "data": {
      "text/plain": [
       "2"
      ]
     },
     "metadata": {},
     "execution_count": 6
    }
   ],
   "source": [
    "len(a)"
   ]
  },
  {
   "cell_type": "code",
   "execution_count": 8,
   "metadata": {},
   "outputs": [
    {
     "output_type": "stream",
     "name": "stderr",
     "text": [
      "/Users/jrhs/.pyenv/versions/dl/lib/python3.9/site-packages/pandas/compat/__init__.py:97: UserWarning: Could not import the lzma module. Your installed Python is incomplete. Attempting to use lzma compression will result in a RuntimeError.\n  warnings.warn(msg)\n"
     ]
    }
   ],
   "source": [
    "import pandas as pd"
   ]
  },
  {
   "cell_type": "code",
   "execution_count": 12,
   "metadata": {},
   "outputs": [],
   "source": [
    "d = pd.DataFrame(a)"
   ]
  },
  {
   "cell_type": "code",
   "execution_count": null,
   "metadata": {},
   "outputs": [],
   "source": [
    "d"
   ]
  },
  {
   "cell_type": "code",
   "execution_count": 5,
   "metadata": {},
   "outputs": [
    {
     "output_type": "error",
     "ename": "NameError",
     "evalue": "name 'd' is not defined",
     "traceback": [
      "\u001b[0;31m---------------------------------------------------------------------------\u001b[0m",
      "\u001b[0;31mNameError\u001b[0m                                 Traceback (most recent call last)",
      "\u001b[0;32m<ipython-input-5-017d7f50046f>\u001b[0m in \u001b[0;36m<module>\u001b[0;34m\u001b[0m\n\u001b[0;32m----> 1\u001b[0;31m \u001b[0mlen\u001b[0m\u001b[0;34m(\u001b[0m\u001b[0md\u001b[0m\u001b[0;34m)\u001b[0m\u001b[0;34m\u001b[0m\u001b[0;34m\u001b[0m\u001b[0m\n\u001b[0m",
      "\u001b[0;31mNameError\u001b[0m: name 'd' is not defined"
     ]
    }
   ],
   "source": [
    "len(d)"
   ]
  },
  {
   "cell_type": "code",
   "execution_count": 10,
   "metadata": {},
   "outputs": [
    {
     "output_type": "error",
     "ename": "NameError",
     "evalue": "name 'List' is not defined",
     "traceback": [
      "\u001b[0;31m---------------------------------------------------------------------------\u001b[0m",
      "\u001b[0;31mNameError\u001b[0m                                 Traceback (most recent call last)",
      "\u001b[0;32m<ipython-input-10-9bff2c7086d7>\u001b[0m in \u001b[0;36m<module>\u001b[0;34m\u001b[0m\n\u001b[0;32m----> 1\u001b[0;31m \u001b[0mList\u001b[0m\u001b[0;34m(\u001b[0m\u001b[0mint\u001b[0m\u001b[0;34m)\u001b[0m\u001b[0;34m\u001b[0m\u001b[0;34m\u001b[0m\u001b[0m\n\u001b[0m",
      "\u001b[0;31mNameError\u001b[0m: name 'List' is not defined"
     ]
    }
   ],
   "source": [
    "List(int)"
   ]
  },
  {
   "cell_type": "code",
   "execution_count": null,
   "metadata": {},
   "outputs": [],
   "source": []
  },
  {
   "cell_type": "code",
   "execution_count": null,
   "metadata": {},
   "outputs": [],
   "source": []
  },
  {
   "cell_type": "code",
   "execution_count": null,
   "metadata": {},
   "outputs": [],
   "source": []
  },
  {
   "cell_type": "code",
   "execution_count": null,
   "metadata": {},
   "outputs": [],
   "source": []
  },
  {
   "cell_type": "code",
   "execution_count": null,
   "metadata": {},
   "outputs": [],
   "source": []
  },
  {
   "cell_type": "code",
   "execution_count": null,
   "metadata": {},
   "outputs": [],
   "source": []
  },
  {
   "cell_type": "code",
   "execution_count": 13,
   "metadata": {},
   "outputs": [
    {
     "output_type": "execute_result",
     "data": {
      "text/plain": [
       "pandas.core.series.Series"
      ]
     },
     "metadata": {},
     "execution_count": 13
    }
   ],
   "source": [
    "type()"
   ]
  },
  {
   "cell_type": "code",
   "execution_count": 14,
   "metadata": {},
   "outputs": [
    {
     "output_type": "execute_result",
     "data": {
      "text/plain": [
       "list"
      ]
     },
     "metadata": {},
     "execution_count": 14
    }
   ],
   "source": [
    "type([d.iloc[0], d.iloc[0]])"
   ]
  },
  {
   "cell_type": "code",
   "execution_count": 16,
   "metadata": {},
   "outputs": [
    {
     "output_type": "execute_result",
     "data": {
      "text/plain": [
       "list"
      ]
     },
     "metadata": {},
     "execution_count": 16
    }
   ],
   "source": [
    "type(list())"
   ]
  },
  {
   "cell_type": "code",
   "execution_count": 18,
   "metadata": {},
   "outputs": [
    {
     "output_type": "execute_result",
     "data": {
      "text/plain": [
       "types.GenericAlias"
      ]
     },
     "metadata": {},
     "execution_count": 18
    }
   ],
   "source": [
    "type(list[pd.Series])"
   ]
  },
  {
   "cell_type": "code",
   "execution_count": null,
   "metadata": {},
   "outputs": [],
   "source": []
  },
  {
   "cell_type": "code",
   "execution_count": null,
   "metadata": {},
   "outputs": [],
   "source": []
  },
  {
   "cell_type": "code",
   "execution_count": 15,
   "metadata": {},
   "outputs": [],
   "source": [
    "l= [1,2,3,4,5]"
   ]
  },
  {
   "cell_type": "code",
   "execution_count": 17,
   "metadata": {},
   "outputs": [
    {
     "output_type": "execute_result",
     "data": {
      "text/plain": [
       "[1, 2, 3, 4]"
      ]
     },
     "metadata": {},
     "execution_count": 17
    }
   ],
   "source": [
    "l[:-1]"
   ]
  },
  {
   "cell_type": "code",
   "execution_count": null,
   "metadata": {},
   "outputs": [],
   "source": [
    "[[1,2,3,4,5],[2,3,1]]"
   ]
  },
  {
   "cell_type": "code",
   "execution_count": 28,
   "metadata": {},
   "outputs": [],
   "source": []
  },
  {
   "cell_type": "code",
   "execution_count": null,
   "metadata": {},
   "outputs": [],
   "source": []
  },
  {
   "cell_type": "code",
   "execution_count": 29,
   "metadata": {},
   "outputs": [],
   "source": []
  },
  {
   "cell_type": "code",
   "execution_count": null,
   "metadata": {},
   "outputs": [],
   "source": []
  },
  {
   "cell_type": "code",
   "execution_count": 89,
   "metadata": {},
   "outputs": [],
   "source": []
  },
  {
   "cell_type": "code",
   "execution_count": 90,
   "metadata": {},
   "outputs": [
    {
     "output_type": "execute_result",
     "data": {
      "text/plain": [
       "[caseid                          25\n",
       " trace     [1, 2, 3, 4, 5, 6, 7, 8]\n",
       " tracde                         NaN\n",
       " Name: 0, dtype: object,\n",
       " caseid           79\n",
       " trace     [5, 9, 3]\n",
       " tracde          NaN\n",
       " Name: 1, dtype: object,\n",
       " caseid                                                 2313\n",
       " trace                                                   NaN\n",
       " tracde    [12, 321313, 1, 313, 123, 123, 12, 31, 31, 312...\n",
       " Name: 2, dtype: object]"
      ]
     },
     "metadata": {},
     "execution_count": 90
    }
   ],
   "source": [
    "data"
   ]
  },
  {
   "cell_type": "code",
   "execution_count": null,
   "metadata": {},
   "outputs": [],
   "source": []
  },
  {
   "cell_type": "code",
   "execution_count": 86,
   "metadata": {},
   "outputs": [
    {
     "output_type": "execute_result",
     "data": {
      "text/plain": [
       "[0, 1, 2]"
      ]
     },
     "metadata": {},
     "execution_count": 86
    }
   ],
   "source": [
    "[i for i in range(3)]"
   ]
  },
  {
   "cell_type": "code",
   "execution_count": null,
   "metadata": {},
   "outputs": [],
   "source": []
  },
  {
   "cell_type": "code",
   "execution_count": 42,
   "metadata": {},
   "outputs": [
    {
     "output_type": "stream",
     "name": "stdout",
     "text": [
      "('25', '79')\n([1, 2, 3, 4, 5, 6, 7, 8], [5, 9, 3])\n"
     ]
    }
   ],
   "source": [
    "for v in zip(*[(d[\"caseid\"], d[\"trace\"]) for d in data]):\n",
    "    print(v)"
   ]
  },
  {
   "cell_type": "code",
   "execution_count": null,
   "metadata": {},
   "outputs": [],
   "source": []
  },
  {
   "cell_type": "code",
   "execution_count": null,
   "metadata": {},
   "outputs": [],
   "source": []
  },
  {
   "cell_type": "code",
   "execution_count": null,
   "metadata": {},
   "outputs": [],
   "source": []
  },
  {
   "cell_type": "code",
   "execution_count": null,
   "metadata": {},
   "outputs": [],
   "source": []
  },
  {
   "cell_type": "code",
   "execution_count": 43,
   "metadata": {},
   "outputs": [],
   "source": []
  },
  {
   "cell_type": "code",
   "execution_count": 117,
   "metadata": {},
   "outputs": [],
   "source": [
    "\n",
    "data_dict = [{\"caseid\": \"25\", \"trace\": [1,2,3,4,5,6,7,8]}, {\"caseid\":\"79\", \"trace\": [8, 5,2]}, {\"caseid\": \"2313\", \"trace\": [1,3,5,2,5,6,7,1,2,3]}]\n",
    "\n",
    "df = pd.DataFrame(data_dict)\n",
    "data = [df.iloc[idx] for idx in range(len(df))]\n",
    "caseid_list, seq_list =zip(*[(d[\"caseid\"], torch.tensor(d[\"trace\"])) for d in data])\n",
    "caseid_list = list(caseid_list)\n",
    "seq_list =list(seq_list)\n"
   ]
  },
  {
   "cell_type": "code",
   "execution_count": 141,
   "metadata": {},
   "outputs": [
    {
     "output_type": "error",
     "ename": "TypeError",
     "evalue": "'type' object is not iterable",
     "traceback": [
      "\u001b[0;31m---------------------------------------------------------------------------\u001b[0m",
      "\u001b[0;31mTypeError\u001b[0m                                 Traceback (most recent call last)",
      "\u001b[0;32m<ipython-input-141-1295fa8061aa>\u001b[0m in \u001b[0;36m<module>\u001b[0;34m\u001b[0m\n\u001b[1;32m     11\u001b[0m \u001b[0;34m\u001b[0m\u001b[0m\n\u001b[1;32m     12\u001b[0m \u001b[0;34m\u001b[0m\u001b[0m\n\u001b[0;32m---> 13\u001b[0;31m \u001b[0;32mclass\u001b[0m \u001b[0mBPI2012Dataset\u001b[0m\u001b[0;34m(\u001b[0m\u001b[0mDataset\u001b[0m\u001b[0;34m)\u001b[0m\u001b[0;34m:\u001b[0m\u001b[0;34m\u001b[0m\u001b[0;34m\u001b[0m\u001b[0m\n\u001b[0m\u001b[1;32m     14\u001b[0m     \u001b[0;32mdef\u001b[0m \u001b[0m__init__\u001b[0m\u001b[0;34m(\u001b[0m\u001b[0mself\u001b[0m\u001b[0;34m,\u001b[0m \u001b[0mfilePath\u001b[0m\u001b[0;34m:\u001b[0m \u001b[0mstr\u001b[0m\u001b[0;34m)\u001b[0m \u001b[0;34m->\u001b[0m \u001b[0;32mNone\u001b[0m\u001b[0;34m:\u001b[0m\u001b[0;34m\u001b[0m\u001b[0;34m\u001b[0m\u001b[0m\n\u001b[1;32m     15\u001b[0m         \u001b[0msuper\u001b[0m\u001b[0;34m(\u001b[0m\u001b[0;34m)\u001b[0m\u001b[0;34m.\u001b[0m\u001b[0m__init__\u001b[0m\u001b[0;34m(\u001b[0m\u001b[0;34m)\u001b[0m\u001b[0;34m\u001b[0m\u001b[0;34m\u001b[0m\u001b[0m\n",
      "\u001b[0;32m<ipython-input-141-1295fa8061aa>\u001b[0m in \u001b[0;36mBPI2012Dataset\u001b[0;34m()\u001b[0m\n\u001b[1;32m     88\u001b[0m         \u001b[0;32mreturn\u001b[0m \u001b[0mself\u001b[0m\u001b[0;34m.\u001b[0m\u001b[0mdf\u001b[0m\u001b[0;34m.\u001b[0m\u001b[0miloc\u001b[0m\u001b[0;34m[\u001b[0m\u001b[0mindex\u001b[0m\u001b[0;34m]\u001b[0m\u001b[0;34m\u001b[0m\u001b[0;34m\u001b[0m\u001b[0m\n\u001b[1;32m     89\u001b[0m \u001b[0;34m\u001b[0m\u001b[0m\n\u001b[0;32m---> 90\u001b[0;31m     \u001b[0;32mdef\u001b[0m \u001b[0mcollate_fn\u001b[0m\u001b[0;34m(\u001b[0m\u001b[0mself\u001b[0m\u001b[0;34m,\u001b[0m \u001b[0mdata\u001b[0m\u001b[0;34m:\u001b[0m \u001b[0mlist\u001b[0m\u001b[0;34m(\u001b[0m\u001b[0mpd\u001b[0m\u001b[0;34m.\u001b[0m\u001b[0mSeries\u001b[0m\u001b[0;34m)\u001b[0m\u001b[0;34m)\u001b[0m \u001b[0;34m->\u001b[0m \u001b[0mTuple\u001b[0m\u001b[0;34m(\u001b[0m\u001b[0mnp\u001b[0m\u001b[0;34m.\u001b[0m\u001b[0mndarray\u001b[0m\u001b[0;34m,\u001b[0m \u001b[0mtorch\u001b[0m\u001b[0;34m.\u001b[0m\u001b[0mTensor\u001b[0m\u001b[0;34m,\u001b[0m \u001b[0mtorch\u001b[0m\u001b[0;34m.\u001b[0m\u001b[0mTensor\u001b[0m\u001b[0;34m,\u001b[0m \u001b[0mnp\u001b[0m\u001b[0;34m.\u001b[0m\u001b[0mndarray\u001b[0m\u001b[0;34m)\u001b[0m\u001b[0;34m:\u001b[0m\u001b[0;34m\u001b[0m\u001b[0;34m\u001b[0m\u001b[0m\n\u001b[0m\u001b[1;32m     91\u001b[0m         caseid_list, seq_list = zip(\n\u001b[1;32m     92\u001b[0m             *[(d[\"caseid\"], torch.tensor(d[\"trace\"])) for d in data])\n",
      "\u001b[0;31mTypeError\u001b[0m: 'type' object is not iterable"
     ]
    }
   ],
   "source": [
    "from typing import Tuple\n",
    "from pandas.core.frame import DataFrame\n",
    "import torch\n",
    "import pandas as pd\n",
    "from torch.utils.data import Dataset, DataLoader\n",
    "import pm4py\n",
    "from datetime import timedelta\n",
    "import numpy as np\n",
    "from torch.nn.utils.rnn import pad_sequence, pack_padded_sequence, pack_sequence, pad_packed_sequence\n",
    "import torch.nn.functional as F\n",
    "\n",
    "\n",
    "class BPI2012Dataset(Dataset):\n",
    "    def __init__(self, filePath: str) -> None:\n",
    "        super().__init__()\n",
    "        self.__initialise_data(filePath=filePath)\n",
    "        self.df: pd.DataFrame\n",
    "        self.__event_dict: dict(str, int)\n",
    "\n",
    "    def __initialise_data(self, filePath: str) -> None:\n",
    "        log = pm4py.read_xes(filePath)\n",
    "        flattern_log: list(dict(str, any)) = ([{**event,\n",
    "                                                'caseid': trace.attributes['concept:name']}\n",
    "                                               for trace in log for event in trace])\n",
    "        df = pd.DataFrame(flattern_log)\n",
    "        df[\"name_and_transition\"] = df[\"concept:name\"] + \\\n",
    "            \"_\" + df[\"lifecycle:transition:\"]\n",
    "        df = df[['time:timestamp', 'name_and_transition']]\n",
    "        newData = list()\n",
    "        for case, group in df.groupby('caseid'):\n",
    "            group.sort_values(\"time:timestamp\", ascending=True, inplace=True)\n",
    "            strating_time = group.iloc[0][\"time:timestamp\"] - \\\n",
    "                timedelta(microseconds=1)\n",
    "            ending_time = group.iloc[-1][\"time:timestamp\"] + \\\n",
    "                timedelta(microseconds=1)\n",
    "            traces = group.to_dict('record')\n",
    "            traces.insert(\n",
    "                0, {\"caseid\": case, \"time:timestamp\": strating_time, \"name_and_transition\": \"<START>\"})\n",
    "            traces.append(\n",
    "                {\"caseid\": case, \"time:timestamp\": ending_time, \"name_and_transition\": \"<END>\"})\n",
    "            newData.extend(traces)\n",
    "\n",
    "        df = pd.DataFrame(newData)\n",
    "        df['name_and_transition'] = df['name_and_transition'].astype(\n",
    "            'category')\n",
    "\n",
    "        event_dict = dict(str, int)\n",
    "        for i, cat in enumerate(df['name_and_transition'].cat.categories):\n",
    "            # plus one, since we want to remain \"0\" for \"<PAD>\"\n",
    "            event_dict[cat] = i+1\n",
    "        event_dict[\"<PAD>\"] = 0\n",
    "\n",
    "        # Create new index categorial column\n",
    "        df['cat'] = df['name_and_transition'].apply(lambda c: event_dict[c])\n",
    "\n",
    "        # Create the df only consist of trace and caseid\n",
    "        final_df_data = list(dict(str, any))\n",
    "        for caseid, group in df.groupby('caseid'):\n",
    "            final_df_data.append({\n",
    "                \"trace\": list(group['cat']),\n",
    "                \"caseid\": caseid\n",
    "            })\n",
    "\n",
    "        self.df: pd.DataFrame = pd.DataFrame(final_df_data)\n",
    "        self.__event_dict: dict(str, int) = event_dict\n",
    "\n",
    "    def longest_trace_len(self) -> int:\n",
    "        return self.df.trace.map(len).max()\n",
    "\n",
    "    def index_to_vocab(self, index: int) -> str:\n",
    "        for k, v in self.__event_dict.items():\n",
    "            if (v == index):\n",
    "                return k\n",
    "            continue\n",
    "\n",
    "    def vocab_to_index(self, event: str) -> int:\n",
    "        return self.__event_dict[event]\n",
    "\n",
    "    def vocab_size(self) -> int:\n",
    "        # This include tokens\n",
    "        # minus 3 to remove <START>, <END> and <PAD>\n",
    "        return len(self.__event_dict)\n",
    "\n",
    "    def __len__(self) -> int:\n",
    "        return len(self.df)\n",
    "\n",
    "    def __getitem__(self, index: int) -> pd.Series:\n",
    "        return self.df.iloc[index]\n",
    "\n",
    "    def collate_fn(self, data: list(pd.Series)) -> Tuple(np.ndarray, torch.Tensor, torch.Tensor, np.ndarray):\n",
    "        caseid_list, seq_list = zip(\n",
    "            *[(d[\"caseid\"], torch.tensor(d[\"trace\"])) for d in data])\n",
    "        caseid_list = list(caseid_list)\n",
    "        seq_list = list(seq_list)\n",
    "\n",
    "        se_lens = np.array([len(s)for s in seq_list])\n",
    "        sorted_len_index = np.flip(np.argsort(se_lens))\n",
    "        sorted_seq_lens = se_lens[sorted_len_index]\n",
    "        sorted_seq_list = [seq_list[idx] for idx in sorted_len_index]\n",
    "        sorted_case_id = np.array(caseid_list)[sorted_len_index]\n",
    "        seq_tensor = pad_sequence(sorted_seq_list, batch_first=True)\n",
    "        train_seq = F.one_hot(\n",
    "            seq_tensor[:, :-1], num_classes=self.vocab_size)\n",
    "        target_seq = F.one_hot(\n",
    "            seq_tensor[:, 1:], num_classes=self.vocab_size)\n",
    "\n",
    "        return sorted_case_id, train_seq, target_seq, sorted_seq_lens\n"
   ]
  },
  {
   "cell_type": "code",
   "execution_count": null,
   "metadata": {},
   "outputs": [],
   "source": []
  },
  {
   "cell_type": "code",
   "execution_count": null,
   "metadata": {},
   "outputs": [],
   "source": []
  },
  {
   "cell_type": "code",
   "execution_count": null,
   "metadata": {},
   "outputs": [],
   "source": []
  },
  {
   "cell_type": "code",
   "execution_count": null,
   "metadata": {},
   "outputs": [],
   "source": []
  },
  {
   "cell_type": "code",
   "execution_count": null,
   "metadata": {},
   "outputs": [],
   "source": []
  },
  {
   "cell_type": "code",
   "execution_count": null,
   "metadata": {},
   "outputs": [],
   "source": []
  },
  {
   "cell_type": "code",
   "execution_count": 113,
   "metadata": {},
   "outputs": [
    {
     "output_type": "execute_result",
     "data": {
      "text/plain": [
       "[array([1, 2, 3, 4, 5, 6, 7, 8]),\n",
       " array([8, 5, 2]),\n",
       " array([1, 3, 5, 2, 5, 6, 7, 1, 2, 3])]"
      ]
     },
     "metadata": {},
     "execution_count": 113
    }
   ],
   "source": [
    "seq_list"
   ]
  },
  {
   "cell_type": "code",
   "execution_count": 121,
   "metadata": {},
   "outputs": [
    {
     "output_type": "error",
     "ename": "ValueError",
     "evalue": "only one element tensors can be converted to Python scalars",
     "traceback": [
      "\u001b[0;31m---------------------------------------------------------------------------\u001b[0m",
      "\u001b[0;31mValueError\u001b[0m                                Traceback (most recent call last)",
      "\u001b[0;32m<ipython-input-121-dfa1f920d772>\u001b[0m in \u001b[0;36m<module>\u001b[0;34m\u001b[0m\n\u001b[0;32m----> 1\u001b[0;31m \u001b[0mnp\u001b[0m\u001b[0;34m.\u001b[0m\u001b[0marray\u001b[0m\u001b[0;34m(\u001b[0m\u001b[0mseq_list\u001b[0m\u001b[0;34m)\u001b[0m\u001b[0;34m\u001b[0m\u001b[0;34m\u001b[0m\u001b[0m\n\u001b[0m",
      "\u001b[0;31mValueError\u001b[0m: only one element tensors can be converted to Python scalars"
     ]
    }
   ],
   "source": []
  },
  {
   "cell_type": "code",
   "execution_count": null,
   "metadata": {},
   "outputs": [],
   "source": []
  },
  {
   "cell_type": "code",
   "execution_count": 122,
   "metadata": {},
   "outputs": [],
   "source": [
    "se_lens = np.array([  len(s)for s in seq_list ])\n",
    "sorted_len_index  = np.flip(np.argsort(se_lens))\n",
    "sorted_seq_list =  [seq_list[idx] for idx in sorted_len_index]\n",
    "sorted_case_id = np.array(caseid_list)[sorted_len_index]"
   ]
  },
  {
   "cell_type": "code",
   "execution_count": 133,
   "metadata": {},
   "outputs": [],
   "source": [
    "sorted_seq_lens = se_lens[sorted_len_index]"
   ]
  },
  {
   "cell_type": "code",
   "execution_count": 134,
   "metadata": {},
   "outputs": [
    {
     "output_type": "execute_result",
     "data": {
      "text/plain": [
       "array([10,  8,  3])"
      ]
     },
     "metadata": {},
     "execution_count": 134
    }
   ],
   "source": [
    "sorted_seq_lens"
   ]
  },
  {
   "cell_type": "code",
   "execution_count": null,
   "metadata": {},
   "outputs": [],
   "source": []
  },
  {
   "cell_type": "code",
   "execution_count": null,
   "metadata": {},
   "outputs": [],
   "source": []
  },
  {
   "cell_type": "code",
   "execution_count": null,
   "metadata": {},
   "outputs": [],
   "source": []
  },
  {
   "cell_type": "code",
   "execution_count": null,
   "metadata": {},
   "outputs": [],
   "source": []
  },
  {
   "cell_type": "code",
   "execution_count": null,
   "metadata": {},
   "outputs": [],
   "source": []
  },
  {
   "cell_type": "code",
   "execution_count": 123,
   "metadata": {},
   "outputs": [],
   "source": [
    "from torch.nn.utils.rnn import pad_sequence,pack_padded_sequence,pack_sequence,pad_packed_sequence\n"
   ]
  },
  {
   "cell_type": "code",
   "execution_count": null,
   "metadata": {},
   "outputs": [],
   "source": []
  },
  {
   "cell_type": "code",
   "execution_count": null,
   "metadata": {},
   "outputs": [],
   "source": []
  },
  {
   "cell_type": "code",
   "execution_count": null,
   "metadata": {},
   "outputs": [],
   "source": []
  },
  {
   "cell_type": "code",
   "execution_count": null,
   "metadata": {},
   "outputs": [],
   "source": []
  },
  {
   "cell_type": "code",
   "execution_count": 111,
   "metadata": {},
   "outputs": [
    {
     "output_type": "execute_result",
     "data": {
      "text/plain": [
       "2"
      ]
     },
     "metadata": {},
     "execution_count": 111
    }
   ],
   "source": [
    "np.array([1,2]).size"
   ]
  },
  {
   "cell_type": "code",
   "execution_count": 116,
   "metadata": {},
   "outputs": [
    {
     "output_type": "execute_result",
     "data": {
      "text/plain": [
       "1"
      ]
     },
     "metadata": {},
     "execution_count": 116
    }
   ],
   "source": []
  },
  {
   "cell_type": "code",
   "execution_count": null,
   "metadata": {},
   "outputs": [],
   "source": []
  },
  {
   "cell_type": "code",
   "execution_count": 124,
   "metadata": {},
   "outputs": [],
   "source": [
    "seq_tensor = pad_sequence(sorted_seq_list, batch_first= True )"
   ]
  },
  {
   "cell_type": "code",
   "execution_count": 131,
   "metadata": {},
   "outputs": [],
   "source": [
    "train_seq = seq_tensor[:, :-1]\n",
    "target_seq = seq_tensor[:, 1:]"
   ]
  },
  {
   "cell_type": "code",
   "execution_count": 138,
   "metadata": {},
   "outputs": [
    {
     "output_type": "execute_result",
     "data": {
      "text/plain": [
       "numpy.ndarray"
      ]
     },
     "metadata": {},
     "execution_count": 138
    }
   ],
   "source": [
    "type(sorted_seq_lens)"
   ]
  },
  {
   "cell_type": "code",
   "execution_count": 139,
   "metadata": {},
   "outputs": [],
   "source": [
    "import torch.nn.functional as F"
   ]
  },
  {
   "cell_type": "code",
   "execution_count": 140,
   "metadata": {},
   "outputs": [
    {
     "output_type": "execute_result",
     "data": {
      "text/plain": [
       "tensor([[[0, 1, 0, 0, 0, 0, 0, 0, 0],\n",
       "         [0, 0, 0, 1, 0, 0, 0, 0, 0],\n",
       "         [0, 0, 0, 0, 0, 1, 0, 0, 0],\n",
       "         [0, 0, 1, 0, 0, 0, 0, 0, 0],\n",
       "         [0, 0, 0, 0, 0, 1, 0, 0, 0],\n",
       "         [0, 0, 0, 0, 0, 0, 1, 0, 0],\n",
       "         [0, 0, 0, 0, 0, 0, 0, 1, 0],\n",
       "         [0, 1, 0, 0, 0, 0, 0, 0, 0],\n",
       "         [0, 0, 1, 0, 0, 0, 0, 0, 0]],\n",
       "\n",
       "        [[0, 1, 0, 0, 0, 0, 0, 0, 0],\n",
       "         [0, 0, 1, 0, 0, 0, 0, 0, 0],\n",
       "         [0, 0, 0, 1, 0, 0, 0, 0, 0],\n",
       "         [0, 0, 0, 0, 1, 0, 0, 0, 0],\n",
       "         [0, 0, 0, 0, 0, 1, 0, 0, 0],\n",
       "         [0, 0, 0, 0, 0, 0, 1, 0, 0],\n",
       "         [0, 0, 0, 0, 0, 0, 0, 1, 0],\n",
       "         [0, 0, 0, 0, 0, 0, 0, 0, 1],\n",
       "         [1, 0, 0, 0, 0, 0, 0, 0, 0]],\n",
       "\n",
       "        [[0, 0, 0, 0, 0, 0, 0, 0, 1],\n",
       "         [0, 0, 0, 0, 0, 1, 0, 0, 0],\n",
       "         [0, 0, 1, 0, 0, 0, 0, 0, 0],\n",
       "         [1, 0, 0, 0, 0, 0, 0, 0, 0],\n",
       "         [1, 0, 0, 0, 0, 0, 0, 0, 0],\n",
       "         [1, 0, 0, 0, 0, 0, 0, 0, 0],\n",
       "         [1, 0, 0, 0, 0, 0, 0, 0, 0],\n",
       "         [1, 0, 0, 0, 0, 0, 0, 0, 0],\n",
       "         [1, 0, 0, 0, 0, 0, 0, 0, 0]]])"
      ]
     },
     "metadata": {},
     "execution_count": 140
    }
   ],
   "source": [
    "F.one_hot(train_seq, num_classes= 9)"
   ]
  },
  {
   "cell_type": "code",
   "execution_count": null,
   "metadata": {},
   "outputs": [],
   "source": []
  },
  {
   "cell_type": "code",
   "execution_count": null,
   "metadata": {},
   "outputs": [],
   "source": []
  },
  {
   "cell_type": "code",
   "execution_count": null,
   "metadata": {},
   "outputs": [],
   "source": []
  },
  {
   "cell_type": "code",
   "execution_count": null,
   "metadata": {},
   "outputs": [],
   "source": []
  },
  {
   "source": [],
   "cell_type": "markdown",
   "metadata": {}
  },
  {
   "cell_type": "code",
   "execution_count": 129,
   "metadata": {},
   "outputs": [
    {
     "output_type": "execute_result",
     "data": {
      "text/plain": [
       "tensor([[1, 3, 5, 2, 5, 6, 7, 1, 2],\n",
       "        [1, 2, 3, 4, 5, 6, 7, 8, 0],\n",
       "        [8, 5, 2, 0, 0, 0, 0, 0, 0]])"
      ]
     },
     "metadata": {},
     "execution_count": 129
    }
   ],
   "source": []
  },
  {
   "cell_type": "code",
   "execution_count": null,
   "metadata": {},
   "outputs": [],
   "source": []
  },
  {
   "cell_type": "code",
   "execution_count": null,
   "metadata": {},
   "outputs": [],
   "source": []
  },
  {
   "cell_type": "code",
   "execution_count": null,
   "metadata": {},
   "outputs": [],
   "source": []
  },
  {
   "cell_type": "code",
   "execution_count": null,
   "metadata": {},
   "outputs": [],
   "source": []
  },
  {
   "cell_type": "code",
   "execution_count": null,
   "metadata": {},
   "outputs": [],
   "source": []
  },
  {
   "cell_type": "code",
   "execution_count": null,
   "metadata": {},
   "outputs": [],
   "source": []
  },
  {
   "cell_type": "code",
   "execution_count": null,
   "metadata": {},
   "outputs": [],
   "source": [
    "torch.tenspr"
   ]
  },
  {
   "cell_type": "code",
   "execution_count": 62,
   "metadata": {},
   "outputs": [],
   "source": [
    "import numpy as np"
   ]
  },
  {
   "cell_type": "code",
   "execution_count": 84,
   "metadata": {},
   "outputs": [
    {
     "output_type": "stream",
     "name": "stderr",
     "text": [
      "<ipython-input-84-ffd563812ae2>:3: VisibleDeprecationWarning: Creating an ndarray from ragged nested sequences (which is a list-or-tuple of lists-or-tuples-or ndarrays with different lengths or shapes) is deprecated. If you meant to do this, you must specify 'dtype=object' when creating the ndarray\n  sorted_seq_list =  np.array(seq_list)[sorted_len_index]\n"
     ]
    }
   ],
   "source": [
    "\n"
   ]
  },
  {
   "cell_type": "code",
   "execution_count": 85,
   "metadata": {},
   "outputs": [
    {
     "output_type": "execute_result",
     "data": {
      "text/plain": [
       "array([list([1, 2, 3, 4, 5, 6, 7, 8]), list([5, 9, 3])], dtype=object)"
      ]
     },
     "metadata": {},
     "execution_count": 85
    }
   ],
   "source": [
    "sorted_seq_list"
   ]
  },
  {
   "cell_type": "code",
   "execution_count": null,
   "metadata": {},
   "outputs": [],
   "source": []
  },
  {
   "cell_type": "code",
   "execution_count": 79,
   "metadata": {},
   "outputs": [],
   "source": []
  },
  {
   "cell_type": "code",
   "execution_count": 82,
   "metadata": {},
   "outputs": [
    {
     "output_type": "execute_result",
     "data": {
      "text/plain": [
       "array([8, 3])"
      ]
     },
     "metadata": {},
     "execution_count": 82
    }
   ],
   "source": [
    "se_lens"
   ]
  },
  {
   "cell_type": "code",
   "execution_count": 83,
   "metadata": {},
   "outputs": [],
   "source": []
  },
  {
   "cell_type": "code",
   "execution_count": null,
   "metadata": {},
   "outputs": [],
   "source": []
  },
  {
   "cell_type": "code",
   "execution_count": null,
   "metadata": {},
   "outputs": [],
   "source": []
  },
  {
   "cell_type": "code",
   "execution_count": 78,
   "metadata": {},
   "outputs": [
    {
     "output_type": "execute_result",
     "data": {
      "text/plain": [
       "array([0, 1])"
      ]
     },
     "metadata": {},
     "execution_count": 78
    }
   ],
   "source": []
  },
  {
   "cell_type": "code",
   "execution_count": null,
   "metadata": {},
   "outputs": [],
   "source": []
  },
  {
   "cell_type": "code",
   "execution_count": null,
   "metadata": {},
   "outputs": [],
   "source": []
  },
  {
   "cell_type": "code",
   "execution_count": null,
   "metadata": {},
   "outputs": [],
   "source": []
  },
  {
   "cell_type": "code",
   "execution_count": null,
   "metadata": {},
   "outputs": [],
   "source": []
  },
  {
   "cell_type": "code",
   "execution_count": null,
   "metadata": {},
   "outputs": [],
   "source": []
  },
  {
   "cell_type": "code",
   "execution_count": null,
   "metadata": {},
   "outputs": [],
   "source": []
  },
  {
   "cell_type": "code",
   "execution_count": null,
   "metadata": {},
   "outputs": [],
   "source": []
  },
  {
   "cell_type": "code",
   "execution_count": 66,
   "metadata": {},
   "outputs": [],
   "source": [
    "import torch"
   ]
  },
  {
   "cell_type": "code",
   "execution_count": 67,
   "metadata": {},
   "outputs": [
    {
     "output_type": "error",
     "ename": "ValueError",
     "evalue": "expected sequence of length 8 at dim 1 (got 3)",
     "traceback": [
      "\u001b[0;31m---------------------------------------------------------------------------\u001b[0m",
      "\u001b[0;31mValueError\u001b[0m                                Traceback (most recent call last)",
      "\u001b[0;32m<ipython-input-67-2b7ec23db4db>\u001b[0m in \u001b[0;36m<module>\u001b[0;34m\u001b[0m\n\u001b[0;32m----> 1\u001b[0;31m \u001b[0mtorch\u001b[0m\u001b[0;34m.\u001b[0m\u001b[0mtensor\u001b[0m\u001b[0;34m(\u001b[0m\u001b[0mseq_list\u001b[0m\u001b[0;34m)\u001b[0m\u001b[0;34m\u001b[0m\u001b[0;34m\u001b[0m\u001b[0m\n\u001b[0m",
      "\u001b[0;31mValueError\u001b[0m: expected sequence of length 8 at dim 1 (got 3)"
     ]
    }
   ],
   "source": []
  },
  {
   "cell_type": "code",
   "execution_count": null,
   "metadata": {},
   "outputs": [],
   "source": []
  },
  {
   "cell_type": "code",
   "execution_count": null,
   "metadata": {},
   "outputs": [],
   "source": []
  },
  {
   "cell_type": "code",
   "execution_count": null,
   "metadata": {},
   "outputs": [],
   "source": []
  },
  {
   "cell_type": "code",
   "execution_count": null,
   "metadata": {},
   "outputs": [],
   "source": []
  },
  {
   "cell_type": "code",
   "execution_count": null,
   "metadata": {},
   "outputs": [],
   "source": []
  },
  {
   "cell_type": "code",
   "execution_count": 59,
   "metadata": {},
   "outputs": [
    {
     "output_type": "execute_result",
     "data": {
      "text/plain": [
       "[[5, 9, 3], [1, 2, 3, 4, 5, 6, 7, 8]]"
      ]
     },
     "metadata": {},
     "execution_count": 59
    }
   ],
   "source": []
  },
  {
   "cell_type": "code",
   "execution_count": null,
   "metadata": {},
   "outputs": [],
   "source": []
  },
  {
   "cell_type": "code",
   "execution_count": null,
   "metadata": {},
   "outputs": [],
   "source": []
  },
  {
   "cell_type": "code",
   "execution_count": null,
   "metadata": {},
   "outputs": [],
   "source": []
  },
  {
   "cell_type": "code",
   "execution_count": null,
   "metadata": {},
   "outputs": [],
   "source": []
  },
  {
   "cell_type": "code",
   "execution_count": null,
   "metadata": {},
   "outputs": [],
   "source": []
  },
  {
   "cell_type": "code",
   "execution_count": null,
   "metadata": {},
   "outputs": [],
   "source": []
  },
  {
   "cell_type": "code",
   "execution_count": null,
   "metadata": {},
   "outputs": [],
   "source": []
  },
  {
   "cell_type": "code",
   "execution_count": null,
   "metadata": {},
   "outputs": [],
   "source": []
  },
  {
   "cell_type": "code",
   "execution_count": null,
   "metadata": {},
   "outputs": [],
   "source": []
  },
  {
   "cell_type": "code",
   "execution_count": 49,
   "metadata": {},
   "outputs": [],
   "source": [
    "res =map(None,*[(d[\"caseid\"], d[\"trace\"]) for d in data])"
   ]
  },
  {
   "cell_type": "code",
   "execution_count": 50,
   "metadata": {},
   "outputs": [
    {
     "output_type": "execute_result",
     "data": {
      "text/plain": [
       "<map at 0x13d559d00>"
      ]
     },
     "metadata": {},
     "execution_count": 50
    }
   ],
   "source": [
    "res"
   ]
  },
  {
   "cell_type": "code",
   "execution_count": null,
   "metadata": {},
   "outputs": [],
   "source": []
  },
  {
   "cell_type": "code",
   "execution_count": null,
   "metadata": {},
   "outputs": [],
   "source": []
  },
  {
   "cell_type": "code",
   "execution_count": null,
   "metadata": {},
   "outputs": [],
   "source": []
  },
  {
   "cell_type": "code",
   "execution_count": null,
   "metadata": {},
   "outputs": [],
   "source": []
  },
  {
   "cell_type": "code",
   "execution_count": null,
   "metadata": {},
   "outputs": [],
   "source": [
    "ca"
   ]
  },
  {
   "cell_type": "code",
   "execution_count": null,
   "metadata": {},
   "outputs": [],
   "source": []
  },
  {
   "cell_type": "code",
   "execution_count": null,
   "metadata": {},
   "outputs": [],
   "source": []
  },
  {
   "cell_type": "code",
   "execution_count": 26,
   "metadata": {},
   "outputs": [],
   "source": [
    "import pandas as pd"
   ]
  },
  {
   "cell_type": "code",
   "execution_count": null,
   "metadata": {},
   "outputs": [],
   "source": []
  },
  {
   "cell_type": "code",
   "execution_count": null,
   "metadata": {},
   "outputs": [],
   "source": []
  },
  {
   "cell_type": "code",
   "execution_count": null,
   "metadata": {},
   "outputs": [],
   "source": []
  },
  {
   "cell_type": "code",
   "execution_count": null,
   "metadata": {},
   "outputs": [],
   "source": []
  },
  {
   "cell_type": "code",
   "execution_count": null,
   "metadata": {},
   "outputs": [],
   "source": []
  },
  {
   "cell_type": "code",
   "execution_count": 65,
   "metadata": {},
   "outputs": [
    {
     "output_type": "execute_result",
     "data": {
      "text/plain": [
       "pm4py.objects.log.obj.EventLog"
      ]
     },
     "metadata": {},
     "execution_count": 65
    }
   ],
   "source": [
    "type(log)"
   ]
  },
  {
   "cell_type": "markdown",
   "id": "545cca8f",
   "metadata": {},
   "source": [
    "## Get default parameters needed for loading data."
   ]
  },
  {
   "cell_type": "code",
   "execution_count": 2,
   "id": "cd03c080",
   "metadata": {},
   "outputs": [],
   "source": [
    "parameters ={}\n",
    "\n",
    "column_names = {'Case ID': 'caseid',\n",
    "                    'Activity': 'task',\n",
    "                    'lifecycle:transition': 'event_type',\n",
    "                    'Resource': 'user'}\n",
    "    \n",
    "parameters['one_timestamp'] = False  # Only one timestamp in the log\n",
    "parameters['read_options'] = {\n",
    "    'timeformat': '%Y-%m-%dT%H:%M:%S.%f',\n",
    "    'column_names': column_names,\n",
    "    'one_timestamp': parameters['one_timestamp']}\n",
    "\n",
    "parameters['model_family'] = 'gru_cx'\n",
    "parameters['opt_method'] = 'rand_hpc' # 'rand_hpc', 'bayesian'\n",
    "parameters['max_eval'] = 1"
   ]
  },
  {
   "cell_type": "code",
   "execution_count": 3,
   "id": "5fc48147",
   "metadata": {},
   "outputs": [],
   "source": [
    "def reorder_xes(temp_data):\n",
    "    \"\"\"\n",
    "    this method match the duplicated events on the .xes log\n",
    "    \"\"\"\n",
    "    temp_data = pd.DataFrame(temp_data)\n",
    "    ordered_event_log = list()\n",
    "    if parameters['one_timestamp']:\n",
    "        column_names['Complete Timestamp'] = 'end_timestamp'\n",
    "        temp_data = temp_data[temp_data.event_type == 'complete']\n",
    "        ordered_event_log = temp_data.rename(\n",
    "            columns={'timestamp': 'end_timestamp'})\n",
    "        ordered_event_log = ordered_event_log.drop(columns='event_type')\n",
    "        ordered_event_log = ordered_event_log.to_dict('records')\n",
    "    else:\n",
    "        column_names['Start Timestamp'] = 'start_timestamp'\n",
    "        column_names['Complete Timestamp'] = 'end_timestamp'\n",
    "        for caseid, group in  temp_data.groupby(by=['caseid']):\n",
    "            trace = group.to_dict('records')\n",
    "            temp_trace = list()\n",
    "            for i in range(0, len(trace)-1):\n",
    "                incomplete = False\n",
    "                if trace[i]['event_type'] == 'start':\n",
    "                    c_task_name = trace[i]['task']\n",
    "                    remaining = trace[i+1:]\n",
    "                    complete_event = next((event for event in remaining if (event['task'] == c_task_name and event['event_type'] == 'complete')), None)\n",
    "                    if complete_event:\n",
    "                        temp_trace.append(\n",
    "                            {'caseid': caseid,\n",
    "                              'task': trace[i]['task'],\n",
    "                              'user': trace[i]['user'],\n",
    "                              'start_timestamp': trace[i]['timestamp'],\n",
    "                              'end_timestamp': complete_event['timestamp']})\n",
    "                    else:\n",
    "                        incomplete = True\n",
    "                        break\n",
    "            if not incomplete:\n",
    "                ordered_event_log.extend(temp_trace)\n",
    "    return ordered_event_log"
   ]
  },
  {
   "cell_type": "code",
   "execution_count": 4,
   "id": "2764affc",
   "metadata": {},
   "outputs": [],
   "source": [
    "def append_csv_start_end(data):\n",
    "    '''\n",
    "    The paper use this function to add start and end tasks to every trace.\n",
    "    '''\n",
    "    end_start_times = dict()\n",
    "    for case, group in pd.DataFrame(data).groupby('caseid'):\n",
    "        end_start_times[(case, 'Start')] = (\n",
    "            group.start_timestamp.min()-timedelta(microseconds=1))\n",
    "        end_start_times[(case, 'End')] = (\n",
    "            group.end_timestamp.max()+timedelta(microseconds=1))\n",
    "    new_data = list()\n",
    "    data = sorted(data, key=lambda x: x['caseid'])\n",
    "    for key, group in it.groupby(data, key=lambda x: x['caseid']):\n",
    "        trace = list(group)\n",
    "        for new_event in ['Start', 'End']:\n",
    "            idx = 0 if new_event == 'Start' else -1\n",
    "            temp_event = dict()\n",
    "            temp_event['caseid'] = trace[idx]['caseid']\n",
    "            temp_event['task'] = new_event\n",
    "            temp_event['user'] = new_event\n",
    "            temp_event['end_timestamp'] = end_start_times[(key, new_event)]\n",
    "            if not parameters['one_timestamp']:\n",
    "                temp_event['start_timestamp'] = end_start_times[(key, new_event)]\n",
    "            if new_event == 'Start':\n",
    "                trace.insert(0, temp_event)\n",
    "            else:\n",
    "                trace.append(temp_event)\n",
    "        new_data.extend(trace)\n",
    "    return new_data"
   ]
  },
  {
   "cell_type": "code",
   "execution_count": 5,
   "id": "86ea5808",
   "metadata": {},
   "outputs": [
    {
     "output_type": "stream",
     "name": "stdout",
     "text": [
      "\n"
     ]
    }
   ],
   "source": [
    "try:\n",
    "    source = log.attributes['source']\n",
    "except:\n",
    "    source = ''\n",
    "    \n",
    "print(source)"
   ]
  },
  {
   "cell_type": "code",
   "execution_count": 6,
   "id": "65892165",
   "metadata": {},
   "outputs": [
    {
     "output_type": "execute_result",
     "data": {
      "text/plain": [
       "<IPython.core.display.JSON object>"
      ],
      "application/json": [
       {
        "org:resource": "112",
        "lifecycle:transition": "COMPLETE",
        "concept:name": "A_SUBMITTED",
        "time:timestamp": "2011-10-01T00:38:44.546000",
        "caseid": "173688"
       },
       {
        "org:resource": "112",
        "lifecycle:transition": "COMPLETE",
        "concept:name": "A_PARTLYSUBMITTED",
        "time:timestamp": "2011-10-01T00:38:44.880000",
        "caseid": "173688"
       },
       {
        "org:resource": "112",
        "lifecycle:transition": "COMPLETE",
        "concept:name": "A_PREACCEPTED",
        "time:timestamp": "2011-10-01T00:39:37.906000",
        "caseid": "173688"
       }
      ]
     },
     "metadata": {
      "application/json": {
       "expanded": false,
       "root": "root"
      }
     },
     "execution_count": 6
    }
   ],
   "source": [
    "# Flat the event with caseid\n",
    "flattern_log = ([{**event, \n",
    "                    'caseid': trace.attributes['concept:name']} \n",
    "                   for trace in log for event in trace])\n",
    "\n",
    "JSON(flattern_log[:3])"
   ]
  },
  {
   "cell_type": "code",
   "execution_count": 7,
   "id": "8a31ef20",
   "metadata": {},
   "outputs": [
    {
     "output_type": "stream",
     "name": "stdout",
     "text": [
      "262200\n"
     ]
    },
    {
     "output_type": "display_data",
     "data": {
      "text/plain": "  org:resource lifecycle:transition            concept:name  \\\n0          112             COMPLETE             A_SUBMITTED   \n1          112             COMPLETE       A_PARTLYSUBMITTED   \n2          112             COMPLETE           A_PREACCEPTED   \n3          112             SCHEDULE  W_Completeren aanvraag   \n4          NaN                START  W_Completeren aanvraag   \n\n                     time:timestamp  caseid  \n0  2011-10-01 00:38:44.546000+02:00  173688  \n1  2011-10-01 00:38:44.880000+02:00  173688  \n2  2011-10-01 00:39:37.906000+02:00  173688  \n3  2011-10-01 00:39:38.875000+02:00  173688  \n4  2011-10-01 11:36:46.437000+02:00  173688  ",
      "text/html": "<div>\n<style scoped>\n    .dataframe tbody tr th:only-of-type {\n        vertical-align: middle;\n    }\n\n    .dataframe tbody tr th {\n        vertical-align: top;\n    }\n\n    .dataframe thead th {\n        text-align: right;\n    }\n</style>\n<table border=\"1\" class=\"dataframe\">\n  <thead>\n    <tr style=\"text-align: right;\">\n      <th></th>\n      <th>org:resource</th>\n      <th>lifecycle:transition</th>\n      <th>concept:name</th>\n      <th>time:timestamp</th>\n      <th>caseid</th>\n    </tr>\n  </thead>\n  <tbody>\n    <tr>\n      <th>0</th>\n      <td>112</td>\n      <td>COMPLETE</td>\n      <td>A_SUBMITTED</td>\n      <td>2011-10-01 00:38:44.546000+02:00</td>\n      <td>173688</td>\n    </tr>\n    <tr>\n      <th>1</th>\n      <td>112</td>\n      <td>COMPLETE</td>\n      <td>A_PARTLYSUBMITTED</td>\n      <td>2011-10-01 00:38:44.880000+02:00</td>\n      <td>173688</td>\n    </tr>\n    <tr>\n      <th>2</th>\n      <td>112</td>\n      <td>COMPLETE</td>\n      <td>A_PREACCEPTED</td>\n      <td>2011-10-01 00:39:37.906000+02:00</td>\n      <td>173688</td>\n    </tr>\n    <tr>\n      <th>3</th>\n      <td>112</td>\n      <td>SCHEDULE</td>\n      <td>W_Completeren aanvraag</td>\n      <td>2011-10-01 00:39:38.875000+02:00</td>\n      <td>173688</td>\n    </tr>\n    <tr>\n      <th>4</th>\n      <td>NaN</td>\n      <td>START</td>\n      <td>W_Completeren aanvraag</td>\n      <td>2011-10-01 11:36:46.437000+02:00</td>\n      <td>173688</td>\n    </tr>\n  </tbody>\n</table>\n</div>"
     },
     "metadata": {}
    }
   ],
   "source": [
    "## Construct log to dataframe.\n",
    "temp_data = pd.DataFrame(flattern_log)\n",
    "\n",
    "print(len(temp_data))\n",
    "display(temp_data.head(5))"
   ]
  },
  {
   "cell_type": "code",
   "execution_count": 8,
   "id": "ab5b98f6",
   "metadata": {},
   "outputs": [
    {
     "output_type": "stream",
     "name": "stdout",
     "text": [
      "262200\n"
     ]
    },
    {
     "output_type": "execute_result",
     "data": {
      "text/plain": [
       "  org:resource lifecycle:transition            concept:name  \\\n",
       "0          112             COMPLETE             A_SUBMITTED   \n",
       "1          112             COMPLETE       A_PARTLYSUBMITTED   \n",
       "2          112             COMPLETE           A_PREACCEPTED   \n",
       "3          112             SCHEDULE  W_Completeren aanvraag   \n",
       "4          NaN                START  W_Completeren aanvraag   \n",
       "\n",
       "           time:timestamp  caseid  \n",
       "0 2011-10-01 00:38:44.546  173688  \n",
       "1 2011-10-01 00:38:44.880  173688  \n",
       "2 2011-10-01 00:39:37.906  173688  \n",
       "3 2011-10-01 00:39:38.875  173688  \n",
       "4 2011-10-01 11:36:46.437  173688  "
      ],
      "text/html": "<div>\n<style scoped>\n    .dataframe tbody tr th:only-of-type {\n        vertical-align: middle;\n    }\n\n    .dataframe tbody tr th {\n        vertical-align: top;\n    }\n\n    .dataframe thead th {\n        text-align: right;\n    }\n</style>\n<table border=\"1\" class=\"dataframe\">\n  <thead>\n    <tr style=\"text-align: right;\">\n      <th></th>\n      <th>org:resource</th>\n      <th>lifecycle:transition</th>\n      <th>concept:name</th>\n      <th>time:timestamp</th>\n      <th>caseid</th>\n    </tr>\n  </thead>\n  <tbody>\n    <tr>\n      <th>0</th>\n      <td>112</td>\n      <td>COMPLETE</td>\n      <td>A_SUBMITTED</td>\n      <td>2011-10-01 00:38:44.546</td>\n      <td>173688</td>\n    </tr>\n    <tr>\n      <th>1</th>\n      <td>112</td>\n      <td>COMPLETE</td>\n      <td>A_PARTLYSUBMITTED</td>\n      <td>2011-10-01 00:38:44.880</td>\n      <td>173688</td>\n    </tr>\n    <tr>\n      <th>2</th>\n      <td>112</td>\n      <td>COMPLETE</td>\n      <td>A_PREACCEPTED</td>\n      <td>2011-10-01 00:39:37.906</td>\n      <td>173688</td>\n    </tr>\n    <tr>\n      <th>3</th>\n      <td>112</td>\n      <td>SCHEDULE</td>\n      <td>W_Completeren aanvraag</td>\n      <td>2011-10-01 00:39:38.875</td>\n      <td>173688</td>\n    </tr>\n    <tr>\n      <th>4</th>\n      <td>NaN</td>\n      <td>START</td>\n      <td>W_Completeren aanvraag</td>\n      <td>2011-10-01 11:36:46.437</td>\n      <td>173688</td>\n    </tr>\n  </tbody>\n</table>\n</div>"
     },
     "metadata": {},
     "execution_count": 8
    }
   ],
   "source": [
    "# formate time\n",
    "temp_data['time:timestamp'] = temp_data.apply(\n",
    "    lambda x: x['time:timestamp'].strftime(parameters[\"read_options\"][\"timeformat\"]), axis=1)\n",
    "\n",
    "temp_data['time:timestamp'] = pd.to_datetime(temp_data['time:timestamp'], \n",
    "                                        format=parameters[\"read_options\"][\"timeformat\"])\n",
    "\n",
    "print(len(temp_data))\n",
    "temp_data.head(5)"
   ]
  },
  {
   "cell_type": "code",
   "execution_count": 9,
   "id": "cf68744b",
   "metadata": {},
   "outputs": [
    {
     "output_type": "stream",
     "name": "stdout",
     "text": [
      "262200\n"
     ]
    },
    {
     "output_type": "execute_result",
     "data": {
      "text/plain": [
       "  user event_type                    task               timestamp  caseid\n",
       "0  112   COMPLETE             A_SUBMITTED 2011-10-01 00:38:44.546  173688\n",
       "1  112   COMPLETE       A_PARTLYSUBMITTED 2011-10-01 00:38:44.880  173688\n",
       "2  112   COMPLETE           A_PREACCEPTED 2011-10-01 00:39:37.906  173688\n",
       "3  112   SCHEDULE  W_Completeren aanvraag 2011-10-01 00:39:38.875  173688\n",
       "4  NaN      START  W_Completeren aanvraag 2011-10-01 11:36:46.437  173688"
      ],
      "text/html": "<div>\n<style scoped>\n    .dataframe tbody tr th:only-of-type {\n        vertical-align: middle;\n    }\n\n    .dataframe tbody tr th {\n        vertical-align: top;\n    }\n\n    .dataframe thead th {\n        text-align: right;\n    }\n</style>\n<table border=\"1\" class=\"dataframe\">\n  <thead>\n    <tr style=\"text-align: right;\">\n      <th></th>\n      <th>user</th>\n      <th>event_type</th>\n      <th>task</th>\n      <th>timestamp</th>\n      <th>caseid</th>\n    </tr>\n  </thead>\n  <tbody>\n    <tr>\n      <th>0</th>\n      <td>112</td>\n      <td>COMPLETE</td>\n      <td>A_SUBMITTED</td>\n      <td>2011-10-01 00:38:44.546</td>\n      <td>173688</td>\n    </tr>\n    <tr>\n      <th>1</th>\n      <td>112</td>\n      <td>COMPLETE</td>\n      <td>A_PARTLYSUBMITTED</td>\n      <td>2011-10-01 00:38:44.880</td>\n      <td>173688</td>\n    </tr>\n    <tr>\n      <th>2</th>\n      <td>112</td>\n      <td>COMPLETE</td>\n      <td>A_PREACCEPTED</td>\n      <td>2011-10-01 00:39:37.906</td>\n      <td>173688</td>\n    </tr>\n    <tr>\n      <th>3</th>\n      <td>112</td>\n      <td>SCHEDULE</td>\n      <td>W_Completeren aanvraag</td>\n      <td>2011-10-01 00:39:38.875</td>\n      <td>173688</td>\n    </tr>\n    <tr>\n      <th>4</th>\n      <td>NaN</td>\n      <td>START</td>\n      <td>W_Completeren aanvraag</td>\n      <td>2011-10-01 11:36:46.437</td>\n      <td>173688</td>\n    </tr>\n  </tbody>\n</table>\n</div>"
     },
     "metadata": {},
     "execution_count": 9
    }
   ],
   "source": [
    "## Replacde column name if exist\n",
    "temp_data.rename(columns={\n",
    "    'concept:name': 'task',\n",
    "    'lifecycle:transition': 'event_type',\n",
    "    'org:resource': 'user',\n",
    "    'time:timestamp': 'timestamp'}, inplace=True)\n",
    "\n",
    "print(len(temp_data))\n",
    "temp_data.head(5)"
   ]
  },
  {
   "cell_type": "code",
   "execution_count": 10,
   "id": "4c36ce1f",
   "metadata": {},
   "outputs": [
    {
     "output_type": "stream",
     "name": "stdout",
     "text": [
      "Keeping rate: 1.0\n262200\n"
     ]
    },
    {
     "output_type": "execute_result",
     "data": {
      "text/plain": [
       "  user event_type                    task               timestamp  caseid\n",
       "0  112   COMPLETE             A_SUBMITTED 2011-10-01 00:38:44.546  173688\n",
       "1  112   COMPLETE       A_PARTLYSUBMITTED 2011-10-01 00:38:44.880  173688\n",
       "2  112   COMPLETE           A_PREACCEPTED 2011-10-01 00:39:37.906  173688\n",
       "3  112   SCHEDULE  W_Completeren aanvraag 2011-10-01 00:39:38.875  173688\n",
       "4  NaN      START  W_Completeren aanvraag 2011-10-01 11:36:46.437  173688"
      ],
      "text/html": "<div>\n<style scoped>\n    .dataframe tbody tr th:only-of-type {\n        vertical-align: middle;\n    }\n\n    .dataframe tbody tr th {\n        vertical-align: top;\n    }\n\n    .dataframe thead th {\n        text-align: right;\n    }\n</style>\n<table border=\"1\" class=\"dataframe\">\n  <thead>\n    <tr style=\"text-align: right;\">\n      <th></th>\n      <th>user</th>\n      <th>event_type</th>\n      <th>task</th>\n      <th>timestamp</th>\n      <th>caseid</th>\n    </tr>\n  </thead>\n  <tbody>\n    <tr>\n      <th>0</th>\n      <td>112</td>\n      <td>COMPLETE</td>\n      <td>A_SUBMITTED</td>\n      <td>2011-10-01 00:38:44.546</td>\n      <td>173688</td>\n    </tr>\n    <tr>\n      <th>1</th>\n      <td>112</td>\n      <td>COMPLETE</td>\n      <td>A_PARTLYSUBMITTED</td>\n      <td>2011-10-01 00:38:44.880</td>\n      <td>173688</td>\n    </tr>\n    <tr>\n      <th>2</th>\n      <td>112</td>\n      <td>COMPLETE</td>\n      <td>A_PREACCEPTED</td>\n      <td>2011-10-01 00:39:37.906</td>\n      <td>173688</td>\n    </tr>\n    <tr>\n      <th>3</th>\n      <td>112</td>\n      <td>SCHEDULE</td>\n      <td>W_Completeren aanvraag</td>\n      <td>2011-10-01 00:39:38.875</td>\n      <td>173688</td>\n    </tr>\n    <tr>\n      <th>4</th>\n      <td>NaN</td>\n      <td>START</td>\n      <td>W_Completeren aanvraag</td>\n      <td>2011-10-01 11:36:46.437</td>\n      <td>173688</td>\n    </tr>\n  </tbody>\n</table>\n</div>"
     },
     "metadata": {},
     "execution_count": 10
    }
   ],
   "source": [
    "cond = ~temp_data.task.apply(lambda v: v.lower() in ['start', 'end'])\n",
    "print('Keeping rate: ' + str(cond.sum()/len(cond)))\n",
    "\n",
    "temp_data = (temp_data[cond].reset_index(drop=True))\n",
    "\n",
    "print(len(temp_data))\n",
    "temp_data.head(5)"
   ]
  },
  {
   "cell_type": "code",
   "execution_count": 11,
   "id": "3a6db259",
   "metadata": {},
   "outputs": [
    {
     "output_type": "execute_result",
     "data": {
      "text/plain": [
       "  user event_type                    task               timestamp  caseid\n",
       "0  112   complete             A_SUBMITTED 2011-10-01 00:38:44.546  173688\n",
       "1  112   complete       A_PARTLYSUBMITTED 2011-10-01 00:38:44.880  173688\n",
       "2  112   complete           A_PREACCEPTED 2011-10-01 00:39:37.906  173688\n",
       "3  112   schedule  W_Completeren aanvraag 2011-10-01 00:39:38.875  173688\n",
       "4  NaN      start  W_Completeren aanvraag 2011-10-01 11:36:46.437  173688"
      ],
      "text/html": "<div>\n<style scoped>\n    .dataframe tbody tr th:only-of-type {\n        vertical-align: middle;\n    }\n\n    .dataframe tbody tr th {\n        vertical-align: top;\n    }\n\n    .dataframe thead th {\n        text-align: right;\n    }\n</style>\n<table border=\"1\" class=\"dataframe\">\n  <thead>\n    <tr style=\"text-align: right;\">\n      <th></th>\n      <th>user</th>\n      <th>event_type</th>\n      <th>task</th>\n      <th>timestamp</th>\n      <th>caseid</th>\n    </tr>\n  </thead>\n  <tbody>\n    <tr>\n      <th>0</th>\n      <td>112</td>\n      <td>complete</td>\n      <td>A_SUBMITTED</td>\n      <td>2011-10-01 00:38:44.546</td>\n      <td>173688</td>\n    </tr>\n    <tr>\n      <th>1</th>\n      <td>112</td>\n      <td>complete</td>\n      <td>A_PARTLYSUBMITTED</td>\n      <td>2011-10-01 00:38:44.880</td>\n      <td>173688</td>\n    </tr>\n    <tr>\n      <th>2</th>\n      <td>112</td>\n      <td>complete</td>\n      <td>A_PREACCEPTED</td>\n      <td>2011-10-01 00:39:37.906</td>\n      <td>173688</td>\n    </tr>\n    <tr>\n      <th>3</th>\n      <td>112</td>\n      <td>schedule</td>\n      <td>W_Completeren aanvraag</td>\n      <td>2011-10-01 00:39:38.875</td>\n      <td>173688</td>\n    </tr>\n    <tr>\n      <th>4</th>\n      <td>NaN</td>\n      <td>start</td>\n      <td>W_Completeren aanvraag</td>\n      <td>2011-10-01 11:36:46.437</td>\n      <td>173688</td>\n    </tr>\n  </tbody>\n</table>\n</div>"
     },
     "metadata": {},
     "execution_count": 11
    }
   ],
   "source": [
    "# lower event_type\n",
    "temp_data.event_type = temp_data.event_type.str.lower()\n",
    "temp_data.head(5)"
   ]
  },
  {
   "cell_type": "code",
   "execution_count": 12,
   "id": "a6b29a92",
   "metadata": {},
   "outputs": [
    {
     "output_type": "stream",
     "name": "stdout",
     "text": [
      "Keeping rate: 0.8996262395118231\n235882\n"
     ]
    },
    {
     "output_type": "execute_result",
     "data": {
      "text/plain": [
       "    user event_type                    task               timestamp  caseid\n",
       "0    112   complete             A_SUBMITTED 2011-10-01 00:38:44.546  173688\n",
       "1    112   complete       A_PARTLYSUBMITTED 2011-10-01 00:38:44.880  173688\n",
       "2    112   complete           A_PREACCEPTED 2011-10-01 00:39:37.906  173688\n",
       "3    NaN      start  W_Completeren aanvraag 2011-10-01 11:36:46.437  173688\n",
       "4  10862   complete              A_ACCEPTED 2011-10-01 11:42:43.308  173688"
      ],
      "text/html": "<div>\n<style scoped>\n    .dataframe tbody tr th:only-of-type {\n        vertical-align: middle;\n    }\n\n    .dataframe tbody tr th {\n        vertical-align: top;\n    }\n\n    .dataframe thead th {\n        text-align: right;\n    }\n</style>\n<table border=\"1\" class=\"dataframe\">\n  <thead>\n    <tr style=\"text-align: right;\">\n      <th></th>\n      <th>user</th>\n      <th>event_type</th>\n      <th>task</th>\n      <th>timestamp</th>\n      <th>caseid</th>\n    </tr>\n  </thead>\n  <tbody>\n    <tr>\n      <th>0</th>\n      <td>112</td>\n      <td>complete</td>\n      <td>A_SUBMITTED</td>\n      <td>2011-10-01 00:38:44.546</td>\n      <td>173688</td>\n    </tr>\n    <tr>\n      <th>1</th>\n      <td>112</td>\n      <td>complete</td>\n      <td>A_PARTLYSUBMITTED</td>\n      <td>2011-10-01 00:38:44.880</td>\n      <td>173688</td>\n    </tr>\n    <tr>\n      <th>2</th>\n      <td>112</td>\n      <td>complete</td>\n      <td>A_PREACCEPTED</td>\n      <td>2011-10-01 00:39:37.906</td>\n      <td>173688</td>\n    </tr>\n    <tr>\n      <th>3</th>\n      <td>NaN</td>\n      <td>start</td>\n      <td>W_Completeren aanvraag</td>\n      <td>2011-10-01 11:36:46.437</td>\n      <td>173688</td>\n    </tr>\n    <tr>\n      <th>4</th>\n      <td>10862</td>\n      <td>complete</td>\n      <td>A_ACCEPTED</td>\n      <td>2011-10-01 11:42:43.308</td>\n      <td>173688</td>\n    </tr>\n  </tbody>\n</table>\n</div>"
     },
     "metadata": {},
     "execution_count": 12
    }
   ],
   "source": [
    "temp_data['event_type'].str.lower()\n",
    "\n",
    "cond = temp_data.event_type.isin(['start','complete'])\n",
    "print('Keeping rate: ' + str(cond.sum()/len(cond)))\n",
    "temp_data = temp_data[cond].reset_index(drop=True)\n",
    "\n",
    "print(len(temp_data))\n",
    "temp_data.head(5)"
   ]
  },
  {
   "cell_type": "code",
   "execution_count": 13,
   "id": "dbff07cf",
   "metadata": {},
   "outputs": [],
   "source": [
    "if source == 'com.qbpsimulator':\n",
    "    if len(temp_data.iloc[0].elementId.split('_'))>1: \n",
    "        temp_data['etype'] = temp_data.apply(\n",
    "            lambda x: x.elementId.split('_')[0], axis=1)\n",
    "        temp_data = (\n",
    "            temp_data[temp_data.etype=='Task'].reset_index(drop=True))\n",
    "        \n"
   ]
  },
  {
   "cell_type": "code",
   "execution_count": 14,
   "id": "2268771c",
   "metadata": {},
   "outputs": [
    {
     "output_type": "execute_result",
     "data": {
      "text/plain": [
       "<IPython.core.display.JSON object>"
      ],
      "application/json": [
       {
        "user": "112",
        "event_type": "complete",
        "task": "A_SUBMITTED",
        "timestamp": "2011-10-01T00:38:44.546000",
        "caseid": "173688"
       },
       {
        "user": "112",
        "event_type": "complete",
        "task": "A_PARTLYSUBMITTED",
        "timestamp": "2011-10-01T00:38:44.880000",
        "caseid": "173688"
       },
       {
        "user": "112",
        "event_type": "complete",
        "task": "A_PREACCEPTED",
        "timestamp": "2011-10-01T00:39:37.906000",
        "caseid": "173688"
       },
       {
        "user": "nan",
        "event_type": "start",
        "task": "W_Completeren aanvraag",
        "timestamp": "2011-10-01T11:36:46.437000",
        "caseid": "173688"
       },
       {
        "user": "10862",
        "event_type": "complete",
        "task": "A_ACCEPTED",
        "timestamp": "2011-10-01T11:42:43.308000",
        "caseid": "173688"
       }
      ]
     },
     "metadata": {
      "application/json": {
       "expanded": false,
       "root": "root"
      }
     },
     "execution_count": 14
    }
   ],
   "source": [
    "# trnasform to dict for applying functions on it.\n",
    "raw_data = temp_data.to_dict('records')\n",
    "\n",
    "# Show some example\n",
    "JSON(raw_data[:5])"
   ]
  },
  {
   "cell_type": "code",
   "execution_count": 15,
   "id": "003132bf",
   "metadata": {},
   "outputs": [],
   "source": [
    "orderedXes = reorder_xes(temp_data)"
   ]
  },
  {
   "cell_type": "code",
   "execution_count": 16,
   "id": "aeeacd0d",
   "metadata": {},
   "outputs": [
    {
     "output_type": "stream",
     "name": "stdout",
     "text": [
      "Event count before appending \"Start & End\": 71373\n",
      "Event count After appending \"Start & End\": 90687\n"
     ]
    },
    {
     "output_type": "execute_result",
     "data": {
      "text/plain": [
       "<IPython.core.display.JSON object>"
      ],
      "application/json": [
       {
        "caseid": "173688",
        "task": "Start",
        "user": "Start",
        "end_timestamp": "2011-10-01T11:36:46.436999",
        "start_timestamp": "2011-10-01T11:36:46.436999"
       },
       {
        "caseid": "173688",
        "task": "W_Completeren aanvraag",
        "user": "nan",
        "start_timestamp": "2011-10-01T11:36:46.437000",
        "end_timestamp": "2011-10-01T11:45:13.917000"
       },
       {
        "caseid": "173688",
        "task": "W_Nabellen offertes",
        "user": "nan",
        "start_timestamp": "2011-10-01T12:15:41.290000",
        "end_timestamp": "2011-10-01T12:17:08.924000"
       },
       {
        "caseid": "173688",
        "task": "W_Nabellen offertes",
        "user": "10913",
        "start_timestamp": "2011-10-08T16:26:57.720000",
        "end_timestamp": "2011-10-08T16:32:00.886000"
       },
       {
        "caseid": "173688",
        "task": "W_Nabellen offertes",
        "user": "11049",
        "start_timestamp": "2011-10-10T11:32:22.495000",
        "end_timestamp": "2011-10-10T11:33:05.791000"
       }
      ]
     },
     "metadata": {
      "application/json": {
       "expanded": false,
       "root": "root"
      }
     },
     "execution_count": 16
    }
   ],
   "source": [
    "print(\"Event count before appending \\\"Start & End\\\": {}\".format(len(orderedXes)))\n",
    "data = append_csv_start_end(orderedXes)\n",
    "print(\"Event count After appending \\\"Start & End\\\": {}\".format(len(data)))\n",
    "\n",
    "JSON(data[:5])"
   ]
  },
  {
   "cell_type": "code",
   "execution_count": 17,
   "id": "882510b9",
   "metadata": {},
   "outputs": [
    {
     "output_type": "display_data",
     "data": {
      "text/plain": "   caseid                    task   user              end_timestamp  \\\n0  173688                   Start  Start 2011-10-01 11:36:46.436999   \n1  173688  W_Completeren aanvraag    NaN 2011-10-01 11:45:13.917000   \n2  173688     W_Nabellen offertes    NaN 2011-10-01 12:17:08.924000   \n3  173688     W_Nabellen offertes  10913 2011-10-08 16:32:00.886000   \n4  173688     W_Nabellen offertes  11049 2011-10-10 11:33:05.791000   \n\n             start_timestamp  \n0 2011-10-01 11:36:46.436999  \n1 2011-10-01 11:36:46.437000  \n2 2011-10-01 12:15:41.290000  \n3 2011-10-08 16:26:57.720000  \n4 2011-10-10 11:32:22.495000  ",
      "text/html": "<div>\n<style scoped>\n    .dataframe tbody tr th:only-of-type {\n        vertical-align: middle;\n    }\n\n    .dataframe tbody tr th {\n        vertical-align: top;\n    }\n\n    .dataframe thead th {\n        text-align: right;\n    }\n</style>\n<table border=\"1\" class=\"dataframe\">\n  <thead>\n    <tr style=\"text-align: right;\">\n      <th></th>\n      <th>caseid</th>\n      <th>task</th>\n      <th>user</th>\n      <th>end_timestamp</th>\n      <th>start_timestamp</th>\n    </tr>\n  </thead>\n  <tbody>\n    <tr>\n      <th>0</th>\n      <td>173688</td>\n      <td>Start</td>\n      <td>Start</td>\n      <td>2011-10-01 11:36:46.436999</td>\n      <td>2011-10-01 11:36:46.436999</td>\n    </tr>\n    <tr>\n      <th>1</th>\n      <td>173688</td>\n      <td>W_Completeren aanvraag</td>\n      <td>NaN</td>\n      <td>2011-10-01 11:45:13.917000</td>\n      <td>2011-10-01 11:36:46.437000</td>\n    </tr>\n    <tr>\n      <th>2</th>\n      <td>173688</td>\n      <td>W_Nabellen offertes</td>\n      <td>NaN</td>\n      <td>2011-10-01 12:17:08.924000</td>\n      <td>2011-10-01 12:15:41.290000</td>\n    </tr>\n    <tr>\n      <th>3</th>\n      <td>173688</td>\n      <td>W_Nabellen offertes</td>\n      <td>10913</td>\n      <td>2011-10-08 16:32:00.886000</td>\n      <td>2011-10-08 16:26:57.720000</td>\n    </tr>\n    <tr>\n      <th>4</th>\n      <td>173688</td>\n      <td>W_Nabellen offertes</td>\n      <td>11049</td>\n      <td>2011-10-10 11:33:05.791000</td>\n      <td>2011-10-10 11:32:22.495000</td>\n    </tr>\n  </tbody>\n</table>\n</div>"
     },
     "metadata": {}
    }
   ],
   "source": [
    "# Get the \n",
    "log_df = pd.DataFrame(data)\n",
    "display(log_df.head(5))\n",
    "\n",
    "\n",
    "112\tSCHEDULE\tW_Completeren aanvraag\t2011-10-01 00:39:38.875\t173688\n",
    "4\tNaN\tSTART\tW_Completeren aanvraag\t2011-10-01 11:36:46.437\t173688"
   ]
  },
  {
   "cell_type": "code",
   "execution_count": 18,
   "id": "18535117",
   "metadata": {},
   "outputs": [
    {
     "output_type": "stream",
     "name": "stdout",
     "text": [
      "Keeping rate: 0.7870257037943696, original length: 90687, length after removing: 71373\n"
     ]
    }
   ],
   "source": [
    "if set(['Unnamed: 0', 'role']).issubset(set(log_df.columns)):\n",
    "    log_df.drop(columns=['Unnamed: 0', 'role'], inplace=True)\n",
    "    \n",
    "# Drop the task with \"Start\" and \"End\"\n",
    "# Q: why dropping the events that we just added to the traces?\n",
    "# A: Since the implementation is from different authors, this part can be deleted\n",
    "originalLength = len(log_df)    \n",
    "log_df = log_df[~log_df.task.isin(['Start', 'End'])]\n",
    "lenAfterRemoving = len(log_df)\n",
    "\n",
    "print(\"Keeping rate: {}, original length: {}, length after removing: {}\".format(lenAfterRemoving/ originalLength, originalLength, lenAfterRemoving))"
   ]
  },
  {
   "cell_type": "code",
   "execution_count": 19,
   "id": "7df478de",
   "metadata": {},
   "outputs": [
    {
     "output_type": "execute_result",
     "data": {
      "text/plain": [
       "   caseid                    task   user           end_timestamp  \\\n",
       "1  173688  W_Completeren aanvraag    NaN 2011-10-01 11:45:13.917   \n",
       "2  173688     W_Nabellen offertes    NaN 2011-10-01 12:17:08.924   \n",
       "3  173688     W_Nabellen offertes  10913 2011-10-08 16:32:00.886   \n",
       "4  173688     W_Nabellen offertes  11049 2011-10-10 11:33:05.791   \n",
       "5  173688    W_Valideren aanvraag  10629 2011-10-13 10:37:37.026   \n",
       "\n",
       "          start_timestamp  \n",
       "1 2011-10-01 11:36:46.437  \n",
       "2 2011-10-01 12:15:41.290  \n",
       "3 2011-10-08 16:26:57.720  \n",
       "4 2011-10-10 11:32:22.495  \n",
       "5 2011-10-13 10:05:26.925  "
      ],
      "text/html": "<div>\n<style scoped>\n    .dataframe tbody tr th:only-of-type {\n        vertical-align: middle;\n    }\n\n    .dataframe tbody tr th {\n        vertical-align: top;\n    }\n\n    .dataframe thead th {\n        text-align: right;\n    }\n</style>\n<table border=\"1\" class=\"dataframe\">\n  <thead>\n    <tr style=\"text-align: right;\">\n      <th></th>\n      <th>caseid</th>\n      <th>task</th>\n      <th>user</th>\n      <th>end_timestamp</th>\n      <th>start_timestamp</th>\n    </tr>\n  </thead>\n  <tbody>\n    <tr>\n      <th>1</th>\n      <td>173688</td>\n      <td>W_Completeren aanvraag</td>\n      <td>NaN</td>\n      <td>2011-10-01 11:45:13.917</td>\n      <td>2011-10-01 11:36:46.437</td>\n    </tr>\n    <tr>\n      <th>2</th>\n      <td>173688</td>\n      <td>W_Nabellen offertes</td>\n      <td>NaN</td>\n      <td>2011-10-01 12:17:08.924</td>\n      <td>2011-10-01 12:15:41.290</td>\n    </tr>\n    <tr>\n      <th>3</th>\n      <td>173688</td>\n      <td>W_Nabellen offertes</td>\n      <td>10913</td>\n      <td>2011-10-08 16:32:00.886</td>\n      <td>2011-10-08 16:26:57.720</td>\n    </tr>\n    <tr>\n      <th>4</th>\n      <td>173688</td>\n      <td>W_Nabellen offertes</td>\n      <td>11049</td>\n      <td>2011-10-10 11:33:05.791</td>\n      <td>2011-10-10 11:32:22.495</td>\n    </tr>\n    <tr>\n      <th>5</th>\n      <td>173688</td>\n      <td>W_Valideren aanvraag</td>\n      <td>10629</td>\n      <td>2011-10-13 10:37:37.026</td>\n      <td>2011-10-13 10:05:26.925</td>\n    </tr>\n  </tbody>\n</table>\n</div>"
     },
     "metadata": {},
     "execution_count": 19
    }
   ],
   "source": [
    "log_df.head(5)"
   ]
  },
  {
   "cell_type": "code",
   "execution_count": 20,
   "id": "f4f87da9",
   "metadata": {},
   "outputs": [],
   "source": [
    "def create_index(log_df, column):\n",
    "    \"\"\"Creates an idx for a categorical attribute.\n",
    "    parms:\n",
    "        log_df: dataframe.\n",
    "        column: column name.\n",
    "    Returns:\n",
    "        index of a categorical attribute pairs.\n",
    "    \"\"\"\n",
    "    temp_list = log_df[[column]].values.tolist()\n",
    "    subsec_set = {(x[0]) for x in temp_list}\n",
    "    subsec_set = sorted(list(subsec_set))\n",
    "    alias = dict()\n",
    "    for i, _ in enumerate(subsec_set):\n",
    "        alias[subsec_set[i]] = i + 1\n",
    "    return alias\n"
   ]
  },
  {
   "cell_type": "code",
   "execution_count": 21,
   "id": "ab4484b3",
   "metadata": {},
   "outputs": [],
   "source": [
    "def indexing(log):\n",
    "    # Activities index creation\n",
    "    ac_index = create_index(log, 'task')\n",
    "    ac_index['start'] = 0\n",
    "    ac_index['end'] = len(ac_index)\n",
    "    index_ac = {v: k for k, v in ac_index.items()}\n",
    "    # Roles index creation\n",
    "#     rl_index = create_index(log, 'role')\n",
    "#     rl_index['start'] = 0\n",
    "#     rl_index['end'] = len(rl_index)\n",
    "#     index_rl = {v: k for k, v in rl_index.items()}\n",
    "    # Add index to the event log\n",
    "    ac_idx = lambda x: ac_index[x['task']]\n",
    "    log['ac_index'] = log.apply(ac_idx, axis=1)\n",
    "#     rl_idx = lambda x: rl_index[x['role']]\n",
    "#     log['rl_index'] = log.apply(rl_idx, axis=1)\n",
    "    return log"
   ]
  },
  {
   "cell_type": "code",
   "execution_count": 22,
   "id": "b9e62f6c",
   "metadata": {},
   "outputs": [],
   "source": [
    "log_df = indexing(log_df)"
   ]
  },
  {
   "cell_type": "code",
   "execution_count": 23,
   "id": "d8a30969",
   "metadata": {},
   "outputs": [
    {
     "output_type": "execute_result",
     "data": {
      "text/plain": [
       "   caseid                    task   user           end_timestamp  \\\n",
       "1  173688  W_Completeren aanvraag    NaN 2011-10-01 11:45:13.917   \n",
       "2  173688     W_Nabellen offertes    NaN 2011-10-01 12:17:08.924   \n",
       "3  173688     W_Nabellen offertes  10913 2011-10-08 16:32:00.886   \n",
       "4  173688     W_Nabellen offertes  11049 2011-10-10 11:33:05.791   \n",
       "5  173688    W_Valideren aanvraag  10629 2011-10-13 10:37:37.026   \n",
       "\n",
       "          start_timestamp  ac_index  \n",
       "1 2011-10-01 11:36:46.437         3  \n",
       "2 2011-10-01 12:15:41.290         5  \n",
       "3 2011-10-08 16:26:57.720         5  \n",
       "4 2011-10-10 11:32:22.495         5  \n",
       "5 2011-10-13 10:05:26.925         6  "
      ],
      "text/html": "<div>\n<style scoped>\n    .dataframe tbody tr th:only-of-type {\n        vertical-align: middle;\n    }\n\n    .dataframe tbody tr th {\n        vertical-align: top;\n    }\n\n    .dataframe thead th {\n        text-align: right;\n    }\n</style>\n<table border=\"1\" class=\"dataframe\">\n  <thead>\n    <tr style=\"text-align: right;\">\n      <th></th>\n      <th>caseid</th>\n      <th>task</th>\n      <th>user</th>\n      <th>end_timestamp</th>\n      <th>start_timestamp</th>\n      <th>ac_index</th>\n    </tr>\n  </thead>\n  <tbody>\n    <tr>\n      <th>1</th>\n      <td>173688</td>\n      <td>W_Completeren aanvraag</td>\n      <td>NaN</td>\n      <td>2011-10-01 11:45:13.917</td>\n      <td>2011-10-01 11:36:46.437</td>\n      <td>3</td>\n    </tr>\n    <tr>\n      <th>2</th>\n      <td>173688</td>\n      <td>W_Nabellen offertes</td>\n      <td>NaN</td>\n      <td>2011-10-01 12:17:08.924</td>\n      <td>2011-10-01 12:15:41.290</td>\n      <td>5</td>\n    </tr>\n    <tr>\n      <th>3</th>\n      <td>173688</td>\n      <td>W_Nabellen offertes</td>\n      <td>10913</td>\n      <td>2011-10-08 16:32:00.886</td>\n      <td>2011-10-08 16:26:57.720</td>\n      <td>5</td>\n    </tr>\n    <tr>\n      <th>4</th>\n      <td>173688</td>\n      <td>W_Nabellen offertes</td>\n      <td>11049</td>\n      <td>2011-10-10 11:33:05.791</td>\n      <td>2011-10-10 11:32:22.495</td>\n      <td>5</td>\n    </tr>\n    <tr>\n      <th>5</th>\n      <td>173688</td>\n      <td>W_Valideren aanvraag</td>\n      <td>10629</td>\n      <td>2011-10-13 10:37:37.026</td>\n      <td>2011-10-13 10:05:26.925</td>\n      <td>6</td>\n    </tr>\n  </tbody>\n</table>\n</div>"
     },
     "metadata": {},
     "execution_count": 23
    }
   ],
   "source": [
    "log_df.head(5)"
   ]
  },
  {
   "cell_type": "code",
   "execution_count": 54,
   "id": "c28c07a9",
   "metadata": {},
   "outputs": [],
   "source": [
    "import copy\n",
    "from operator import itemgetter\n",
    "\n",
    "def _sort_log(log):\n",
    "    log = copy.deepcopy(log)\n",
    "    log = sorted(log.to_dict('records'), key=lambda x: x['caseid'])\n",
    "    for key, group in it.groupby(log, key=lambda x: x['caseid']):\n",
    "        events = list(group)\n",
    "        events = sorted(events, key=itemgetter('end_timestamp'))\n",
    "        length = len(events)\n",
    "        for i in range(0, len(events)):\n",
    "            events[i]['pos_trace'] = i + 1\n",
    "            events[i]['trace_len'] = length\n",
    "    log = pd.DataFrame.from_dict(log)\n",
    "    log.sort_values(by='end_timestamp', ascending=False, inplace=True)\n",
    "    return log"
   ]
  },
  {
   "cell_type": "code",
   "execution_count": 55,
   "id": "e8f571d6",
   "metadata": {},
   "outputs": [],
   "source": [
    "def timeline_contained(log: pd.DataFrame, size: float, one_timestamp: bool) -> None:\n",
    "    # log = self.log.data.to_dict('records')\n",
    "    num_events = int(np.round(len(log)*(1 - size)))\n",
    "\n",
    "    df_train = log.iloc[num_events:]\n",
    "    df_test = log.iloc[:num_events]\n",
    "\n",
    "    # Incomplete final traces\n",
    "    df_train = df_train.sort_values(by=['caseid'],\n",
    "                                    ascending=True)\n",
    "    inc_traces = pd.DataFrame(df_train.groupby('caseid')\n",
    "                              .last()\n",
    "                              .reset_index())\n",
    "\n",
    "    inc_traces = inc_traces[inc_traces.pos_trace != inc_traces.trace_len]\n",
    "    inc_traces = inc_traces['caseid'].to_list()\n",
    "\n",
    "    print(\"Imcomplete rate: {}\".format(len(inc_traces)/ len(df_train)))\n",
    "\n",
    "    # Drop incomplete traces\n",
    "    df_test = df_test[~df_test.caseid.isin(inc_traces)]\n",
    "    df_test = df_test.drop(columns=['trace_len', 'pos_trace'],errors='ignore')\n",
    "    df_train = df_train[~df_train.caseid.isin(inc_traces)]\n",
    "\n",
    "    print(\"train set size after dropping: {}\".format(len(df_train)))\n",
    "\n",
    "    df_train = df_train.drop(columns=['trace_len', 'pos_trace'],errors='ignore')\n",
    "    key = 'end_timestamp' if one_timestamp else 'start_timestamp'\n",
    "    df_test = (df_test\n",
    "               .sort_values(key, ascending=True)\n",
    "               .reset_index(drop=True).to_dict('records'))\n",
    "    df_train = (df_train\n",
    "                .sort_values(key, ascending=True)\n",
    "                .reset_index(drop=True).to_dict('records'))\n",
    "    return df_train, df_test\n",
    "\n",
    "def timeline_trace(log: pd.DataFrame, size: float, one_timestamp: bool) -> None:\n",
    "    # log = self.log.data.to_dict('records')\n",
    "#     cases = log[log.pos_trace == 1]\n",
    "    cases = log\n",
    "    key = 'end_timestamp' if one_timestamp else 'start_timestamp'\n",
    "    cases = cases.sort_values(key, ascending=False)\n",
    "    cases = cases.caseid.to_list()\n",
    "    num_test_cases = int(np.round(len(cases)*(1 - size)))\n",
    "    test_cases = cases[:num_test_cases]\n",
    "    train_cases = cases[num_test_cases:]\n",
    "    df_train = log[log.caseid.isin(train_cases)]\n",
    "    df_test = log[log.caseid.isin(test_cases)]\n",
    "    df_train = df_train.drop(columns=['trace_len', 'pos_trace'],errors='ignore')\n",
    "    df_test = df_test.drop(columns=['trace_len', 'pos_trace'],errors='ignore')\n",
    "    return df_train, df_test\n",
    "\n",
    "def random(log: pd.DataFrame, size: float, one_timestamp: bool) -> None:\n",
    "    cases = list(log.caseid.unique())\n",
    "    sample_sz = int(np.ceil(len(cases)*size))\n",
    "    scases = random.sample(cases, sample_sz)\n",
    "    df_train = log[log.caseid.isin(scases)]\n",
    "    df_test = log[~log.caseid.isin(scases)]\n",
    "    return df_train, df_test"
   ]
  },
  {
   "cell_type": "code",
   "execution_count": 56,
   "id": "cd9dd49c",
   "metadata": {},
   "outputs": [],
   "source": [
    "def _get_splitter(method):\n",
    "        if method == 'timeline_contained':\n",
    "            return timeline_contained\n",
    "        elif method == 'timeline_trace':\n",
    "            return timeline_trace\n",
    "        elif method == 'random':\n",
    "            return random\n",
    "        else:\n",
    "            raise ValueError(method)"
   ]
  },
  {
   "cell_type": "code",
   "execution_count": 57,
   "id": "92fb3036",
   "metadata": {},
   "outputs": [],
   "source": [
    "def split_log(log: pd.DataFrame, method: str, size: float, one_timestamp: bool):\n",
    "    splitter = _get_splitter(method)\n",
    "    return splitter(log, size, one_timestamp)"
   ]
  },
  {
   "cell_type": "code",
   "execution_count": 58,
   "id": "b5f5c262",
   "metadata": {},
   "outputs": [],
   "source": [
    "def split_timeline(size: float, one_ts: bool, log: pd.DataFrame) -> (pd.DataFrame, pd.DataFrame) :\n",
    "        \"\"\"\n",
    "        Split an event log dataframe by time to peform split-validation.\n",
    "        prefered method time splitting removing incomplete traces.\n",
    "        If the testing set is smaller than the 10% of the log size\n",
    "        the second method is sort by traces start and split taking the whole\n",
    "        traces no matter if they are contained in the timeframe or not\n",
    "\n",
    "        Parameters\n",
    "        ----------\n",
    "        size : float, validation percentage.\n",
    "        one_ts : bool, Support only one timestamp.\n",
    "        \"\"\"\n",
    "        # Split log data\n",
    "        sortedLog = _sort_log(log)\n",
    "        print(\"sorted log size {}\".format(len(sortedLog)))\n",
    "        # display(sortedLog.head(5))\n",
    "        print(\"soted log end -----\")\n",
    "\n",
    "        ## problem is here\n",
    "        train, test = split_log(sortedLog,'timeline_contained', size, one_ts)\n",
    "        print(\"1. train set size: {}\".format(len(train)))\n",
    "        total_events = len(sortedLog)\n",
    "        # Check size and change time splitting method if necesary\n",
    "        if len(test) < int(total_events*0.1):\n",
    "            train, test = split_log(sortedLog, 'timeline_trace', size, one_ts)\n",
    "        # Set splits\n",
    "        key = 'end_timestamp' if one_ts else 'start_timestamp'\n",
    "        test = pd.DataFrame(test)\n",
    "        train = pd.DataFrame(train)\n",
    "        print(train)\n",
    "        print('training set')\n",
    "        # display(train.head(5))\n",
    "        \n",
    "#         print(\"display set\")\n",
    "#         display(test.head(5))\n",
    "        \n",
    "        log_test = (test.sort_values(key, ascending=True)\n",
    "                         .reset_index(drop=True))\n",
    "        log_train = (train.sort_values(key, ascending=True)\n",
    "                          .reset_index(drop=True))\n",
    "        return log_train, log_test"
   ]
  },
  {
   "cell_type": "code",
   "execution_count": 60,
   "id": "49aea69e",
   "metadata": {},
   "outputs": [
    {
     "output_type": "stream",
     "name": "stdout",
     "text": [
      "sorted log size 71373\n",
      "soted log end -----\n",
      "Imcomplete rate: 0.09129916984833095\n",
      "train set size after dropping: 7971\n",
      "1. train set size: 7971\n",
      "      caseid                    task   user           end_timestamp  \\\n",
      "0     173706      W_Afhandelen leads  10912 2011-10-01 10:16:49.843   \n",
      "1     173688  W_Completeren aanvraag    NaN 2011-10-01 11:45:13.917   \n",
      "2     173691  W_Completeren aanvraag    NaN 2011-10-01 11:43:13.178   \n",
      "3     173706  W_Completeren aanvraag  10912 2011-10-01 11:50:14.483   \n",
      "4     173706  W_Completeren aanvraag  10912 2011-10-01 11:53:55.769   \n",
      "...      ...                     ...    ...                     ...   \n",
      "7966  208133      W_Afhandelen leads  10629 2012-02-10 17:05:23.731   \n",
      "7967  208268      W_Afhandelen leads  11201 2012-02-10 20:06:30.178   \n",
      "7968  208208  W_Completeren aanvraag  10913 2012-02-10 20:05:21.713   \n",
      "7969  208256      W_Afhandelen leads    NaN 2012-02-10 20:04:56.142   \n",
      "7970  208271      W_Afhandelen leads    NaN 2012-02-10 20:19:31.576   \n",
      "\n",
      "             start_timestamp  ac_index  \n",
      "0    2011-10-01 10:15:43.883         1  \n",
      "1    2011-10-01 11:36:46.437         3  \n",
      "2    2011-10-01 11:37:32.393         3  \n",
      "3    2011-10-01 11:49:28.183         3  \n",
      "4    2011-10-01 11:50:21.451         3  \n",
      "...                      ...       ...  \n",
      "7966 2012-02-10 17:01:06.079         1  \n",
      "7967 2012-02-10 19:56:45.827         1  \n",
      "7968 2012-02-10 20:00:35.659         3  \n",
      "7969 2012-02-10 20:01:51.162         1  \n",
      "7970 2012-02-10 20:18:25.436         1  \n",
      "\n",
      "[7971 rows x 6 columns]\n",
      "training set\n"
     ]
    }
   ],
   "source": [
    "log_train, log_test = split_timeline(0.8, parameters['one_timestamp'], log_df)"
   ]
  },
  {
   "cell_type": "code",
   "execution_count": 62,
   "id": "f214ce1e",
   "metadata": {},
   "outputs": [
    {
     "output_type": "execute_result",
     "data": {
      "text/plain": [
       "   caseid                    task   user           end_timestamp  \\\n",
       "0  173706      W_Afhandelen leads  10912 2011-10-01 10:16:49.843   \n",
       "1  173688  W_Completeren aanvraag    NaN 2011-10-01 11:45:13.917   \n",
       "2  173691  W_Completeren aanvraag    NaN 2011-10-01 11:43:13.178   \n",
       "3  173706  W_Completeren aanvraag  10912 2011-10-01 11:50:14.483   \n",
       "4  173706  W_Completeren aanvraag  10912 2011-10-01 11:53:55.769   \n",
       "\n",
       "          start_timestamp  ac_index  \n",
       "0 2011-10-01 10:15:43.883         1  \n",
       "1 2011-10-01 11:36:46.437         3  \n",
       "2 2011-10-01 11:37:32.393         3  \n",
       "3 2011-10-01 11:49:28.183         3  \n",
       "4 2011-10-01 11:50:21.451         3  "
      ],
      "text/html": "<div>\n<style scoped>\n    .dataframe tbody tr th:only-of-type {\n        vertical-align: middle;\n    }\n\n    .dataframe tbody tr th {\n        vertical-align: top;\n    }\n\n    .dataframe thead th {\n        text-align: right;\n    }\n</style>\n<table border=\"1\" class=\"dataframe\">\n  <thead>\n    <tr style=\"text-align: right;\">\n      <th></th>\n      <th>caseid</th>\n      <th>task</th>\n      <th>user</th>\n      <th>end_timestamp</th>\n      <th>start_timestamp</th>\n      <th>ac_index</th>\n    </tr>\n  </thead>\n  <tbody>\n    <tr>\n      <th>0</th>\n      <td>173706</td>\n      <td>W_Afhandelen leads</td>\n      <td>10912</td>\n      <td>2011-10-01 10:16:49.843</td>\n      <td>2011-10-01 10:15:43.883</td>\n      <td>1</td>\n    </tr>\n    <tr>\n      <th>1</th>\n      <td>173688</td>\n      <td>W_Completeren aanvraag</td>\n      <td>NaN</td>\n      <td>2011-10-01 11:45:13.917</td>\n      <td>2011-10-01 11:36:46.437</td>\n      <td>3</td>\n    </tr>\n    <tr>\n      <th>2</th>\n      <td>173691</td>\n      <td>W_Completeren aanvraag</td>\n      <td>NaN</td>\n      <td>2011-10-01 11:43:13.178</td>\n      <td>2011-10-01 11:37:32.393</td>\n      <td>3</td>\n    </tr>\n    <tr>\n      <th>3</th>\n      <td>173706</td>\n      <td>W_Completeren aanvraag</td>\n      <td>10912</td>\n      <td>2011-10-01 11:50:14.483</td>\n      <td>2011-10-01 11:49:28.183</td>\n      <td>3</td>\n    </tr>\n    <tr>\n      <th>4</th>\n      <td>173706</td>\n      <td>W_Completeren aanvraag</td>\n      <td>10912</td>\n      <td>2011-10-01 11:53:55.769</td>\n      <td>2011-10-01 11:50:21.451</td>\n      <td>3</td>\n    </tr>\n  </tbody>\n</table>\n</div>"
     },
     "metadata": {},
     "execution_count": 62
    }
   ],
   "source": [
    "log_train.head(5)"
   ]
  },
  {
   "cell_type": "code",
   "execution_count": null,
   "id": "c4aa5f09",
   "metadata": {},
   "outputs": [],
   "source": [
    "### We need to add resource to apply the same algo"
   ]
  },
  {
   "cell_type": "code",
   "execution_count": null,
   "id": "7ee86403",
   "metadata": {},
   "outputs": [],
   "source": []
  },
  {
   "cell_type": "code",
   "execution_count": null,
   "id": "f4e5f84c",
   "metadata": {},
   "outputs": [],
   "source": []
  },
  {
   "cell_type": "code",
   "execution_count": null,
   "id": "8295d235",
   "metadata": {},
   "outputs": [],
   "source": [
    "# split validation"
   ]
  }
 ],
 "metadata": {
  "kernelspec": {
   "name": "python394jvsc74a57bd00fab9f4e2480a02528c8c5e2c5eed9f6f178de25ad0614451a9194f538e2ccc5",
   "display_name": "Python 3.9.4 64-bit ('dl')"
  },
  "language_info": {
   "codemirror_mode": {
    "name": "ipython",
    "version": 3
   },
   "file_extension": ".py",
   "mimetype": "text/x-python",
   "name": "python",
   "nbconvert_exporter": "python",
   "pygments_lexer": "ipython3",
   "version": "3.9.4-final"
  }
 },
 "nbformat": 4,
 "nbformat_minor": 5
}