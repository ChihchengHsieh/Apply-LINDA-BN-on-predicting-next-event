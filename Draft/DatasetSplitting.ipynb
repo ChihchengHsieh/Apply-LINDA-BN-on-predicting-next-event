{
 "metadata": {
  "language_info": {
   "codemirror_mode": {
    "name": "ipython",
    "version": 3
   },
   "file_extension": ".py",
   "mimetype": "text/x-python",
   "name": "python",
   "nbconvert_exporter": "python",
   "pygments_lexer": "ipython3",
   "version": "3.9.4-final"
  },
  "orig_nbformat": 2,
  "kernelspec": {
   "name": "python394jvsc74a57bd00fab9f4e2480a02528c8c5e2c5eed9f6f178de25ad0614451a9194f538e2ccc5",
   "display_name": "Python 3.9.4 64-bit ('dl')"
  }
 },
 "nbformat": 4,
 "nbformat_minor": 2,
 "cells": [
  {
   "cell_type": "code",
   "execution_count": 42,
   "metadata": {},
   "outputs": [],
   "source": [
    "from sklearn.model_selection import KFold\n",
    "import torch\n",
    "from Controller.TrainingParameters import TrainingParameters  \n",
    "from torch.utils.data import DataLoader\n",
    "from Data.BPI2012Dataset import BPI2012Dataset"
   ]
  },
  {
   "cell_type": "code",
   "execution_count": 3,
   "metadata": {},
   "outputs": [],
   "source": [
    "  num_k_folds = 5\n",
    "  \n",
    "  kfold = KFold(n_splits=num_k_folds, shuffle=True)"
   ]
  },
  {
   "cell_type": "code",
   "execution_count": 4,
   "metadata": {},
   "outputs": [
    {
     "output_type": "stream",
     "name": "stderr",
     "text": [
      "parsing log, completed traces :: 100%|██████████| 13087/13087 [00:21<00:00, 595.50it/s]\n",
      "/Users/jrhs/.pyenv/versions/dl/lib/python3.9/site-packages/pandas/core/frame.py:1549: FutureWarning: Using short name for 'orient' is deprecated. Only the options: ('dict', list, 'series', 'split', 'records', 'index') will be used in a future version. Use one of the above to silence this warning.\n",
      "  warnings.warn(\n"
     ]
    }
   ],
   "source": [
    "dataset = BPI2012Dataset(TrainingParameters.bpi_2012_path)"
   ]
  },
  {
   "cell_type": "code",
   "execution_count": 5,
   "metadata": {},
   "outputs": [
    {
     "output_type": "error",
     "ename": "ValueError",
     "evalue": "sampler option is mutually exclusive with shuffle",
     "traceback": [
      "\u001b[0;31m---------------------------------------------------------------------------\u001b[0m",
      "\u001b[0;31mValueError\u001b[0m                                Traceback (most recent call last)",
      "\u001b[0;32m<ipython-input-5-f95a111b539f>\u001b[0m in \u001b[0;36m<module>\u001b[0;34m\u001b[0m\n\u001b[1;32m      3\u001b[0m     \u001b[0mtest_subsampler\u001b[0m \u001b[0;34m=\u001b[0m \u001b[0mtorch\u001b[0m\u001b[0;34m.\u001b[0m\u001b[0mutils\u001b[0m\u001b[0;34m.\u001b[0m\u001b[0mdata\u001b[0m\u001b[0;34m.\u001b[0m\u001b[0mSubsetRandomSampler\u001b[0m\u001b[0;34m(\u001b[0m\u001b[0mtest_ids\u001b[0m\u001b[0;34m)\u001b[0m\u001b[0;34m\u001b[0m\u001b[0;34m\u001b[0m\u001b[0m\n\u001b[1;32m      4\u001b[0m \u001b[0;34m\u001b[0m\u001b[0m\n\u001b[0;32m----> 5\u001b[0;31m     \u001b[0mtrain_data_loader\u001b[0m \u001b[0;34m=\u001b[0m \u001b[0mDataLoader\u001b[0m\u001b[0;34m(\u001b[0m\u001b[0mdataset\u001b[0m\u001b[0;34m,\u001b[0m \u001b[0mbatch_size\u001b[0m\u001b[0;34m=\u001b[0m\u001b[0mTrainingParameters\u001b[0m\u001b[0;34m.\u001b[0m\u001b[0mbatch_size\u001b[0m\u001b[0;34m,\u001b[0m \u001b[0mshuffle\u001b[0m\u001b[0;34m=\u001b[0m\u001b[0;32mTrue\u001b[0m\u001b[0;34m,\u001b[0m \u001b[0mcollate_fn\u001b[0m\u001b[0;34m=\u001b[0m \u001b[0mdataset\u001b[0m\u001b[0;34m.\u001b[0m\u001b[0mcollate_fn\u001b[0m\u001b[0;34m,\u001b[0m\u001b[0msampler\u001b[0m\u001b[0;34m=\u001b[0m\u001b[0mtrain_subsampler\u001b[0m\u001b[0;34m)\u001b[0m\u001b[0;34m\u001b[0m\u001b[0;34m\u001b[0m\u001b[0m\n\u001b[0m\u001b[1;32m      6\u001b[0m \u001b[0;34m\u001b[0m\u001b[0m\n\u001b[1;32m      7\u001b[0m     \u001b[0mtest_data_loader\u001b[0m \u001b[0;34m=\u001b[0m \u001b[0mDataLoader\u001b[0m\u001b[0;34m(\u001b[0m\u001b[0mdataset\u001b[0m\u001b[0;34m,\u001b[0m \u001b[0mbatch_size\u001b[0m\u001b[0;34m=\u001b[0m\u001b[0mTrainingParameters\u001b[0m\u001b[0;34m.\u001b[0m\u001b[0mbatch_size\u001b[0m\u001b[0;34m,\u001b[0m \u001b[0mshuffle\u001b[0m\u001b[0;34m=\u001b[0m\u001b[0;32mTrue\u001b[0m\u001b[0;34m,\u001b[0m \u001b[0mcollate_fn\u001b[0m\u001b[0;34m=\u001b[0m \u001b[0mdataset\u001b[0m\u001b[0;34m.\u001b[0m\u001b[0mcollate_fn\u001b[0m\u001b[0;34m,\u001b[0m\u001b[0msampler\u001b[0m\u001b[0;34m=\u001b[0m\u001b[0mtest_subsampler\u001b[0m\u001b[0;34m)\u001b[0m\u001b[0;34m\u001b[0m\u001b[0;34m\u001b[0m\u001b[0m\n",
      "\u001b[0;32m~/.pyenv/versions/dl/lib/python3.9/site-packages/torch/utils/data/dataloader.py\u001b[0m in \u001b[0;36m__init__\u001b[0;34m(self, dataset, batch_size, shuffle, sampler, batch_sampler, num_workers, collate_fn, pin_memory, drop_last, timeout, worker_init_fn, multiprocessing_context, generator, prefetch_factor, persistent_workers)\u001b[0m\n\u001b[1;32m    239\u001b[0m \u001b[0;34m\u001b[0m\u001b[0m\n\u001b[1;32m    240\u001b[0m         \u001b[0;32mif\u001b[0m \u001b[0msampler\u001b[0m \u001b[0;32mis\u001b[0m \u001b[0;32mnot\u001b[0m \u001b[0;32mNone\u001b[0m \u001b[0;32mand\u001b[0m \u001b[0mshuffle\u001b[0m\u001b[0;34m:\u001b[0m\u001b[0;34m\u001b[0m\u001b[0;34m\u001b[0m\u001b[0m\n\u001b[0;32m--> 241\u001b[0;31m             raise ValueError('sampler option is mutually exclusive with '\n\u001b[0m\u001b[1;32m    242\u001b[0m                              'shuffle')\n\u001b[1;32m    243\u001b[0m \u001b[0;34m\u001b[0m\u001b[0m\n",
      "\u001b[0;31mValueError\u001b[0m: sampler option is mutually exclusive with shuffle"
     ]
    }
   ],
   "source": [
    "for fold, (train_ids, test_ids) in enumerate(kfold.split(dataset)):\n",
    "    train_subsampler = torch.utils.data.SubsetRandomSampler(train_ids)\n",
    "    test_subsampler = torch.utils.data.SubsetRandomSampler(test_ids)\n",
    "\n",
    "    train_data_loader = DataLoader(dataset, batch_size=TrainingParameters.batch_size, shuffle=True, collate_fn= dataset.collate_fn,sampler=train_subsampler)\n",
    "\n",
    "    test_data_loader = DataLoader(dataset, batch_size=TrainingParameters.batch_size, shuffle=True, collate_fn= dataset.collate_fn,sampler=test_subsampler)"
   ]
  },
  {
   "cell_type": "code",
   "execution_count": 11,
   "metadata": {},
   "outputs": [],
   "source": [
    "dataset_len = len(dataset)\n"
   ]
  },
  {
   "cell_type": "code",
   "execution_count": null,
   "metadata": {},
   "outputs": [],
   "source": []
  },
  {
   "cell_type": "code",
   "execution_count": 20,
   "metadata": {},
   "outputs": [],
   "source": [
    "training_and_validation_set_len = int(len(dataset)*.8)\n",
    "testing_set_len = dataset_len - training_and_validation_set_len"
   ]
  },
  {
   "cell_type": "code",
   "execution_count": 21,
   "metadata": {},
   "outputs": [],
   "source": [
    "training_set_len = int(training_and_validation_set_len*.9)"
   ]
  },
  {
   "cell_type": "code",
   "execution_count": 22,
   "metadata": {},
   "outputs": [],
   "source": [
    "validation_set_len = training_and_validation_set_len - training_set_len"
   ]
  },
  {
   "cell_type": "code",
   "execution_count": 23,
   "metadata": {},
   "outputs": [
    {
     "output_type": "execute_result",
     "data": {
      "text/plain": [
       "9422"
      ]
     },
     "metadata": {},
     "execution_count": 23
    }
   ],
   "source": [
    "training_set_len"
   ]
  },
  {
   "cell_type": "code",
   "execution_count": 35,
   "metadata": {},
   "outputs": [],
   "source": [
    "train_dataset_len = int(len(dataset) * .8)"
   ]
  },
  {
   "cell_type": "code",
   "execution_count": 36,
   "metadata": {},
   "outputs": [],
   "source": [
    "test_dataset_len = int(len(dataset) * .1)"
   ]
  },
  {
   "cell_type": "code",
   "execution_count": 37,
   "metadata": {},
   "outputs": [],
   "source": [
    "validation_dataset_len = len(dataset) - (train_dataset_len + test_dataset_len)"
   ]
  },
  {
   "cell_type": "code",
   "execution_count": 33,
   "metadata": {},
   "outputs": [
    {
     "output_type": "execute_result",
     "data": {
      "text/plain": [
       "1310"
      ]
     },
     "metadata": {},
     "execution_count": 33
    }
   ],
   "source": [
    "test_dataset_len"
   ]
  },
  {
   "cell_type": "code",
   "execution_count": 40,
   "metadata": {},
   "outputs": [],
   "source": [
    "train_set, validation_set, test_set = torch.utils.data.random_split(dataset= dataset, lengths=[train_dataset_len, validation_dataset_len, test_dataset_len])"
   ]
  },
  {
   "cell_type": "code",
   "execution_count": 44,
   "metadata": {},
   "outputs": [],
   "source": [
    "train_data_loader = DataLoader(train_set, batch_size=TrainingParameters.batch_size, shuffle=True, collate_fn= dataset.collate_fn)\n",
    "\n",
    "validation_data_loader = DataLoader(validation_set, batch_size=TrainingParameters.batch_size, shuffle=True, collate_fn= dataset.collate_fn)\n",
    "\n",
    "test_data_loader = DataLoader(test_set, batch_size=TrainingParameters.batch_size, shuffle=True, collate_fn= dataset.collate_fn)\n",
    "\n"
   ]
  },
  {
   "cell_type": "code",
   "execution_count": 46,
   "metadata": {},
   "outputs": [
    {
     "output_type": "execute_result",
     "data": {
      "text/plain": [
       "(array(['195157', '198202', '197707', '193674', '190965', '203799',\n",
       "        '174659', '192812', '176467', '197339', '180826', '187370',\n",
       "        '182122', '178242', '187004', '192728', '214289', '194871',\n",
       "        '199041', '210203', '196786', '200572', '173826', '176771',\n",
       "        '212340', '181130', '188914', '209853', '212187', '201400',\n",
       "        '193626', '184685', '184400', '177890', '190887', '190002',\n",
       "        '192683', '206345', '198663', '188314', '179528', '198576',\n",
       "        '202794', '193291', '177585', '174340', '178653', '208145',\n",
       "        '175753', '206324', '210374', '186487', '203693', '197566',\n",
       "        '212863', '211414', '187328', '211426', '177699', '198840',\n",
       "        '194755', '191019', '178704', '182356'], dtype='<U6'),\n",
       " tensor([[ 2, 12,  9,  ..., 11,  4, 35],\n",
       "         [ 2, 12,  9,  ...,  0,  0,  0],\n",
       "         [ 2, 12,  9,  ...,  0,  0,  0],\n",
       "         ...,\n",
       "         [ 2, 12,  9,  ...,  0,  0,  0],\n",
       "         [ 2, 12,  9,  ...,  0,  0,  0],\n",
       "         [ 2, 12,  9,  ...,  0,  0,  0]]),\n",
       " tensor([[12,  9, 21,  ...,  4, 35,  1],\n",
       "         [12,  9, 21,  ...,  0,  0,  0],\n",
       "         [12,  9, 10,  ...,  0,  0,  0],\n",
       "         ...,\n",
       "         [12,  9,  7,  ...,  0,  0,  0],\n",
       "         [12,  9,  7,  ...,  0,  0,  0],\n",
       "         [12,  9,  7,  ...,  0,  0,  0]]),\n",
       " tensor([120,  81,  75,  67,  67,  58,  53,  47,  47,  39,  37,  35,  33,  32,\n",
       "          31,  29,  28,  27,  25,  25,  24,  21,  21,  21,  21,  19,  19,  17,\n",
       "          17,  14,  13,  11,  11,  11,  11,  10,   9,   8,   7,   7,   7,   7,\n",
       "           4,   4,   4,   4,   4,   4,   4,   4,   4,   4,   4,   4,   4,   4,\n",
       "           4,   4,   4,   4,   4,   4,   4,   4]))"
      ]
     },
     "metadata": {},
     "execution_count": 46
    }
   ],
   "source": [
    "iter(train_data_loader).next()"
   ]
  },
  {
   "cell_type": "code",
   "execution_count": 47,
   "metadata": {},
   "outputs": [],
   "source": [
    "validation_accuracy = 0.5\n",
    "validation_loss = .3\n"
   ]
  },
  {
   "cell_type": "code",
   "execution_count": 50,
   "metadata": {},
   "outputs": [
    {
     "output_type": "stream",
     "name": "stdout",
     "text": [
      "=================================================\n| Validation | Accuracy [0.5000] | Loss [0.3000]\n=================================================\n"
     ]
    }
   ],
   "source": [
    " print(\n",
    "                            \"=================================================\" + \"\\n\" +\n",
    "                            \"| Validation | Accuracy [%.4f] | Loss [%.4f]\" %  (validation_accuracy, validation_loss) + \"\\n\"\n",
    "                            \"=================================================\"\n",
    "                            \n",
    "                        )"
   ]
  },
  {
   "cell_type": "code",
   "execution_count": 72,
   "metadata": {},
   "outputs": [
    {
     "output_type": "execute_result",
     "data": {
      "text/plain": [
       "tensor(11)"
      ]
     },
     "metadata": {},
     "execution_count": 72
    }
   ],
   "source": [
    "torch.tensor([1,2,3,5]).sum()"
   ]
  },
  {
   "cell_type": "code",
   "execution_count": 68,
   "metadata": {},
   "outputs": [],
   "source": [
    "w = [12,3,213,13,1]"
   ]
  },
  {
   "cell_type": "code",
   "execution_count": 69,
   "metadata": {},
   "outputs": [],
   "source": [
    "w[-1] = w[-1]* 10"
   ]
  },
  {
   "cell_type": "code",
   "execution_count": 70,
   "metadata": {},
   "outputs": [
    {
     "output_type": "execute_result",
     "data": {
      "text/plain": [
       "[12, 3, 213, 13, 10]"
      ]
     },
     "metadata": {},
     "execution_count": 70
    }
   ],
   "source": [
    "w"
   ]
  },
  {
   "cell_type": "code",
   "execution_count": 59,
   "metadata": {},
   "outputs": [],
   "source": [
    "a = [torch.tensor(5.), torch.tensor(6.)]"
   ]
  },
  {
   "cell_type": "code",
   "execution_count": 60,
   "metadata": {},
   "outputs": [
    {
     "output_type": "execute_result",
     "data": {
      "text/plain": [
       "tensor(5.5000)"
      ]
     },
     "metadata": {},
     "execution_count": 60
    }
   ],
   "source": [
    "torch.tensor(a).mean()"
   ]
  },
  {
   "cell_type": "code",
   "execution_count": null,
   "metadata": {},
   "outputs": [],
   "source": []
  },
  {
   "cell_type": "code",
   "execution_count": null,
   "metadata": {},
   "outputs": [],
   "source": []
  },
  {
   "cell_type": "code",
   "execution_count": null,
   "metadata": {},
   "outputs": [],
   "source": []
  },
  {
   "cell_type": "code",
   "execution_count": null,
   "metadata": {},
   "outputs": [],
   "source": []
  },
  {
   "cell_type": "code",
   "execution_count": null,
   "metadata": {},
   "outputs": [],
   "source": [
    "\n",
    "\n",
    "\n"
   ]
  },
  {
   "cell_type": "code",
   "execution_count": null,
   "metadata": {},
   "outputs": [],
   "source": []
  }
 ]
}