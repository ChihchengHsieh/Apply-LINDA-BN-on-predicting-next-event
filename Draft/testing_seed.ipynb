{
 "metadata": {
  "language_info": {
   "codemirror_mode": {
    "name": "ipython",
    "version": 3
   },
   "file_extension": ".py",
   "mimetype": "text/x-python",
   "name": "python",
   "nbconvert_exporter": "python",
   "pygments_lexer": "ipython3",
   "version": "3.9.4-final"
  },
  "orig_nbformat": 2,
  "kernelspec": {
   "name": "python394jvsc74a57bd0ce84662d2f539e4595bb685d63d62db000d81e5edf3f86cfc940c024e0f53738",
   "display_name": "Python 3.9.4 64-bit ('dl')"
  },
  "metadata": {
   "interpreter": {
    "hash": "ce84662d2f539e4595bb685d63d62db000d81e5edf3f86cfc940c024e0f53738"
   }
  }
 },
 "nbformat": 4,
 "nbformat_minor": 2,
 "cells": [
  {
   "cell_type": "code",
   "execution_count": 1,
   "metadata": {},
   "outputs": [],
   "source": [
    "from Data.BPI2012Dataset import BPI2012Dataset\n",
    "from Parameters.TrainingParameters import TrainingParameters\n",
    "import torch"
   ]
  },
  {
   "cell_type": "code",
   "execution_count": 2,
   "metadata": {},
   "outputs": [
    {
     "output_type": "stream",
     "name": "stdout",
     "text": [
      "\n=================================================\n| Preprocessed data loaded successfully \n=================================================\n"
     ]
    }
   ],
   "source": [
    "dataset = BPI2012Dataset(filePath=TrainingParameters.bpi_2012_path,\n",
    "                                                preprocessed_folder_path=TrainingParameters.preprocessed_bpi_2012_folder_path,\n",
    "                                          preprocessed_df_type=TrainingParameters.preprocessed_df_type,\n",
    "                                          )"
   ]
  },
  {
   "cell_type": "code",
   "execution_count": 33,
   "metadata": {},
   "outputs": [],
   "source": [
    "train_dataset_len = int(\n",
    "            len(dataset) * TrainingParameters.train_test_split_portion[0])\n",
    "test_dataset_len = int(len(dataset) *\n",
    "                               TrainingParameters.train_test_split_portion[-1])\n",
    "validation_dataset_len = len(\n",
    "            dataset) - (train_dataset_len + test_dataset_len)"
   ]
  },
  {
   "cell_type": "code",
   "execution_count": 42,
   "metadata": {},
   "outputs": [],
   "source": [
    "train_dataset, validation_dataset, test_dataset = torch.utils.data.random_split(\n",
    "            dataset=dataset, lengths=[train_dataset_len, validation_dataset_len, test_dataset_len], generator= torch.Generator().manual_seed(TrainingParameters.dataset_split_seed))"
   ]
  },
  {
   "cell_type": "code",
   "execution_count": 43,
   "metadata": {},
   "outputs": [
    {
     "output_type": "execute_result",
     "data": {
      "text/plain": [
       "trace     [2, 12, 9, 21, 22, 20, 22, 20, 22, 10, 27, 20,...\n",
       "caseid                                               205511\n",
       "Name: 10208, dtype: object"
      ]
     },
     "metadata": {},
     "execution_count": 43
    }
   ],
   "source": [
    "train_dataset[0]"
   ]
  },
  {
   "cell_type": "code",
   "execution_count": 4,
   "metadata": {},
   "outputs": [
    {
     "output_type": "execute_result",
     "data": {
      "text/plain": [
       "                                                   trace  caseid\n",
       "0      [2, 12, 9, 10, 27, 28, 3, 17, 8, 15, 19, 33, 2...  173688\n",
       "1      [2, 12, 9, 10, 27, 28, 26, 28, 3, 17, 8, 15, 1...  173691\n",
       "2      [2, 12, 9, 10, 27, 28, 26, 28, 26, 28, 26, 28,...  173694\n",
       "3                                       [2, 12, 9, 7, 1]  173697\n",
       "4                                       [2, 12, 9, 7, 1]  173700\n",
       "...                                                  ...     ...\n",
       "13082  [2, 12, 9, 10, 27, 28, 26, 28, 3, 8, 17, 15, 1...  214364\n",
       "13083                                   [2, 12, 9, 7, 1]  214367\n",
       "13084                       [2, 12, 9, 21, 22, 7, 20, 1]  214370\n",
       "13085  [2, 12, 9, 21, 22, 10, 27, 20, 28, 3, 17, 8, 1...  214373\n",
       "13086                       [2, 12, 9, 21, 22, 7, 20, 1]  214376\n",
       "\n",
       "[13087 rows x 2 columns]"
      ],
      "text/html": "<div>\n<style scoped>\n    .dataframe tbody tr th:only-of-type {\n        vertical-align: middle;\n    }\n\n    .dataframe tbody tr th {\n        vertical-align: top;\n    }\n\n    .dataframe thead th {\n        text-align: right;\n    }\n</style>\n<table border=\"1\" class=\"dataframe\">\n  <thead>\n    <tr style=\"text-align: right;\">\n      <th></th>\n      <th>trace</th>\n      <th>caseid</th>\n    </tr>\n  </thead>\n  <tbody>\n    <tr>\n      <th>0</th>\n      <td>[2, 12, 9, 10, 27, 28, 3, 17, 8, 15, 19, 33, 2...</td>\n      <td>173688</td>\n    </tr>\n    <tr>\n      <th>1</th>\n      <td>[2, 12, 9, 10, 27, 28, 26, 28, 3, 17, 8, 15, 1...</td>\n      <td>173691</td>\n    </tr>\n    <tr>\n      <th>2</th>\n      <td>[2, 12, 9, 10, 27, 28, 26, 28, 26, 28, 26, 28,...</td>\n      <td>173694</td>\n    </tr>\n    <tr>\n      <th>3</th>\n      <td>[2, 12, 9, 7, 1]</td>\n      <td>173697</td>\n    </tr>\n    <tr>\n      <th>4</th>\n      <td>[2, 12, 9, 7, 1]</td>\n      <td>173700</td>\n    </tr>\n    <tr>\n      <th>...</th>\n      <td>...</td>\n      <td>...</td>\n    </tr>\n    <tr>\n      <th>13082</th>\n      <td>[2, 12, 9, 10, 27, 28, 26, 28, 3, 8, 17, 15, 1...</td>\n      <td>214364</td>\n    </tr>\n    <tr>\n      <th>13083</th>\n      <td>[2, 12, 9, 7, 1]</td>\n      <td>214367</td>\n    </tr>\n    <tr>\n      <th>13084</th>\n      <td>[2, 12, 9, 21, 22, 7, 20, 1]</td>\n      <td>214370</td>\n    </tr>\n    <tr>\n      <th>13085</th>\n      <td>[2, 12, 9, 21, 22, 10, 27, 20, 28, 3, 17, 8, 1...</td>\n      <td>214373</td>\n    </tr>\n    <tr>\n      <th>13086</th>\n      <td>[2, 12, 9, 21, 22, 7, 20, 1]</td>\n      <td>214376</td>\n    </tr>\n  </tbody>\n</table>\n<p>13087 rows × 2 columns</p>\n</div>"
     },
     "metadata": {},
     "execution_count": 4
    }
   ],
   "source": [
    "dataset.df.sort_values(\"caseid\", inplace= True)"
   ]
  },
  {
   "cell_type": "code",
   "execution_count": null,
   "metadata": {},
   "outputs": [],
   "source": []
  }
 ]
}