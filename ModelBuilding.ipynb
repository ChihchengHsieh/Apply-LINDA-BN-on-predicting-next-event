{
 "metadata": {
  "language_info": {
   "codemirror_mode": {
    "name": "ipython",
    "version": 3
   },
   "file_extension": ".py",
   "mimetype": "text/x-python",
   "name": "python",
   "nbconvert_exporter": "python",
   "pygments_lexer": "ipython3",
   "version": "3.9.4-final"
  },
  "orig_nbformat": 2,
  "kernelspec": {
   "name": "python394jvsc74a57bd00fab9f4e2480a02528c8c5e2c5eed9f6f178de25ad0614451a9194f538e2ccc5",
   "display_name": "Python 3.9.4 64-bit ('dl')"
  }
 },
 "nbformat": 4,
 "nbformat_minor": 2,
 "cells": [
  {
   "cell_type": "code",
   "execution_count": 4,
   "metadata": {},
   "outputs": [],
   "source": [
    "import torch\n",
    "import torch.nn as nn\n",
    "import torch.nn.functional as F\n"
   ]
  },
  {
   "cell_type": "code",
   "execution_count": 7,
   "metadata": {},
   "outputs": [],
   "source": [
    "\n",
    "class Constants():\n",
    "    ''' The Constants for the mapping terms to index '''\n",
    "    PAD = 0\n",
    "    UNK = 1\n",
    "    SOS = 2\n",
    "    EOS = 3\n",
    "\n",
    "    PAD_WORD = '<PAD>'\n",
    "    UNK_WORD = '<UNK>'\n",
    "    SOS_WORD = '<SOS>'\n",
    "    EOS_WORD = '<EOS>'"
   ]
  },
  {
   "cell_type": "code",
   "execution_count": 8,
   "metadata": {},
   "outputs": [],
   "source": [
    "\n",
    "class BaselineLSTMModel(nn.Module):\n",
    "    def __init__(self, vocab_size: int, embedding_dim: int,  lstm_hidden: int, droup_out: float, num_lstm_layers: int):\n",
    "        super(BaselineLSTMModel, self).__init__()\n",
    "\n",
    "        self.emb = nn.Embedding(vocab_size, embedding_dim, Constants.PAD)\n",
    "        self.lstm_1 = nn.LSTM(embedding_dim, lstm_hidden, batch_first=True, dropout= dropout, num_layers= num_lstm_layers)\n",
    "\n",
    "        self.output_net = nn.Sequential(\n",
    "            nn.Linear(lstm_hidden, vocab_size),\n",
    "            nn.Softmax()\n",
    "        )\n",
    "\n",
    "        ## The trainable init h0 and c0 in LSTM.\n",
    "        self.h0 = nn.Parameter(torch.randn(1, lstm_hidden))\n",
    "        self.c0 = nn.Parameter(torch.randn(1, lstm_hidden))"
   ]
  },
  {
   "cell_type": "code",
   "execution_count": 17,
   "metadata": {},
   "outputs": [],
   "source": [
    "emb_dim: int  = 256\n",
    "batch_size = 16\n",
    "vocab_size = 40\n",
    "seq_len = 20\n",
    "\n",
    "\n",
    "fake_data = torch.randint(0, 10, (batch_size, seq_len))"
   ]
  },
  {
   "cell_type": "code",
   "execution_count": 34,
   "metadata": {},
   "outputs": [
    {
     "output_type": "execute_result",
     "data": {
      "text/plain": [
       "tensor([[9, 3, 8, 1, 6, 0, 6, 4, 6, 6, 5, 5, 0, 4, 2, 1, 1, 9, 5, 2],\n",
       "        [0, 0, 7, 3, 1, 8, 6, 2, 5, 7, 3, 7, 6, 0, 9, 1, 6, 4, 6, 7],\n",
       "        [2, 6, 5, 4, 8, 9, 2, 5, 9, 0, 5, 0, 3, 2, 2, 5, 5, 8, 9, 5],\n",
       "        [0, 9, 5, 5, 8, 1, 6, 1, 9, 0, 8, 0, 6, 0, 3, 1, 5, 2, 7, 1],\n",
       "        [5, 6, 0, 2, 0, 2, 8, 6, 5, 1, 6, 4, 1, 9, 6, 9, 4, 7, 5, 4],\n",
       "        [9, 8, 5, 4, 1, 0, 2, 8, 3, 7, 4, 5, 8, 1, 9, 5, 5, 8, 9, 2],\n",
       "        [0, 6, 3, 9, 7, 7, 8, 3, 1, 9, 9, 9, 9, 2, 9, 2, 3, 4, 0, 1],\n",
       "        [7, 2, 6, 3, 1, 3, 0, 6, 3, 6, 3, 3, 1, 8, 8, 0, 1, 2, 1, 7],\n",
       "        [4, 0, 1, 4, 2, 2, 6, 0, 5, 7, 2, 0, 6, 7, 1, 5, 8, 0, 7, 4],\n",
       "        [7, 4, 7, 7, 8, 6, 6, 4, 4, 1, 1, 4, 8, 6, 8, 4, 9, 7, 7, 2],\n",
       "        [5, 1, 7, 9, 2, 6, 6, 1, 7, 4, 2, 8, 0, 8, 8, 6, 7, 1, 3, 3],\n",
       "        [0, 7, 8, 5, 5, 6, 8, 1, 8, 1, 0, 8, 7, 8, 5, 2, 7, 8, 1, 6],\n",
       "        [7, 8, 2, 5, 1, 8, 4, 7, 0, 8, 1, 5, 2, 6, 4, 0, 3, 0, 9, 6],\n",
       "        [9, 3, 4, 1, 2, 6, 1, 2, 2, 1, 3, 9, 8, 8, 3, 6, 6, 2, 6, 3],\n",
       "        [7, 2, 5, 2, 1, 9, 9, 2, 1, 1, 7, 8, 3, 7, 5, 2, 4, 0, 9, 4],\n",
       "        [2, 0, 6, 4, 6, 1, 4, 1, 5, 7, 9, 8, 1, 4, 1, 0, 2, 5, 0, 4]])"
      ]
     },
     "metadata": {},
     "execution_count": 34
    }
   ],
   "source": [
    "fake_data"
   ]
  },
  {
   "cell_type": "code",
   "execution_count": 37,
   "metadata": {},
   "outputs": [
    {
     "output_type": "execute_result",
     "data": {
      "text/plain": [
       "(tensor([[[-0.5815,  0.2030, -0.0202,  ...,  0.8039, -0.5579,  0.0098],\n",
       "          [ 0.4073, -0.0496, -0.1913,  ..., -0.0657,  0.7767, -0.3504],\n",
       "          [-0.2486, -0.0098,  0.3298,  ...,  0.0799, -0.4597, -0.0956],\n",
       "          ...,\n",
       "          [-0.0109,  0.0360, -0.6845,  ..., -0.0649, -0.0043,  0.2336],\n",
       "          [-0.2057,  0.1425,  0.0550,  ...,  0.0782, -0.2461,  0.0945],\n",
       "          [-0.1666,  0.1623,  0.1167,  ...,  0.0782, -0.4302,  0.0701]],\n",
       " \n",
       "         [[ 0.1281,  0.0067, -0.0837,  ..., -0.1079,  0.0955,  0.1091],\n",
       "          [-0.0275,  0.0645,  0.0321,  ..., -0.1205,  0.0091,  0.1253],\n",
       "          [ 0.0012,  0.0579,  0.0402,  ...,  0.0322, -0.0506,  0.0794],\n",
       "          ...,\n",
       "          [ 0.0788,  0.0189, -0.0584,  ..., -0.0695,  0.2621,  0.0312],\n",
       "          [-0.0230,  0.0535,  0.1314,  ..., -0.0962,  0.1807,  0.1278],\n",
       "          [ 0.0287, -0.0373,  0.0254,  ...,  0.0532,  0.0538,  0.1610]]],\n",
       "        grad_fn=<StackBackward>),\n",
       " tensor([[[-0.7333,  0.2697, -0.0363,  ...,  1.8080, -1.3395,  0.1074],\n",
       "          [ 1.1645, -0.0619, -0.6190,  ..., -0.4000,  1.0493, -0.7541],\n",
       "          [-0.9598, -0.0468,  0.3511,  ...,  0.8339, -0.7021, -0.3485],\n",
       "          ...,\n",
       "          [-0.0751,  0.9200, -0.9025,  ..., -0.7367, -0.0598,  0.8567],\n",
       "          [-0.4498,  0.6202,  0.1743,  ...,  0.6741, -0.3433,  0.3482],\n",
       "          [-0.3788,  0.6861,  0.2972,  ...,  0.5841, -0.6436,  0.2179]],\n",
       " \n",
       "         [[ 0.2381,  0.0159, -0.1270,  ..., -0.1593,  0.2098,  0.2516],\n",
       "          [-0.0509,  0.1453,  0.0468,  ..., -0.2511,  0.0421,  0.3583],\n",
       "          [ 0.0023,  0.1302,  0.0785,  ...,  0.0593, -0.0969,  0.1524],\n",
       "          ...,\n",
       "          [ 0.2020,  0.0428, -0.1277,  ..., -0.1342,  0.4823,  0.0746],\n",
       "          [-0.0698,  0.1210,  0.2448,  ..., -0.1491,  0.2975,  0.2317],\n",
       "          [ 0.0677, -0.0761,  0.0548,  ...,  0.0961,  0.1137,  0.3462]]],\n",
       "        grad_fn=<StackBackward>))"
      ]
     },
     "metadata": {},
     "execution_count": 37
    }
   ],
   "source": [
    "lstm_hidden"
   ]
  },
  {
   "cell_type": "code",
   "execution_count": null,
   "metadata": {},
   "outputs": [],
   "source": []
  },
  {
   "cell_type": "code",
   "execution_count": 51,
   "metadata": {},
   "outputs": [],
   "source": [
    "lstm_layer=2 "
   ]
  },
  {
   "cell_type": "code",
   "execution_count": 74,
   "metadata": {},
   "outputs": [],
   "source": [
    "h0 = nn.Parameter(torch.randn(lstm_layer,1, lstm_hidden))\n",
    "c0 = nn.Parameter(torch.randn(lstm_layer,1, lstm_hidden))"
   ]
  },
  {
   "cell_type": "code",
   "execution_count": 75,
   "metadata": {},
   "outputs": [
    {
     "output_type": "execute_result",
     "data": {
      "text/plain": [
       "torch.Size([2, 1, 32])"
      ]
     },
     "metadata": {},
     "execution_count": 75
    }
   ],
   "source": [
    "h0.shape"
   ]
  },
  {
   "cell_type": "code",
   "execution_count": 76,
   "metadata": {},
   "outputs": [],
   "source": [
    "emb_layer = nn.Embedding(num_embeddings=vocab_size, embedding_dim= emb_dim)"
   ]
  },
  {
   "cell_type": "code",
   "execution_count": 77,
   "metadata": {},
   "outputs": [],
   "source": [
    "emb_out = emb_layer(fake_data)"
   ]
  },
  {
   "cell_type": "code",
   "execution_count": 78,
   "metadata": {},
   "outputs": [
    {
     "output_type": "execute_result",
     "data": {
      "text/plain": [
       "torch.Size([16, 20, 256])"
      ]
     },
     "metadata": {},
     "execution_count": 78
    }
   ],
   "source": [
    "emb_out.shape"
   ]
  },
  {
   "cell_type": "code",
   "execution_count": 79,
   "metadata": {},
   "outputs": [],
   "source": [
    "lstm_hidden = 32"
   ]
  },
  {
   "cell_type": "code",
   "execution_count": null,
   "metadata": {},
   "outputs": [],
   "source": []
  },
  {
   "cell_type": "code",
   "execution_count": null,
   "metadata": {},
   "outputs": [],
   "source": []
  },
  {
   "cell_type": "code",
   "execution_count": null,
   "metadata": {},
   "outputs": [],
   "source": []
  },
  {
   "cell_type": "code",
   "execution_count": 80,
   "metadata": {},
   "outputs": [],
   "source": [
    "lstm = nn.LSTM(emb_dim, lstm_hidden, batch_first=True, dropout= 0.8, num_layers= 2)"
   ]
  },
  {
   "cell_type": "code",
   "execution_count": null,
   "metadata": {},
   "outputs": [],
   "source": []
  },
  {
   "cell_type": "code",
   "execution_count": 81,
   "metadata": {},
   "outputs": [
    {
     "output_type": "execute_result",
     "data": {
      "text/plain": [
       "torch.Size([2, 1, 32])"
      ]
     },
     "metadata": {},
     "execution_count": 81
    }
   ],
   "source": [
    "h0.shape"
   ]
  },
  {
   "cell_type": "code",
   "execution_count": null,
   "metadata": {},
   "outputs": [],
   "source": []
  },
  {
   "cell_type": "code",
   "execution_count": null,
   "metadata": {},
   "outputs": [],
   "source": []
  },
  {
   "cell_type": "code",
   "execution_count": 82,
   "metadata": {},
   "outputs": [],
   "source": [
    "lstm_out, lstm_h =  lstm(emb_out, (h0.repeat(1, batch_size, 1) ,c0.repeat(1, batch_size, 1)))"
   ]
  },
  {
   "cell_type": "code",
   "execution_count": 83,
   "metadata": {},
   "outputs": [
    {
     "output_type": "execute_result",
     "data": {
      "text/plain": [
       "torch.Size([16, 20, 32])"
      ]
     },
     "metadata": {},
     "execution_count": 83
    }
   ],
   "source": [
    "lstm_out.shape"
   ]
  },
  {
   "cell_type": "code",
   "execution_count": 85,
   "metadata": {},
   "outputs": [
    {
     "output_type": "execute_result",
     "data": {
      "text/plain": [
       "torch.Size([16, 32])"
      ]
     },
     "metadata": {},
     "execution_count": 85
    }
   ],
   "source": [
    "lstm_out[:, -1, :].shape"
   ]
  },
  {
   "cell_type": "code",
   "execution_count": 86,
   "metadata": {},
   "outputs": [],
   "source": [
    "output_net = nn.Linear(lstm_hidden, vocab_size)"
   ]
  },
  {
   "cell_type": "code",
   "execution_count": 88,
   "metadata": {},
   "outputs": [],
   "source": [
    "out = output_net(lstm_out)"
   ]
  },
  {
   "cell_type": "code",
   "execution_count": 89,
   "metadata": {},
   "outputs": [
    {
     "output_type": "execute_result",
     "data": {
      "text/plain": [
       "torch.Size([16, 20, 40])"
      ]
     },
     "metadata": {},
     "execution_count": 89
    }
   ],
   "source": [
    "out.shape"
   ]
  },
  {
   "cell_type": "code",
   "execution_count": 99,
   "metadata": {},
   "outputs": [],
   "source": [
    "lossCal = nn.CrossEntropyLoss( )"
   ]
  },
  {
   "cell_type": "code",
   "execution_count": 110,
   "metadata": {},
   "outputs": [],
   "source": [
    "final_loss = lossCal(out[:, :-1,:].permute(0, 2,1 ), fake_data[:, 1:])"
   ]
  },
  {
   "cell_type": "code",
   "execution_count": 111,
   "metadata": {},
   "outputs": [
    {
     "output_type": "execute_result",
     "data": {
      "text/plain": [
       "tensor(3.7325, grad_fn=<NllLoss2DBackward>)"
      ]
     },
     "metadata": {},
     "execution_count": 111
    }
   ],
   "source": [
    "final_loss"
   ]
  },
  {
   "cell_type": "code",
   "execution_count": 112,
   "metadata": {},
   "outputs": [],
   "source": [
    "final_loss.backward()"
   ]
  },
  {
   "cell_type": "code",
   "execution_count": null,
   "metadata": {},
   "outputs": [],
   "source": []
  },
  {
   "cell_type": "code",
   "execution_count": null,
   "metadata": {},
   "outputs": [],
   "source": []
  },
  {
   "cell_type": "code",
   "execution_count": null,
   "metadata": {},
   "outputs": [],
   "source": []
  },
  {
   "cell_type": "code",
   "execution_count": 107,
   "metadata": {},
   "outputs": [
    {
     "output_type": "execute_result",
     "data": {
      "text/plain": [
       "torch.Size([16, 19])"
      ]
     },
     "metadata": {},
     "execution_count": 107
    }
   ],
   "source": [
    "fake_data[:, 1:].shape"
   ]
  },
  {
   "cell_type": "code",
   "execution_count": null,
   "metadata": {},
   "outputs": [],
   "source": []
  },
  {
   "cell_type": "code",
   "execution_count": 106,
   "metadata": {},
   "outputs": [
    {
     "output_type": "execute_result",
     "data": {
      "text/plain": [
       "20"
      ]
     },
     "metadata": {},
     "execution_count": 106
    }
   ],
   "source": [
    "seq_len"
   ]
  },
  {
   "cell_type": "code",
   "execution_count": null,
   "metadata": {},
   "outputs": [],
   "source": []
  }
 ]
}