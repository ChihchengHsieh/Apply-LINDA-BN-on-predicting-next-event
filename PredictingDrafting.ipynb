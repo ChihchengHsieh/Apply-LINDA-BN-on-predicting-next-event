{
 "metadata": {
  "language_info": {
   "codemirror_mode": {
    "name": "ipython",
    "version": 3
   },
   "file_extension": ".py",
   "mimetype": "text/x-python",
   "name": "python",
   "nbconvert_exporter": "python",
   "pygments_lexer": "ipython3",
   "version": "3.9.4-final"
  },
  "orig_nbformat": 2,
  "kernelspec": {
   "name": "python394jvsc74a57bd00fab9f4e2480a02528c8c5e2c5eed9f6f178de25ad0614451a9194f538e2ccc5",
   "display_name": "Python 3.9.4 64-bit ('dl')"
  }
 },
 "nbformat": 4,
 "nbformat_minor": 2,
 "cells": [
  {
   "cell_type": "code",
   "execution_count": 3,
   "metadata": {},
   "outputs": [],
   "source": [
    "import torch\n",
    "t = torch.tensor([[3,2],[4,5],[1,7]])"
   ]
  },
  {
   "cell_type": "code",
   "execution_count": 4,
   "metadata": {},
   "outputs": [
    {
     "output_type": "execute_result",
     "data": {
      "text/plain": [
       "True"
      ]
     },
     "metadata": {},
     "execution_count": 4
    }
   ],
   "source": [
    "t.size() == (3, 2)"
   ]
  },
  {
   "cell_type": "code",
   "execution_count": 10,
   "metadata": {},
   "outputs": [
    {
     "output_type": "execute_result",
     "data": {
      "text/plain": [
       "'(5, 3, 9)'"
      ]
     },
     "metadata": {},
     "execution_count": 10
    }
   ],
   "source": [
    " \"%s\"   %(str((5,3,9)))"
   ]
  },
  {
   "cell_type": "code",
   "execution_count": 12,
   "metadata": {},
   "outputs": [
    {
     "output_type": "execute_result",
     "data": {
      "text/plain": [
       "'torch.Size([3, 2])'"
      ]
     },
     "metadata": {},
     "execution_count": 12
    }
   ],
   "source": [
    "str(t.size())"
   ]
  },
  {
   "source": [
    "t.size().item"
   ],
   "cell_type": "code",
   "metadata": {},
   "execution_count": 15,
   "outputs": [
    {
     "output_type": "error",
     "ename": "AttributeError",
     "evalue": "'torch.Size' object has no attribute 'item'",
     "traceback": [
      "\u001b[0;31m---------------------------------------------------------------------------\u001b[0m",
      "\u001b[0;31mAttributeError\u001b[0m                            Traceback (most recent call last)",
      "\u001b[0;32m<ipython-input-15-1175ccde04ae>\u001b[0m in \u001b[0;36m<module>\u001b[0;34m\u001b[0m\n\u001b[0;32m----> 1\u001b[0;31m \u001b[0mt\u001b[0m\u001b[0;34m.\u001b[0m\u001b[0msize\u001b[0m\u001b[0;34m(\u001b[0m\u001b[0;34m)\u001b[0m\u001b[0;34m.\u001b[0m\u001b[0mitem\u001b[0m\u001b[0;34m\u001b[0m\u001b[0;34m\u001b[0m\u001b[0m\n\u001b[0m",
      "\u001b[0;31mAttributeError\u001b[0m: 'torch.Size' object has no attribute 'item'"
     ]
    }
   ]
  },
  {
   "cell_type": "code",
   "execution_count": 19,
   "metadata": {},
   "outputs": [
    {
     "output_type": "execute_result",
     "data": {
      "text/plain": [
       "torch.Size([3, 2, 3])"
      ]
     },
     "metadata": {},
     "execution_count": 19
    }
   ],
   "source": []
  },
  {
   "cell_type": "code",
   "execution_count": 32,
   "metadata": {},
   "outputs": [],
   "source": [
    "dist = torch.tensor([0.1, 0.2, 0.2, 0.5])"
   ]
  },
  {
   "source": [
    "torch.multinomial(dist, 10, replacement= True)"
   ],
   "cell_type": "code",
   "metadata": {},
   "execution_count": 33,
   "outputs": [
    {
     "output_type": "execute_result",
     "data": {
      "text/plain": [
       "tensor([1, 3, 2, 1, 1, 3, 3, 3, 2, 3])"
      ]
     },
     "metadata": {},
     "execution_count": 33
    }
   ]
  },
  {
   "cell_type": "code",
   "execution_count": 24,
   "metadata": {},
   "outputs": [
    {
     "output_type": "execute_result",
     "data": {
      "text/plain": [
       "tensor([0.5000, 0.2000, 0.3000])"
      ]
     },
     "metadata": {},
     "execution_count": 24
    }
   ],
   "source": [
    "dist"
   ]
  },
  {
   "cell_type": "code",
   "execution_count": 52,
   "metadata": {},
   "outputs": [],
   "source": [
    "b = torch.tensor( [[.05, .9, .05], [.1, .8, .1]])"
   ]
  },
  {
   "cell_type": "code",
   "execution_count": 53,
   "metadata": {},
   "outputs": [
    {
     "output_type": "execute_result",
     "data": {
      "text/plain": [
       "tensor([[1],\n",
       "        [1]])"
      ]
     },
     "metadata": {},
     "execution_count": 53
    }
   ],
   "source": [
    "torch.multinomial(b, 1, replacement=True)"
   ]
  },
  {
   "cell_type": "code",
   "execution_count": 55,
   "metadata": {},
   "outputs": [],
   "source": [
    "batch_size = 32\n",
    "seq_len = 20\n",
    "vocab_size = 8\n",
    "testing_tensor =torch.randn(batch_size,seq_len, vocab_size )"
   ]
  },
  {
   "cell_type": "code",
   "execution_count": 74,
   "metadata": {},
   "outputs": [
    {
     "output_type": "execute_result",
     "data": {
      "text/plain": [
       "torch.Size([32, 20, 8])"
      ]
     },
     "metadata": {},
     "execution_count": 74
    }
   ],
   "source": [
    "testing_tensor.size()"
   ]
  },
  {
   "cell_type": "code",
   "execution_count": 63,
   "metadata": {},
   "outputs": [],
   "source": [
    "lengths = torch.randint(1, 21, (batch_size, 1)).squeeze(1)"
   ]
  },
  {
   "cell_type": "code",
   "execution_count": 67,
   "metadata": {},
   "outputs": [],
   "source": [
    "final_index = lengths - 1"
   ]
  },
  {
   "cell_type": "code",
   "execution_count": 66,
   "metadata": {},
   "outputs": [],
   "source": [
    "import torch.nn.functional as F"
   ]
  },
  {
   "cell_type": "code",
   "execution_count": 76,
   "metadata": {},
   "outputs": [
    {
     "output_type": "execute_result",
     "data": {
      "text/plain": [
       "tensor([[[1, 0],\n",
       "         [1, 0],\n",
       "         [1, 0],\n",
       "         ...,\n",
       "         [1, 0],\n",
       "         [1, 0],\n",
       "         [1, 0]],\n",
       "\n",
       "        [[1, 0],\n",
       "         [1, 0],\n",
       "         [1, 0],\n",
       "         ...,\n",
       "         [1, 0],\n",
       "         [1, 0],\n",
       "         [1, 0]],\n",
       "\n",
       "        [[1, 0],\n",
       "         [1, 0],\n",
       "         [1, 0],\n",
       "         ...,\n",
       "         [1, 0],\n",
       "         [1, 0],\n",
       "         [1, 0]],\n",
       "\n",
       "        ...,\n",
       "\n",
       "        [[1, 0],\n",
       "         [1, 0],\n",
       "         [1, 0],\n",
       "         ...,\n",
       "         [1, 0],\n",
       "         [1, 0],\n",
       "         [1, 0]],\n",
       "\n",
       "        [[1, 0],\n",
       "         [0, 1],\n",
       "         [1, 0],\n",
       "         ...,\n",
       "         [1, 0],\n",
       "         [1, 0],\n",
       "         [1, 0]],\n",
       "\n",
       "        [[1, 0],\n",
       "         [1, 0],\n",
       "         [1, 0],\n",
       "         ...,\n",
       "         [1, 0],\n",
       "         [1, 0],\n",
       "         [1, 0]]])"
      ]
     },
     "metadata": {},
     "execution_count": 76
    }
   ],
   "source": [
    "F.one_hot(F.one_hot(final_index, seq_len))"
   ]
  },
  {
   "cell_type": "code",
   "execution_count": 71,
   "metadata": {},
   "outputs": [
    {
     "output_type": "execute_result",
     "data": {
      "text/plain": [
       "torch.Size([32])"
      ]
     },
     "metadata": {},
     "execution_count": 71
    }
   ],
   "source": [
    "final_index.size()"
   ]
  },
  {
   "cell_type": "code",
   "execution_count": 90,
   "metadata": {},
   "outputs": [],
   "source": [
    "bs = testing_tensor[torch.arange(testing_tensor.size(0)),final_index,:]"
   ]
  },
  {
   "cell_type": "code",
   "execution_count": 92,
   "metadata": {},
   "outputs": [],
   "source": [
    "out = F.softmax(bs, dim= -1)"
   ]
  },
  {
   "cell_type": "code",
   "execution_count": 94,
   "metadata": {},
   "outputs": [
    {
     "output_type": "execute_result",
     "data": {
      "text/plain": [
       "tensor(1.0000)"
      ]
     },
     "metadata": {},
     "execution_count": 94
    }
   ],
   "source": [
    "out[0].sum()"
   ]
  },
  {
   "cell_type": "code",
   "execution_count": 98,
   "metadata": {},
   "outputs": [
    {
     "output_type": "execute_result",
     "data": {
      "text/plain": [
       "torch.Size([32, 1])"
      ]
     },
     "metadata": {},
     "execution_count": 98
    }
   ],
   "source": [
    "torch.multinomial(out, num_samples= 1).size()"
   ]
  },
  {
   "cell_type": "code",
   "execution_count": 103,
   "metadata": {},
   "outputs": [
    {
     "output_type": "execute_result",
     "data": {
      "text/plain": [
       "torch.Size([32])"
      ]
     },
     "metadata": {},
     "execution_count": 103
    }
   ],
   "source": [
    "torch.argmax(out, dim = -1).size()"
   ]
  },
  {
   "cell_type": "code",
   "execution_count": 101,
   "metadata": {},
   "outputs": [
    {
     "output_type": "execute_result",
     "data": {
      "text/plain": [
       "torch.Size([32, 8])"
      ]
     },
     "metadata": {},
     "execution_count": 101
    }
   ],
   "source": [
    "out.size()"
   ]
  },
  {
   "cell_type": "code",
   "execution_count": 1,
   "metadata": {},
   "outputs": [
    {
     "output_type": "stream",
     "name": "stderr",
     "text": [
      "/Users/jrhs/.pyenv/versions/dl/lib/python3.9/site-packages/pandas/compat/__init__.py:97: UserWarning: Could not import the lzma module. Your installed Python is incomplete. Attempting to use lzma compression will result in a RuntimeError.\n  warnings.warn(msg)\n"
     ]
    }
   ],
   "source": [
    "from Controller.TrainingController import TrainingController"
   ]
  },
  {
   "cell_type": "code",
   "execution_count": 2,
   "metadata": {},
   "outputs": [
    {
     "output_type": "stream",
     "name": "stdout",
     "text": [
      "=========================================\n",
      "| Preprocessed data loaded successfully |\n",
      "=========================================\n",
      "/Users/jrhs/.pyenv/versions/dl/lib/python3.9/site-packages/torch/nn/modules/rnn.py:60: UserWarning: dropout option adds dropout after all but last recurrent layer, so non-zero dropout expects num_layers greater than 1, but got dropout=0.1 and num_layers=1\n",
      "  warnings.warn(\"dropout option adds dropout after all but last \"\n"
     ]
    },
    {
     "output_type": "display_data",
     "data": {
      "text/plain": "<Figure size 1600x800 with 0 Axes>"
     },
     "metadata": {}
    }
   ],
   "source": [
    "trainer = TrainingController()"
   ]
  },
  {
   "cell_type": "code",
   "execution_count": 3,
   "metadata": {},
   "outputs": [],
   "source": [
    "caseids, data, target, lengths  = iter(trainer.train_data_loader).next()"
   ]
  },
  {
   "cell_type": "code",
   "execution_count": 4,
   "metadata": {},
   "outputs": [],
   "source": [
    "predicted, hidden_state  = trainer.model.predict_next(input=data, lengths= lengths, use_argmax= False)"
   ]
  },
  {
   "cell_type": "code",
   "execution_count": 5,
   "metadata": {},
   "outputs": [],
   "source": [
    "predicted_list = trainer.model.predict_next_n(input= data, lengths= lengths, use_argmax= True, n= 5)"
   ]
  },
  {
   "cell_type": "code",
   "execution_count": 6,
   "metadata": {},
   "outputs": [],
   "source": [
    "from Utils.Constants import Constants"
   ]
  },
  {
   "cell_type": "code",
   "execution_count": 7,
   "metadata": {},
   "outputs": [
    {
     "output_type": "execute_result",
     "data": {
      "text/plain": [
       "[2,\n",
       " 12,\n",
       " 9,\n",
       " 10,\n",
       " 27,\n",
       " 28,\n",
       " 3,\n",
       " 17,\n",
       " 8,\n",
       " 15,\n",
       " 19,\n",
       " 33,\n",
       " 26,\n",
       " 34,\n",
       " 32,\n",
       " 34,\n",
       " 32,\n",
       " 34,\n",
       " 17,\n",
       " 14,\n",
       " 15,\n",
       " 19,\n",
       " 33,\n",
       " 32,\n",
       " 34,\n",
       " 32,\n",
       " 34,\n",
       " 18,\n",
       " 36,\n",
       " 32,\n",
       " 37,\n",
       " 13,\n",
       " 4,\n",
       " 5,\n",
       " 11,\n",
       " 35,\n",
       " 5,\n",
       " 24,\n",
       " 10,\n",
       " 12,\n",
       " 7]"
      ]
     },
     "metadata": {},
     "execution_count": 7
    }
   ],
   "source": [
    "predicted_list[5]"
   ]
  },
  {
   "cell_type": "code",
   "execution_count": 8,
   "metadata": {},
   "outputs": [
    {
     "output_type": "execute_result",
     "data": {
      "text/plain": [
       "['<SOS>',\n",
       " 'A_SUBMITTED_COMPLETE',\n",
       " 'A_PARTLYSUBMITTED_COMPLETE',\n",
       " 'A_PREACCEPTED_COMPLETE',\n",
       " 'W_Completeren aanvraag_SCHEDULE',\n",
       " 'W_Completeren aanvraag_START',\n",
       " 'A_ACCEPTED_COMPLETE',\n",
       " 'O_SELECTED_COMPLETE',\n",
       " 'A_FINALIZED_COMPLETE',\n",
       " 'O_CREATED_COMPLETE',\n",
       " 'O_SENT_COMPLETE',\n",
       " 'W_Nabellen offertes_SCHEDULE',\n",
       " 'W_Completeren aanvraag_COMPLETE',\n",
       " 'W_Nabellen offertes_START',\n",
       " 'W_Nabellen offertes_COMPLETE',\n",
       " 'W_Nabellen offertes_START',\n",
       " 'W_Nabellen offertes_COMPLETE',\n",
       " 'W_Nabellen offertes_START',\n",
       " 'O_SELECTED_COMPLETE',\n",
       " 'O_CANCELLED_COMPLETE',\n",
       " 'O_CREATED_COMPLETE',\n",
       " 'O_SENT_COMPLETE',\n",
       " 'W_Nabellen offertes_SCHEDULE',\n",
       " 'W_Nabellen offertes_COMPLETE',\n",
       " 'W_Nabellen offertes_START',\n",
       " 'W_Nabellen offertes_COMPLETE',\n",
       " 'W_Nabellen offertes_START',\n",
       " 'O_SENT_BACK_COMPLETE',\n",
       " 'W_Valideren aanvraag_SCHEDULE',\n",
       " 'W_Nabellen offertes_COMPLETE',\n",
       " 'W_Valideren aanvraag_START',\n",
       " 'O_ACCEPTED_COMPLETE',\n",
       " 'A_ACTIVATED_COMPLETE',\n",
       " 'A_APPROVED_COMPLETE',\n",
       " 'A_REGISTERED_COMPLETE',\n",
       " 'W_Valideren aanvraag_COMPLETE',\n",
       " 'A_APPROVED_COMPLETE',\n",
       " 'W_Beoordelen fraude_SCHEDULE',\n",
       " 'A_PREACCEPTED_COMPLETE',\n",
       " 'A_SUBMITTED_COMPLETE',\n",
       " 'A_DECLINED_COMPLETE']"
      ]
     },
     "metadata": {},
     "execution_count": 8
    }
   ],
   "source": [
    "trainer.dataset.list_of_index_to_vocab(predicted_list[5])"
   ]
  },
  {
   "cell_type": "code",
   "execution_count": 19,
   "metadata": {},
   "outputs": [
    {
     "output_type": "execute_result",
     "data": {
      "text/plain": [
       "1"
      ]
     },
     "metadata": {},
     "execution_count": 19
    }
   ],
   "source": [
    "trainer.dataset.vocab_to_index(Constants.EOS_VOCAB)"
   ]
  },
  {
   "cell_type": "code",
   "execution_count": null,
   "metadata": {},
   "outputs": [],
   "source": []
  },
  {
   "cell_type": "code",
   "execution_count": 26,
   "metadata": {},
   "outputs": [],
   "source": [
    "a = [3,4,5,6,7,8]"
   ]
  },
  {
   "cell_type": "code",
   "execution_count": 30,
   "metadata": {},
   "outputs": [
    {
     "output_type": "execute_result",
     "data": {
      "text/plain": [
       "[3, 4, 5, 6, 7, 8]"
      ]
     },
     "metadata": {},
     "execution_count": 30
    }
   ],
   "source": [
    "a[: 200]"
   ]
  },
  {
   "cell_type": "code",
   "execution_count": 31,
   "metadata": {},
   "outputs": [
    {
     "output_type": "execute_result",
     "data": {
      "text/plain": [
       "[3, 4, 5, 6, 7]"
      ]
     },
     "metadata": {},
     "execution_count": 31
    }
   ],
   "source": [
    "a[:-1]"
   ]
  },
  {
   "cell_type": "code",
   "execution_count": null,
   "metadata": {},
   "outputs": [],
   "source": [
    "len"
   ]
  },
  {
   "cell_type": "code",
   "execution_count": 8,
   "metadata": {},
   "outputs": [],
   "source": [
    "vacab = [trainer.dataset.list_of_index_to_vocab(pl) for  pl  in predicted_list]"
   ]
  },
  {
   "cell_type": "code",
   "execution_count": 10,
   "metadata": {},
   "outputs": [
    {
     "output_type": "execute_result",
     "data": {
      "text/plain": [
       "[61,\n",
       " 54,\n",
       " 49,\n",
       " 43,\n",
       " 41,\n",
       " 37,\n",
       " 36,\n",
       " 35,\n",
       " 34,\n",
       " 33,\n",
       " 30,\n",
       " 28,\n",
       " 25,\n",
       " 25,\n",
       " 25,\n",
       " 23,\n",
       " 18,\n",
       " 17,\n",
       " 17,\n",
       " 15,\n",
       " 14,\n",
       " 13,\n",
       " 13,\n",
       " 13,\n",
       " 10,\n",
       " 10,\n",
       " 10,\n",
       " 10,\n",
       " 10,\n",
       " 10,\n",
       " 10,\n",
       " 10]"
      ]
     },
     "metadata": {},
     "execution_count": 10
    }
   ],
   "source": [
    "[len(i)for i in vacab]"
   ]
  },
  {
   "cell_type": "code",
   "execution_count": null,
   "metadata": {},
   "outputs": [],
   "source": []
  },
  {
   "cell_type": "code",
   "execution_count": 6,
   "metadata": {},
   "outputs": [
    {
     "output_type": "execute_result",
     "data": {
      "text/plain": [
       "[[2,\n",
       "  12,\n",
       "  9,\n",
       "  10,\n",
       "  27,\n",
       "  28,\n",
       "  26,\n",
       "  28,\n",
       "  26,\n",
       "  28,\n",
       "  26,\n",
       "  28,\n",
       "  26,\n",
       "  28,\n",
       "  26,\n",
       "  28,\n",
       "  26,\n",
       "  28,\n",
       "  26,\n",
       "  28,\n",
       "  26,\n",
       "  28,\n",
       "  26,\n",
       "  28,\n",
       "  26,\n",
       "  28,\n",
       "  3,\n",
       "  8,\n",
       "  17,\n",
       "  15,\n",
       "  19,\n",
       "  33,\n",
       "  26,\n",
       "  34,\n",
       "  32,\n",
       "  34,\n",
       "  32,\n",
       "  34,\n",
       "  32,\n",
       "  34,\n",
       "  32,\n",
       "  34,\n",
       "  32,\n",
       "  34,\n",
       "  32,\n",
       "  34,\n",
       "  32,\n",
       "  34,\n",
       "  32,\n",
       "  34,\n",
       "  32,\n",
       "  34,\n",
       "  32,\n",
       "  32,\n",
       "  14,\n",
       "  6,\n",
       "  37,\n",
       "  12,\n",
       "  6,\n",
       "  19,\n",
       "  22],\n",
       " [2,\n",
       "  12,\n",
       "  9,\n",
       "  21,\n",
       "  22,\n",
       "  10,\n",
       "  27,\n",
       "  20,\n",
       "  28,\n",
       "  26,\n",
       "  28,\n",
       "  3,\n",
       "  17,\n",
       "  8,\n",
       "  15,\n",
       "  19,\n",
       "  33,\n",
       "  26,\n",
       "  34,\n",
       "  32,\n",
       "  34,\n",
       "  32,\n",
       "  34,\n",
       "  32,\n",
       "  34,\n",
       "  32,\n",
       "  34,\n",
       "  32,\n",
       "  34,\n",
       "  32,\n",
       "  34,\n",
       "  32,\n",
       "  34,\n",
       "  32,\n",
       "  34,\n",
       "  18,\n",
       "  36,\n",
       "  32,\n",
       "  37,\n",
       "  35,\n",
       "  37,\n",
       "  35,\n",
       "  37,\n",
       "  11,\n",
       "  13,\n",
       "  5,\n",
       "  4,\n",
       "  35,\n",
       "  1,\n",
       "  11,\n",
       "  32,\n",
       "  34,\n",
       "  27,\n",
       "  29],\n",
       " [2,\n",
       "  12,\n",
       "  9,\n",
       "  10,\n",
       "  27,\n",
       "  28,\n",
       "  3,\n",
       "  17,\n",
       "  8,\n",
       "  15,\n",
       "  19,\n",
       "  33,\n",
       "  26,\n",
       "  34,\n",
       "  32,\n",
       "  34,\n",
       "  32,\n",
       "  34,\n",
       "  32,\n",
       "  34,\n",
       "  32,\n",
       "  34,\n",
       "  32,\n",
       "  34,\n",
       "  32,\n",
       "  34,\n",
       "  32,\n",
       "  34,\n",
       "  32,\n",
       "  34,\n",
       "  32,\n",
       "  34,\n",
       "  18,\n",
       "  36,\n",
       "  32,\n",
       "  37,\n",
       "  35,\n",
       "  37,\n",
       "  35,\n",
       "  37,\n",
       "  7,\n",
       "  16,\n",
       "  35,\n",
       "  1,\n",
       "  23,\n",
       "  12,\n",
       "  14,\n",
       "  29,\n",
       "  10],\n",
       " [2,\n",
       "  12,\n",
       "  9,\n",
       "  21,\n",
       "  22,\n",
       "  10,\n",
       "  27,\n",
       "  20,\n",
       "  28,\n",
       "  26,\n",
       "  28,\n",
       "  26,\n",
       "  28,\n",
       "  26,\n",
       "  28,\n",
       "  26,\n",
       "  28,\n",
       "  26,\n",
       "  28,\n",
       "  26,\n",
       "  28,\n",
       "  26,\n",
       "  28,\n",
       "  26,\n",
       "  28,\n",
       "  26,\n",
       "  28,\n",
       "  26,\n",
       "  28,\n",
       "  26,\n",
       "  28,\n",
       "  26,\n",
       "  28,\n",
       "  26,\n",
       "  28,\n",
       "  7,\n",
       "  26,\n",
       "  1,\n",
       "  32,\n",
       "  11,\n",
       "  9,\n",
       "  38,\n",
       "  24],\n",
       " [2,\n",
       "  12,\n",
       "  9,\n",
       "  10,\n",
       "  27,\n",
       "  28,\n",
       "  26,\n",
       "  28,\n",
       "  26,\n",
       "  28,\n",
       "  26,\n",
       "  28,\n",
       "  26,\n",
       "  28,\n",
       "  26,\n",
       "  28,\n",
       "  26,\n",
       "  28,\n",
       "  26,\n",
       "  28,\n",
       "  26,\n",
       "  28,\n",
       "  26,\n",
       "  28,\n",
       "  26,\n",
       "  28,\n",
       "  26,\n",
       "  28,\n",
       "  26,\n",
       "  28,\n",
       "  26,\n",
       "  28,\n",
       "  26,\n",
       "  26,\n",
       "  6,\n",
       "  1,\n",
       "  10,\n",
       "  34,\n",
       "  2,\n",
       "  38,\n",
       "  36],\n",
       " [2,\n",
       "  12,\n",
       "  9,\n",
       "  10,\n",
       "  27,\n",
       "  28,\n",
       "  3,\n",
       "  17,\n",
       "  8,\n",
       "  15,\n",
       "  19,\n",
       "  33,\n",
       "  26,\n",
       "  34,\n",
       "  18,\n",
       "  36,\n",
       "  32,\n",
       "  37,\n",
       "  30,\n",
       "  35,\n",
       "  31,\n",
       "  29,\n",
       "  31,\n",
       "  36,\n",
       "  29,\n",
       "  37,\n",
       "  11,\n",
       "  5,\n",
       "  4,\n",
       "  13,\n",
       "  35,\n",
       "  1,\n",
       "  10,\n",
       "  14,\n",
       "  0,\n",
       "  2,\n",
       "  38],\n",
       " [2,\n",
       "  12,\n",
       "  9,\n",
       "  10,\n",
       "  27,\n",
       "  28,\n",
       "  26,\n",
       "  28,\n",
       "  26,\n",
       "  28,\n",
       "  3,\n",
       "  17,\n",
       "  8,\n",
       "  15,\n",
       "  19,\n",
       "  33,\n",
       "  26,\n",
       "  34,\n",
       "  32,\n",
       "  34,\n",
       "  32,\n",
       "  34,\n",
       "  32,\n",
       "  34,\n",
       "  32,\n",
       "  34,\n",
       "  32,\n",
       "  32,\n",
       "  14,\n",
       "  6,\n",
       "  1,\n",
       "  27,\n",
       "  10,\n",
       "  38,\n",
       "  16,\n",
       "  36],\n",
       " [2,\n",
       "  12,\n",
       "  9,\n",
       "  10,\n",
       "  27,\n",
       "  28,\n",
       "  26,\n",
       "  28,\n",
       "  26,\n",
       "  28,\n",
       "  26,\n",
       "  28,\n",
       "  3,\n",
       "  8,\n",
       "  17,\n",
       "  15,\n",
       "  19,\n",
       "  33,\n",
       "  26,\n",
       "  34,\n",
       "  32,\n",
       "  34,\n",
       "  18,\n",
       "  36,\n",
       "  32,\n",
       "  37,\n",
       "  16,\n",
       "  7,\n",
       "  35,\n",
       "  1,\n",
       "  37,\n",
       "  35,\n",
       "  22,\n",
       "  16,\n",
       "  25],\n",
       " [2,\n",
       "  12,\n",
       "  9,\n",
       "  10,\n",
       "  27,\n",
       "  28,\n",
       "  3,\n",
       "  17,\n",
       "  8,\n",
       "  15,\n",
       "  19,\n",
       "  33,\n",
       "  26,\n",
       "  34,\n",
       "  32,\n",
       "  34,\n",
       "  17,\n",
       "  14,\n",
       "  15,\n",
       "  19,\n",
       "  33,\n",
       "  32,\n",
       "  34,\n",
       "  32,\n",
       "  34,\n",
       "  6,\n",
       "  14,\n",
       "  32,\n",
       "  1,\n",
       "  15,\n",
       "  16,\n",
       "  18,\n",
       "  6,\n",
       "  34],\n",
       " [2,\n",
       "  12,\n",
       "  9,\n",
       "  21,\n",
       "  22,\n",
       "  10,\n",
       "  27,\n",
       "  20,\n",
       "  28,\n",
       "  26,\n",
       "  28,\n",
       "  26,\n",
       "  28,\n",
       "  26,\n",
       "  28,\n",
       "  26,\n",
       "  28,\n",
       "  26,\n",
       "  28,\n",
       "  26,\n",
       "  28,\n",
       "  26,\n",
       "  28,\n",
       "  26,\n",
       "  28,\n",
       "  7,\n",
       "  26,\n",
       "  1,\n",
       "  10,\n",
       "  3,\n",
       "  36,\n",
       "  32,\n",
       "  35],\n",
       " [2,\n",
       "  12,\n",
       "  9,\n",
       "  10,\n",
       "  27,\n",
       "  28,\n",
       "  3,\n",
       "  17,\n",
       "  8,\n",
       "  15,\n",
       "  19,\n",
       "  33,\n",
       "  26,\n",
       "  34,\n",
       "  14,\n",
       "  17,\n",
       "  15,\n",
       "  19,\n",
       "  33,\n",
       "  32,\n",
       "  34,\n",
       "  7,\n",
       "  16,\n",
       "  32,\n",
       "  1,\n",
       "  16,\n",
       "  0,\n",
       "  11,\n",
       "  20,\n",
       "  33],\n",
       " [2,\n",
       "  12,\n",
       "  9,\n",
       "  10,\n",
       "  27,\n",
       "  28,\n",
       "  26,\n",
       "  28,\n",
       "  26,\n",
       "  28,\n",
       "  26,\n",
       "  28,\n",
       "  26,\n",
       "  28,\n",
       "  26,\n",
       "  28,\n",
       "  26,\n",
       "  28,\n",
       "  26,\n",
       "  28,\n",
       "  6,\n",
       "  26,\n",
       "  1,\n",
       "  4,\n",
       "  17,\n",
       "  10,\n",
       "  16,\n",
       "  0],\n",
       " [2,\n",
       "  12,\n",
       "  9,\n",
       "  21,\n",
       "  22,\n",
       "  10,\n",
       "  27,\n",
       "  20,\n",
       "  28,\n",
       "  26,\n",
       "  28,\n",
       "  26,\n",
       "  28,\n",
       "  26,\n",
       "  28,\n",
       "  26,\n",
       "  28,\n",
       "  6,\n",
       "  26,\n",
       "  1,\n",
       "  18,\n",
       "  30,\n",
       "  28,\n",
       "  6,\n",
       "  37],\n",
       " [2,\n",
       "  12,\n",
       "  9,\n",
       "  10,\n",
       "  27,\n",
       "  28,\n",
       "  26,\n",
       "  28,\n",
       "  3,\n",
       "  17,\n",
       "  8,\n",
       "  15,\n",
       "  19,\n",
       "  33,\n",
       "  26,\n",
       "  34,\n",
       "  14,\n",
       "  6,\n",
       "  32,\n",
       "  1,\n",
       "  0,\n",
       "  14,\n",
       "  33,\n",
       "  34,\n",
       "  12],\n",
       " [2,\n",
       "  12,\n",
       "  9,\n",
       "  10,\n",
       "  27,\n",
       "  28,\n",
       "  3,\n",
       "  26,\n",
       "  28,\n",
       "  26,\n",
       "  28,\n",
       "  26,\n",
       "  28,\n",
       "  26,\n",
       "  28,\n",
       "  26,\n",
       "  28,\n",
       "  6,\n",
       "  26,\n",
       "  1,\n",
       "  10,\n",
       "  36,\n",
       "  29,\n",
       "  12,\n",
       "  36],\n",
       " [2,\n",
       "  12,\n",
       "  9,\n",
       "  21,\n",
       "  22,\n",
       "  20,\n",
       "  22,\n",
       "  10,\n",
       "  27,\n",
       "  20,\n",
       "  28,\n",
       "  26,\n",
       "  28,\n",
       "  26,\n",
       "  28,\n",
       "  6,\n",
       "  26,\n",
       "  1,\n",
       "  20,\n",
       "  11,\n",
       "  6,\n",
       "  33,\n",
       "  38],\n",
       " [2, 12, 9, 10, 27, 28, 26, 28, 26, 28, 7, 26, 1, 29, 11, 32, 16, 38],\n",
       " [2, 12, 9, 21, 22, 10, 27, 20, 28, 7, 26, 1, 0, 1, 28, 24, 15],\n",
       " [2, 12, 9, 21, 22, 10, 27, 20, 28, 7, 26, 1, 10, 11, 28, 29, 12],\n",
       " [2, 12, 9, 21, 22, 20, 22, 7, 20, 1, 2, 13, 17, 22, 22],\n",
       " [2, 12, 9, 10, 27, 28, 6, 26, 1, 15, 1, 34, 20, 32],\n",
       " [2, 12, 9, 21, 22, 7, 20, 1, 30, 24, 11, 37, 38],\n",
       " [2, 12, 9, 21, 22, 7, 20, 1, 10, 16, 35, 38, 21],\n",
       " [2, 12, 9, 21, 22, 7, 20, 1, 8, 25, 38, 9, 20],\n",
       " [2, 12, 9, 7, 1, 1, 3, 11, 11, 28],\n",
       " [2, 12, 9, 7, 1, 38, 22, 4, 24, 34],\n",
       " [2, 12, 9, 7, 1, 7, 14, 10, 28, 34],\n",
       " [2, 12, 9, 7, 1, 37, 7, 35, 26, 16],\n",
       " [2, 12, 9, 7, 1, 1, 21, 8, 26, 22],\n",
       " [2, 12, 9, 7, 1, 35, 38, 27, 32, 38],\n",
       " [2, 12, 9, 7, 1, 35, 28, 12, 26, 26],\n",
       " [2, 12, 9, 7, 1, 12, 25, 15, 33, 15]]"
      ]
     },
     "metadata": {},
     "execution_count": 6
    }
   ],
   "source": [
    "   "
   ]
  },
  {
   "cell_type": "code",
   "execution_count": 50,
   "metadata": {},
   "outputs": [
    {
     "output_type": "execute_result",
     "data": {
      "text/plain": [
       "tensor(0)"
      ]
     },
     "metadata": {},
     "execution_count": 50
    }
   ],
   "source": [
    "(~(data[:, 1:] == target[:, :-1])).sum()"
   ]
  },
  {
   "cell_type": "code",
   "execution_count": 45,
   "metadata": {},
   "outputs": [
    {
     "output_type": "execute_result",
     "data": {
      "text/plain": [
       "tensor([12,  9, 10, 27, 28,  3, 17,  8, 15, 19, 33, 26, 34, 18, 36, 32, 37, 30,\n",
       "        35, 31, 29, 31, 29, 31, 29, 31, 29, 31, 29, 31, 36, 29, 37, 30, 35, 31,\n",
       "        29, 31, 36, 29, 37, 30, 35, 31, 29, 31, 29, 31, 29, 31, 29, 31, 29, 31,\n",
       "        36, 29, 37, 35, 37, 13,  5,  4, 11, 35])"
      ]
     },
     "metadata": {},
     "execution_count": 45
    }
   ],
   "source": [
    "data[0][1:]"
   ]
  },
  {
   "cell_type": "code",
   "execution_count": 44,
   "metadata": {},
   "outputs": [
    {
     "output_type": "execute_result",
     "data": {
      "text/plain": [
       "tensor([12,  9, 10, 27, 28,  3, 17,  8, 15, 19, 33, 26, 34, 18, 36, 32, 37, 30,\n",
       "        35, 31, 29, 31, 29, 31, 29, 31, 29, 31, 29, 31, 36, 29, 37, 30, 35, 31,\n",
       "        29, 31, 36, 29, 37, 30, 35, 31, 29, 31, 29, 31, 29, 31, 29, 31, 29, 31,\n",
       "        36, 29, 37, 35, 37, 13,  5,  4, 11, 35,  1])"
      ]
     },
     "metadata": {},
     "execution_count": 44
    }
   ],
   "source": [
    "target[0]"
   ]
  },
  {
   "cell_type": "code",
   "execution_count": 51,
   "metadata": {},
   "outputs": [],
   "source": [
    "# not all of the lengths has been changed"
   ]
  },
  {
   "cell_type": "code",
   "execution_count": 11,
   "metadata": {},
   "outputs": [
    {
     "output_type": "execute_result",
     "data": {
      "text/plain": [
       "tensor([22, 18, 20,  8, 33,  8,  4, 38, 37, 32, 19, 18, 17,  2, 28, 25, 29, 29,\n",
       "        18,  4, 35, 15, 11, 18, 15, 29, 17, 19, 37, 37,  7,  5])"
      ]
     },
     "metadata": {},
     "execution_count": 11
    }
   ],
   "source": [
    "predicted"
   ]
  },
  {
   "cell_type": "code",
   "execution_count": 14,
   "metadata": {},
   "outputs": [
    {
     "output_type": "execute_result",
     "data": {
      "text/plain": [
       "[[2,\n",
       "  12,\n",
       "  9,\n",
       "  10,\n",
       "  27,\n",
       "  28,\n",
       "  26,\n",
       "  28,\n",
       "  26,\n",
       "  28,\n",
       "  26,\n",
       "  28,\n",
       "  26,\n",
       "  28,\n",
       "  3,\n",
       "  17,\n",
       "  8,\n",
       "  15,\n",
       "  19,\n",
       "  33,\n",
       "  26,\n",
       "  34,\n",
       "  32,\n",
       "  34,\n",
       "  17,\n",
       "  14,\n",
       "  15,\n",
       "  19,\n",
       "  33,\n",
       "  32,\n",
       "  34,\n",
       "  32,\n",
       "  34,\n",
       "  32,\n",
       "  34,\n",
       "  32,\n",
       "  34,\n",
       "  18,\n",
       "  36,\n",
       "  32,\n",
       "  37,\n",
       "  30,\n",
       "  35,\n",
       "  31,\n",
       "  29,\n",
       "  31,\n",
       "  29,\n",
       "  31,\n",
       "  29,\n",
       "  31,\n",
       "  29,\n",
       "  31,\n",
       "  29,\n",
       "  31,\n",
       "  29,\n",
       "  31,\n",
       "  29,\n",
       "  31,\n",
       "  29,\n",
       "  31,\n",
       "  29,\n",
       "  31,\n",
       "  29,\n",
       "  31,\n",
       "  36,\n",
       "  29,\n",
       "  37,\n",
       "  30,\n",
       "  35,\n",
       "  31,\n",
       "  29,\n",
       "  31,\n",
       "  29,\n",
       "  31,\n",
       "  36,\n",
       "  29,\n",
       "  37,\n",
       "  35,\n",
       "  37,\n",
       "  35,\n",
       "  37,\n",
       "  13,\n",
       "  11,\n",
       "  4,\n",
       "  5,\n",
       "  35,\n",
       "  22],\n",
       " [2,\n",
       "  12,\n",
       "  9,\n",
       "  10,\n",
       "  27,\n",
       "  28,\n",
       "  26,\n",
       "  28,\n",
       "  26,\n",
       "  28,\n",
       "  3,\n",
       "  17,\n",
       "  8,\n",
       "  15,\n",
       "  19,\n",
       "  33,\n",
       "  26,\n",
       "  34,\n",
       "  32,\n",
       "  34,\n",
       "  32,\n",
       "  34,\n",
       "  32,\n",
       "  34,\n",
       "  32,\n",
       "  34,\n",
       "  14,\n",
       "  17,\n",
       "  15,\n",
       "  19,\n",
       "  33,\n",
       "  32,\n",
       "  34,\n",
       "  32,\n",
       "  34,\n",
       "  32,\n",
       "  34,\n",
       "  32,\n",
       "  34,\n",
       "  32,\n",
       "  34,\n",
       "  32,\n",
       "  34,\n",
       "  32,\n",
       "  34,\n",
       "  32,\n",
       "  34,\n",
       "  32,\n",
       "  34,\n",
       "  32,\n",
       "  34,\n",
       "  32,\n",
       "  32,\n",
       "  6,\n",
       "  14,\n",
       "  1,\n",
       "  18],\n",
       " [2,\n",
       "  12,\n",
       "  9,\n",
       "  10,\n",
       "  27,\n",
       "  28,\n",
       "  26,\n",
       "  28,\n",
       "  3,\n",
       "  17,\n",
       "  8,\n",
       "  15,\n",
       "  19,\n",
       "  33,\n",
       "  26,\n",
       "  34,\n",
       "  32,\n",
       "  34,\n",
       "  32,\n",
       "  34,\n",
       "  32,\n",
       "  34,\n",
       "  18,\n",
       "  36,\n",
       "  32,\n",
       "  37,\n",
       "  30,\n",
       "  35,\n",
       "  31,\n",
       "  29,\n",
       "  31,\n",
       "  29,\n",
       "  31,\n",
       "  36,\n",
       "  29,\n",
       "  37,\n",
       "  35,\n",
       "  37,\n",
       "  30,\n",
       "  35,\n",
       "  31,\n",
       "  29,\n",
       "  31,\n",
       "  29,\n",
       "  31,\n",
       "  36,\n",
       "  29,\n",
       "  37,\n",
       "  11,\n",
       "  5,\n",
       "  4,\n",
       "  13,\n",
       "  35,\n",
       "  1,\n",
       "  20],\n",
       " [2,\n",
       "  12,\n",
       "  9,\n",
       "  21,\n",
       "  22,\n",
       "  10,\n",
       "  27,\n",
       "  20,\n",
       "  28,\n",
       "  26,\n",
       "  28,\n",
       "  26,\n",
       "  28,\n",
       "  26,\n",
       "  28,\n",
       "  26,\n",
       "  28,\n",
       "  26,\n",
       "  28,\n",
       "  26,\n",
       "  28,\n",
       "  26,\n",
       "  28,\n",
       "  26,\n",
       "  28,\n",
       "  26,\n",
       "  28,\n",
       "  26,\n",
       "  28,\n",
       "  26,\n",
       "  28,\n",
       "  26,\n",
       "  28,\n",
       "  26,\n",
       "  28,\n",
       "  26,\n",
       "  28,\n",
       "  26,\n",
       "  28,\n",
       "  26,\n",
       "  28,\n",
       "  26,\n",
       "  28,\n",
       "  26,\n",
       "  28,\n",
       "  26,\n",
       "  28,\n",
       "  26,\n",
       "  26,\n",
       "  6,\n",
       "  1,\n",
       "  8],\n",
       " [2,\n",
       "  12,\n",
       "  9,\n",
       "  10,\n",
       "  27,\n",
       "  28,\n",
       "  26,\n",
       "  28,\n",
       "  26,\n",
       "  28,\n",
       "  3,\n",
       "  17,\n",
       "  8,\n",
       "  15,\n",
       "  19,\n",
       "  33,\n",
       "  26,\n",
       "  34,\n",
       "  32,\n",
       "  34,\n",
       "  32,\n",
       "  34,\n",
       "  32,\n",
       "  34,\n",
       "  32,\n",
       "  34,\n",
       "  32,\n",
       "  34,\n",
       "  14,\n",
       "  17,\n",
       "  15,\n",
       "  19,\n",
       "  33,\n",
       "  32,\n",
       "  34,\n",
       "  32,\n",
       "  34,\n",
       "  32,\n",
       "  34,\n",
       "  32,\n",
       "  34,\n",
       "  18,\n",
       "  36,\n",
       "  32,\n",
       "  37,\n",
       "  13,\n",
       "  11,\n",
       "  5,\n",
       "  4,\n",
       "  35,\n",
       "  1,\n",
       "  33],\n",
       " [2,\n",
       "  12,\n",
       "  9,\n",
       "  21,\n",
       "  22,\n",
       "  20,\n",
       "  22,\n",
       "  20,\n",
       "  22,\n",
       "  10,\n",
       "  27,\n",
       "  20,\n",
       "  28,\n",
       "  3,\n",
       "  17,\n",
       "  8,\n",
       "  15,\n",
       "  19,\n",
       "  33,\n",
       "  26,\n",
       "  34,\n",
       "  17,\n",
       "  14,\n",
       "  15,\n",
       "  19,\n",
       "  33,\n",
       "  32,\n",
       "  34,\n",
       "  18,\n",
       "  36,\n",
       "  32,\n",
       "  37,\n",
       "  24,\n",
       "  35,\n",
       "  25,\n",
       "  36,\n",
       "  23,\n",
       "  37,\n",
       "  35,\n",
       "  37,\n",
       "  35,\n",
       "  37,\n",
       "  7,\n",
       "  16,\n",
       "  35,\n",
       "  1,\n",
       "  8],\n",
       " [2,\n",
       "  12,\n",
       "  9,\n",
       "  10,\n",
       "  27,\n",
       "  28,\n",
       "  26,\n",
       "  28,\n",
       "  26,\n",
       "  28,\n",
       "  26,\n",
       "  28,\n",
       "  26,\n",
       "  28,\n",
       "  26,\n",
       "  28,\n",
       "  3,\n",
       "  17,\n",
       "  8,\n",
       "  15,\n",
       "  19,\n",
       "  33,\n",
       "  26,\n",
       "  34,\n",
       "  18,\n",
       "  36,\n",
       "  32,\n",
       "  37,\n",
       "  30,\n",
       "  35,\n",
       "  31,\n",
       "  29,\n",
       "  31,\n",
       "  29,\n",
       "  31,\n",
       "  36,\n",
       "  29,\n",
       "  37,\n",
       "  13,\n",
       "  11,\n",
       "  4,\n",
       "  5,\n",
       "  35,\n",
       "  1,\n",
       "  4],\n",
       " [2,\n",
       "  12,\n",
       "  9,\n",
       "  10,\n",
       "  27,\n",
       "  28,\n",
       "  26,\n",
       "  28,\n",
       "  26,\n",
       "  28,\n",
       "  3,\n",
       "  17,\n",
       "  8,\n",
       "  15,\n",
       "  19,\n",
       "  33,\n",
       "  26,\n",
       "  34,\n",
       "  17,\n",
       "  14,\n",
       "  15,\n",
       "  19,\n",
       "  33,\n",
       "  32,\n",
       "  34,\n",
       "  32,\n",
       "  34,\n",
       "  18,\n",
       "  36,\n",
       "  32,\n",
       "  37,\n",
       "  35,\n",
       "  37,\n",
       "  35,\n",
       "  37,\n",
       "  5,\n",
       "  13,\n",
       "  11,\n",
       "  4,\n",
       "  35,\n",
       "  1,\n",
       "  38],\n",
       " [2,\n",
       "  12,\n",
       "  9,\n",
       "  10,\n",
       "  27,\n",
       "  28,\n",
       "  26,\n",
       "  28,\n",
       "  3,\n",
       "  17,\n",
       "  8,\n",
       "  15,\n",
       "  19,\n",
       "  33,\n",
       "  26,\n",
       "  34,\n",
       "  32,\n",
       "  34,\n",
       "  32,\n",
       "  34,\n",
       "  32,\n",
       "  34,\n",
       "  32,\n",
       "  34,\n",
       "  32,\n",
       "  34,\n",
       "  18,\n",
       "  36,\n",
       "  32,\n",
       "  37,\n",
       "  35,\n",
       "  37,\n",
       "  30,\n",
       "  35,\n",
       "  31,\n",
       "  16,\n",
       "  7,\n",
       "  29,\n",
       "  1,\n",
       "  37],\n",
       " [2,\n",
       "  12,\n",
       "  9,\n",
       "  10,\n",
       "  27,\n",
       "  28,\n",
       "  26,\n",
       "  28,\n",
       "  3,\n",
       "  8,\n",
       "  17,\n",
       "  15,\n",
       "  19,\n",
       "  33,\n",
       "  26,\n",
       "  34,\n",
       "  14,\n",
       "  17,\n",
       "  15,\n",
       "  19,\n",
       "  33,\n",
       "  32,\n",
       "  34,\n",
       "  32,\n",
       "  34,\n",
       "  32,\n",
       "  34,\n",
       "  32,\n",
       "  34,\n",
       "  32,\n",
       "  34,\n",
       "  32,\n",
       "  32,\n",
       "  6,\n",
       "  14,\n",
       "  1,\n",
       "  32],\n",
       " [2,\n",
       "  12,\n",
       "  9,\n",
       "  10,\n",
       "  27,\n",
       "  28,\n",
       "  3,\n",
       "  17,\n",
       "  8,\n",
       "  15,\n",
       "  19,\n",
       "  33,\n",
       "  26,\n",
       "  34,\n",
       "  32,\n",
       "  34,\n",
       "  32,\n",
       "  34,\n",
       "  32,\n",
       "  34,\n",
       "  32,\n",
       "  34,\n",
       "  32,\n",
       "  34,\n",
       "  32,\n",
       "  34,\n",
       "  32,\n",
       "  34,\n",
       "  32,\n",
       "  34,\n",
       "  32,\n",
       "  32,\n",
       "  14,\n",
       "  6,\n",
       "  1,\n",
       "  19],\n",
       " [2,\n",
       "  12,\n",
       "  9,\n",
       "  10,\n",
       "  27,\n",
       "  28,\n",
       "  3,\n",
       "  17,\n",
       "  8,\n",
       "  15,\n",
       "  19,\n",
       "  33,\n",
       "  26,\n",
       "  34,\n",
       "  17,\n",
       "  14,\n",
       "  15,\n",
       "  19,\n",
       "  33,\n",
       "  32,\n",
       "  34,\n",
       "  32,\n",
       "  34,\n",
       "  14,\n",
       "  17,\n",
       "  15,\n",
       "  19,\n",
       "  33,\n",
       "  32,\n",
       "  34,\n",
       "  32,\n",
       "  34,\n",
       "  32,\n",
       "  34,\n",
       "  1,\n",
       "  18],\n",
       " [2,\n",
       "  12,\n",
       "  9,\n",
       "  10,\n",
       "  27,\n",
       "  28,\n",
       "  26,\n",
       "  28,\n",
       "  26,\n",
       "  28,\n",
       "  26,\n",
       "  28,\n",
       "  26,\n",
       "  28,\n",
       "  26,\n",
       "  28,\n",
       "  26,\n",
       "  28,\n",
       "  26,\n",
       "  28,\n",
       "  26,\n",
       "  28,\n",
       "  26,\n",
       "  28,\n",
       "  26,\n",
       "  28,\n",
       "  26,\n",
       "  26,\n",
       "  6,\n",
       "  1,\n",
       "  17],\n",
       " [2,\n",
       "  12,\n",
       "  9,\n",
       "  10,\n",
       "  27,\n",
       "  28,\n",
       "  26,\n",
       "  28,\n",
       "  26,\n",
       "  28,\n",
       "  3,\n",
       "  17,\n",
       "  8,\n",
       "  15,\n",
       "  19,\n",
       "  33,\n",
       "  26,\n",
       "  34,\n",
       "  18,\n",
       "  36,\n",
       "  32,\n",
       "  37,\n",
       "  13,\n",
       "  5,\n",
       "  11,\n",
       "  4,\n",
       "  35,\n",
       "  1,\n",
       "  2],\n",
       " [2,\n",
       "  12,\n",
       "  9,\n",
       "  21,\n",
       "  22,\n",
       "  20,\n",
       "  22,\n",
       "  10,\n",
       "  27,\n",
       "  20,\n",
       "  28,\n",
       "  3,\n",
       "  8,\n",
       "  17,\n",
       "  15,\n",
       "  19,\n",
       "  33,\n",
       "  26,\n",
       "  34,\n",
       "  32,\n",
       "  34,\n",
       "  6,\n",
       "  14,\n",
       "  32,\n",
       "  1,\n",
       "  28],\n",
       " [2, 12, 9, 21, 22, 20, 22, 10, 27, 20, 28, 26, 28, 26, 28, 7, 26, 1, 25],\n",
       " [2, 12, 9, 10, 27, 28, 26, 28, 26, 28, 26, 28, 26, 26, 6, 1, 29],\n",
       " [2, 12, 9, 21, 22, 10, 27, 20, 28, 26, 28, 3, 6, 26, 1, 29],\n",
       " [2, 12, 9, 21, 22, 24, 20, 25, 23, 25, 7, 23, 1, 18],\n",
       " [2, 12, 9, 10, 27, 28, 7, 26, 1, 4],\n",
       " [2, 12, 9, 21, 22, 7, 20, 1, 35],\n",
       " [2, 12, 9, 21, 22, 7, 20, 1, 15],\n",
       " [2, 12, 9, 21, 22, 7, 20, 1, 11],\n",
       " [2, 12, 9, 7, 1, 18],\n",
       " [2, 12, 9, 7, 1, 15],\n",
       " [2, 12, 9, 7, 1, 29],\n",
       " [2, 12, 9, 7, 1, 17],\n",
       " [2, 12, 9, 7, 1, 19],\n",
       " [2, 12, 9, 7, 1, 37],\n",
       " [2, 12, 9, 7, 1, 37],\n",
       " [2, 12, 9, 7, 1, 7],\n",
       " [2, 12, 9, 7, 1, 5]]"
      ]
     },
     "metadata": {},
     "execution_count": 14
    }
   ],
   "source": [
    "  [ u + [p.item()] for  u, p in  zip(unpadded_data, predicted)]"
   ]
  },
  {
   "cell_type": "code",
   "execution_count": 16,
   "metadata": {},
   "outputs": [],
   "source": [
    "import torch \n",
    "a = torch.tensor([1,2,3])"
   ]
  },
  {
   "cell_type": "code",
   "execution_count": 17,
   "metadata": {},
   "outputs": [],
   "source": [
    "b = a"
   ]
  },
  {
   "cell_type": "code",
   "execution_count": 18,
   "metadata": {},
   "outputs": [
    {
     "output_type": "execute_result",
     "data": {
      "text/plain": [
       "tensor([1, 2, 3])"
      ]
     },
     "metadata": {},
     "execution_count": 18
    }
   ],
   "source": [
    "b"
   ]
  },
  {
   "cell_type": "code",
   "execution_count": 19,
   "metadata": {},
   "outputs": [],
   "source": [
    "b[2] = 5"
   ]
  },
  {
   "cell_type": "code",
   "execution_count": 20,
   "metadata": {},
   "outputs": [
    {
     "output_type": "execute_result",
     "data": {
      "text/plain": [
       "tensor([1, 2, 5])"
      ]
     },
     "metadata": {},
     "execution_count": 20
    }
   ],
   "source": [
    "b"
   ]
  },
  {
   "cell_type": "code",
   "execution_count": 21,
   "metadata": {},
   "outputs": [
    {
     "output_type": "execute_result",
     "data": {
      "text/plain": [
       "tensor([1, 2, 5])"
      ]
     },
     "metadata": {},
     "execution_count": 21
    }
   ],
   "source": [
    "a"
   ]
  },
  {
   "cell_type": "code",
   "execution_count": null,
   "metadata": {},
   "outputs": [],
   "source": []
  }
 ]
}