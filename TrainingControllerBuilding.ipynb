{
 "metadata": {
  "language_info": {
   "codemirror_mode": {
    "name": "ipython",
    "version": 3
   },
   "file_extension": ".py",
   "mimetype": "text/x-python",
   "name": "python",
   "nbconvert_exporter": "python",
   "pygments_lexer": "ipython3",
   "version": "3.9.4-final"
  },
  "orig_nbformat": 2,
  "kernelspec": {
   "name": "python394jvsc74a57bd00fab9f4e2480a02528c8c5e2c5eed9f6f178de25ad0614451a9194f538e2ccc5",
   "display_name": "Python 3.9.4 64-bit ('dl')"
  }
 },
 "nbformat": 4,
 "nbformat_minor": 2,
 "cells": [
  {
   "cell_type": "code",
   "execution_count": 4,
   "metadata": {},
   "outputs": [],
   "source": [
    "\n",
    "from torch.utils.data import DataLoader\n",
    "from Controller.TrainingParameters import TrainingParameters\n",
    "from Utils.Constants import Constants\n",
    "from enum import Enum\n",
    "\n",
    "class NotSupportedError(Exception):\n",
    "    pass\n",
    "\n",
    "class Datasets(Enum):\n",
    "    BPI2012 = 1\n",
    "    Helpdesk = 2\n",
    "\n",
    "class LossFunc(Enum):\n",
    "    CrossEntropy = 1\n",
    "\n",
    "class SelectableModels(Enum):\n",
    "    BaseLineLSTMModel = 1\n",
    "\n",
    "class TrainingController:\n",
    "    def __init__(self, dataset: Datasets, model: SelectableModels):\n",
    "    \n",
    "        ## Load dataset\n",
    "        if (dataset == Datasets.BPI2012):\n",
    "            self.dataset = BPI2012Dataset(TrainingParameters.bpi_2012_path)\n",
    "        else:\n",
    "            raise NotSupportedError(\"dataset you selected is not supported\")\n",
    "\n",
    "        self.data_loader = DataLoader(self.dataset, batch_size=32, shuffle=True, collate_fn= self.dataset.collate_fn)\n",
    "\n",
    "        if (model == SelectableModels.BaseLineLSTMModel):\n",
    "            self.model = BaselineLSTMModel(\n",
    "                vocab_size= self.dataset.vocab_size(),\n",
    "                embedding_dim= TrainingParameters.embedding_dim,\n",
    "                lstm_hidden= TrainingParameters.lstm_hidden,\n",
    "                dropout= TrainingParameters.dropout,\n",
    "                num_lstm_layers= TrainingParameters.num_lstm_layers,\n",
    "                paddingValue= self.dataset.vocab_to_index(Constanst.PAD_VOCAB),\n",
    "            )\n",
    "        else:\n",
    "            raise NotSupportedError(\"model you selected is not supported\")\n",
    "\n",
    "\n",
    "\n",
    "\n",
    "    "
   ]
  },
  {
   "cell_type": "code",
   "execution_count": null,
   "metadata": {},
   "outputs": [],
   "source": []
  }
 ]
}