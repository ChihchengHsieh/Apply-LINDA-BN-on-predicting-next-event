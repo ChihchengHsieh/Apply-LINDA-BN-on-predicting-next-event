{
 "metadata": {
  "language_info": {
   "codemirror_mode": {
    "name": "ipython",
    "version": 3
   },
   "file_extension": ".py",
   "mimetype": "text/x-python",
   "name": "python",
   "nbconvert_exporter": "python",
   "pygments_lexer": "ipython3",
   "version": "3.9.4"
  },
  "orig_nbformat": 2,
  "kernelspec": {
   "name": "python394jvsc74a57bd0ce84662d2f539e4595bb685d63d62db000d81e5edf3f86cfc940c024e0f53738",
   "display_name": "Python 3.9.4 64-bit ('dl')"
  },
  "metadata": {
   "interpreter": {
    "hash": "ce84662d2f539e4595bb685d63d62db000d81e5edf3f86cfc940c024e0f53738"
   }
  }
 },
 "nbformat": 4,
 "nbformat_minor": 2,
 "cells": [
  {
   "cell_type": "code",
   "execution_count": 1,
   "metadata": {},
   "outputs": [
    {
     "output_type": "stream",
     "name": "stdout",
     "text": [
      "\n",
      "=================================================\n",
      "| Preprocessed data loaded successfully \n",
      "=================================================\n",
      "\n",
      "=================================================\n",
      "| Model loaded successfully \n",
      "=================================================\n"
     ]
    },
    {
     "output_type": "display_data",
     "data": {
      "text/plain": "<Figure size 1600x800 with 0 Axes>"
     },
     "metadata": {}
    }
   ],
   "source": [
    "# Load the model and dataset through the controller\n",
    "from Controller.PredictingController import PredictingController\n",
    "predictor = PredictingController()"
   ]
  },
  {
   "cell_type": "code",
   "execution_count": 3,
   "metadata": {},
   "outputs": [
    {
     "output_type": "execute_result",
     "data": {
      "text/plain": [
       "                                               trace  caseid\n",
       "0  [2, 12, 9, 10, 27, 28, 3, 17, 8, 15, 19, 33, 2...  173688\n",
       "1  [2, 12, 9, 10, 27, 28, 26, 28, 3, 17, 8, 15, 1...  173691\n",
       "2  [2, 12, 9, 10, 27, 28, 26, 28, 26, 28, 26, 28,...  173694\n",
       "3                                   [2, 12, 9, 7, 1]  173697\n",
       "4                                   [2, 12, 9, 7, 1]  173700"
      ],
      "text/html": "<div>\n<style scoped>\n    .dataframe tbody tr th:only-of-type {\n        vertical-align: middle;\n    }\n\n    .dataframe tbody tr th {\n        vertical-align: top;\n    }\n\n    .dataframe thead th {\n        text-align: right;\n    }\n</style>\n<table border=\"1\" class=\"dataframe\">\n  <thead>\n    <tr style=\"text-align: right;\">\n      <th></th>\n      <th>trace</th>\n      <th>caseid</th>\n    </tr>\n  </thead>\n  <tbody>\n    <tr>\n      <th>0</th>\n      <td>[2, 12, 9, 10, 27, 28, 3, 17, 8, 15, 19, 33, 2...</td>\n      <td>173688</td>\n    </tr>\n    <tr>\n      <th>1</th>\n      <td>[2, 12, 9, 10, 27, 28, 26, 28, 3, 17, 8, 15, 1...</td>\n      <td>173691</td>\n    </tr>\n    <tr>\n      <th>2</th>\n      <td>[2, 12, 9, 10, 27, 28, 26, 28, 26, 28, 26, 28,...</td>\n      <td>173694</td>\n    </tr>\n    <tr>\n      <th>3</th>\n      <td>[2, 12, 9, 7, 1]</td>\n      <td>173697</td>\n    </tr>\n    <tr>\n      <th>4</th>\n      <td>[2, 12, 9, 7, 1]</td>\n      <td>173700</td>\n    </tr>\n  </tbody>\n</table>\n</div>"
     },
     "metadata": {},
     "execution_count": 3
    }
   ],
   "source": [
    "## show the training dataset head\n",
    "predictor.train_dataset.dataset.df.head(5)"
   ]
  },
  {
   "cell_type": "code",
   "execution_count": 5,
   "metadata": {},
   "outputs": [
    {
     "output_type": "execute_result",
     "data": {
      "text/plain": [
       "'<SOS>'"
      ]
     },
     "metadata": {},
     "execution_count": 5
    }
   ],
   "source": [
    "## Show the dict\n",
    "predictor.dataset.index_to_vocab(2)"
   ]
  },
  {
   "cell_type": "code",
   "execution_count": 9,
   "metadata": {},
   "outputs": [
    {
     "output_type": "execute_result",
     "data": {
      "text/plain": [
       "{'<EOS>': 1,\n",
       " '<SOS>': 2,\n",
       " 'A_ACCEPTED_COMPLETE': 3,\n",
       " 'A_ACTIVATED_COMPLETE': 4,\n",
       " 'A_APPROVED_COMPLETE': 5,\n",
       " 'A_CANCELLED_COMPLETE': 6,\n",
       " 'A_DECLINED_COMPLETE': 7,\n",
       " 'A_FINALIZED_COMPLETE': 8,\n",
       " 'A_PARTLYSUBMITTED_COMPLETE': 9,\n",
       " 'A_PREACCEPTED_COMPLETE': 10,\n",
       " 'A_REGISTERED_COMPLETE': 11,\n",
       " 'A_SUBMITTED_COMPLETE': 12,\n",
       " 'O_ACCEPTED_COMPLETE': 13,\n",
       " 'O_CANCELLED_COMPLETE': 14,\n",
       " 'O_CREATED_COMPLETE': 15,\n",
       " 'O_DECLINED_COMPLETE': 16,\n",
       " 'O_SELECTED_COMPLETE': 17,\n",
       " 'O_SENT_BACK_COMPLETE': 18,\n",
       " 'O_SENT_COMPLETE': 19,\n",
       " 'W_Afhandelen leads_COMPLETE': 20,\n",
       " 'W_Afhandelen leads_SCHEDULE': 21,\n",
       " 'W_Afhandelen leads_START': 22,\n",
       " 'W_Beoordelen fraude_COMPLETE': 23,\n",
       " 'W_Beoordelen fraude_SCHEDULE': 24,\n",
       " 'W_Beoordelen fraude_START': 25,\n",
       " 'W_Completeren aanvraag_COMPLETE': 26,\n",
       " 'W_Completeren aanvraag_SCHEDULE': 27,\n",
       " 'W_Completeren aanvraag_START': 28,\n",
       " 'W_Nabellen incomplete dossiers_COMPLETE': 29,\n",
       " 'W_Nabellen incomplete dossiers_SCHEDULE': 30,\n",
       " 'W_Nabellen incomplete dossiers_START': 31,\n",
       " 'W_Nabellen offertes_COMPLETE': 32,\n",
       " 'W_Nabellen offertes_SCHEDULE': 33,\n",
       " 'W_Nabellen offertes_START': 34,\n",
       " 'W_Valideren aanvraag_COMPLETE': 35,\n",
       " 'W_Valideren aanvraag_SCHEDULE': 36,\n",
       " 'W_Valideren aanvraag_START': 37,\n",
       " 'W_Wijzigen contractgegevens_SCHEDULE': 38,\n",
       " '<PAD>': 0}"
      ]
     },
     "metadata": {},
     "execution_count": 9
    }
   ],
   "source": [
    "## Print vocaburaries with corresponded index.\n",
    "predictor.dataset._BPI2012Dataset__vocab_dict"
   ]
  },
  {
   "cell_type": "code",
   "execution_count": 11,
   "metadata": {},
   "outputs": [
    {
     "output_type": "stream",
     "name": "stdout",
     "text": [
      "\n",
      "=================================================\n",
      "| Performing Evaluation on whole dataset ... \n",
      "=================================================\n",
      "/home/jrhs/Documents/GitHub/Apply-LINDA-BN-on-predicting-next-event/Data/BPI2012Dataset.py:256: UserWarning: To copy construct from a tensor, it is recommended to use sourceTensor.clone().detach() or sourceTensor.clone().detach().requires_grad_(True), rather than torch.tensor(sourceTensor).\n",
      "  sorted_seq_list = [torch.tensor(seq_list[idx])\n",
      "\n",
      "=================================================\n",
      "| Evaluation result | Accuracy [0.8532] | Loss [3.4207] \n",
      "=================================================\n"
     ]
    }
   ],
   "source": [
    "## Evaluation on training and test sets.abs\n",
    "predictor.perform_eval_on_training_set()"
   ]
  },
  {
   "cell_type": "code",
   "execution_count": 13,
   "metadata": {},
   "outputs": [
    {
     "output_type": "stream",
     "name": "stdout",
     "text": [
      "\n",
      "=================================================\n",
      "| Performing Evaluation on whole dataset ... \n",
      "=================================================\n",
      "/home/jrhs/Documents/GitHub/Apply-LINDA-BN-on-predicting-next-event/Data/BPI2012Dataset.py:256: UserWarning: To copy construct from a tensor, it is recommended to use sourceTensor.clone().detach() or sourceTensor.clone().detach().requires_grad_(True), rather than torch.tensor(sourceTensor).\n",
      "  sorted_seq_list = [torch.tensor(seq_list[idx])\n",
      "\n",
      "=================================================\n",
      "| Evaluation result | Accuracy [0.8526] | Loss [3.4246] \n",
      "=================================================\n"
     ]
    }
   ],
   "source": [
    "predictor.perform_eval_on_testing_set()"
   ]
  },
  {
   "cell_type": "code",
   "execution_count": null,
   "metadata": {},
   "outputs": [],
   "source": [
    "    ## "
   ]
  }
 ]
}