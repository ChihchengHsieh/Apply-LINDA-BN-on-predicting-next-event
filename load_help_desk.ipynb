{
 "metadata": {
  "language_info": {
   "codemirror_mode": {
    "name": "ipython",
    "version": 3
   },
   "file_extension": ".py",
   "mimetype": "text/x-python",
   "name": "python",
   "nbconvert_exporter": "python",
   "pygments_lexer": "ipython3",
   "version": "3.9.4"
  },
  "orig_nbformat": 2,
  "kernelspec": {
   "name": "python394jvsc74a57bd0ce84662d2f539e4595bb685d63d62db000d81e5edf3f86cfc940c024e0f53738",
   "display_name": "Python 3.9.4 64-bit ('dl')"
  },
  "metadata": {
   "interpreter": {
    "hash": "ce84662d2f539e4595bb685d63d62db000d81e5edf3f86cfc940c024e0f53738"
   }
  }
 },
 "nbformat": 4,
 "nbformat_minor": 2,
 "cells": [
  {
   "cell_type": "code",
   "execution_count": 1,
   "metadata": {},
   "outputs": [
    {
     "output_type": "stream",
     "name": "stderr",
     "text": [
      "parsing log, completed traces :: 100%|██████████| 4580/4580 [00:01<00:00, 4154.54it/s]\n"
     ]
    }
   ],
   "source": [
    "import pm4py\n",
    "\n",
    "file_path =\"./datasets/event_logs/Helpdesk.xes\"\n",
    "\n",
    "log = pm4py.read_xes(file_path)"
   ]
  },
  {
   "cell_type": "code",
   "execution_count": 2,
   "metadata": {},
   "outputs": [],
   "source": [
    "flattern_log: list[dict[str, any]] = ([{**event,\n",
    "                                                'caseid': trace.attributes['concept:name']}\n",
    "                                               for trace in log for event in trace])\n"
   ]
  },
  {
   "cell_type": "code",
   "execution_count": 3,
   "metadata": {},
   "outputs": [],
   "source": [
    "import pandas as pd\n",
    "\n",
    "df = pd.DataFrame(flattern_log)\n"
   ]
  },
  {
   "cell_type": "code",
   "execution_count": 4,
   "metadata": {},
   "outputs": [],
   "source": [
    "df[\"name_and_transition\"] = df[\"concept:name\"] + \\\n",
    "            \"_\" + df[\"lifecycle:transition\"]\n",
    "df = df[['time:timestamp', 'name_and_transition', \"caseid\"]]"
   ]
  },
  {
   "cell_type": "code",
   "execution_count": 5,
   "metadata": {},
   "outputs": [
    {
     "output_type": "execute_result",
     "data": {
      "text/plain": [
       "                  time:timestamp             name_and_transition    caseid\n",
       "0      2012-10-09 14:50:17+03:00     Assign seriousness_complete     Case1\n",
       "1      2012-10-09 14:51:01+03:00  Take in charge ticket_complete     Case1\n",
       "2      2012-10-12 15:02:56+03:00  Take in charge ticket_complete     Case1\n",
       "3      2012-10-25 11:54:26+03:00         Resolve ticket_complete     Case1\n",
       "4      2012-11-09 12:54:39+02:00                 Closed_complete     Case1\n",
       "...                          ...                             ...       ...\n",
       "21343  2010-09-02 10:11:00+03:00                 Closed_complete  Case4579\n",
       "21344  2012-01-03 09:33:43+02:00  Take in charge ticket_complete  Case4580\n",
       "21345  2012-01-10 15:30:11+02:00                   Wait_complete  Case4580\n",
       "21346  2012-01-10 17:07:40+02:00         Resolve ticket_complete  Case4580\n",
       "21347  2012-02-08 17:00:34+02:00                 Closed_complete  Case4580\n",
       "\n",
       "[21348 rows x 3 columns]"
      ],
      "text/html": "<div>\n<style scoped>\n    .dataframe tbody tr th:only-of-type {\n        vertical-align: middle;\n    }\n\n    .dataframe tbody tr th {\n        vertical-align: top;\n    }\n\n    .dataframe thead th {\n        text-align: right;\n    }\n</style>\n<table border=\"1\" class=\"dataframe\">\n  <thead>\n    <tr style=\"text-align: right;\">\n      <th></th>\n      <th>time:timestamp</th>\n      <th>name_and_transition</th>\n      <th>caseid</th>\n    </tr>\n  </thead>\n  <tbody>\n    <tr>\n      <th>0</th>\n      <td>2012-10-09 14:50:17+03:00</td>\n      <td>Assign seriousness_complete</td>\n      <td>Case1</td>\n    </tr>\n    <tr>\n      <th>1</th>\n      <td>2012-10-09 14:51:01+03:00</td>\n      <td>Take in charge ticket_complete</td>\n      <td>Case1</td>\n    </tr>\n    <tr>\n      <th>2</th>\n      <td>2012-10-12 15:02:56+03:00</td>\n      <td>Take in charge ticket_complete</td>\n      <td>Case1</td>\n    </tr>\n    <tr>\n      <th>3</th>\n      <td>2012-10-25 11:54:26+03:00</td>\n      <td>Resolve ticket_complete</td>\n      <td>Case1</td>\n    </tr>\n    <tr>\n      <th>4</th>\n      <td>2012-11-09 12:54:39+02:00</td>\n      <td>Closed_complete</td>\n      <td>Case1</td>\n    </tr>\n    <tr>\n      <th>...</th>\n      <td>...</td>\n      <td>...</td>\n      <td>...</td>\n    </tr>\n    <tr>\n      <th>21343</th>\n      <td>2010-09-02 10:11:00+03:00</td>\n      <td>Closed_complete</td>\n      <td>Case4579</td>\n    </tr>\n    <tr>\n      <th>21344</th>\n      <td>2012-01-03 09:33:43+02:00</td>\n      <td>Take in charge ticket_complete</td>\n      <td>Case4580</td>\n    </tr>\n    <tr>\n      <th>21345</th>\n      <td>2012-01-10 15:30:11+02:00</td>\n      <td>Wait_complete</td>\n      <td>Case4580</td>\n    </tr>\n    <tr>\n      <th>21346</th>\n      <td>2012-01-10 17:07:40+02:00</td>\n      <td>Resolve ticket_complete</td>\n      <td>Case4580</td>\n    </tr>\n    <tr>\n      <th>21347</th>\n      <td>2012-02-08 17:00:34+02:00</td>\n      <td>Closed_complete</td>\n      <td>Case4580</td>\n    </tr>\n  </tbody>\n</table>\n<p>21348 rows × 3 columns</p>\n</div>"
     },
     "metadata": {},
     "execution_count": 5
    }
   ],
   "source": [
    "df"
   ]
  },
  {
   "cell_type": "code",
   "execution_count": 6,
   "metadata": {},
   "outputs": [],
   "source": [
    "from Utils.Constants import Constants\n",
    "\n",
    "from datetime import timedelta\n",
    "\n",
    "newData = list() \n",
    "for case, group in df.groupby('caseid'):\n",
    "    group.sort_values(\"time:timestamp\", ascending=True, inplace=True)\n",
    "    strating_time = group.iloc[0][\"time:timestamp\"] - \\\n",
    "        timedelta(microseconds=1)\n",
    "    ending_time = group.iloc[-1][\"time:timestamp\"] + \\\n",
    "        timedelta(microseconds=1)\n",
    "    traces = group.to_dict('records')\n",
    "\n",
    "    # Add start and end tags.\n",
    "    traces.insert(\n",
    "        0, {\"caseid\": case, \"time:timestamp\": strating_time, \"name_and_transition\": Constants.SOS_VOCAB})\n",
    "    traces.append(\n",
    "        {\"caseid\": case, \"time:timestamp\": ending_time, \"name_and_transition\": Constants.EOS_VOCAB})\n",
    "    newData.extend(traces)\n",
    "\n",
    "df = pd.DataFrame(newData)\n",
    "df['name_and_transition'] = df['name_and_transition'].astype(\n",
    "    'category')"
   ]
  },
  {
   "cell_type": "code",
   "execution_count": 7,
   "metadata": {},
   "outputs": [
    {
     "output_type": "execute_result",
     "data": {
      "text/plain": [
       "        caseid                    time:timestamp  \\\n",
       "0        Case1  2012-10-09 14:50:16.999999+03:00   \n",
       "1        Case1         2012-10-09 14:50:17+03:00   \n",
       "2        Case1         2012-10-09 14:51:01+03:00   \n",
       "3        Case1         2012-10-12 15:02:56+03:00   \n",
       "4        Case1         2012-10-25 11:54:26+03:00   \n",
       "...        ...                               ...   \n",
       "30503  Case999         2013-02-12 16:06:37+02:00   \n",
       "30504  Case999         2013-02-25 11:37:20+02:00   \n",
       "30505  Case999         2013-03-14 16:24:30+02:00   \n",
       "30506  Case999         2013-03-29 16:24:45+02:00   \n",
       "30507  Case999  2013-03-29 16:24:45.000001+02:00   \n",
       "\n",
       "                  name_and_transition  \n",
       "0                               <SOS>  \n",
       "1         Assign seriousness_complete  \n",
       "2      Take in charge ticket_complete  \n",
       "3      Take in charge ticket_complete  \n",
       "4             Resolve ticket_complete  \n",
       "...                               ...  \n",
       "30503     Assign seriousness_complete  \n",
       "30504  Take in charge ticket_complete  \n",
       "30505         Resolve ticket_complete  \n",
       "30506                 Closed_complete  \n",
       "30507                           <EOS>  \n",
       "\n",
       "[30508 rows x 3 columns]"
      ],
      "text/html": "<div>\n<style scoped>\n    .dataframe tbody tr th:only-of-type {\n        vertical-align: middle;\n    }\n\n    .dataframe tbody tr th {\n        vertical-align: top;\n    }\n\n    .dataframe thead th {\n        text-align: right;\n    }\n</style>\n<table border=\"1\" class=\"dataframe\">\n  <thead>\n    <tr style=\"text-align: right;\">\n      <th></th>\n      <th>caseid</th>\n      <th>time:timestamp</th>\n      <th>name_and_transition</th>\n    </tr>\n  </thead>\n  <tbody>\n    <tr>\n      <th>0</th>\n      <td>Case1</td>\n      <td>2012-10-09 14:50:16.999999+03:00</td>\n      <td>&lt;SOS&gt;</td>\n    </tr>\n    <tr>\n      <th>1</th>\n      <td>Case1</td>\n      <td>2012-10-09 14:50:17+03:00</td>\n      <td>Assign seriousness_complete</td>\n    </tr>\n    <tr>\n      <th>2</th>\n      <td>Case1</td>\n      <td>2012-10-09 14:51:01+03:00</td>\n      <td>Take in charge ticket_complete</td>\n    </tr>\n    <tr>\n      <th>3</th>\n      <td>Case1</td>\n      <td>2012-10-12 15:02:56+03:00</td>\n      <td>Take in charge ticket_complete</td>\n    </tr>\n    <tr>\n      <th>4</th>\n      <td>Case1</td>\n      <td>2012-10-25 11:54:26+03:00</td>\n      <td>Resolve ticket_complete</td>\n    </tr>\n    <tr>\n      <th>...</th>\n      <td>...</td>\n      <td>...</td>\n      <td>...</td>\n    </tr>\n    <tr>\n      <th>30503</th>\n      <td>Case999</td>\n      <td>2013-02-12 16:06:37+02:00</td>\n      <td>Assign seriousness_complete</td>\n    </tr>\n    <tr>\n      <th>30504</th>\n      <td>Case999</td>\n      <td>2013-02-25 11:37:20+02:00</td>\n      <td>Take in charge ticket_complete</td>\n    </tr>\n    <tr>\n      <th>30505</th>\n      <td>Case999</td>\n      <td>2013-03-14 16:24:30+02:00</td>\n      <td>Resolve ticket_complete</td>\n    </tr>\n    <tr>\n      <th>30506</th>\n      <td>Case999</td>\n      <td>2013-03-29 16:24:45+02:00</td>\n      <td>Closed_complete</td>\n    </tr>\n    <tr>\n      <th>30507</th>\n      <td>Case999</td>\n      <td>2013-03-29 16:24:45.000001+02:00</td>\n      <td>&lt;EOS&gt;</td>\n    </tr>\n  </tbody>\n</table>\n<p>30508 rows × 3 columns</p>\n</div>"
     },
     "metadata": {},
     "execution_count": 7
    }
   ],
   "source": [
    "df"
   ]
  },
  {
   "cell_type": "code",
   "execution_count": 8,
   "metadata": {},
   "outputs": [],
   "source": [
    "vocab_dict: dict[str, int] = {}\n",
    "for i, cat in enumerate(df['name_and_transition'].cat.categories):\n",
    "            # plus one, since we want to remain \"0\" for \"<PAD>\"\n",
    "    vocab_dict[cat] = i+1\n",
    "vocab_dict[Constants.PAD_VOCAB] = 0"
   ]
  },
  {
   "cell_type": "code",
   "execution_count": 9,
   "metadata": {},
   "outputs": [],
   "source": [
    "df['cat'] = df['name_and_transition'].apply(lambda c: vocab_dict[c])\n",
    "\n",
    "############ Create the df only consisted of trace and caseid ############\n",
    "final_df_data: list[dict[str, any]] = []\n",
    "for caseid, group in df.groupby('caseid'):\n",
    "    final_df_data.append({\n",
    "        \"trace\": list(group['cat']),\n",
    "        \"caseid\": caseid\n",
    "    })"
   ]
  },
  {
   "cell_type": "code",
   "execution_count": 10,
   "metadata": {},
   "outputs": [
    {
     "output_type": "execute_result",
     "data": {
      "text/plain": [
       "                             trace    caseid\n",
       "0         [2, 3, 14, 14, 12, 4, 1]     Case1\n",
       "1             [2, 3, 14, 12, 4, 1]    Case10\n",
       "2         [2, 3, 14, 10, 12, 4, 1]   Case100\n",
       "3          [2, 3, 3, 14, 12, 4, 1]  Case1000\n",
       "4             [2, 3, 14, 12, 4, 1]  Case1001\n",
       "...                            ...       ...\n",
       "4575  [2, 3, 14, 16, 14, 12, 4, 1]   Case995\n",
       "4576          [2, 3, 14, 12, 4, 1]   Case996\n",
       "4577          [2, 3, 14, 12, 4, 1]   Case997\n",
       "4578      [2, 3, 14, 16, 12, 4, 1]   Case998\n",
       "4579          [2, 3, 14, 12, 4, 1]   Case999\n",
       "\n",
       "[4580 rows x 2 columns]"
      ],
      "text/html": "<div>\n<style scoped>\n    .dataframe tbody tr th:only-of-type {\n        vertical-align: middle;\n    }\n\n    .dataframe tbody tr th {\n        vertical-align: top;\n    }\n\n    .dataframe thead th {\n        text-align: right;\n    }\n</style>\n<table border=\"1\" class=\"dataframe\">\n  <thead>\n    <tr style=\"text-align: right;\">\n      <th></th>\n      <th>trace</th>\n      <th>caseid</th>\n    </tr>\n  </thead>\n  <tbody>\n    <tr>\n      <th>0</th>\n      <td>[2, 3, 14, 14, 12, 4, 1]</td>\n      <td>Case1</td>\n    </tr>\n    <tr>\n      <th>1</th>\n      <td>[2, 3, 14, 12, 4, 1]</td>\n      <td>Case10</td>\n    </tr>\n    <tr>\n      <th>2</th>\n      <td>[2, 3, 14, 10, 12, 4, 1]</td>\n      <td>Case100</td>\n    </tr>\n    <tr>\n      <th>3</th>\n      <td>[2, 3, 3, 14, 12, 4, 1]</td>\n      <td>Case1000</td>\n    </tr>\n    <tr>\n      <th>4</th>\n      <td>[2, 3, 14, 12, 4, 1]</td>\n      <td>Case1001</td>\n    </tr>\n    <tr>\n      <th>...</th>\n      <td>...</td>\n      <td>...</td>\n    </tr>\n    <tr>\n      <th>4575</th>\n      <td>[2, 3, 14, 16, 14, 12, 4, 1]</td>\n      <td>Case995</td>\n    </tr>\n    <tr>\n      <th>4576</th>\n      <td>[2, 3, 14, 12, 4, 1]</td>\n      <td>Case996</td>\n    </tr>\n    <tr>\n      <th>4577</th>\n      <td>[2, 3, 14, 12, 4, 1]</td>\n      <td>Case997</td>\n    </tr>\n    <tr>\n      <th>4578</th>\n      <td>[2, 3, 14, 16, 12, 4, 1]</td>\n      <td>Case998</td>\n    </tr>\n    <tr>\n      <th>4579</th>\n      <td>[2, 3, 14, 12, 4, 1]</td>\n      <td>Case999</td>\n    </tr>\n  </tbody>\n</table>\n<p>4580 rows × 2 columns</p>\n</div>"
     },
     "metadata": {},
     "execution_count": 10
    }
   ],
   "source": [
    "pd.DataFrame(final_df_data)"
   ]
  },
  {
   "cell_type": "code",
   "execution_count": null,
   "metadata": {},
   "outputs": [],
   "source": []
  }
 ]
}