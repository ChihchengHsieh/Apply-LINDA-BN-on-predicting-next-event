{
 "metadata": {
  "language_info": {
   "codemirror_mode": {
    "name": "ipython",
    "version": 3
   },
   "file_extension": ".py",
   "mimetype": "text/x-python",
   "name": "python",
   "nbconvert_exporter": "python",
   "pygments_lexer": "ipython3",
   "version": "3.9.4"
  },
  "orig_nbformat": 2,
  "kernelspec": {
   "name": "python394jvsc74a57bd0ce84662d2f539e4595bb685d63d62db000d81e5edf3f86cfc940c024e0f53738",
   "display_name": "Python 3.9.4 64-bit ('dl')"
  },
  "metadata": {
   "interpreter": {
    "hash": "ce84662d2f539e4595bb685d63d62db000d81e5edf3f86cfc940c024e0f53738"
   }
  }
 },
 "nbformat": 4,
 "nbformat_minor": 2,
 "cells": [
  {
   "cell_type": "code",
   "execution_count": 87,
   "metadata": {},
   "outputs": [],
   "source": [
    "import pandas as pd\n",
    "import os\n",
    "from Utils.FileUtils import file_exists\n",
    "from torch.utils.data import Dataset\n",
    "from itertools import chain"
   ]
  },
  {
   "cell_type": "code",
   "execution_count": null,
   "metadata": {},
   "outputs": [],
   "source": []
  },
  {
   "cell_type": "code",
   "execution_count": 7,
   "metadata": {},
   "outputs": [],
   "source": [
    "diabetes_dataset_path = './datasets/medical/diabetes.csv'"
   ]
  },
  {
   "cell_type": "code",
   "execution_count": 10,
   "metadata": {},
   "outputs": [],
   "source": [
    "if not file_exists(diabetes_dataset_path):\n",
    "    raise Exception(\"This dataset doesn't exist on local\")"
   ]
  },
  {
   "cell_type": "code",
   "execution_count": 11,
   "metadata": {},
   "outputs": [],
   "source": [
    "# Load the dataset\n",
    "df = pd.read_csv(diabetes_dataset_path)"
   ]
  },
  {
   "cell_type": "code",
   "execution_count": 14,
   "metadata": {},
   "outputs": [
    {
     "output_type": "execute_result",
     "data": {
      "text/plain": [
       "   Pregnancies  Glucose  BloodPressure  SkinThickness  Insulin   BMI  \\\n",
       "0            6      148             72             35        0  33.6   \n",
       "1            1       85             66             29        0  26.6   \n",
       "2            8      183             64              0        0  23.3   \n",
       "3            1       89             66             23       94  28.1   \n",
       "4            0      137             40             35      168  43.1   \n",
       "\n",
       "   DiabetesPedigreeFunction  Age  Outcome  \n",
       "0                     0.627   50        1  \n",
       "1                     0.351   31        0  \n",
       "2                     0.672   32        1  \n",
       "3                     0.167   21        0  \n",
       "4                     2.288   33        1  "
      ],
      "text/html": "<div>\n<style scoped>\n    .dataframe tbody tr th:only-of-type {\n        vertical-align: middle;\n    }\n\n    .dataframe tbody tr th {\n        vertical-align: top;\n    }\n\n    .dataframe thead th {\n        text-align: right;\n    }\n</style>\n<table border=\"1\" class=\"dataframe\">\n  <thead>\n    <tr style=\"text-align: right;\">\n      <th></th>\n      <th>Pregnancies</th>\n      <th>Glucose</th>\n      <th>BloodPressure</th>\n      <th>SkinThickness</th>\n      <th>Insulin</th>\n      <th>BMI</th>\n      <th>DiabetesPedigreeFunction</th>\n      <th>Age</th>\n      <th>Outcome</th>\n    </tr>\n  </thead>\n  <tbody>\n    <tr>\n      <th>0</th>\n      <td>6</td>\n      <td>148</td>\n      <td>72</td>\n      <td>35</td>\n      <td>0</td>\n      <td>33.6</td>\n      <td>0.627</td>\n      <td>50</td>\n      <td>1</td>\n    </tr>\n    <tr>\n      <th>1</th>\n      <td>1</td>\n      <td>85</td>\n      <td>66</td>\n      <td>29</td>\n      <td>0</td>\n      <td>26.6</td>\n      <td>0.351</td>\n      <td>31</td>\n      <td>0</td>\n    </tr>\n    <tr>\n      <th>2</th>\n      <td>8</td>\n      <td>183</td>\n      <td>64</td>\n      <td>0</td>\n      <td>0</td>\n      <td>23.3</td>\n      <td>0.672</td>\n      <td>32</td>\n      <td>1</td>\n    </tr>\n    <tr>\n      <th>3</th>\n      <td>1</td>\n      <td>89</td>\n      <td>66</td>\n      <td>23</td>\n      <td>94</td>\n      <td>28.1</td>\n      <td>0.167</td>\n      <td>21</td>\n      <td>0</td>\n    </tr>\n    <tr>\n      <th>4</th>\n      <td>0</td>\n      <td>137</td>\n      <td>40</td>\n      <td>35</td>\n      <td>168</td>\n      <td>43.1</td>\n      <td>2.288</td>\n      <td>33</td>\n      <td>1</td>\n    </tr>\n  </tbody>\n</table>\n</div>"
     },
     "metadata": {},
     "execution_count": 14
    }
   ],
   "source": [
    "df.head(5)"
   ]
  },
  {
   "cell_type": "code",
   "execution_count": 19,
   "metadata": {},
   "outputs": [],
   "source": [
    "input_data =[df.iloc[0], df.iloc[1]]"
   ]
  },
  {
   "cell_type": "code",
   "execution_count": 28,
   "metadata": {},
   "outputs": [],
   "source": [
    "input_df = pd.DataFrame(input_data)"
   ]
  },
  {
   "cell_type": "code",
   "execution_count": 31,
   "metadata": {},
   "outputs": [],
   "source": [
    "data = input_df[feature_names]"
   ]
  },
  {
   "cell_type": "code",
   "execution_count": 34,
   "metadata": {},
   "outputs": [],
   "source": [
    "import torch\n",
    "import numpy as np"
   ]
  },
  {
   "cell_type": "code",
   "execution_count": 35,
   "metadata": {},
   "outputs": [
    {
     "output_type": "execute_result",
     "data": {
      "text/plain": [
       "array([[  6.   , 148.   ,  72.   ,  35.   ,   0.   ,  33.6  ,   0.627,\n",
       "         50.   ],\n",
       "       [  1.   ,  85.   ,  66.   ,  29.   ,   0.   ,  26.6  ,   0.351,\n",
       "         31.   ]])"
      ]
     },
     "metadata": {},
     "execution_count": 35
    }
   ],
   "source": []
  },
  {
   "cell_type": "code",
   "execution_count": 36,
   "metadata": {},
   "outputs": [
    {
     "output_type": "execute_result",
     "data": {
      "text/plain": [
       "tensor([[  6.0000, 148.0000,  72.0000,  35.0000,   0.0000,  33.6000,   0.6270,\n",
       "          50.0000],\n",
       "        [  1.0000,  85.0000,  66.0000,  29.0000,   0.0000,  26.6000,   0.3510,\n",
       "          31.0000]], dtype=torch.float64)"
      ]
     },
     "metadata": {},
     "execution_count": 36
    }
   ],
   "source": [
    "torch.tensor(np.array(data))"
   ]
  },
  {
   "cell_type": "code",
   "execution_count": 26,
   "metadata": {},
   "outputs": [
    {
     "output_type": "execute_result",
     "data": {
      "text/plain": [
       "['Pregnancies',\n",
       " 'Glucose',\n",
       " 'BloodPressure',\n",
       " 'SkinThickness',\n",
       " 'Insulin',\n",
       " 'BMI',\n",
       " 'DiabetesPedigreeFunction',\n",
       " 'Age']"
      ]
     },
     "metadata": {},
     "execution_count": 26
    }
   ],
   "source": [
    "feature_names"
   ]
  },
  {
   "cell_type": "code",
   "execution_count": 116,
   "metadata": {},
   "outputs": [],
   "source": [
    "# Make a dataset for diabete\n",
    "\n",
    "class DiabeteDataset(Dataset):\n",
    "    def __init__(self, file_path: str):\n",
    "        self.df = pd.read_csv(file_path)\n",
    "        self.target_col_name = \"Outcome\"\n",
    "        self.feature_names =[ col  for col in pd.DataFrame(input_data).columns if col != self.target_col_name ]\n",
    "\n",
    "    def __len__(self) -> int:\n",
    "        return len(self.df)\n",
    "\n",
    "    def num_features(self) -> int:\n",
    "        return len(self.feature_names)\n",
    "\n",
    "    def __getitem__(self, index: int) -> pd.Series:\n",
    "        return self.df.iloc[index]\n",
    "\n",
    "    def collate_fn(self, data: list[pd.Series]) -> tuple[torch.Tensor, torch.Tensor]:\n",
    "        # Transform to df\n",
    "        input_df = pd.DataFrame(data)\n",
    "        input_data = input_df[self.feature_names]\n",
    "        input_target = input_df[self.target_col_name]\n",
    "        return torch.tensor(np.array(input_data)), torch.tensor(np.array(input_target))\n",
    "\n",
    "\n",
    "   \n",
    "    \n"
   ]
  },
  {
   "cell_type": "code",
   "execution_count": 49,
   "metadata": {},
   "outputs": [],
   "source": [
    "diabete_dataset = DiabeteDataset(diabetes_dataset_path)"
   ]
  },
  {
   "cell_type": "code",
   "execution_count": 50,
   "metadata": {},
   "outputs": [],
   "source": [
    "from torch.utils.data import DataLoader"
   ]
  },
  {
   "cell_type": "code",
   "execution_count": 51,
   "metadata": {},
   "outputs": [],
   "source": [
    "diabete_loader = DataLoader(diabete_dataset, batch_size=8, shuffle=True, collate_fn=diabete_dataset.collate_fn)"
   ]
  },
  {
   "cell_type": "code",
   "execution_count": 52,
   "metadata": {},
   "outputs": [
    {
     "output_type": "execute_result",
     "data": {
      "text/plain": [
       "(tensor([[3.0000e+00, 9.6000e+01, 7.8000e+01, 3.9000e+01, 0.0000e+00, 3.7300e+01,\n",
       "          2.3800e-01, 4.0000e+01],\n",
       "         [3.0000e+00, 1.2300e+02, 1.0000e+02, 3.5000e+01, 2.4000e+02, 5.7300e+01,\n",
       "          8.8000e-01, 2.2000e+01],\n",
       "         [1.0000e+00, 1.1700e+02, 6.0000e+01, 2.3000e+01, 1.0600e+02, 3.3800e+01,\n",
       "          4.6600e-01, 2.7000e+01],\n",
       "         [9.0000e+00, 1.5400e+02, 7.8000e+01, 3.0000e+01, 1.0000e+02, 3.0900e+01,\n",
       "          1.6400e-01, 4.5000e+01],\n",
       "         [1.0000e+00, 1.8000e+02, 0.0000e+00, 0.0000e+00, 0.0000e+00, 4.3300e+01,\n",
       "          2.8200e-01, 4.1000e+01],\n",
       "         [9.0000e+00, 8.9000e+01, 6.2000e+01, 0.0000e+00, 0.0000e+00, 2.2500e+01,\n",
       "          1.4200e-01, 3.3000e+01],\n",
       "         [1.0000e+00, 7.7000e+01, 5.6000e+01, 3.0000e+01, 5.6000e+01, 3.3300e+01,\n",
       "          1.2510e+00, 2.4000e+01],\n",
       "         [1.0000e+01, 1.1500e+02, 9.8000e+01, 0.0000e+00, 0.0000e+00, 2.4000e+01,\n",
       "          1.0220e+00, 3.4000e+01]], dtype=torch.float64),\n",
       " tensor([0., 0., 0., 0., 1., 0., 0., 0.], dtype=torch.float64))"
      ]
     },
     "metadata": {},
     "execution_count": 52
    }
   ],
   "source": [
    "iter(diabete_loader).next()"
   ]
  },
  {
   "cell_type": "code",
   "execution_count": 54,
   "metadata": {},
   "outputs": [],
   "source": [
    "import torch.nn as nn"
   ]
  },
  {
   "cell_type": "code",
   "execution_count": 99,
   "metadata": {},
   "outputs": [],
   "source": [
    "class BaseNNModel(nn.Module):\n",
    "    def __init__(self, num_input_features, hidden_dim: list[int] = []):\n",
    "        super(BaseNNModel, self).__init__()\n",
    "        output_dim = 1\n",
    "\n",
    "        all_dim = [num_input_features] + hidden_dim + [output_dim]\n",
    "\n",
    "        all_layers = [[nn.Linear(all_dim[idx], all_dim[idx+1]), nn.BatchNorm1d(all_dim[idx+1]), nn.LeakyReLU(inplace=True)] if idx + 2 != len(all_dim) else [nn.Linear(all_dim[idx], all_dim[idx+1])] for idx in range(len(all_dim)-1)]\n",
    "\n",
    "\n",
    "        self.model = nn.Sequential(\n",
    "            *chain.from_iterable(all_layers),\n",
    "            nn.Sigmoid()\n",
    "        )\n",
    "\n",
    "        self.apply(BaseNNModel.weight_init)\n",
    "\n",
    "    def forward(self, input: torch.tensor):\n",
    "        return self.model(input)\n",
    "\n",
    "\n",
    "    def num_all_params(self,) -> int:\n",
    "        '''\n",
    "        return how many parameters in the model\n",
    "        '''\n",
    "        return sum([param.nelement() for param in self.parameters()])\n",
    "\n",
    "    @staticmethod\n",
    "    def weight_init(m) -> None:\n",
    "        '''\n",
    "        Initialising the weihgt\n",
    "        '''\n",
    "        if type(m) in [nn.Conv2d, nn.ConvTranspose2d, nn.Linear, nn.Conv1d]:\n",
    "            nn.init.kaiming_normal_(m.weight, 0.2, nonlinearity='leaky_relu')\n",
    "        elif type(m) in [nn.LSTM]:\n",
    "            for name, value in m.named_parameters():\n",
    "                if 'weight' in name:\n",
    "                    nn.init.xavier_normal_(value.data)\n",
    "                if 'bias' in name:\n",
    "                    value.data.normal_()"
   ]
  },
  {
   "cell_type": "code",
   "execution_count": 85,
   "metadata": {},
   "outputs": [],
   "source": [
    "seq = nn.Sequential(\n",
    "            nn.Linear(10, 10),\n",
    "            *chain.from_iterable([[nn.Linear(5,10 ), nn.BatchNorm1d(10)]])\n",
    "        )"
   ]
  },
  {
   "cell_type": "code",
   "execution_count": 72,
   "metadata": {},
   "outputs": [],
   "source": [
    "hidden_dim  =[4, 6,7]"
   ]
  },
  {
   "cell_type": "code",
   "execution_count": 70,
   "metadata": {},
   "outputs": [],
   "source": [
    "hidden_dim = [4]*10"
   ]
  },
  {
   "cell_type": "code",
   "execution_count": 75,
   "metadata": {},
   "outputs": [
    {
     "output_type": "execute_result",
     "data": {
      "text/plain": [
       "[4, 6, 7]"
      ]
     },
     "metadata": {},
     "execution_count": 75
    }
   ],
   "source": [
    "[ dim for index, dim  in enumerate(hidden_dim)]"
   ]
  },
  {
   "cell_type": "code",
   "execution_count": 76,
   "metadata": {},
   "outputs": [],
   "source": [
    "all_dim = [10] + hidden_dim + [1]"
   ]
  },
  {
   "cell_type": "code",
   "execution_count": 96,
   "metadata": {},
   "outputs": [
    {
     "output_type": "execute_result",
     "data": {
      "text/plain": [
       "[[Linear(in_features=10, out_features=4, bias=True),\n",
       "  BatchNorm1d(4, eps=1e-05, momentum=0.1, affine=True, track_running_stats=True),\n",
       "  LeakyReLU(negative_slope=0.01, inplace=True)],\n",
       " [Linear(in_features=4, out_features=6, bias=True),\n",
       "  BatchNorm1d(6, eps=1e-05, momentum=0.1, affine=True, track_running_stats=True),\n",
       "  LeakyReLU(negative_slope=0.01, inplace=True)],\n",
       " [Linear(in_features=6, out_features=7, bias=True),\n",
       "  BatchNorm1d(7, eps=1e-05, momentum=0.1, affine=True, track_running_stats=True),\n",
       "  LeakyReLU(negative_slope=0.01, inplace=True)],\n",
       " [Linear(in_features=7, out_features=1, bias=True)]]"
      ]
     },
     "metadata": {},
     "execution_count": 96
    }
   ],
   "source": [
    "[[nn.Linear(all_dim[idx], all_dim[idx+1]), nn.BatchNorm1d(all_dim[idx+1]), nn.LeakyReLU(inplace=True)] if idx + 2 != len(all_dim) else [nn.Linear(all_dim[idx], all_dim[idx+1])] for idx in range(len(all_dim)-1) ]"
   ]
  },
  {
   "cell_type": "code",
   "execution_count": 83,
   "metadata": {},
   "outputs": [],
   "source": []
  },
  {
   "cell_type": "code",
   "execution_count": 86,
   "metadata": {},
   "outputs": [
    {
     "output_type": "execute_result",
     "data": {
      "text/plain": [
       "Sequential(\n",
       "  (0): Linear(in_features=10, out_features=10, bias=True)\n",
       "  (1): Linear(in_features=5, out_features=10, bias=True)\n",
       "  (2): BatchNorm1d(10, eps=1e-05, momentum=0.1, affine=True, track_running_stats=True)\n",
       ")"
      ]
     },
     "metadata": {},
     "execution_count": 86
    }
   ],
   "source": [
    "seq"
   ]
  },
  {
   "cell_type": "code",
   "execution_count": 102,
   "metadata": {},
   "outputs": [],
   "source": [
    "model = BaseNNModel(  len(diabete_loader.dataset.feature_names), [8,10])"
   ]
  },
  {
   "cell_type": "code",
   "execution_count": 106,
   "metadata": {},
   "outputs": [
    {
     "output_type": "execute_result",
     "data": {
      "text/plain": [
       "tensor([[0.6683],\n",
       "        [0.7679],\n",
       "        [0.1999],\n",
       "        [0.6972],\n",
       "        [0.7641],\n",
       "        [0.7285],\n",
       "        [0.6900],\n",
       "        [0.7090]], grad_fn=<SigmoidBackward>)"
      ]
     },
     "metadata": {},
     "execution_count": 106
    }
   ],
   "source": [
    "model((iter(diabete_loader).next())[0].float())"
   ]
  },
  {
   "cell_type": "code",
   "execution_count": 101,
   "metadata": {},
   "outputs": [
    {
     "output_type": "execute_result",
     "data": {
      "text/plain": [
       "['Pregnancies',\n",
       " 'Glucose',\n",
       " 'BloodPressure',\n",
       " 'SkinThickness',\n",
       " 'Insulin',\n",
       " 'BMI',\n",
       " 'DiabetesPedigreeFunction',\n",
       " 'Age']"
      ]
     },
     "metadata": {},
     "execution_count": 101
    }
   ],
   "source": [
    "diabete_loader.dataset.feature_names"
   ]
  },
  {
   "cell_type": "code",
   "execution_count": 107,
   "metadata": {},
   "outputs": [
    {
     "output_type": "execute_result",
     "data": {
      "text/plain": [
       "8"
      ]
     },
     "metadata": {},
     "execution_count": 107
    }
   ],
   "source": [
    "diabete_loader.batch_size"
   ]
  },
  {
   "cell_type": "code",
   "execution_count": 108,
   "metadata": {},
   "outputs": [],
   "source": []
  },
  {
   "cell_type": "code",
   "execution_count": 109,
   "metadata": {},
   "outputs": [],
   "source": [
    "from Parameters import EnviromentParameters"
   ]
  },
  {
   "cell_type": "code",
   "execution_count": 113,
   "metadata": {},
   "outputs": [
    {
     "output_type": "execute_result",
     "data": {
      "text/plain": [
       "'./datasets/medical/diabetes.csv'"
      ]
     },
     "metadata": {},
     "execution_count": 113
    }
   ],
   "source": [
    "EnviromentParameters.DiabetesDataset.file_path"
   ]
  },
  {
   "cell_type": "code",
   "execution_count": 136,
   "metadata": {},
   "outputs": [],
   "source": []
  },
  {
   "cell_type": "code",
   "execution_count": null,
   "metadata": {},
   "outputs": [],
   "source": []
  }
 ]
}