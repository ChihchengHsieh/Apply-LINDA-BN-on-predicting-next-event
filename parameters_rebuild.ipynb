{
 "metadata": {
  "language_info": {
   "codemirror_mode": {
    "name": "ipython",
    "version": 3
   },
   "file_extension": ".py",
   "mimetype": "text/x-python",
   "name": "python",
   "nbconvert_exporter": "python",
   "pygments_lexer": "ipython3",
   "version": "3.9.4"
  },
  "orig_nbformat": 2,
  "kernelspec": {
   "name": "python394jvsc74a57bd04ed9cee67856ace8481c66731b7c8867d8550493b395e10d6f3e5e4d974e379a",
   "display_name": "Python 3.9.4 64-bit ('dl': pyenv)"
  },
  "metadata": {
   "interpreter": {
    "hash": "4ed9cee67856ace8481c66731b7c8867d8550493b395e10d6f3e5e4d974e379a"
   }
  }
 },
 "nbformat": 4,
 "nbformat_minor": 2,
 "cells": [
  {
   "cell_type": "code",
   "execution_count": 175,
   "metadata": {},
   "outputs": [],
   "source": []
  },
  {
   "cell_type": "code",
   "execution_count": 178,
   "metadata": {},
   "outputs": [],
   "source": [
    "from dataclasses import dataclass, field\n",
    "from Parameters.Enums import PreprocessedDfType, SelectableLoss, SelectableModels\n",
    "\n",
    "@dataclass\n",
    "class PredictingParameters(object):\n",
    "    '''\n",
    "    Storing the parameters for controlling the predicting.\n",
    "    '''\n",
    "    # will be save as the name.\n",
    "    parameters_save_file_name__:str = \"parameters.json\"\n",
    "\n",
    "    ######################################\n",
    "    # Parameters for predicting\n",
    "    ######################################\n",
    "    dataset_split_seed:int  = 12345\n",
    "\n",
    "    # Must set\n",
    "    # load_model_folder_path: str = \"./SavedModels/0.8534_2021-04-14 12:07:55.613864\"  # AWO\n",
    "    # load_model_folder_path: str = \"./SavedModels/0.8524_2021-05-04 22:56:36.630971\"  # WO\n",
    "    load_model_folder_path: str = \"./SavedModels/0.8318_BPI2012_BaseLineLSTMModel_2021-05-10 04:35:30.266388\"  # A\n",
    "\n",
    "    max_eos_predicted_length:int = 50\n",
    "    \n",
    "    # Loss function for measuring the loss on evaluation\n",
    "    loss: SelectableLoss = SelectableLoss.CrossEntropy\n",
    "    batch_size: int = 32  # batch_size when running evaluation on the\n"
   ]
  },
  {
   "cell_type": "code",
   "execution_count": 179,
   "metadata": {},
   "outputs": [],
   "source": [
    "from Utils.SaveUtils import get_json_dict"
   ]
  },
  {
   "cell_type": "code",
   "execution_count": 180,
   "metadata": {},
   "outputs": [],
   "source": [
    "p = PredictingParameters()"
   ]
  },
  {
   "cell_type": "code",
   "execution_count": 183,
   "metadata": {},
   "outputs": [],
   "source": [
    "p_dict = get_json_dict(p)"
   ]
  },
  {
   "cell_type": "code",
   "execution_count": null,
   "metadata": {},
   "outputs": [],
   "source": [
    "p_back 90"
   ]
  }
 ]
}