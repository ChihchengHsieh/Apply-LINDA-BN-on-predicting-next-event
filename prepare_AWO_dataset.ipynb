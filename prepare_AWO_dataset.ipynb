{
 "metadata": {
  "language_info": {
   "codemirror_mode": {
    "name": "ipython",
    "version": 3
   },
   "file_extension": ".py",
   "mimetype": "text/x-python",
   "name": "python",
   "nbconvert_exporter": "python",
   "pygments_lexer": "ipython3",
   "version": "3.9.4"
  },
  "orig_nbformat": 2,
  "kernelspec": {
   "name": "python394jvsc74a57bd09211693a06897a67d948cdf0860fb61d071f1ebb24dcc9a8e83dae40094200dd",
   "display_name": "Python 3.9.4 64-bit ('api-dev')"
  },
  "metadata": {
   "interpreter": {
    "hash": "9211693a06897a67d948cdf0860fb61d071f1ebb24dcc9a8e83dae40094200dd"
   }
  }
 },
 "nbformat": 4,
 "nbformat_minor": 2,
 "cells": [
  {
   "cell_type": "code",
   "execution_count": 2,
   "metadata": {},
   "outputs": [
    {
     "output_type": "stream",
     "name": "stderr",
     "text": [
      "/Users/jrhs/.pyenv/versions/api-dev/lib/python3.9/site-packages/pandas/compat/__init__.py:97: UserWarning: Could not import the lzma module. Your installed Python is incomplete. Attempting to use lzma compression will result in a RuntimeError.\n  warnings.warn(msg)\n"
     ]
    }
   ],
   "source": [
    "from Parameters.TrainingParameters import TrainingParameters\n",
    "from Utils.PrintUtils import print_big\n",
    "from CustomExceptions.Exceptions import NotSupportedError\n",
    "from json import load\n",
    "from typing import Iterable, Union\n",
    "import torch\n",
    "import pandas as pd\n",
    "from torch.jit import Error\n",
    "from torch.utils.data import Dataset\n",
    "import pm4py\n",
    "from datetime import timedelta\n",
    "import numpy as np\n",
    "from torch.nn.utils.rnn import pad_sequence\n",
    "from Utils.Constants import Constants\n",
    "from Utils.FileUtils import file_exists\n",
    "import json\n",
    "import os\n",
    "from Parameters.Enums import PreprocessedDfType"
   ]
  },
  {
   "cell_type": "code",
   "execution_count": 44,
   "metadata": {},
   "outputs": [],
   "source": [
    "filePath = TrainingParameters.bpi_2012_path"
   ]
  },
  {
   "cell_type": "code",
   "execution_count": 45,
   "metadata": {},
   "outputs": [
    {
     "output_type": "stream",
     "name": "stderr",
     "text": [
      "parsing log, completed traces :: 100%|██████████| 13087/13087 [00:05<00:00, 2360.15it/s]\n"
     ]
    }
   ],
   "source": [
    "log = pm4py.read_xes(filePath)"
   ]
  },
  {
   "cell_type": "code",
   "execution_count": 46,
   "metadata": {},
   "outputs": [],
   "source": [
    "flattern_log: list[dict[str, any]]  = ([{**event,\n",
    "                                                'caseid': trace.attributes['concept:name']}\n",
    "                                               for trace in log for event in trace])\n"
   ]
  },
  {
   "cell_type": "code",
   "execution_count": 71,
   "metadata": {},
   "outputs": [],
   "source": [
    "df = pd.DataFrame(flattern_log)"
   ]
  },
  {
   "cell_type": "code",
   "execution_count": 59,
   "metadata": {},
   "outputs": [],
   "source": [
    "df_A = df[df[\"concept:name\"].str.startswith(\"A_\")]"
   ]
  },
  {
   "cell_type": "code",
   "execution_count": 72,
   "metadata": {},
   "outputs": [],
   "source": [
    "df_O = df[df[\"concept:name\"].str.startswith(\"O_\")]"
   ]
  },
  {
   "cell_type": "code",
   "execution_count": 73,
   "metadata": {},
   "outputs": [],
   "source": [
    "df_OW = df[df[\"concept:name\"].str.startswith(\"O_\") | df[\"concept:name\"].str.startswith(\"W_\") ]"
   ]
  },
  {
   "cell_type": "code",
   "execution_count": 74,
   "metadata": {},
   "outputs": [],
   "source": [
    "df_W = df[df[\"concept:name\"].str.startswith(\"W_\")]"
   ]
  },
  {
   "cell_type": "code",
   "execution_count": 75,
   "metadata": {},
   "outputs": [
    {
     "output_type": "execute_result",
     "data": {
      "text/plain": [
       "       org:resource lifecycle:transition            concept:name  \\\n",
       "3               112             SCHEDULE  W_Completeren aanvraag   \n",
       "4               NaN                START  W_Completeren aanvraag   \n",
       "10              NaN             SCHEDULE     W_Nabellen offertes   \n",
       "11              NaN             COMPLETE  W_Completeren aanvraag   \n",
       "12              NaN                START     W_Nabellen offertes   \n",
       "...             ...                  ...                     ...   \n",
       "262192        11119                START     W_Nabellen offertes   \n",
       "262193        11119             COMPLETE     W_Nabellen offertes   \n",
       "262196          112             SCHEDULE      W_Afhandelen leads   \n",
       "262197        11169                START      W_Afhandelen leads   \n",
       "262199        11169             COMPLETE      W_Afhandelen leads   \n",
       "\n",
       "                          time:timestamp  caseid  \n",
       "3       2011-10-01 00:39:38.875000+02:00  173688  \n",
       "4       2011-10-01 11:36:46.437000+02:00  173688  \n",
       "10      2011-10-01 11:45:11.554000+02:00  173688  \n",
       "11      2011-10-01 11:45:13.917000+02:00  173688  \n",
       "12      2011-10-01 12:15:41.290000+02:00  173688  \n",
       "...                                  ...     ...  \n",
       "262192  2012-03-10 12:46:22.700000+01:00  214373  \n",
       "262193  2012-03-10 12:50:54.881000+01:00  214373  \n",
       "262196  2012-02-29 23:52:01.287000+01:00  214376  \n",
       "262197  2012-03-01 09:26:46.736000+01:00  214376  \n",
       "262199  2012-03-01 09:27:41.325000+01:00  214376  \n",
       "\n",
       "[170107 rows x 5 columns]"
      ],
      "text/html": "<div>\n<style scoped>\n    .dataframe tbody tr th:only-of-type {\n        vertical-align: middle;\n    }\n\n    .dataframe tbody tr th {\n        vertical-align: top;\n    }\n\n    .dataframe thead th {\n        text-align: right;\n    }\n</style>\n<table border=\"1\" class=\"dataframe\">\n  <thead>\n    <tr style=\"text-align: right;\">\n      <th></th>\n      <th>org:resource</th>\n      <th>lifecycle:transition</th>\n      <th>concept:name</th>\n      <th>time:timestamp</th>\n      <th>caseid</th>\n    </tr>\n  </thead>\n  <tbody>\n    <tr>\n      <th>3</th>\n      <td>112</td>\n      <td>SCHEDULE</td>\n      <td>W_Completeren aanvraag</td>\n      <td>2011-10-01 00:39:38.875000+02:00</td>\n      <td>173688</td>\n    </tr>\n    <tr>\n      <th>4</th>\n      <td>NaN</td>\n      <td>START</td>\n      <td>W_Completeren aanvraag</td>\n      <td>2011-10-01 11:36:46.437000+02:00</td>\n      <td>173688</td>\n    </tr>\n    <tr>\n      <th>10</th>\n      <td>NaN</td>\n      <td>SCHEDULE</td>\n      <td>W_Nabellen offertes</td>\n      <td>2011-10-01 11:45:11.554000+02:00</td>\n      <td>173688</td>\n    </tr>\n    <tr>\n      <th>11</th>\n      <td>NaN</td>\n      <td>COMPLETE</td>\n      <td>W_Completeren aanvraag</td>\n      <td>2011-10-01 11:45:13.917000+02:00</td>\n      <td>173688</td>\n    </tr>\n    <tr>\n      <th>12</th>\n      <td>NaN</td>\n      <td>START</td>\n      <td>W_Nabellen offertes</td>\n      <td>2011-10-01 12:15:41.290000+02:00</td>\n      <td>173688</td>\n    </tr>\n    <tr>\n      <th>...</th>\n      <td>...</td>\n      <td>...</td>\n      <td>...</td>\n      <td>...</td>\n      <td>...</td>\n    </tr>\n    <tr>\n      <th>262192</th>\n      <td>11119</td>\n      <td>START</td>\n      <td>W_Nabellen offertes</td>\n      <td>2012-03-10 12:46:22.700000+01:00</td>\n      <td>214373</td>\n    </tr>\n    <tr>\n      <th>262193</th>\n      <td>11119</td>\n      <td>COMPLETE</td>\n      <td>W_Nabellen offertes</td>\n      <td>2012-03-10 12:50:54.881000+01:00</td>\n      <td>214373</td>\n    </tr>\n    <tr>\n      <th>262196</th>\n      <td>112</td>\n      <td>SCHEDULE</td>\n      <td>W_Afhandelen leads</td>\n      <td>2012-02-29 23:52:01.287000+01:00</td>\n      <td>214376</td>\n    </tr>\n    <tr>\n      <th>262197</th>\n      <td>11169</td>\n      <td>START</td>\n      <td>W_Afhandelen leads</td>\n      <td>2012-03-01 09:26:46.736000+01:00</td>\n      <td>214376</td>\n    </tr>\n    <tr>\n      <th>262199</th>\n      <td>11169</td>\n      <td>COMPLETE</td>\n      <td>W_Afhandelen leads</td>\n      <td>2012-03-01 09:27:41.325000+01:00</td>\n      <td>214376</td>\n    </tr>\n  </tbody>\n</table>\n<p>170107 rows × 5 columns</p>\n</div>"
     },
     "metadata": {},
     "execution_count": 75
    }
   ],
   "source": [
    "df_W"
   ]
  },
  {
   "cell_type": "code",
   "execution_count": 5,
   "metadata": {},
   "outputs": [],
   "source": [
    "df[\"name_and_transition\"] = df[\"concept:name\"] + \\\n",
    "            \"_\" + df[\"lifecycle:transition\"]\n",
    "df = df[['time:timestamp', 'name_and_transition', \"caseid\"]]"
   ]
  },
  {
   "cell_type": "code",
   "execution_count": 6,
   "metadata": {},
   "outputs": [
    {
     "output_type": "execute_result",
     "data": {
      "text/plain": [
       "                     time:timestamp              name_and_transition  caseid\n",
       "0  2011-10-01 00:38:44.546000+02:00             A_SUBMITTED_COMPLETE  173688\n",
       "1  2011-10-01 00:38:44.880000+02:00       A_PARTLYSUBMITTED_COMPLETE  173688\n",
       "2  2011-10-01 00:39:37.906000+02:00           A_PREACCEPTED_COMPLETE  173688\n",
       "3  2011-10-01 00:39:38.875000+02:00  W_Completeren aanvraag_SCHEDULE  173688\n",
       "4  2011-10-01 11:36:46.437000+02:00     W_Completeren aanvraag_START  173688"
      ],
      "text/html": "<div>\n<style scoped>\n    .dataframe tbody tr th:only-of-type {\n        vertical-align: middle;\n    }\n\n    .dataframe tbody tr th {\n        vertical-align: top;\n    }\n\n    .dataframe thead th {\n        text-align: right;\n    }\n</style>\n<table border=\"1\" class=\"dataframe\">\n  <thead>\n    <tr style=\"text-align: right;\">\n      <th></th>\n      <th>time:timestamp</th>\n      <th>name_and_transition</th>\n      <th>caseid</th>\n    </tr>\n  </thead>\n  <tbody>\n    <tr>\n      <th>0</th>\n      <td>2011-10-01 00:38:44.546000+02:00</td>\n      <td>A_SUBMITTED_COMPLETE</td>\n      <td>173688</td>\n    </tr>\n    <tr>\n      <th>1</th>\n      <td>2011-10-01 00:38:44.880000+02:00</td>\n      <td>A_PARTLYSUBMITTED_COMPLETE</td>\n      <td>173688</td>\n    </tr>\n    <tr>\n      <th>2</th>\n      <td>2011-10-01 00:39:37.906000+02:00</td>\n      <td>A_PREACCEPTED_COMPLETE</td>\n      <td>173688</td>\n    </tr>\n    <tr>\n      <th>3</th>\n      <td>2011-10-01 00:39:38.875000+02:00</td>\n      <td>W_Completeren aanvraag_SCHEDULE</td>\n      <td>173688</td>\n    </tr>\n    <tr>\n      <th>4</th>\n      <td>2011-10-01 11:36:46.437000+02:00</td>\n      <td>W_Completeren aanvraag_START</td>\n      <td>173688</td>\n    </tr>\n  </tbody>\n</table>\n</div>"
     },
     "metadata": {},
     "execution_count": 6
    }
   ],
   "source": [
    "df.head(5)"
   ]
  },
  {
   "cell_type": "code",
   "execution_count": 33,
   "metadata": {
    "tags": []
   },
   "outputs": [],
   "source": [
    "newData = []\n",
    "for case, group in df.groupby('caseid'):\n",
    "            group.sort_values(\"time:timestamp\", ascending=True, inplace=True)\n",
    "            strating_time = group.iloc[0][\"time:timestamp\"] - \\\n",
    "                timedelta(microseconds=1)\n",
    "            ending_time = group.iloc[-1][\"time:timestamp\"] + \\\n",
    "                timedelta(microseconds=1)\n",
    "\n",
    "            # print(\"Before to dict\")\n",
    "            traces = group.to_dict('records')\n",
    "            # print(\"After to dict\")\n",
    "\n",
    "\n",
    "            # Add start and end tags.\n",
    "            traces.insert(\n",
    "                0, {\"caseid\": case, \"time:timestamp\": strating_time, \"name_and_transition\": Constants.SOS_VOCAB})\n",
    "            traces.append(\n",
    "                {\"caseid\": case, \"time:timestamp\": ending_time, \"name_and_transition\": Constants.EOS_VOCAB})\n",
    "            # print(\"before extend to dict\")\n",
    "            newData.extend(traces)\n",
    "            # print(\"After extend to dict\")\n"
   ]
  },
  {
   "cell_type": "code",
   "execution_count": 35,
   "metadata": {},
   "outputs": [],
   "source": [
    "df = pd.DataFrame(newData)\n",
    "df['name_and_transition'] = df['name_and_transition'].astype(\n",
    "            'category')"
   ]
  },
  {
   "cell_type": "code",
   "execution_count": 36,
   "metadata": {},
   "outputs": [
    {
     "output_type": "execute_result",
     "data": {
      "text/plain": [
       "   caseid                    time:timestamp              name_and_transition\n",
       "0  173688  2011-10-01 00:38:44.545999+02:00                            <SOS>\n",
       "1  173688  2011-10-01 00:38:44.546000+02:00             A_SUBMITTED_COMPLETE\n",
       "2  173688  2011-10-01 00:38:44.880000+02:00       A_PARTLYSUBMITTED_COMPLETE\n",
       "3  173688  2011-10-01 00:39:37.906000+02:00           A_PREACCEPTED_COMPLETE\n",
       "4  173688  2011-10-01 00:39:38.875000+02:00  W_Completeren aanvraag_SCHEDULE"
      ],
      "text/html": "<div>\n<style scoped>\n    .dataframe tbody tr th:only-of-type {\n        vertical-align: middle;\n    }\n\n    .dataframe tbody tr th {\n        vertical-align: top;\n    }\n\n    .dataframe thead th {\n        text-align: right;\n    }\n</style>\n<table border=\"1\" class=\"dataframe\">\n  <thead>\n    <tr style=\"text-align: right;\">\n      <th></th>\n      <th>caseid</th>\n      <th>time:timestamp</th>\n      <th>name_and_transition</th>\n    </tr>\n  </thead>\n  <tbody>\n    <tr>\n      <th>0</th>\n      <td>173688</td>\n      <td>2011-10-01 00:38:44.545999+02:00</td>\n      <td>&lt;SOS&gt;</td>\n    </tr>\n    <tr>\n      <th>1</th>\n      <td>173688</td>\n      <td>2011-10-01 00:38:44.546000+02:00</td>\n      <td>A_SUBMITTED_COMPLETE</td>\n    </tr>\n    <tr>\n      <th>2</th>\n      <td>173688</td>\n      <td>2011-10-01 00:38:44.880000+02:00</td>\n      <td>A_PARTLYSUBMITTED_COMPLETE</td>\n    </tr>\n    <tr>\n      <th>3</th>\n      <td>173688</td>\n      <td>2011-10-01 00:39:37.906000+02:00</td>\n      <td>A_PREACCEPTED_COMPLETE</td>\n    </tr>\n    <tr>\n      <th>4</th>\n      <td>173688</td>\n      <td>2011-10-01 00:39:38.875000+02:00</td>\n      <td>W_Completeren aanvraag_SCHEDULE</td>\n    </tr>\n  </tbody>\n</table>\n</div>"
     },
     "metadata": {},
     "execution_count": 36
    }
   ],
   "source": [
    "df.head(5)"
   ]
  },
  {
   "cell_type": "code",
   "execution_count": 41,
   "metadata": {},
   "outputs": [],
   "source": [
    "vocab_dict: dict[str, int] = {}\n",
    "for i, cat in enumerate(df['name_and_transition'].cat.categories):\n",
    "    vocab_dict[cat] = i+1\n",
    "vocab_dict[Constants.PAD_VOCAB] = 0\n"
   ]
  },
  {
   "cell_type": "code",
   "execution_count": 42,
   "metadata": {},
   "outputs": [
    {
     "output_type": "error",
     "ename": "AttributeError",
     "evalue": "'Series' object has no attribute 'start_with'",
     "traceback": [
      "\u001b[0;31m---------------------------------------------------------------------------\u001b[0m",
      "\u001b[0;31mAttributeError\u001b[0m                            Traceback (most recent call last)",
      "\u001b[0;32m<ipython-input-42-b25ff9d8c379>\u001b[0m in \u001b[0;36m<module>\u001b[0;34m\u001b[0m\n\u001b[0;32m----> 1\u001b[0;31m \u001b[0mdf\u001b[0m \u001b[0;34m=\u001b[0m \u001b[0mdf\u001b[0m\u001b[0;34m[\u001b[0m\u001b[0mdf\u001b[0m\u001b[0;34m[\u001b[0m\u001b[0;34m\"name_and_transition\"\u001b[0m\u001b[0;34m]\u001b[0m\u001b[0;34m.\u001b[0m\u001b[0mstart_with\u001b[0m\u001b[0;34m(\u001b[0m\u001b[0;34m)\u001b[0m\u001b[0;34m]\u001b[0m\u001b[0;34m\u001b[0m\u001b[0;34m\u001b[0m\u001b[0m\n\u001b[0m",
      "\u001b[0;32m~/.pyenv/versions/api-dev/lib/python3.9/site-packages/pandas/core/generic.py\u001b[0m in \u001b[0;36m__getattr__\u001b[0;34m(self, name)\u001b[0m\n\u001b[1;32m   5463\u001b[0m             \u001b[0;32mif\u001b[0m \u001b[0mself\u001b[0m\u001b[0;34m.\u001b[0m\u001b[0m_info_axis\u001b[0m\u001b[0;34m.\u001b[0m\u001b[0m_can_hold_identifiers_and_holds_name\u001b[0m\u001b[0;34m(\u001b[0m\u001b[0mname\u001b[0m\u001b[0;34m)\u001b[0m\u001b[0;34m:\u001b[0m\u001b[0;34m\u001b[0m\u001b[0;34m\u001b[0m\u001b[0m\n\u001b[1;32m   5464\u001b[0m                 \u001b[0;32mreturn\u001b[0m \u001b[0mself\u001b[0m\u001b[0;34m[\u001b[0m\u001b[0mname\u001b[0m\u001b[0;34m]\u001b[0m\u001b[0;34m\u001b[0m\u001b[0;34m\u001b[0m\u001b[0m\n\u001b[0;32m-> 5465\u001b[0;31m             \u001b[0;32mreturn\u001b[0m \u001b[0mobject\u001b[0m\u001b[0;34m.\u001b[0m\u001b[0m__getattribute__\u001b[0m\u001b[0;34m(\u001b[0m\u001b[0mself\u001b[0m\u001b[0;34m,\u001b[0m \u001b[0mname\u001b[0m\u001b[0;34m)\u001b[0m\u001b[0;34m\u001b[0m\u001b[0;34m\u001b[0m\u001b[0m\n\u001b[0m\u001b[1;32m   5466\u001b[0m \u001b[0;34m\u001b[0m\u001b[0m\n\u001b[1;32m   5467\u001b[0m     \u001b[0;32mdef\u001b[0m \u001b[0m__setattr__\u001b[0m\u001b[0;34m(\u001b[0m\u001b[0mself\u001b[0m\u001b[0;34m,\u001b[0m \u001b[0mname\u001b[0m\u001b[0;34m:\u001b[0m \u001b[0mstr\u001b[0m\u001b[0;34m,\u001b[0m \u001b[0mvalue\u001b[0m\u001b[0;34m)\u001b[0m \u001b[0;34m->\u001b[0m \u001b[0;32mNone\u001b[0m\u001b[0;34m:\u001b[0m\u001b[0;34m\u001b[0m\u001b[0;34m\u001b[0m\u001b[0m\n",
      "\u001b[0;31mAttributeError\u001b[0m: 'Series' object has no attribute 'start_with'"
     ]
    }
   ],
   "source": [
    "df = df[df[\"name_and_transition\"].startswith(\"\")]"
   ]
  },
  {
   "cell_type": "code",
   "execution_count": 81,
   "metadata": {},
   "outputs": [],
   "source": [
    "from Data.BPI2012Dataset import BPI2012Dataset, ActivityType\n",
    "\n",
    "ac_list = [ActivityType.A, ActivityType.O, ActivityType.W]"
   ]
  },
  {
   "cell_type": "code",
   "execution_count": 91,
   "metadata": {},
   "outputs": [
    {
     "output_type": "error",
     "ename": "ValueError",
     "evalue": "The truth value of a Series is ambiguous. Use a.empty, a.bool(), a.item(), a.any() or a.all().",
     "traceback": [
      "\u001b[0;31m---------------------------------------------------------------------------\u001b[0m",
      "\u001b[0;31mValueError\u001b[0m                                Traceback (most recent call last)",
      "\u001b[0;32m<ipython-input-91-b8ac13c8a5be>\u001b[0m in \u001b[0;36m<module>\u001b[0;34m\u001b[0m\n\u001b[0;32m----> 1\u001b[0;31m \u001b[0mdf\u001b[0m\u001b[0;34m[\u001b[0m\u001b[0many\u001b[0m\u001b[0;34m(\u001b[0m\u001b[0;34m[\u001b[0m\u001b[0mdf\u001b[0m\u001b[0;34m[\u001b[0m\u001b[0;34m\"concept:name\"\u001b[0m\u001b[0;34m]\u001b[0m\u001b[0;34m.\u001b[0m\u001b[0mstr\u001b[0m\u001b[0;34m.\u001b[0m\u001b[0mstartswith\u001b[0m\u001b[0;34m(\u001b[0m\u001b[0ma\u001b[0m\u001b[0;34m.\u001b[0m\u001b[0mvalue\u001b[0m\u001b[0;34m)\u001b[0m \u001b[0;32mfor\u001b[0m \u001b[0ma\u001b[0m \u001b[0;32min\u001b[0m \u001b[0mac_list\u001b[0m\u001b[0;34m]\u001b[0m\u001b[0;34m)\u001b[0m\u001b[0;34m]\u001b[0m\u001b[0;34m\u001b[0m\u001b[0;34m\u001b[0m\u001b[0m\n\u001b[0m",
      "\u001b[0;32m~/.pyenv/versions/api-dev/lib/python3.9/site-packages/pandas/core/generic.py\u001b[0m in \u001b[0;36m__nonzero__\u001b[0;34m(self)\u001b[0m\n\u001b[1;32m   1440\u001b[0m     \u001b[0;34m@\u001b[0m\u001b[0mfinal\u001b[0m\u001b[0;34m\u001b[0m\u001b[0;34m\u001b[0m\u001b[0m\n\u001b[1;32m   1441\u001b[0m     \u001b[0;32mdef\u001b[0m \u001b[0m__nonzero__\u001b[0m\u001b[0;34m(\u001b[0m\u001b[0mself\u001b[0m\u001b[0;34m)\u001b[0m\u001b[0;34m:\u001b[0m\u001b[0;34m\u001b[0m\u001b[0;34m\u001b[0m\u001b[0m\n\u001b[0;32m-> 1442\u001b[0;31m         raise ValueError(\n\u001b[0m\u001b[1;32m   1443\u001b[0m             \u001b[0;34mf\"The truth value of a {type(self).__name__} is ambiguous. \"\u001b[0m\u001b[0;34m\u001b[0m\u001b[0;34m\u001b[0m\u001b[0m\n\u001b[1;32m   1444\u001b[0m             \u001b[0;34m\"Use a.empty, a.bool(), a.item(), a.any() or a.all().\"\u001b[0m\u001b[0;34m\u001b[0m\u001b[0;34m\u001b[0m\u001b[0m\n",
      "\u001b[0;31mValueError\u001b[0m: The truth value of a Series is ambiguous. Use a.empty, a.bool(), a.item(), a.any() or a.all()."
     ]
    }
   ],
   "source": [
    "df[any([df[\"concept:name\"].str.startswith(a.value) for a in ac_list])]"
   ]
  },
  {
   "cell_type": "code",
   "execution_count": 108,
   "metadata": {},
   "outputs": [],
   "source": [
    "st = [df[\"concept:name\"].str.startswith(a.value) for a in ac_list]"
   ]
  },
  {
   "cell_type": "code",
   "execution_count": 112,
   "metadata": {},
   "outputs": [
    {
     "output_type": "execute_result",
     "data": {
      "text/plain": [
       "       org:resource lifecycle:transition            concept:name  \\\n",
       "0               112             COMPLETE             A_SUBMITTED   \n",
       "1               112             COMPLETE       A_PARTLYSUBMITTED   \n",
       "2               112             COMPLETE           A_PREACCEPTED   \n",
       "3               112             SCHEDULE  W_Completeren aanvraag   \n",
       "4               NaN                START  W_Completeren aanvraag   \n",
       "...             ...                  ...                     ...   \n",
       "262195          112             COMPLETE       A_PARTLYSUBMITTED   \n",
       "262196          112             SCHEDULE      W_Afhandelen leads   \n",
       "262197        11169                START      W_Afhandelen leads   \n",
       "262198        11169             COMPLETE              A_DECLINED   \n",
       "262199        11169             COMPLETE      W_Afhandelen leads   \n",
       "\n",
       "                          time:timestamp  caseid  \n",
       "0       2011-10-01 00:38:44.546000+02:00  173688  \n",
       "1       2011-10-01 00:38:44.880000+02:00  173688  \n",
       "2       2011-10-01 00:39:37.906000+02:00  173688  \n",
       "3       2011-10-01 00:39:38.875000+02:00  173688  \n",
       "4       2011-10-01 11:36:46.437000+02:00  173688  \n",
       "...                                  ...     ...  \n",
       "262195  2012-02-29 23:51:17.423000+01:00  214376  \n",
       "262196  2012-02-29 23:52:01.287000+01:00  214376  \n",
       "262197  2012-03-01 09:26:46.736000+01:00  214376  \n",
       "262198  2012-03-01 09:27:37.118000+01:00  214376  \n",
       "262199  2012-03-01 09:27:41.325000+01:00  214376  \n",
       "\n",
       "[262200 rows x 5 columns]"
      ],
      "text/html": "<div>\n<style scoped>\n    .dataframe tbody tr th:only-of-type {\n        vertical-align: middle;\n    }\n\n    .dataframe tbody tr th {\n        vertical-align: top;\n    }\n\n    .dataframe thead th {\n        text-align: right;\n    }\n</style>\n<table border=\"1\" class=\"dataframe\">\n  <thead>\n    <tr style=\"text-align: right;\">\n      <th></th>\n      <th>org:resource</th>\n      <th>lifecycle:transition</th>\n      <th>concept:name</th>\n      <th>time:timestamp</th>\n      <th>caseid</th>\n    </tr>\n  </thead>\n  <tbody>\n    <tr>\n      <th>0</th>\n      <td>112</td>\n      <td>COMPLETE</td>\n      <td>A_SUBMITTED</td>\n      <td>2011-10-01 00:38:44.546000+02:00</td>\n      <td>173688</td>\n    </tr>\n    <tr>\n      <th>1</th>\n      <td>112</td>\n      <td>COMPLETE</td>\n      <td>A_PARTLYSUBMITTED</td>\n      <td>2011-10-01 00:38:44.880000+02:00</td>\n      <td>173688</td>\n    </tr>\n    <tr>\n      <th>2</th>\n      <td>112</td>\n      <td>COMPLETE</td>\n      <td>A_PREACCEPTED</td>\n      <td>2011-10-01 00:39:37.906000+02:00</td>\n      <td>173688</td>\n    </tr>\n    <tr>\n      <th>3</th>\n      <td>112</td>\n      <td>SCHEDULE</td>\n      <td>W_Completeren aanvraag</td>\n      <td>2011-10-01 00:39:38.875000+02:00</td>\n      <td>173688</td>\n    </tr>\n    <tr>\n      <th>4</th>\n      <td>NaN</td>\n      <td>START</td>\n      <td>W_Completeren aanvraag</td>\n      <td>2011-10-01 11:36:46.437000+02:00</td>\n      <td>173688</td>\n    </tr>\n    <tr>\n      <th>...</th>\n      <td>...</td>\n      <td>...</td>\n      <td>...</td>\n      <td>...</td>\n      <td>...</td>\n    </tr>\n    <tr>\n      <th>262195</th>\n      <td>112</td>\n      <td>COMPLETE</td>\n      <td>A_PARTLYSUBMITTED</td>\n      <td>2012-02-29 23:51:17.423000+01:00</td>\n      <td>214376</td>\n    </tr>\n    <tr>\n      <th>262196</th>\n      <td>112</td>\n      <td>SCHEDULE</td>\n      <td>W_Afhandelen leads</td>\n      <td>2012-02-29 23:52:01.287000+01:00</td>\n      <td>214376</td>\n    </tr>\n    <tr>\n      <th>262197</th>\n      <td>11169</td>\n      <td>START</td>\n      <td>W_Afhandelen leads</td>\n      <td>2012-03-01 09:26:46.736000+01:00</td>\n      <td>214376</td>\n    </tr>\n    <tr>\n      <th>262198</th>\n      <td>11169</td>\n      <td>COMPLETE</td>\n      <td>A_DECLINED</td>\n      <td>2012-03-01 09:27:37.118000+01:00</td>\n      <td>214376</td>\n    </tr>\n    <tr>\n      <th>262199</th>\n      <td>11169</td>\n      <td>COMPLETE</td>\n      <td>W_Afhandelen leads</td>\n      <td>2012-03-01 09:27:41.325000+01:00</td>\n      <td>214376</td>\n    </tr>\n  </tbody>\n</table>\n<p>262200 rows × 5 columns</p>\n</div>"
     },
     "metadata": {},
     "execution_count": 112
    }
   ],
   "source": [
    "df[[any([a, b, c]) for a, b, c in zip(*([df[\"concept:name\"].str.startswith(a.value) for a in ac_list]))]]\n",
    "    \n"
   ]
  },
  {
   "cell_type": "code",
   "execution_count": 103,
   "metadata": {},
   "outputs": [
    {
     "output_type": "execute_result",
     "data": {
      "text/plain": [
       "False"
      ]
     },
     "metadata": {},
     "execution_count": 103
    }
   ],
   "source": [
    "c"
   ]
  },
  {
   "cell_type": "code",
   "execution_count": 117,
   "metadata": {},
   "outputs": [
    {
     "output_type": "execute_result",
     "data": {
      "text/plain": [
       "['A_', 'O_', 'W_']"
      ]
     },
     "metadata": {},
     "execution_count": 117
    }
   ],
   "source": [
    "sorted([ a.value for a in ac_list ], key= str.lower)"
   ]
  },
  {
   "cell_type": "code",
   "execution_count": 121,
   "metadata": {},
   "outputs": [
    {
     "output_type": "execute_result",
     "data": {
      "text/plain": [
       "'A_O_W_'"
      ]
     },
     "metadata": {},
     "execution_count": 121
    }
   ],
   "source": [
    "\"\".join(sorted([ a.value for a in ac_list ], key= str.lower))"
   ]
  },
  {
   "cell_type": "code",
   "execution_count": 3,
   "metadata": {},
   "outputs": [],
   "source": [
    "from Parameters.Enums import ActivityType"
   ]
  },
  {
   "cell_type": "code",
   "execution_count": 4,
   "metadata": {},
   "outputs": [],
   "source": [
    "ac = [ActivityType.O, ActivityType.A, ActivityType.W]"
   ]
  },
  {
   "cell_type": "code",
   "execution_count": 7,
   "metadata": {},
   "outputs": [],
   "source": [
    "ac_str = str(ac)"
   ]
  },
  {
   "cell_type": "code",
   "execution_count": 2,
   "metadata": {},
   "outputs": [],
   "source": [
    "import json"
   ]
  },
  {
   "cell_type": "code",
   "execution_count": 1,
   "metadata": {},
   "outputs": [],
   "source": [
    "from Utils.SaveUtils import get_json_dict"
   ]
  },
  {
   "cell_type": "code",
   "execution_count": 11,
   "metadata": {},
   "outputs": [
    {
     "output_type": "error",
     "ename": "TypeError",
     "evalue": "vars() argument must have __dict__ attribute",
     "traceback": [
      "\u001b[0;31m---------------------------------------------------------------------------\u001b[0m",
      "\u001b[0;31mTypeError\u001b[0m                                 Traceback (most recent call last)",
      "\u001b[0;32m<ipython-input-11-7610024c1e4b>\u001b[0m in \u001b[0;36m<module>\u001b[0;34m\u001b[0m\n\u001b[0;32m----> 1\u001b[0;31m \u001b[0mget_json_dict\u001b[0m\u001b[0;34m(\u001b[0m\u001b[0mac\u001b[0m\u001b[0;34m)\u001b[0m\u001b[0;34m\u001b[0m\u001b[0;34m\u001b[0m\u001b[0m\n\u001b[0m",
      "\u001b[0;32m~/Documents/GitHub/Apply-LINDA-BN-on-predicting-next-event/Utils/SaveUtils.py\u001b[0m in \u001b[0;36mget_json_dict\u001b[0;34m(t)\u001b[0m\n\u001b[1;32m      3\u001b[0m \u001b[0;32mdef\u001b[0m \u001b[0mget_json_dict\u001b[0m\u001b[0;34m(\u001b[0m\u001b[0mt\u001b[0m\u001b[0;34m)\u001b[0m\u001b[0;34m:\u001b[0m\u001b[0;34m\u001b[0m\u001b[0;34m\u001b[0m\u001b[0m\n\u001b[1;32m      4\u001b[0m     \u001b[0mjson_dict\u001b[0m \u001b[0;34m=\u001b[0m\u001b[0;34m{\u001b[0m\u001b[0;34m}\u001b[0m\u001b[0;34m\u001b[0m\u001b[0;34m\u001b[0m\u001b[0m\n\u001b[0;32m----> 5\u001b[0;31m     \u001b[0;32mfor\u001b[0m \u001b[0mk\u001b[0m\u001b[0;34m,\u001b[0m \u001b[0mv\u001b[0m \u001b[0;32min\u001b[0m  \u001b[0mvars\u001b[0m\u001b[0;34m(\u001b[0m\u001b[0mt\u001b[0m\u001b[0;34m)\u001b[0m\u001b[0;34m.\u001b[0m\u001b[0mitems\u001b[0m\u001b[0;34m(\u001b[0m\u001b[0;34m)\u001b[0m\u001b[0;34m:\u001b[0m\u001b[0;34m\u001b[0m\u001b[0;34m\u001b[0m\u001b[0m\n\u001b[0m\u001b[1;32m      6\u001b[0m         \u001b[0;32mif\u001b[0m \u001b[0;32mnot\u001b[0m \u001b[0mk\u001b[0m\u001b[0;34m.\u001b[0m\u001b[0mendswith\u001b[0m\u001b[0;34m(\u001b[0m\u001b[0;34m\"__\"\u001b[0m\u001b[0;34m)\u001b[0m\u001b[0;34m:\u001b[0m\u001b[0;34m\u001b[0m\u001b[0;34m\u001b[0m\u001b[0m\n\u001b[1;32m      7\u001b[0m             \u001b[0;32mif\u001b[0m \u001b[0mtype\u001b[0m\u001b[0;34m(\u001b[0m\u001b[0mv\u001b[0m\u001b[0;34m)\u001b[0m \u001b[0;34m==\u001b[0m \u001b[0mtype\u001b[0m\u001b[0;34m:\u001b[0m\u001b[0;34m\u001b[0m\u001b[0;34m\u001b[0m\u001b[0m\n",
      "\u001b[0;31mTypeError\u001b[0m: vars() argument must have __dict__ attribute"
     ]
    }
   ],
   "source": [
    "get_json_dict(ac)"
   ]
  },
  {
   "cell_type": "code",
   "execution_count": 14,
   "metadata": {},
   "outputs": [],
   "source": [
    "string_a = [ a.value  for a in ac ]"
   ]
  },
  {
   "cell_type": "code",
   "execution_count": 7,
   "metadata": {},
   "outputs": [
    {
     "output_type": "error",
     "ename": "TypeError",
     "evalue": "vars() argument must have __dict__ attribute",
     "traceback": [
      "\u001b[0;31m---------------------------------------------------------------------------\u001b[0m",
      "\u001b[0;31mTypeError\u001b[0m                                 Traceback (most recent call last)",
      "\u001b[0;32m<ipython-input-7-a2c9791644a7>\u001b[0m in \u001b[0;36m<module>\u001b[0;34m\u001b[0m\n\u001b[0;32m----> 1\u001b[0;31m \u001b[0mget_json_dict\u001b[0m\u001b[0;34m(\u001b[0m\u001b[0mstring_a\u001b[0m\u001b[0;34m)\u001b[0m\u001b[0;34m\u001b[0m\u001b[0;34m\u001b[0m\u001b[0m\n\u001b[0m",
      "\u001b[0;32m~/Documents/GitHub/Apply-LINDA-BN-on-predicting-next-event/Utils/SaveUtils.py\u001b[0m in \u001b[0;36mget_json_dict\u001b[0;34m(t)\u001b[0m\n\u001b[1;32m      3\u001b[0m \u001b[0;32mdef\u001b[0m \u001b[0mget_json_dict\u001b[0m\u001b[0;34m(\u001b[0m\u001b[0mt\u001b[0m\u001b[0;34m)\u001b[0m\u001b[0;34m:\u001b[0m\u001b[0;34m\u001b[0m\u001b[0;34m\u001b[0m\u001b[0m\n\u001b[1;32m      4\u001b[0m     \u001b[0mjson_dict\u001b[0m \u001b[0;34m=\u001b[0m\u001b[0;34m{\u001b[0m\u001b[0;34m}\u001b[0m\u001b[0;34m\u001b[0m\u001b[0;34m\u001b[0m\u001b[0m\n\u001b[0;32m----> 5\u001b[0;31m     \u001b[0;32mfor\u001b[0m \u001b[0mk\u001b[0m\u001b[0;34m,\u001b[0m \u001b[0mv\u001b[0m \u001b[0;32min\u001b[0m  \u001b[0mvars\u001b[0m\u001b[0;34m(\u001b[0m\u001b[0mt\u001b[0m\u001b[0;34m)\u001b[0m\u001b[0;34m.\u001b[0m\u001b[0mitems\u001b[0m\u001b[0;34m(\u001b[0m\u001b[0;34m)\u001b[0m\u001b[0;34m:\u001b[0m\u001b[0;34m\u001b[0m\u001b[0;34m\u001b[0m\u001b[0m\n\u001b[0m\u001b[1;32m      6\u001b[0m         \u001b[0;32mif\u001b[0m \u001b[0;32mnot\u001b[0m \u001b[0mk\u001b[0m\u001b[0;34m.\u001b[0m\u001b[0mendswith\u001b[0m\u001b[0;34m(\u001b[0m\u001b[0;34m\"__\"\u001b[0m\u001b[0;34m)\u001b[0m\u001b[0;34m:\u001b[0m\u001b[0;34m\u001b[0m\u001b[0;34m\u001b[0m\u001b[0m\n\u001b[1;32m      7\u001b[0m             \u001b[0;32mif\u001b[0m \u001b[0mtype\u001b[0m\u001b[0;34m(\u001b[0m\u001b[0mv\u001b[0m\u001b[0;34m)\u001b[0m \u001b[0;34m==\u001b[0m \u001b[0mtype\u001b[0m\u001b[0;34m:\u001b[0m\u001b[0;34m\u001b[0m\u001b[0;34m\u001b[0m\u001b[0m\n",
      "\u001b[0;31mTypeError\u001b[0m: vars() argument must have __dict__ attribute"
     ]
    }
   ],
   "source": [
    "get_json_dict(string_a)"
   ]
  },
  {
   "cell_type": "code",
   "execution_count": 8,
   "metadata": {},
   "outputs": [],
   "source": [
    "dumped =  json.dumps(string_a)"
   ]
  },
  {
   "cell_type": "code",
   "execution_count": 9,
   "metadata": {},
   "outputs": [
    {
     "output_type": "execute_result",
     "data": {
      "text/plain": [
       "'[\"O\", \"A\", \"W\"]'"
      ]
     },
     "metadata": {},
     "execution_count": 9
    }
   ],
   "source": [
    "dumped"
   ]
  },
  {
   "cell_type": "code",
   "execution_count": 10,
   "metadata": {},
   "outputs": [],
   "source": [
    "str_list =  json.loads(dumped)"
   ]
  },
  {
   "cell_type": "code",
   "execution_count": 11,
   "metadata": {},
   "outputs": [
    {
     "output_type": "execute_result",
     "data": {
      "text/plain": [
       "['O', 'A', 'W']"
      ]
     },
     "metadata": {},
     "execution_count": 11
    }
   ],
   "source": [
    "str_list"
   ]
  },
  {
   "cell_type": "code",
   "execution_count": 13,
   "metadata": {},
   "outputs": [
    {
     "output_type": "execute_result",
     "data": {
      "text/plain": [
       "[<ActivityType.O: 'O'>, <ActivityType.A: 'A'>, <ActivityType.W: 'W'>]"
      ]
     },
     "metadata": {},
     "execution_count": 13
    }
   ],
   "source": [
    "[ActivityType[i] for i in str_list]"
   ]
  },
  {
   "cell_type": "code",
   "execution_count": 20,
   "metadata": {},
   "outputs": [
    {
     "output_type": "execute_result",
     "data": {
      "text/plain": [
       "True"
      ]
     },
     "metadata": {},
     "execution_count": 20
    }
   ],
   "source": [
    "isinstance(ac, list)"
   ]
  },
  {
   "cell_type": "code",
   "execution_count": 7,
   "metadata": {},
   "outputs": [],
   "source": [
    "from enum import Enum"
   ]
  },
  {
   "cell_type": "code",
   "execution_count": 8,
   "metadata": {},
   "outputs": [],
   "source": [
    "def get_json_dict(t):\n",
    "    if isinstance(t,  Enum):\n",
    "        return t.value\n",
    "\n",
    "    if isinstance(t, str):\n",
    "        return t\n",
    "\n",
    "    if isinstance(t, int) | isinstance(t, float):\n",
    "        return t\n",
    "\n",
    "    json_dict = {}\n",
    "\n",
    "    # If it's dict\n",
    "    for k, v in vars(t).items():\n",
    "        if not k.endswith(\"__\"):\n",
    "            if type(v) == type:\n",
    "                json_dict[k] = get_json_dict(v)\n",
    "            elif isinstance(v, Enum):\n",
    "                json_dict[k] = v.value\n",
    "            elif isinstance(v, list):\n",
    "                json_dict[k] = [get_json_dict(v_i) for v_i in v]\n",
    "            else:\n",
    "                json_dict[k] = v\n",
    "    return json_dict"
   ]
  },
  {
   "cell_type": "code",
   "execution_count": 9,
   "metadata": {},
   "outputs": [
    {
     "output_type": "execute_result",
     "data": {
      "text/plain": [
       "{'bpi_2012_path': './datasets/event_logs/BPI_Challenge_2012.xes',\n",
       " 'preprocessed_bpi_2012_folder_path': './datasets/preprocessed/BPI_Challenge_2012',\n",
       " 'preprocessed_df_type': 1,\n",
       " 'load_model_folder_path': None,\n",
       " 'load_optimizer': True,\n",
       " 'dataset': 'BPI2012',\n",
       " 'BPI2012_include_types': ['O', 'W'],\n",
       " 'model': 'BaseLineLSTMModel',\n",
       " 'optimizer': 'Adam',\n",
       " 'loss': 'CrossEntropy',\n",
       " 'stop_epoch': 100,\n",
       " 'batch_size': 64,\n",
       " 'train_test_split_portion': [0.8, 0.1],\n",
       " 'verbose_freq': 100,\n",
       " 'run_validation_freq': 200,\n",
       " 'dataset_split_seed': 12345,\n",
       " 'max_eos_predicted_length': 50,\n",
       " 'OptimizerParameters': {'learning_rate': 0.005,\n",
       "  'l2': 1e-06,\n",
       "  'scheduler': 'StepScheduler',\n",
       "  'lr_scheduler_step': 1000,\n",
       "  'lr_scheduler_gamma': 0.85,\n",
       "  'SGD_momentum': 0.9},\n",
       " 'BaselineLSTMModelParameters': {'embedding_dim': 256,\n",
       "  'lstm_hidden': 512,\n",
       "  'dropout': 0.2,\n",
       "  'num_lstm_layers': 2}}"
      ]
     },
     "metadata": {},
     "execution_count": 9
    }
   ],
   "source": [
    "get_json_dict(TrainingParameters)"
   ]
  },
  {
   "cell_type": "code",
   "execution_count": 3,
   "metadata": {},
   "outputs": [],
   "source": [
    "from Parameters.TrainingParameters import TrainingParameters"
   ]
  },
  {
   "cell_type": "code",
   "execution_count": 4,
   "metadata": {},
   "outputs": [],
   "source": [
    "def get_json_dict(t):\n",
    "    if isinstance(t,  Enum):\n",
    "        return t.value\n",
    "\n",
    "    if isinstance(t, str):\n",
    "        return t\n",
    "\n",
    "    json_dict = {}\n",
    "\n",
    "    print(t)\n",
    "\n",
    "    # If it's dict\n",
    "    for k, v in vars(t).items():\n",
    "        if not k.endswith(\"__\"):\n",
    "            if type(v) == type:\n",
    "                json_dict[k] = get_json_dict(v)\n",
    "            elif isinstance(v, Enum):\n",
    "                json_dict[k] = v.value\n",
    "            elif isinstance(v, list):\n",
    "                json_dict[k] = [get_json_dict(v_i) for v_i in v]\n",
    "            else:\n",
    "                json_dict[k] = v\n",
    "    return json_dict"
   ]
  },
  {
   "cell_type": "code",
   "execution_count": 40,
   "metadata": {},
   "outputs": [
    {
     "output_type": "execute_result",
     "data": {
      "text/plain": [
       "False"
      ]
     },
     "metadata": {},
     "execution_count": 40
    }
   ],
   "source": [
    "ActivityType.O is Enum"
   ]
  },
  {
   "cell_type": "code",
   "execution_count": 42,
   "metadata": {},
   "outputs": [
    {
     "output_type": "execute_result",
     "data": {
      "text/plain": [
       "True"
      ]
     },
     "metadata": {},
     "execution_count": 42
    }
   ],
   "source": [
    "isinstance(\"dsadas\" ,str)"
   ]
  },
  {
   "cell_type": "code",
   "execution_count": null,
   "metadata": {},
   "outputs": [],
   "source": []
  }
 ]
}