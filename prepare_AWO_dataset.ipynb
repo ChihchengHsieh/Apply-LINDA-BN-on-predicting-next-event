{
 "metadata": {
  "language_info": {
   "codemirror_mode": {
    "name": "ipython",
    "version": 3
   },
   "file_extension": ".py",
   "mimetype": "text/x-python",
   "name": "python",
   "nbconvert_exporter": "python",
   "pygments_lexer": "ipython3",
   "version": "3.9.4"
  },
  "orig_nbformat": 2,
  "kernelspec": {
   "name": "python394jvsc74a57bd0ce84662d2f539e4595bb685d63d62db000d81e5edf3f86cfc940c024e0f53738",
   "display_name": "Python 3.9.4 64-bit ('dl': venv)"
  },
  "metadata": {
   "interpreter": {
    "hash": "ce84662d2f539e4595bb685d63d62db000d81e5edf3f86cfc940c024e0f53738"
   }
  }
 },
 "nbformat": 4,
 "nbformat_minor": 2,
 "cells": [
  {
   "cell_type": "code",
   "execution_count": 33,
   "metadata": {},
   "outputs": [],
   "source": [
    "from Parameters.TrainingParameters import TrainingParameters\n",
    "from Utils.PrintUtils import print_big\n",
    "from CustomExceptions.Exceptions import NotSupportedError\n",
    "from json import load\n",
    "from typing import Iterable, Union\n",
    "import torch\n",
    "import pandas as pd\n",
    "from torch.jit import Error\n",
    "from torch.utils.data import Dataset\n",
    "import pm4py\n",
    "from datetime import timedelta\n",
    "import numpy as np\n",
    "from torch.nn.utils.rnn import pad_sequence\n",
    "from Utils.Constants import Constants\n",
    "from Utils.FileUtils import file_exists\n",
    "import json\n",
    "import os\n",
    "from Parameters.Enums import PreprocessedDfType"
   ]
  },
  {
   "cell_type": "code",
   "execution_count": 34,
   "metadata": {},
   "outputs": [],
   "source": [
    "filePath = TrainingParameters.bpi_2012_path"
   ]
  },
  {
   "cell_type": "code",
   "execution_count": 35,
   "metadata": {},
   "outputs": [
    {
     "output_type": "stream",
     "name": "stderr",
     "text": [
      "parsing log, completed traces :: 100%|██████████| 13087/13087 [00:09<00:00, 1437.72it/s]\n"
     ]
    }
   ],
   "source": [
    "log = pm4py.read_xes(filePath)"
   ]
  },
  {
   "cell_type": "code",
   "execution_count": 36,
   "metadata": {},
   "outputs": [],
   "source": [
    "flattern_log: list[dict[str, any]]  = ([{**event,\n",
    "                                                'caseid': trace.attributes['concept:name']}\n",
    "                                               for trace in log for event in trace])\n",
    "df = pd.DataFrame(flattern_log)"
   ]
  },
  {
   "cell_type": "code",
   "execution_count": 37,
   "metadata": {},
   "outputs": [],
   "source": [
    "df[\"name_and_transition\"] = df[\"concept:name\"] + \\\n",
    "            \"_\" + df[\"lifecycle:transition\"]\n",
    "df = df[['time:timestamp', 'name_and_transition', \"caseid\"]]"
   ]
  },
  {
   "cell_type": "code",
   "execution_count": 38,
   "metadata": {},
   "outputs": [
    {
     "output_type": "execute_result",
     "data": {
      "text/plain": [
       "                     time:timestamp              name_and_transition  caseid\n",
       "0  2011-10-01 00:38:44.546000+02:00             A_SUBMITTED_COMPLETE  173688\n",
       "1  2011-10-01 00:38:44.880000+02:00       A_PARTLYSUBMITTED_COMPLETE  173688\n",
       "2  2011-10-01 00:39:37.906000+02:00           A_PREACCEPTED_COMPLETE  173688\n",
       "3  2011-10-01 00:39:38.875000+02:00  W_Completeren aanvraag_SCHEDULE  173688\n",
       "4  2011-10-01 11:36:46.437000+02:00     W_Completeren aanvraag_START  173688"
      ],
      "text/html": "<div>\n<style scoped>\n    .dataframe tbody tr th:only-of-type {\n        vertical-align: middle;\n    }\n\n    .dataframe tbody tr th {\n        vertical-align: top;\n    }\n\n    .dataframe thead th {\n        text-align: right;\n    }\n</style>\n<table border=\"1\" class=\"dataframe\">\n  <thead>\n    <tr style=\"text-align: right;\">\n      <th></th>\n      <th>time:timestamp</th>\n      <th>name_and_transition</th>\n      <th>caseid</th>\n    </tr>\n  </thead>\n  <tbody>\n    <tr>\n      <th>0</th>\n      <td>2011-10-01 00:38:44.546000+02:00</td>\n      <td>A_SUBMITTED_COMPLETE</td>\n      <td>173688</td>\n    </tr>\n    <tr>\n      <th>1</th>\n      <td>2011-10-01 00:38:44.880000+02:00</td>\n      <td>A_PARTLYSUBMITTED_COMPLETE</td>\n      <td>173688</td>\n    </tr>\n    <tr>\n      <th>2</th>\n      <td>2011-10-01 00:39:37.906000+02:00</td>\n      <td>A_PREACCEPTED_COMPLETE</td>\n      <td>173688</td>\n    </tr>\n    <tr>\n      <th>3</th>\n      <td>2011-10-01 00:39:38.875000+02:00</td>\n      <td>W_Completeren aanvraag_SCHEDULE</td>\n      <td>173688</td>\n    </tr>\n    <tr>\n      <th>4</th>\n      <td>2011-10-01 11:36:46.437000+02:00</td>\n      <td>W_Completeren aanvraag_START</td>\n      <td>173688</td>\n    </tr>\n  </tbody>\n</table>\n</div>"
     },
     "metadata": {},
     "execution_count": 38
    }
   ],
   "source": [
    "df.head(5)"
   ]
  },
  {
   "cell_type": "code",
   "execution_count": 54,
   "metadata": {
    "tags": []
   },
   "outputs": [
    {
     "output_type": "stream",
     "name": "stderr",
     "text": [
      "/home/jrhs/.pyenv/versions/dl/lib/python3.9/site-packages/pandas/core/frame.py:1549: FutureWarning: Using short name for 'orient' is deprecated. Only the options: ('dict', list, 'series', 'split', 'records', 'index') will be used in a future version. Use one of the above to silence this warning.\n  warnings.warn(\n"
     ]
    }
   ],
   "source": [
    "newData = []\n",
    "for case, group in df.groupby('caseid'):\n",
    "            group.sort_values(\"time:timestamp\", ascending=True, inplace=True)\n",
    "            strating_time = group.iloc[0][\"time:timestamp\"] - \\\n",
    "                timedelta(microseconds=1)\n",
    "            ending_time = group.iloc[-1][\"time:timestamp\"] + \\\n",
    "                timedelta(microseconds=1)\n",
    "\n",
    "            # print(\"Before to dict\")\n",
    "            traces = group.to_dict('record')\n",
    "            # print(\"After to dict\")\n",
    "\n",
    "\n",
    "            # Add start and end tags.\n",
    "            traces.insert(\n",
    "                0, {\"caseid\": case, \"time:timestamp\": strating_time, \"name_and_transition\": Constants.SOS_VOCAB})\n",
    "            traces.append(\n",
    "                {\"caseid\": case, \"time:timestamp\": ending_time, \"name_and_transition\": Constants.EOS_VOCAB})\n",
    "            # print(\"before extend to dict\")\n",
    "            newData.extend(traces)\n",
    "            # print(\"After extend to dict\")\n",
    "\n"
   ]
  },
  {
   "cell_type": "code",
   "execution_count": 55,
   "metadata": {},
   "outputs": [],
   "source": [
    "\n",
    "df = pd.DataFrame(newData)"
   ]
  },
  {
   "cell_type": "code",
   "execution_count": 53,
   "metadata": {},
   "outputs": [
    {
     "output_type": "execute_result",
     "data": {
      "text/plain": [
       "   caseid                    time:timestamp         name_and_transition\n",
       "0  173688  2011-10-01 00:38:44.545998+02:00                       <SOS>\n",
       "1  173688  2011-10-01 00:38:44.545999+02:00                       <SOS>\n",
       "2  173688  2011-10-01 00:38:44.546000+02:00        A_SUBMITTED_COMPLETE\n",
       "3  173688  2011-10-01 00:38:44.880000+02:00  A_PARTLYSUBMITTED_COMPLETE\n",
       "4  173688  2011-10-01 00:39:37.906000+02:00      A_PREACCEPTED_COMPLETE"
      ],
      "text/html": "<div>\n<style scoped>\n    .dataframe tbody tr th:only-of-type {\n        vertical-align: middle;\n    }\n\n    .dataframe tbody tr th {\n        vertical-align: top;\n    }\n\n    .dataframe thead th {\n        text-align: right;\n    }\n</style>\n<table border=\"1\" class=\"dataframe\">\n  <thead>\n    <tr style=\"text-align: right;\">\n      <th></th>\n      <th>caseid</th>\n      <th>time:timestamp</th>\n      <th>name_and_transition</th>\n    </tr>\n  </thead>\n  <tbody>\n    <tr>\n      <th>0</th>\n      <td>173688</td>\n      <td>2011-10-01 00:38:44.545998+02:00</td>\n      <td>&lt;SOS&gt;</td>\n    </tr>\n    <tr>\n      <th>1</th>\n      <td>173688</td>\n      <td>2011-10-01 00:38:44.545999+02:00</td>\n      <td>&lt;SOS&gt;</td>\n    </tr>\n    <tr>\n      <th>2</th>\n      <td>173688</td>\n      <td>2011-10-01 00:38:44.546000+02:00</td>\n      <td>A_SUBMITTED_COMPLETE</td>\n    </tr>\n    <tr>\n      <th>3</th>\n      <td>173688</td>\n      <td>2011-10-01 00:38:44.880000+02:00</td>\n      <td>A_PARTLYSUBMITTED_COMPLETE</td>\n    </tr>\n    <tr>\n      <th>4</th>\n      <td>173688</td>\n      <td>2011-10-01 00:39:37.906000+02:00</td>\n      <td>A_PREACCEPTED_COMPLETE</td>\n    </tr>\n  </tbody>\n</table>\n</div>"
     },
     "metadata": {},
     "execution_count": 53
    }
   ],
   "source": [
    "df.head(5)"
   ]
  },
  {
   "cell_type": "code",
   "execution_count": 49,
   "metadata": {},
   "outputs": [],
   "source": [
    "another_df = pd.DataFrame(newData)"
   ]
  },
  {
   "cell_type": "code",
   "execution_count": 50,
   "metadata": {},
   "outputs": [
    {
     "output_type": "execute_result",
     "data": {
      "text/plain": [
       "   caseid                    time:timestamp         name_and_transition\n",
       "0  173688  2011-10-01 00:38:44.545998+02:00                       <SOS>\n",
       "1  173688  2011-10-01 00:38:44.545999+02:00                       <SOS>\n",
       "2  173688  2011-10-01 00:38:44.546000+02:00        A_SUBMITTED_COMPLETE\n",
       "3  173688  2011-10-01 00:38:44.880000+02:00  A_PARTLYSUBMITTED_COMPLETE\n",
       "4  173688  2011-10-01 00:39:37.906000+02:00      A_PREACCEPTED_COMPLETE"
      ],
      "text/html": "<div>\n<style scoped>\n    .dataframe tbody tr th:only-of-type {\n        vertical-align: middle;\n    }\n\n    .dataframe tbody tr th {\n        vertical-align: top;\n    }\n\n    .dataframe thead th {\n        text-align: right;\n    }\n</style>\n<table border=\"1\" class=\"dataframe\">\n  <thead>\n    <tr style=\"text-align: right;\">\n      <th></th>\n      <th>caseid</th>\n      <th>time:timestamp</th>\n      <th>name_and_transition</th>\n    </tr>\n  </thead>\n  <tbody>\n    <tr>\n      <th>0</th>\n      <td>173688</td>\n      <td>2011-10-01 00:38:44.545998+02:00</td>\n      <td>&lt;SOS&gt;</td>\n    </tr>\n    <tr>\n      <th>1</th>\n      <td>173688</td>\n      <td>2011-10-01 00:38:44.545999+02:00</td>\n      <td>&lt;SOS&gt;</td>\n    </tr>\n    <tr>\n      <th>2</th>\n      <td>173688</td>\n      <td>2011-10-01 00:38:44.546000+02:00</td>\n      <td>A_SUBMITTED_COMPLETE</td>\n    </tr>\n    <tr>\n      <th>3</th>\n      <td>173688</td>\n      <td>2011-10-01 00:38:44.880000+02:00</td>\n      <td>A_PARTLYSUBMITTED_COMPLETE</td>\n    </tr>\n    <tr>\n      <th>4</th>\n      <td>173688</td>\n      <td>2011-10-01 00:39:37.906000+02:00</td>\n      <td>A_PREACCEPTED_COMPLETE</td>\n    </tr>\n  </tbody>\n</table>\n</div>"
     },
     "metadata": {},
     "execution_count": 50
    }
   ],
   "source": [
    "another_df.head(5)"
   ]
  },
  {
   "cell_type": "code",
   "execution_count": null,
   "metadata": {},
   "outputs": [],
   "source": []
  }
 ]
}