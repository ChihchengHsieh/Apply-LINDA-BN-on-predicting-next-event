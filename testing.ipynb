{
 "metadata": {
  "language_info": {
   "codemirror_mode": {
    "name": "ipython",
    "version": 3
   },
   "file_extension": ".py",
   "mimetype": "text/x-python",
   "name": "python",
   "nbconvert_exporter": "python",
   "pygments_lexer": "ipython3",
   "version": "3.9.4"
  },
  "orig_nbformat": 2,
  "kernelspec": {
   "name": "python394jvsc74a57bd00fab9f4e2480a02528c8c5e2c5eed9f6f178de25ad0614451a9194f538e2ccc5",
   "display_name": "Python 3.9.4 64-bit ('dl': pyenv)"
  },
  "metadata": {
   "interpreter": {
    "hash": "0fab9f4e2480a02528c8c5e2c5eed9f6f178de25ad0614451a9194f538e2ccc5"
   }
  }
 },
 "nbformat": 4,
 "nbformat_minor": 2,
 "cells": [
  {
   "cell_type": "code",
   "execution_count": 43,
   "metadata": {},
   "outputs": [],
   "source": [
    "from sklearn.preprocessing import StandardScaler, MinMaxScaler\n",
    "import numpy as np"
   ]
  },
  {
   "cell_type": "code",
   "execution_count": 44,
   "metadata": {},
   "outputs": [
    {
     "output_type": "stream",
     "name": "stdout",
     "text": [
      "After StandardScaler: Mean [0.0000] | Variance [1.0000]\nAfter MinMaxScaler: Mean [0.5351] | Variance [0.1404]\n"
     ]
    }
   ],
   "source": [
    "testing_data = np.random.rand(10,5)\n",
    "idx = 0\n",
    "standard = StandardScaler()\n",
    "standard_fitted_data = standard.fit_transform(testing_data)\n",
    "print(\"After StandardScaler: Mean [%.4f] | Variance [%.4f]\" % (standard_fitted_data[:, idx].mean(), np.var(standard_fitted_data[:, idx])))\n",
    "minmax =  MinMaxScaler()\n",
    "minmax_fitted_data = minmax.fit_transform(testing_data)\n",
    "print(\"After MinMaxScaler: Mean [%.4f] | Variance [%.4f]\" % (minmax_fitted_data[:, idx].mean(), np.var(minmax_fitted_data[:, idx])))"
   ]
  },
  {
   "cell_type": "code",
   "execution_count": 8,
   "metadata": {},
   "outputs": [],
   "source": []
  },
  {
   "cell_type": "code",
   "execution_count": 9,
   "metadata": {},
   "outputs": [],
   "source": []
  },
  {
   "cell_type": "code",
   "execution_count": 10,
   "metadata": {},
   "outputs": [],
   "source": []
  },
  {
   "cell_type": "code",
   "execution_count": null,
   "metadata": {},
   "outputs": [],
   "source": []
  }
 ]
}