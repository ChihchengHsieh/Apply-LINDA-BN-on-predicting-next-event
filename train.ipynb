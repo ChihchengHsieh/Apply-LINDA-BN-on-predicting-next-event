{
 "metadata": {
  "language_info": {
   "codemirror_mode": {
    "name": "ipython",
    "version": 3
   },
   "file_extension": ".py",
   "mimetype": "text/x-python",
   "name": "python",
   "nbconvert_exporter": "python",
   "pygments_lexer": "ipython3",
   "version": "3.9.4-final"
  },
  "orig_nbformat": 2,
  "kernelspec": {
   "name": "python394jvsc74a57bd00fab9f4e2480a02528c8c5e2c5eed9f6f178de25ad0614451a9194f538e2ccc5",
   "display_name": "Python 3.9.4 64-bit ('dl')"
  }
 },
 "nbformat": 4,
 "nbformat_minor": 2,
 "cells": [
  {
   "cell_type": "code",
   "execution_count": 1,
   "metadata": {},
   "outputs": [
    {
     "output_type": "stream",
     "name": "stderr",
     "text": [
      "/Users/jrhs/.pyenv/versions/dl/lib/python3.9/site-packages/pandas/compat/__init__.py:97: UserWarning: Could not import the lzma module. Your installed Python is incomplete. Attempting to use lzma compression will result in a RuntimeError.\n  warnings.warn(msg)\n"
     ]
    }
   ],
   "source": [
    "from Controller.TrainingController import TrainingController\n",
    "from Controller.TrainingParameters import TrainingParameters"
   ]
  },
  {
   "source": [
    "trainer = TrainingController(\n",
    "        dataset= TrainingParameters.dataset,\n",
    "        model= TrainingParameters.model,\n",
    "        optimizer=TrainingParameters.optimizer,\n",
    "        loss= TrainingParameters.loss,\n",
    "    )\n",
    "trainer.train(TrainingParameters.stop_epoch)"
   ],
   "cell_type": "code",
   "metadata": {},
   "execution_count": 2,
   "outputs": [
    {
     "output_type": "stream",
     "name": "stderr",
     "text": [
      "parsing log, completed traces :: 100%|██████████| 13087/13087 [00:16<00:00, 817.90it/s]\n",
      "/Users/jrhs/.pyenv/versions/dl/lib/python3.9/site-packages/pandas/core/frame.py:1549: FutureWarning: Using short name for 'orient' is deprecated. Only the options: ('dict', list, 'series', 'split', 'records', 'index') will be used in a future version. Use one of the above to silence this warning.\n",
      "  warnings.warn(\n",
      "| Epoch [0] | Step [50] | lr [0.005000] | Loss: [3.2493] | Acc: [0.7738]|\n",
      "| Epoch [0] | Step [100] | lr [0.005000] | Loss: [3.0859] | Acc: [0.8428]|\n",
      "| Epoch [0] | Step [150] | lr [0.005000] | Loss: [2.8966] | Acc: [0.8595]|\n",
      "| Epoch [0] | Step [200] | lr [0.004250] | Loss: [2.8463] | Acc: [0.7326]|\n",
      "=================================================\n",
      "| Peforming Validation...\n",
      "=================================================\n",
      "=================================================\n",
      "| Evaluation result | Accuracy [0.7399] | Loss [2.8160]\n",
      "=================================================\n",
      "| Epoch [0] | Step [250] | lr [0.004250] | Loss: [2.6160] | Acc: [0.8141]|\n",
      "| Epoch [0] | Step [300] | lr [0.004250] | Loss: [2.6192] | Acc: [0.7188]|\n",
      "=================================================\n",
      "| Peforming Testing...\n",
      "=================================================\n",
      "=================================================\n",
      "| Evaluation result | Accuracy [0.7560] | Loss [2.5164]\n",
      "=================================================\n"
     ]
    }
   ]
  },
  {
   "cell_type": "code",
   "execution_count": null,
   "metadata": {},
   "outputs": [],
   "source": []
  }
 ]
}