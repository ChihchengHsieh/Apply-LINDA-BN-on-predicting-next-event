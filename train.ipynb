{
 "metadata": {
  "language_info": {
   "codemirror_mode": {
    "name": "ipython",
    "version": 3
   },
   "file_extension": ".py",
   "mimetype": "text/x-python",
   "name": "python",
   "nbconvert_exporter": "python",
   "pygments_lexer": "ipython3",
   "version": "3.9.4-final"
  },
  "orig_nbformat": 2,
  "kernelspec": {
   "name": "python394jvsc74a57bd00fab9f4e2480a02528c8c5e2c5eed9f6f178de25ad0614451a9194f538e2ccc5",
   "display_name": "Python 3.9.4 64-bit ('dl')"
  },
  "metadata": {
   "interpreter": {
    "hash": "ce84662d2f539e4595bb685d63d62db000d81e5edf3f86cfc940c024e0f53738"
   }
  }
 },
 "nbformat": 4,
 "nbformat_minor": 2,
 "cells": [
  {
   "cell_type": "code",
   "execution_count": 5,
   "metadata": {},
   "outputs": [],
   "source": [
    "import os\n",
    "os.environ[\"KMP_DUPLICATE_LIB_OK\"]  =  \"TRUE\"\n",
    "from Controller.TrainingController import TrainingController"
   ]
  },
  {
   "source": [
    "trainer = TrainingController()"
   ],
   "cell_type": "code",
   "metadata": {},
   "execution_count": 6,
   "outputs": [
    {
     "output_type": "stream",
     "name": "stdout",
     "text": [
      "\n",
      "=================================================\n",
      "| Running on cpu  \n",
      "=================================================\n",
      "\n",
      "=================================================\n",
      "| Preprocessed data loaded successfully \n",
      "=================================================\n"
     ]
    },
    {
     "output_type": "display_data",
     "data": {
      "text/plain": "<Figure size 1600x800 with 0 Axes>"
     },
     "metadata": {}
    }
   ]
  },
  {
   "cell_type": "code",
   "execution_count": null,
   "metadata": {},
   "outputs": [],
   "source": [
    "trainer.train()\n"
   ]
  },
  {
   "cell_type": "code",
   "execution_count": 3,
   "metadata": {},
   "outputs": [
    {
     "output_type": "stream",
     "name": "stdout",
     "text": [
      "\n=================================================\n| Model saved successfully to: ./SavedModels/0.8534_2021-04-14 12:07:55.613864  \n=================================================\n"
     ]
    },
    {
     "output_type": "display_data",
     "data": {
      "text/plain": "<Figure size 432x288 with 0 Axes>"
     },
     "metadata": {}
    }
   ],
   "source": [
    "trainer.save_training_result(\"train.ipynb\")"
   ]
  },
  {
   "cell_type": "code",
   "execution_count": 4,
   "metadata": {},
   "outputs": [
    {
     "output_type": "stream",
     "name": "stdout",
     "text": [
      "\n",
      "=================================================\n",
      "| Performing Dataset Loading ... \n",
      "=================================================\n",
      "\n",
      "=================================================\n",
      "| Dataset Loading Done! \n",
      "=================================================\n",
      "\n",
      "=================================================\n",
      "| Performing Predicting ... \n",
      "=================================================\n",
      "Predicting cases [====================] 100%\n",
      "=================================================\n",
      "| Predicting Done! \n",
      "=================================================\n",
      "\n",
      "=================================================\n",
      "| Predition result has been save to: PredictingObject/testing_file_result.json \n",
      "=================================================\n"
     ]
    }
   ],
   "source": [
    "trainer.load_json_for_predicting(\"./PredictingObject/testing_file.json\")"
   ]
  },
  {
   "cell_type": "code",
   "execution_count": null,
   "metadata": {},
   "outputs": [],
   "source": []
  }
 ]
}