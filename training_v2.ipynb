{
 "metadata": {
  "language_info": {
   "codemirror_mode": {
    "name": "ipython",
    "version": 3
   },
   "file_extension": ".py",
   "mimetype": "text/x-python",
   "name": "python",
   "nbconvert_exporter": "python",
   "pygments_lexer": "ipython3",
   "version": "3.9.4"
  },
  "orig_nbformat": 2,
  "kernelspec": {
   "name": "python394jvsc74a57bd0ce84662d2f539e4595bb685d63d62db000d81e5edf3f86cfc940c024e0f53738",
   "display_name": "Python 3.9.4 64-bit ('dl': pyenv)"
  },
  "metadata": {
   "interpreter": {
    "hash": "ce84662d2f539e4595bb685d63d62db000d81e5edf3f86cfc940c024e0f53738"
   }
  }
 },
 "nbformat": 4,
 "nbformat_minor": 2,
 "cells": [
  {
   "cell_type": "code",
   "execution_count": 1,
   "metadata": {},
   "outputs": [],
   "source": [
    "from Controller import TrainingController_V2\n",
    "from Utils.SaveUtils import load_parameters\n",
    "from Parameters.TrainingParameters import TrainingParameters"
   ]
  },
  {
   "cell_type": "code",
   "execution_count": 2,
   "metadata": {},
   "outputs": [],
   "source": [
    "######################## Resume training ########################\n",
    "# folder_path = \"./SavedModels/\" + \"0.7632_Diabetes_BaseNNModel_2021-05-13 04:25:57.514112\"\n",
    "# parameters_json = load_parameters(folder_path=folder_path)\n",
    "# parameters = TrainingParameters(**parameters_json)\n",
    "# parameters.load_model_folder_path = folder_path\n",
    "# trainer = TrainingController_V2(parameters=parameters)"
   ]
  },
  {
   "cell_type": "code",
   "execution_count": 3,
   "metadata": {},
   "outputs": [
    {
     "output_type": "stream",
     "name": "stdout",
     "text": [
      "\n",
      "=================================================\n",
      "| Running on cuda:0  \n",
      "=================================================\n",
      "\n",
      "=================================================\n",
      "| Preprocessed data loaded successfully: ./datasets/preprocessed/BPI_Challenge_2012/OW \n",
      "=================================================\n",
      "/home/jrhs/.pyenv/versions/dl/lib/python3.9/site-packages/torch/nn/modules/rnn.py:60: UserWarning: dropout option adds dropout after all but last recurrent layer, so non-zero dropout expects num_layers greater than 1, but got dropout=0.1 and num_layers=1\n",
      "  warnings.warn(\"dropout option adds dropout after all but last \"\n"
     ]
    },
    {
     "output_type": "display_data",
     "data": {
      "text/plain": "<Figure size 1600x800 with 0 Axes>"
     },
     "metadata": {}
    }
   ],
   "source": [
    "######################## Start a new Training ########################\n",
    "parameters = TrainingParameters()\n",
    "trainer = TrainingController_V2(parameters= parameters)"
   ]
  },
  {
   "cell_type": "code",
   "execution_count": 4,
   "metadata": {},
   "outputs": [
    {
     "output_type": "stream",
     "name": "stdout",
     "text": [
      "\n",
      "=================================================\n",
      "| Model Structure \n",
      "=================================================\n",
      "BaselineLSTMModel_V2(\n",
      "  (emb): Embedding(29, 32, padding_idx=0)\n",
      "  (lstm): LSTM(32, 64, batch_first=True, dropout=0.1)\n",
      "  (batchnorm): BatchNorm1d(64, eps=1e-05, momentum=0.1, affine=True, track_running_stats=True)\n",
      "  (output_net): Sequential(\n",
      "    (0): LeakyReLU(negative_slope=0.01, inplace=True)\n",
      "    (1): Dropout(p=0.1, inplace=False)\n",
      "    (2): Linear(in_features=64, out_features=29, bias=True)\n",
      "  )\n",
      ")\n",
      "=================================================\n",
      "| Loaded model has {28157} parameters \n",
      "=================================================\n"
     ]
    }
   ],
   "source": [
    "trainer.show_model_info()"
   ]
  },
  {
   "cell_type": "code",
   "execution_count": 5,
   "metadata": {
    "tags": [
     "outputPrepend"
    ]
   },
   "outputs": [
    {
     "output_type": "display_data",
     "data": {
      "text/plain": "<Figure size 432x288 with 1 Axes>",
      "image/svg+xml": "<?xml version=\"1.0\" encoding=\"utf-8\" standalone=\"no\"?>\n<!DOCTYPE svg PUBLIC \"-//W3C//DTD SVG 1.1//EN\"\n  \"http://www.w3.org/Graphics/SVG/1.1/DTD/svg11.dtd\">\n<svg height=\"143.592614pt\" version=\"1.1\" viewBox=\"0 0 390.208125 143.592614\" width=\"390.208125pt\" xmlns=\"http://www.w3.org/2000/svg\" xmlns:xlink=\"http://www.w3.org/1999/xlink\">\n <metadata>\n  <rdf:RDF xmlns:cc=\"http://creativecommons.org/ns#\" xmlns:dc=\"http://purl.org/dc/elements/1.1/\" xmlns:rdf=\"http://www.w3.org/1999/02/22-rdf-syntax-ns#\">\n   <cc:Work>\n    <dc:type rdf:resource=\"http://purl.org/dc/dcmitype/StillImage\"/>\n    <dc:date>2021-05-20T17:16:26.455145</dc:date>\n    <dc:format>image/svg+xml</dc:format>\n    <dc:creator>\n     <cc:Agent>\n      <dc:title>Matplotlib v3.4.1, https://matplotlib.org/</dc:title>\n     </cc:Agent>\n    </dc:creator>\n   </cc:Work>\n  </rdf:RDF>\n </metadata>\n <defs>\n  <style type=\"text/css\">*{stroke-linecap:butt;stroke-linejoin:round;}</style>\n </defs>\n <g id=\"figure_1\">\n  <g id=\"patch_1\">\n   <path d=\"M 0 143.592614 \nL 390.208125 143.592614 \nL 390.208125 -0 \nL 0 -0 \nz\n\" style=\"fill:#e0e0e0;\"/>\n  </g>\n  <g id=\"axes_1\">\n   <g id=\"patch_2\">\n    <path d=\"M 48.208125 106.036364 \nL 383.008125 106.036364 \nL 383.008125 7.2 \nL 48.208125 7.2 \nz\n\" style=\"fill:#ffffff;\"/>\n   </g>\n   <g id=\"matplotlib.axis_1\">\n    <g id=\"xtick_1\">\n     <g id=\"line2d_1\">\n      <defs>\n       <path d=\"M 0 0 \nL 0 3.5 \n\" id=\"m31ffb13f2c\" style=\"stroke:#000000;stroke-width:0.8;\"/>\n      </defs>\n      <g>\n       <use style=\"stroke:#000000;stroke-width:0.8;\" x=\"63.426307\" xlink:href=\"#m31ffb13f2c\" y=\"106.036364\"/>\n      </g>\n     </g>\n     <g id=\"text_1\">\n      <!-- 0 -->\n      <g transform=\"translate(60.245057 120.634801)scale(0.1 -0.1)\">\n       <defs>\n        <path d=\"M 2034 4250 \nQ 1547 4250 1301 3770 \nQ 1056 3291 1056 2328 \nQ 1056 1369 1301 889 \nQ 1547 409 2034 409 \nQ 2525 409 2770 889 \nQ 3016 1369 3016 2328 \nQ 3016 3291 2770 3770 \nQ 2525 4250 2034 4250 \nz\nM 2034 4750 \nQ 2819 4750 3233 4129 \nQ 3647 3509 3647 2328 \nQ 3647 1150 3233 529 \nQ 2819 -91 2034 -91 \nQ 1250 -91 836 529 \nQ 422 1150 422 2328 \nQ 422 3509 836 4129 \nQ 1250 4750 2034 4750 \nz\n\" id=\"DejaVuSans-30\" transform=\"scale(0.015625)\"/>\n       </defs>\n       <use xlink:href=\"#DejaVuSans-30\"/>\n      </g>\n     </g>\n    </g>\n    <g id=\"xtick_2\">\n     <g id=\"line2d_2\">\n      <g>\n       <use style=\"stroke:#000000;stroke-width:0.8;\" x=\"114.15358\" xlink:href=\"#m31ffb13f2c\" y=\"106.036364\"/>\n      </g>\n     </g>\n     <g id=\"text_2\">\n      <!-- 10 -->\n      <g transform=\"translate(107.79108 120.634801)scale(0.1 -0.1)\">\n       <defs>\n        <path d=\"M 794 531 \nL 1825 531 \nL 1825 4091 \nL 703 3866 \nL 703 4441 \nL 1819 4666 \nL 2450 4666 \nL 2450 531 \nL 3481 531 \nL 3481 0 \nL 794 0 \nL 794 531 \nz\n\" id=\"DejaVuSans-31\" transform=\"scale(0.015625)\"/>\n       </defs>\n       <use xlink:href=\"#DejaVuSans-31\"/>\n       <use x=\"63.623047\" xlink:href=\"#DejaVuSans-30\"/>\n      </g>\n     </g>\n    </g>\n    <g id=\"xtick_3\">\n     <g id=\"line2d_3\">\n      <g>\n       <use style=\"stroke:#000000;stroke-width:0.8;\" x=\"164.880852\" xlink:href=\"#m31ffb13f2c\" y=\"106.036364\"/>\n      </g>\n     </g>\n     <g id=\"text_3\">\n      <!-- 20 -->\n      <g transform=\"translate(158.518352 120.634801)scale(0.1 -0.1)\">\n       <defs>\n        <path d=\"M 1228 531 \nL 3431 531 \nL 3431 0 \nL 469 0 \nL 469 531 \nQ 828 903 1448 1529 \nQ 2069 2156 2228 2338 \nQ 2531 2678 2651 2914 \nQ 2772 3150 2772 3378 \nQ 2772 3750 2511 3984 \nQ 2250 4219 1831 4219 \nQ 1534 4219 1204 4116 \nQ 875 4013 500 3803 \nL 500 4441 \nQ 881 4594 1212 4672 \nQ 1544 4750 1819 4750 \nQ 2544 4750 2975 4387 \nQ 3406 4025 3406 3419 \nQ 3406 3131 3298 2873 \nQ 3191 2616 2906 2266 \nQ 2828 2175 2409 1742 \nQ 1991 1309 1228 531 \nz\n\" id=\"DejaVuSans-32\" transform=\"scale(0.015625)\"/>\n       </defs>\n       <use xlink:href=\"#DejaVuSans-32\"/>\n       <use x=\"63.623047\" xlink:href=\"#DejaVuSans-30\"/>\n      </g>\n     </g>\n    </g>\n    <g id=\"xtick_4\">\n     <g id=\"line2d_4\">\n      <g>\n       <use style=\"stroke:#000000;stroke-width:0.8;\" x=\"215.608125\" xlink:href=\"#m31ffb13f2c\" y=\"106.036364\"/>\n      </g>\n     </g>\n     <g id=\"text_4\">\n      <!-- 30 -->\n      <g transform=\"translate(209.245625 120.634801)scale(0.1 -0.1)\">\n       <defs>\n        <path d=\"M 2597 2516 \nQ 3050 2419 3304 2112 \nQ 3559 1806 3559 1356 \nQ 3559 666 3084 287 \nQ 2609 -91 1734 -91 \nQ 1441 -91 1130 -33 \nQ 819 25 488 141 \nL 488 750 \nQ 750 597 1062 519 \nQ 1375 441 1716 441 \nQ 2309 441 2620 675 \nQ 2931 909 2931 1356 \nQ 2931 1769 2642 2001 \nQ 2353 2234 1838 2234 \nL 1294 2234 \nL 1294 2753 \nL 1863 2753 \nQ 2328 2753 2575 2939 \nQ 2822 3125 2822 3475 \nQ 2822 3834 2567 4026 \nQ 2313 4219 1838 4219 \nQ 1578 4219 1281 4162 \nQ 984 4106 628 3988 \nL 628 4550 \nQ 988 4650 1302 4700 \nQ 1616 4750 1894 4750 \nQ 2613 4750 3031 4423 \nQ 3450 4097 3450 3541 \nQ 3450 3153 3228 2886 \nQ 3006 2619 2597 2516 \nz\n\" id=\"DejaVuSans-33\" transform=\"scale(0.015625)\"/>\n       </defs>\n       <use xlink:href=\"#DejaVuSans-33\"/>\n       <use x=\"63.623047\" xlink:href=\"#DejaVuSans-30\"/>\n      </g>\n     </g>\n    </g>\n    <g id=\"xtick_5\">\n     <g id=\"line2d_5\">\n      <g>\n       <use style=\"stroke:#000000;stroke-width:0.8;\" x=\"266.335398\" xlink:href=\"#m31ffb13f2c\" y=\"106.036364\"/>\n      </g>\n     </g>\n     <g id=\"text_5\">\n      <!-- 40 -->\n      <g transform=\"translate(259.972898 120.634801)scale(0.1 -0.1)\">\n       <defs>\n        <path d=\"M 2419 4116 \nL 825 1625 \nL 2419 1625 \nL 2419 4116 \nz\nM 2253 4666 \nL 3047 4666 \nL 3047 1625 \nL 3713 1625 \nL 3713 1100 \nL 3047 1100 \nL 3047 0 \nL 2419 0 \nL 2419 1100 \nL 313 1100 \nL 313 1709 \nL 2253 4666 \nz\n\" id=\"DejaVuSans-34\" transform=\"scale(0.015625)\"/>\n       </defs>\n       <use xlink:href=\"#DejaVuSans-34\"/>\n       <use x=\"63.623047\" xlink:href=\"#DejaVuSans-30\"/>\n      </g>\n     </g>\n    </g>\n    <g id=\"xtick_6\">\n     <g id=\"line2d_6\">\n      <g>\n       <use style=\"stroke:#000000;stroke-width:0.8;\" x=\"317.06267\" xlink:href=\"#m31ffb13f2c\" y=\"106.036364\"/>\n      </g>\n     </g>\n     <g id=\"text_6\">\n      <!-- 50 -->\n      <g transform=\"translate(310.70017 120.634801)scale(0.1 -0.1)\">\n       <defs>\n        <path d=\"M 691 4666 \nL 3169 4666 \nL 3169 4134 \nL 1269 4134 \nL 1269 2991 \nQ 1406 3038 1543 3061 \nQ 1681 3084 1819 3084 \nQ 2600 3084 3056 2656 \nQ 3513 2228 3513 1497 \nQ 3513 744 3044 326 \nQ 2575 -91 1722 -91 \nQ 1428 -91 1123 -41 \nQ 819 9 494 109 \nL 494 744 \nQ 775 591 1075 516 \nQ 1375 441 1709 441 \nQ 2250 441 2565 725 \nQ 2881 1009 2881 1497 \nQ 2881 1984 2565 2268 \nQ 2250 2553 1709 2553 \nQ 1456 2553 1204 2497 \nQ 953 2441 691 2322 \nL 691 4666 \nz\n\" id=\"DejaVuSans-35\" transform=\"scale(0.015625)\"/>\n       </defs>\n       <use xlink:href=\"#DejaVuSans-35\"/>\n       <use x=\"63.623047\" xlink:href=\"#DejaVuSans-30\"/>\n      </g>\n     </g>\n    </g>\n    <g id=\"xtick_7\">\n     <g id=\"line2d_7\">\n      <g>\n       <use style=\"stroke:#000000;stroke-width:0.8;\" x=\"367.789943\" xlink:href=\"#m31ffb13f2c\" y=\"106.036364\"/>\n      </g>\n     </g>\n     <g id=\"text_7\">\n      <!-- 60 -->\n      <g transform=\"translate(361.427443 120.634801)scale(0.1 -0.1)\">\n       <defs>\n        <path d=\"M 2113 2584 \nQ 1688 2584 1439 2293 \nQ 1191 2003 1191 1497 \nQ 1191 994 1439 701 \nQ 1688 409 2113 409 \nQ 2538 409 2786 701 \nQ 3034 994 3034 1497 \nQ 3034 2003 2786 2293 \nQ 2538 2584 2113 2584 \nz\nM 3366 4563 \nL 3366 3988 \nQ 3128 4100 2886 4159 \nQ 2644 4219 2406 4219 \nQ 1781 4219 1451 3797 \nQ 1122 3375 1075 2522 \nQ 1259 2794 1537 2939 \nQ 1816 3084 2150 3084 \nQ 2853 3084 3261 2657 \nQ 3669 2231 3669 1497 \nQ 3669 778 3244 343 \nQ 2819 -91 2113 -91 \nQ 1303 -91 875 529 \nQ 447 1150 447 2328 \nQ 447 3434 972 4092 \nQ 1497 4750 2381 4750 \nQ 2619 4750 2861 4703 \nQ 3103 4656 3366 4563 \nz\n\" id=\"DejaVuSans-36\" transform=\"scale(0.015625)\"/>\n       </defs>\n       <use xlink:href=\"#DejaVuSans-36\"/>\n       <use x=\"63.623047\" xlink:href=\"#DejaVuSans-30\"/>\n      </g>\n     </g>\n    </g>\n    <g id=\"text_8\">\n     <!-- Every 500 steps -->\n     <g transform=\"translate(175.255781 134.312926)scale(0.1 -0.1)\">\n      <defs>\n       <path d=\"M 628 4666 \nL 3578 4666 \nL 3578 4134 \nL 1259 4134 \nL 1259 2753 \nL 3481 2753 \nL 3481 2222 \nL 1259 2222 \nL 1259 531 \nL 3634 531 \nL 3634 0 \nL 628 0 \nL 628 4666 \nz\n\" id=\"DejaVuSans-45\" transform=\"scale(0.015625)\"/>\n       <path d=\"M 191 3500 \nL 800 3500 \nL 1894 563 \nL 2988 3500 \nL 3597 3500 \nL 2284 0 \nL 1503 0 \nL 191 3500 \nz\n\" id=\"DejaVuSans-76\" transform=\"scale(0.015625)\"/>\n       <path d=\"M 3597 1894 \nL 3597 1613 \nL 953 1613 \nQ 991 1019 1311 708 \nQ 1631 397 2203 397 \nQ 2534 397 2845 478 \nQ 3156 559 3463 722 \nL 3463 178 \nQ 3153 47 2828 -22 \nQ 2503 -91 2169 -91 \nQ 1331 -91 842 396 \nQ 353 884 353 1716 \nQ 353 2575 817 3079 \nQ 1281 3584 2069 3584 \nQ 2775 3584 3186 3129 \nQ 3597 2675 3597 1894 \nz\nM 3022 2063 \nQ 3016 2534 2758 2815 \nQ 2500 3097 2075 3097 \nQ 1594 3097 1305 2825 \nQ 1016 2553 972 2059 \nL 3022 2063 \nz\n\" id=\"DejaVuSans-65\" transform=\"scale(0.015625)\"/>\n       <path d=\"M 2631 2963 \nQ 2534 3019 2420 3045 \nQ 2306 3072 2169 3072 \nQ 1681 3072 1420 2755 \nQ 1159 2438 1159 1844 \nL 1159 0 \nL 581 0 \nL 581 3500 \nL 1159 3500 \nL 1159 2956 \nQ 1341 3275 1631 3429 \nQ 1922 3584 2338 3584 \nQ 2397 3584 2469 3576 \nQ 2541 3569 2628 3553 \nL 2631 2963 \nz\n\" id=\"DejaVuSans-72\" transform=\"scale(0.015625)\"/>\n       <path d=\"M 2059 -325 \nQ 1816 -950 1584 -1140 \nQ 1353 -1331 966 -1331 \nL 506 -1331 \nL 506 -850 \nL 844 -850 \nQ 1081 -850 1212 -737 \nQ 1344 -625 1503 -206 \nL 1606 56 \nL 191 3500 \nL 800 3500 \nL 1894 763 \nL 2988 3500 \nL 3597 3500 \nL 2059 -325 \nz\n\" id=\"DejaVuSans-79\" transform=\"scale(0.015625)\"/>\n       <path id=\"DejaVuSans-20\" transform=\"scale(0.015625)\"/>\n       <path d=\"M 2834 3397 \nL 2834 2853 \nQ 2591 2978 2328 3040 \nQ 2066 3103 1784 3103 \nQ 1356 3103 1142 2972 \nQ 928 2841 928 2578 \nQ 928 2378 1081 2264 \nQ 1234 2150 1697 2047 \nL 1894 2003 \nQ 2506 1872 2764 1633 \nQ 3022 1394 3022 966 \nQ 3022 478 2636 193 \nQ 2250 -91 1575 -91 \nQ 1294 -91 989 -36 \nQ 684 19 347 128 \nL 347 722 \nQ 666 556 975 473 \nQ 1284 391 1588 391 \nQ 1994 391 2212 530 \nQ 2431 669 2431 922 \nQ 2431 1156 2273 1281 \nQ 2116 1406 1581 1522 \nL 1381 1569 \nQ 847 1681 609 1914 \nQ 372 2147 372 2553 \nQ 372 3047 722 3315 \nQ 1072 3584 1716 3584 \nQ 2034 3584 2315 3537 \nQ 2597 3491 2834 3397 \nz\n\" id=\"DejaVuSans-73\" transform=\"scale(0.015625)\"/>\n       <path d=\"M 1172 4494 \nL 1172 3500 \nL 2356 3500 \nL 2356 3053 \nL 1172 3053 \nL 1172 1153 \nQ 1172 725 1289 603 \nQ 1406 481 1766 481 \nL 2356 481 \nL 2356 0 \nL 1766 0 \nQ 1100 0 847 248 \nQ 594 497 594 1153 \nL 594 3053 \nL 172 3053 \nL 172 3500 \nL 594 3500 \nL 594 4494 \nL 1172 4494 \nz\n\" id=\"DejaVuSans-74\" transform=\"scale(0.015625)\"/>\n       <path d=\"M 1159 525 \nL 1159 -1331 \nL 581 -1331 \nL 581 3500 \nL 1159 3500 \nL 1159 2969 \nQ 1341 3281 1617 3432 \nQ 1894 3584 2278 3584 \nQ 2916 3584 3314 3078 \nQ 3713 2572 3713 1747 \nQ 3713 922 3314 415 \nQ 2916 -91 2278 -91 \nQ 1894 -91 1617 61 \nQ 1341 213 1159 525 \nz\nM 3116 1747 \nQ 3116 2381 2855 2742 \nQ 2594 3103 2138 3103 \nQ 1681 3103 1420 2742 \nQ 1159 2381 1159 1747 \nQ 1159 1113 1420 752 \nQ 1681 391 2138 391 \nQ 2594 391 2855 752 \nQ 3116 1113 3116 1747 \nz\n\" id=\"DejaVuSans-70\" transform=\"scale(0.015625)\"/>\n      </defs>\n      <use xlink:href=\"#DejaVuSans-45\"/>\n      <use x=\"63.183594\" xlink:href=\"#DejaVuSans-76\"/>\n      <use x=\"122.363281\" xlink:href=\"#DejaVuSans-65\"/>\n      <use x=\"183.886719\" xlink:href=\"#DejaVuSans-72\"/>\n      <use x=\"225\" xlink:href=\"#DejaVuSans-79\"/>\n      <use x=\"284.179688\" xlink:href=\"#DejaVuSans-20\"/>\n      <use x=\"315.966797\" xlink:href=\"#DejaVuSans-35\"/>\n      <use x=\"379.589844\" xlink:href=\"#DejaVuSans-30\"/>\n      <use x=\"443.212891\" xlink:href=\"#DejaVuSans-30\"/>\n      <use x=\"506.835938\" xlink:href=\"#DejaVuSans-20\"/>\n      <use x=\"538.623047\" xlink:href=\"#DejaVuSans-73\"/>\n      <use x=\"590.722656\" xlink:href=\"#DejaVuSans-74\"/>\n      <use x=\"629.931641\" xlink:href=\"#DejaVuSans-65\"/>\n      <use x=\"691.455078\" xlink:href=\"#DejaVuSans-70\"/>\n      <use x=\"754.931641\" xlink:href=\"#DejaVuSans-73\"/>\n     </g>\n    </g>\n   </g>\n   <g id=\"matplotlib.axis_2\">\n    <g id=\"ytick_1\">\n     <g id=\"line2d_8\">\n      <defs>\n       <path d=\"M 0 0 \nL -3.5 0 \n\" id=\"m8565c3d1bf\" style=\"stroke:#000000;stroke-width:0.8;\"/>\n      </defs>\n      <g>\n       <use style=\"stroke:#000000;stroke-width:0.8;\" x=\"48.208125\" xlink:href=\"#m8565c3d1bf\" y=\"103.367218\"/>\n      </g>\n     </g>\n     <g id=\"text_9\">\n      <!-- 2.55 -->\n      <g transform=\"translate(18.9425 107.166437)scale(0.1 -0.1)\">\n       <defs>\n        <path d=\"M 684 794 \nL 1344 794 \nL 1344 0 \nL 684 0 \nL 684 794 \nz\n\" id=\"DejaVuSans-2e\" transform=\"scale(0.015625)\"/>\n       </defs>\n       <use xlink:href=\"#DejaVuSans-32\"/>\n       <use x=\"63.623047\" xlink:href=\"#DejaVuSans-2e\"/>\n       <use x=\"95.410156\" xlink:href=\"#DejaVuSans-35\"/>\n       <use x=\"159.033203\" xlink:href=\"#DejaVuSans-35\"/>\n      </g>\n     </g>\n    </g>\n    <g id=\"ytick_2\">\n     <g id=\"line2d_9\">\n      <g>\n       <use style=\"stroke:#000000;stroke-width:0.8;\" x=\"48.208125\" xlink:href=\"#m8565c3d1bf\" y=\"57.382693\"/>\n      </g>\n     </g>\n     <g id=\"text_10\">\n      <!-- 2.60 -->\n      <g transform=\"translate(18.9425 61.181912)scale(0.1 -0.1)\">\n       <use xlink:href=\"#DejaVuSans-32\"/>\n       <use x=\"63.623047\" xlink:href=\"#DejaVuSans-2e\"/>\n       <use x=\"95.410156\" xlink:href=\"#DejaVuSans-36\"/>\n       <use x=\"159.033203\" xlink:href=\"#DejaVuSans-30\"/>\n      </g>\n     </g>\n    </g>\n    <g id=\"ytick_3\">\n     <g id=\"line2d_10\">\n      <g>\n       <use style=\"stroke:#000000;stroke-width:0.8;\" x=\"48.208125\" xlink:href=\"#m8565c3d1bf\" y=\"11.398168\"/>\n      </g>\n     </g>\n     <g id=\"text_11\">\n      <!-- 2.65 -->\n      <g transform=\"translate(18.9425 15.197387)scale(0.1 -0.1)\">\n       <use xlink:href=\"#DejaVuSans-32\"/>\n       <use x=\"63.623047\" xlink:href=\"#DejaVuSans-2e\"/>\n       <use x=\"95.410156\" xlink:href=\"#DejaVuSans-36\"/>\n       <use x=\"159.033203\" xlink:href=\"#DejaVuSans-35\"/>\n      </g>\n     </g>\n    </g>\n    <g id=\"text_12\">\n     <!-- Loss -->\n     <g transform=\"translate(13.27875 65.391932)rotate(-90)scale(0.08 -0.08)\">\n      <defs>\n       <path d=\"M 628 4666 \nL 1259 4666 \nL 1259 531 \nL 3531 531 \nL 3531 0 \nL 628 0 \nL 628 4666 \nz\n\" id=\"DejaVuSans-4c\" transform=\"scale(0.015625)\"/>\n       <path d=\"M 1959 3097 \nQ 1497 3097 1228 2736 \nQ 959 2375 959 1747 \nQ 959 1119 1226 758 \nQ 1494 397 1959 397 \nQ 2419 397 2687 759 \nQ 2956 1122 2956 1747 \nQ 2956 2369 2687 2733 \nQ 2419 3097 1959 3097 \nz\nM 1959 3584 \nQ 2709 3584 3137 3096 \nQ 3566 2609 3566 1747 \nQ 3566 888 3137 398 \nQ 2709 -91 1959 -91 \nQ 1206 -91 779 398 \nQ 353 888 353 1747 \nQ 353 2609 779 3096 \nQ 1206 3584 1959 3584 \nz\n\" id=\"DejaVuSans-6f\" transform=\"scale(0.015625)\"/>\n      </defs>\n      <use xlink:href=\"#DejaVuSans-4c\"/>\n      <use x=\"53.962891\" xlink:href=\"#DejaVuSans-6f\"/>\n      <use x=\"115.144531\" xlink:href=\"#DejaVuSans-73\"/>\n      <use x=\"167.244141\" xlink:href=\"#DejaVuSans-73\"/>\n     </g>\n    </g>\n   </g>\n   <g id=\"line2d_11\">\n    <path clip-path=\"url(#p006bd5b095)\" d=\"M 63.426307 16.400317 \nL 68.499034 51.360056 \nL 73.571761 64.192251 \nL 78.644489 69.379114 \nL 83.717216 55.731887 \nL 88.789943 64.709951 \nL 93.86267 80.48367 \nL 98.935398 75.132793 \nL 104.008125 76.315323 \nL 109.080852 57.877457 \nL 114.15358 67.703223 \nL 119.226307 77.663841 \nL 124.299034 82.220737 \nL 129.371761 67.611568 \nL 134.444489 91.540426 \nL 139.517216 80.873315 \nL 144.589943 77.267837 \nL 149.66267 79.393892 \nL 154.735398 68.226405 \nL 159.808125 77.858335 \nL 164.880852 73.984688 \nL 169.95358 83.786773 \nL 175.026307 70.708336 \nL 180.099034 81.159245 \nL 185.171761 80.132178 \nL 190.244489 76.158544 \nL 195.317216 81.481135 \nL 200.389943 73.512816 \nL 205.46267 57.775057 \nL 210.535398 76.9602 \nL 215.608125 74.920319 \nL 220.680852 90.865289 \nL 225.75358 80.18875 \nL 230.826307 76.338785 \nL 235.899034 78.531059 \nL 240.971761 64.813227 \nL 246.044489 92.9021 \nL 251.117216 71.890866 \nL 256.189943 78.655167 \nL 261.26267 71.225378 \nL 266.335398 60.498407 \nL 271.408125 70.275276 \nL 276.480852 64.303641 \nL 281.55358 80.900724 \nL 286.626307 77.772161 \nL 291.699034 62.446413 \nL 296.771761 79.451341 \nL 301.844489 59.488662 \nL 306.917216 82.281476 \nL 311.989943 84.398759 \nL 317.06267 84.92216 \nL 322.135398 77.185391 \nL 327.208125 71.223843 \nL 332.280852 80.044251 \nL 337.35358 68.771074 \nL 342.426307 86.25226 \nL 347.499034 77.654413 \nL 352.571761 77.351818 \nL 357.644489 73.159132 \nL 362.717216 81.069344 \nL 367.789943 101.543802 \n\" style=\"fill:none;stroke:#1f77b4;stroke-linecap:square;stroke-width:1.5;\"/>\n    <defs>\n     <path d=\"M 0 3 \nC 0.795609 3 1.55874 2.683901 2.12132 2.12132 \nC 2.683901 1.55874 3 0.795609 3 0 \nC 3 -0.795609 2.683901 -1.55874 2.12132 -2.12132 \nC 1.55874 -2.683901 0.795609 -3 0 -3 \nC -0.795609 -3 -1.55874 -2.683901 -2.12132 -2.12132 \nC -2.683901 -1.55874 -3 -0.795609 -3 0 \nC -3 0.795609 -2.683901 1.55874 -2.12132 2.12132 \nC -1.55874 2.683901 -0.795609 3 0 3 \nz\n\" id=\"me12fced5ae\" style=\"stroke:#1f77b4;\"/>\n    </defs>\n    <g clip-path=\"url(#p006bd5b095)\">\n     <use style=\"fill:#1f77b4;stroke:#1f77b4;\" x=\"63.426307\" xlink:href=\"#me12fced5ae\" y=\"16.400317\"/>\n     <use style=\"fill:#1f77b4;stroke:#1f77b4;\" x=\"68.499034\" xlink:href=\"#me12fced5ae\" y=\"51.360056\"/>\n     <use style=\"fill:#1f77b4;stroke:#1f77b4;\" x=\"73.571761\" xlink:href=\"#me12fced5ae\" y=\"64.192251\"/>\n     <use style=\"fill:#1f77b4;stroke:#1f77b4;\" x=\"78.644489\" xlink:href=\"#me12fced5ae\" y=\"69.379114\"/>\n     <use style=\"fill:#1f77b4;stroke:#1f77b4;\" x=\"83.717216\" xlink:href=\"#me12fced5ae\" y=\"55.731887\"/>\n     <use style=\"fill:#1f77b4;stroke:#1f77b4;\" x=\"88.789943\" xlink:href=\"#me12fced5ae\" y=\"64.709951\"/>\n     <use style=\"fill:#1f77b4;stroke:#1f77b4;\" x=\"93.86267\" xlink:href=\"#me12fced5ae\" y=\"80.48367\"/>\n     <use style=\"fill:#1f77b4;stroke:#1f77b4;\" x=\"98.935398\" xlink:href=\"#me12fced5ae\" y=\"75.132793\"/>\n     <use style=\"fill:#1f77b4;stroke:#1f77b4;\" x=\"104.008125\" xlink:href=\"#me12fced5ae\" y=\"76.315323\"/>\n     <use style=\"fill:#1f77b4;stroke:#1f77b4;\" x=\"109.080852\" xlink:href=\"#me12fced5ae\" y=\"57.877457\"/>\n     <use style=\"fill:#1f77b4;stroke:#1f77b4;\" x=\"114.15358\" xlink:href=\"#me12fced5ae\" y=\"67.703223\"/>\n     <use style=\"fill:#1f77b4;stroke:#1f77b4;\" x=\"119.226307\" xlink:href=\"#me12fced5ae\" y=\"77.663841\"/>\n     <use style=\"fill:#1f77b4;stroke:#1f77b4;\" x=\"124.299034\" xlink:href=\"#me12fced5ae\" y=\"82.220737\"/>\n     <use style=\"fill:#1f77b4;stroke:#1f77b4;\" x=\"129.371761\" xlink:href=\"#me12fced5ae\" y=\"67.611568\"/>\n     <use style=\"fill:#1f77b4;stroke:#1f77b4;\" x=\"134.444489\" xlink:href=\"#me12fced5ae\" y=\"91.540426\"/>\n     <use style=\"fill:#1f77b4;stroke:#1f77b4;\" x=\"139.517216\" xlink:href=\"#me12fced5ae\" y=\"80.873315\"/>\n     <use style=\"fill:#1f77b4;stroke:#1f77b4;\" x=\"144.589943\" xlink:href=\"#me12fced5ae\" y=\"77.267837\"/>\n     <use style=\"fill:#1f77b4;stroke:#1f77b4;\" x=\"149.66267\" xlink:href=\"#me12fced5ae\" y=\"79.393892\"/>\n     <use style=\"fill:#1f77b4;stroke:#1f77b4;\" x=\"154.735398\" xlink:href=\"#me12fced5ae\" y=\"68.226405\"/>\n     <use style=\"fill:#1f77b4;stroke:#1f77b4;\" x=\"159.808125\" xlink:href=\"#me12fced5ae\" y=\"77.858335\"/>\n     <use style=\"fill:#1f77b4;stroke:#1f77b4;\" x=\"164.880852\" xlink:href=\"#me12fced5ae\" y=\"73.984688\"/>\n     <use style=\"fill:#1f77b4;stroke:#1f77b4;\" x=\"169.95358\" xlink:href=\"#me12fced5ae\" y=\"83.786773\"/>\n     <use style=\"fill:#1f77b4;stroke:#1f77b4;\" x=\"175.026307\" xlink:href=\"#me12fced5ae\" y=\"70.708336\"/>\n     <use style=\"fill:#1f77b4;stroke:#1f77b4;\" x=\"180.099034\" xlink:href=\"#me12fced5ae\" y=\"81.159245\"/>\n     <use style=\"fill:#1f77b4;stroke:#1f77b4;\" x=\"185.171761\" xlink:href=\"#me12fced5ae\" y=\"80.132178\"/>\n     <use style=\"fill:#1f77b4;stroke:#1f77b4;\" x=\"190.244489\" xlink:href=\"#me12fced5ae\" y=\"76.158544\"/>\n     <use style=\"fill:#1f77b4;stroke:#1f77b4;\" x=\"195.317216\" xlink:href=\"#me12fced5ae\" y=\"81.481135\"/>\n     <use style=\"fill:#1f77b4;stroke:#1f77b4;\" x=\"200.389943\" xlink:href=\"#me12fced5ae\" y=\"73.512816\"/>\n     <use style=\"fill:#1f77b4;stroke:#1f77b4;\" x=\"205.46267\" xlink:href=\"#me12fced5ae\" y=\"57.775057\"/>\n     <use style=\"fill:#1f77b4;stroke:#1f77b4;\" x=\"210.535398\" xlink:href=\"#me12fced5ae\" y=\"76.9602\"/>\n     <use style=\"fill:#1f77b4;stroke:#1f77b4;\" x=\"215.608125\" xlink:href=\"#me12fced5ae\" y=\"74.920319\"/>\n     <use style=\"fill:#1f77b4;stroke:#1f77b4;\" x=\"220.680852\" xlink:href=\"#me12fced5ae\" y=\"90.865289\"/>\n     <use style=\"fill:#1f77b4;stroke:#1f77b4;\" x=\"225.75358\" xlink:href=\"#me12fced5ae\" y=\"80.18875\"/>\n     <use style=\"fill:#1f77b4;stroke:#1f77b4;\" x=\"230.826307\" xlink:href=\"#me12fced5ae\" y=\"76.338785\"/>\n     <use style=\"fill:#1f77b4;stroke:#1f77b4;\" x=\"235.899034\" xlink:href=\"#me12fced5ae\" y=\"78.531059\"/>\n     <use style=\"fill:#1f77b4;stroke:#1f77b4;\" x=\"240.971761\" xlink:href=\"#me12fced5ae\" y=\"64.813227\"/>\n     <use style=\"fill:#1f77b4;stroke:#1f77b4;\" x=\"246.044489\" xlink:href=\"#me12fced5ae\" y=\"92.9021\"/>\n     <use style=\"fill:#1f77b4;stroke:#1f77b4;\" x=\"251.117216\" xlink:href=\"#me12fced5ae\" y=\"71.890866\"/>\n     <use style=\"fill:#1f77b4;stroke:#1f77b4;\" x=\"256.189943\" xlink:href=\"#me12fced5ae\" y=\"78.655167\"/>\n     <use style=\"fill:#1f77b4;stroke:#1f77b4;\" x=\"261.26267\" xlink:href=\"#me12fced5ae\" y=\"71.225378\"/>\n     <use style=\"fill:#1f77b4;stroke:#1f77b4;\" x=\"266.335398\" xlink:href=\"#me12fced5ae\" y=\"60.498407\"/>\n     <use style=\"fill:#1f77b4;stroke:#1f77b4;\" x=\"271.408125\" xlink:href=\"#me12fced5ae\" y=\"70.275276\"/>\n     <use style=\"fill:#1f77b4;stroke:#1f77b4;\" x=\"276.480852\" xlink:href=\"#me12fced5ae\" y=\"64.303641\"/>\n     <use style=\"fill:#1f77b4;stroke:#1f77b4;\" x=\"281.55358\" xlink:href=\"#me12fced5ae\" y=\"80.900724\"/>\n     <use style=\"fill:#1f77b4;stroke:#1f77b4;\" x=\"286.626307\" xlink:href=\"#me12fced5ae\" y=\"77.772161\"/>\n     <use style=\"fill:#1f77b4;stroke:#1f77b4;\" x=\"291.699034\" xlink:href=\"#me12fced5ae\" y=\"62.446413\"/>\n     <use style=\"fill:#1f77b4;stroke:#1f77b4;\" x=\"296.771761\" xlink:href=\"#me12fced5ae\" y=\"79.451341\"/>\n     <use style=\"fill:#1f77b4;stroke:#1f77b4;\" x=\"301.844489\" xlink:href=\"#me12fced5ae\" y=\"59.488662\"/>\n     <use style=\"fill:#1f77b4;stroke:#1f77b4;\" x=\"306.917216\" xlink:href=\"#me12fced5ae\" y=\"82.281476\"/>\n     <use style=\"fill:#1f77b4;stroke:#1f77b4;\" x=\"311.989943\" xlink:href=\"#me12fced5ae\" y=\"84.398759\"/>\n     <use style=\"fill:#1f77b4;stroke:#1f77b4;\" x=\"317.06267\" xlink:href=\"#me12fced5ae\" y=\"84.92216\"/>\n     <use style=\"fill:#1f77b4;stroke:#1f77b4;\" x=\"322.135398\" xlink:href=\"#me12fced5ae\" y=\"77.185391\"/>\n     <use style=\"fill:#1f77b4;stroke:#1f77b4;\" x=\"327.208125\" xlink:href=\"#me12fced5ae\" y=\"71.223843\"/>\n     <use style=\"fill:#1f77b4;stroke:#1f77b4;\" x=\"332.280852\" xlink:href=\"#me12fced5ae\" y=\"80.044251\"/>\n     <use style=\"fill:#1f77b4;stroke:#1f77b4;\" x=\"337.35358\" xlink:href=\"#me12fced5ae\" y=\"68.771074\"/>\n     <use style=\"fill:#1f77b4;stroke:#1f77b4;\" x=\"342.426307\" xlink:href=\"#me12fced5ae\" y=\"86.25226\"/>\n     <use style=\"fill:#1f77b4;stroke:#1f77b4;\" x=\"347.499034\" xlink:href=\"#me12fced5ae\" y=\"77.654413\"/>\n     <use style=\"fill:#1f77b4;stroke:#1f77b4;\" x=\"352.571761\" xlink:href=\"#me12fced5ae\" y=\"77.351818\"/>\n     <use style=\"fill:#1f77b4;stroke:#1f77b4;\" x=\"357.644489\" xlink:href=\"#me12fced5ae\" y=\"73.159132\"/>\n     <use style=\"fill:#1f77b4;stroke:#1f77b4;\" x=\"362.717216\" xlink:href=\"#me12fced5ae\" y=\"81.069344\"/>\n     <use style=\"fill:#1f77b4;stroke:#1f77b4;\" x=\"367.789943\" xlink:href=\"#me12fced5ae\" y=\"101.543802\"/>\n    </g>\n   </g>\n   <g id=\"line2d_12\">\n    <path clip-path=\"url(#p006bd5b095)\" d=\"M 63.426307 11.692562 \nL 68.499034 48.226011 \nL 73.571761 70.740131 \nL 78.644489 71.234807 \nL 83.717216 70.381184 \nL 88.789943 72.24477 \nL 93.86267 73.286309 \nL 98.935398 73.257585 \nL 104.008125 72.83176 \nL 109.080852 72.868378 \nL 114.15358 73.071642 \nL 119.226307 73.077344 \nL 124.299034 73.050154 \nL 129.371761 72.922977 \nL 134.444489 76.103507 \nL 139.517216 75.380131 \nL 144.589943 75.601814 \nL 149.66267 75.451613 \nL 154.735398 76.142318 \nL 159.808125 75.742367 \nL 164.880852 76.047154 \nL 169.95358 76.064696 \nL 175.026307 76.056144 \nL 180.099034 75.914933 \nL 185.171761 75.989486 \nL 190.244489 76.086184 \nL 195.317216 75.721098 \nL 200.389943 75.933791 \nL 205.46267 75.884455 \nL 210.535398 75.834022 \nL 215.608125 76.066011 \nL 220.680852 75.829856 \nL 225.75358 75.869544 \nL 230.826307 75.965366 \nL 235.899034 75.473321 \nL 240.971761 75.914933 \nL 246.044489 75.857484 \nL 251.117216 75.781836 \nL 256.189943 75.838188 \nL 261.26267 76.136397 \nL 266.335398 76.021499 \nL 271.408125 75.56388 \nL 276.480852 76.021061 \nL 281.55358 76.110523 \nL 286.626307 75.782932 \nL 291.699034 75.729649 \nL 296.771761 76.116444 \nL 301.844489 75.902873 \nL 306.917216 75.386051 \nL 311.989943 76.039918 \nL 317.06267 75.866255 \nL 322.135398 75.824374 \nL 327.208125 75.874149 \nL 332.280852 76.020841 \nL 337.35358 75.744779 \nL 342.426307 75.724606 \nL 347.499034 75.658825 \nL 352.571761 75.770214 \nL 357.644489 75.680971 \nL 362.717216 76.012509 \nL 367.789943 75.289572 \n\" style=\"fill:none;stroke:#ff7f0e;stroke-linecap:square;stroke-width:1.5;\"/>\n    <defs>\n     <path d=\"M 0 3 \nC 0.795609 3 1.55874 2.683901 2.12132 2.12132 \nC 2.683901 1.55874 3 0.795609 3 0 \nC 3 -0.795609 2.683901 -1.55874 2.12132 -2.12132 \nC 1.55874 -2.683901 0.795609 -3 0 -3 \nC -0.795609 -3 -1.55874 -2.683901 -2.12132 -2.12132 \nC -2.683901 -1.55874 -3 -0.795609 -3 0 \nC -3 0.795609 -2.683901 1.55874 -2.12132 2.12132 \nC -1.55874 2.683901 -0.795609 3 0 3 \nz\n\" id=\"mad832accfa\" style=\"stroke:#ff7f0e;\"/>\n    </defs>\n    <g clip-path=\"url(#p006bd5b095)\">\n     <use style=\"fill:#ff7f0e;stroke:#ff7f0e;\" x=\"63.426307\" xlink:href=\"#mad832accfa\" y=\"11.692562\"/>\n     <use style=\"fill:#ff7f0e;stroke:#ff7f0e;\" x=\"68.499034\" xlink:href=\"#mad832accfa\" y=\"48.226011\"/>\n     <use style=\"fill:#ff7f0e;stroke:#ff7f0e;\" x=\"73.571761\" xlink:href=\"#mad832accfa\" y=\"70.740131\"/>\n     <use style=\"fill:#ff7f0e;stroke:#ff7f0e;\" x=\"78.644489\" xlink:href=\"#mad832accfa\" y=\"71.234807\"/>\n     <use style=\"fill:#ff7f0e;stroke:#ff7f0e;\" x=\"83.717216\" xlink:href=\"#mad832accfa\" y=\"70.381184\"/>\n     <use style=\"fill:#ff7f0e;stroke:#ff7f0e;\" x=\"88.789943\" xlink:href=\"#mad832accfa\" y=\"72.24477\"/>\n     <use style=\"fill:#ff7f0e;stroke:#ff7f0e;\" x=\"93.86267\" xlink:href=\"#mad832accfa\" y=\"73.286309\"/>\n     <use style=\"fill:#ff7f0e;stroke:#ff7f0e;\" x=\"98.935398\" xlink:href=\"#mad832accfa\" y=\"73.257585\"/>\n     <use style=\"fill:#ff7f0e;stroke:#ff7f0e;\" x=\"104.008125\" xlink:href=\"#mad832accfa\" y=\"72.83176\"/>\n     <use style=\"fill:#ff7f0e;stroke:#ff7f0e;\" x=\"109.080852\" xlink:href=\"#mad832accfa\" y=\"72.868378\"/>\n     <use style=\"fill:#ff7f0e;stroke:#ff7f0e;\" x=\"114.15358\" xlink:href=\"#mad832accfa\" y=\"73.071642\"/>\n     <use style=\"fill:#ff7f0e;stroke:#ff7f0e;\" x=\"119.226307\" xlink:href=\"#mad832accfa\" y=\"73.077344\"/>\n     <use style=\"fill:#ff7f0e;stroke:#ff7f0e;\" x=\"124.299034\" xlink:href=\"#mad832accfa\" y=\"73.050154\"/>\n     <use style=\"fill:#ff7f0e;stroke:#ff7f0e;\" x=\"129.371761\" xlink:href=\"#mad832accfa\" y=\"72.922977\"/>\n     <use style=\"fill:#ff7f0e;stroke:#ff7f0e;\" x=\"134.444489\" xlink:href=\"#mad832accfa\" y=\"76.103507\"/>\n     <use style=\"fill:#ff7f0e;stroke:#ff7f0e;\" x=\"139.517216\" xlink:href=\"#mad832accfa\" y=\"75.380131\"/>\n     <use style=\"fill:#ff7f0e;stroke:#ff7f0e;\" x=\"144.589943\" xlink:href=\"#mad832accfa\" y=\"75.601814\"/>\n     <use style=\"fill:#ff7f0e;stroke:#ff7f0e;\" x=\"149.66267\" xlink:href=\"#mad832accfa\" y=\"75.451613\"/>\n     <use style=\"fill:#ff7f0e;stroke:#ff7f0e;\" x=\"154.735398\" xlink:href=\"#mad832accfa\" y=\"76.142318\"/>\n     <use style=\"fill:#ff7f0e;stroke:#ff7f0e;\" x=\"159.808125\" xlink:href=\"#mad832accfa\" y=\"75.742367\"/>\n     <use style=\"fill:#ff7f0e;stroke:#ff7f0e;\" x=\"164.880852\" xlink:href=\"#mad832accfa\" y=\"76.047154\"/>\n     <use style=\"fill:#ff7f0e;stroke:#ff7f0e;\" x=\"169.95358\" xlink:href=\"#mad832accfa\" y=\"76.064696\"/>\n     <use style=\"fill:#ff7f0e;stroke:#ff7f0e;\" x=\"175.026307\" xlink:href=\"#mad832accfa\" y=\"76.056144\"/>\n     <use style=\"fill:#ff7f0e;stroke:#ff7f0e;\" x=\"180.099034\" xlink:href=\"#mad832accfa\" y=\"75.914933\"/>\n     <use style=\"fill:#ff7f0e;stroke:#ff7f0e;\" x=\"185.171761\" xlink:href=\"#mad832accfa\" y=\"75.989486\"/>\n     <use style=\"fill:#ff7f0e;stroke:#ff7f0e;\" x=\"190.244489\" xlink:href=\"#mad832accfa\" y=\"76.086184\"/>\n     <use style=\"fill:#ff7f0e;stroke:#ff7f0e;\" x=\"195.317216\" xlink:href=\"#mad832accfa\" y=\"75.721098\"/>\n     <use style=\"fill:#ff7f0e;stroke:#ff7f0e;\" x=\"200.389943\" xlink:href=\"#mad832accfa\" y=\"75.933791\"/>\n     <use style=\"fill:#ff7f0e;stroke:#ff7f0e;\" x=\"205.46267\" xlink:href=\"#mad832accfa\" y=\"75.884455\"/>\n     <use style=\"fill:#ff7f0e;stroke:#ff7f0e;\" x=\"210.535398\" xlink:href=\"#mad832accfa\" y=\"75.834022\"/>\n     <use style=\"fill:#ff7f0e;stroke:#ff7f0e;\" x=\"215.608125\" xlink:href=\"#mad832accfa\" y=\"76.066011\"/>\n     <use style=\"fill:#ff7f0e;stroke:#ff7f0e;\" x=\"220.680852\" xlink:href=\"#mad832accfa\" y=\"75.829856\"/>\n     <use style=\"fill:#ff7f0e;stroke:#ff7f0e;\" x=\"225.75358\" xlink:href=\"#mad832accfa\" y=\"75.869544\"/>\n     <use style=\"fill:#ff7f0e;stroke:#ff7f0e;\" x=\"230.826307\" xlink:href=\"#mad832accfa\" y=\"75.965366\"/>\n     <use style=\"fill:#ff7f0e;stroke:#ff7f0e;\" x=\"235.899034\" xlink:href=\"#mad832accfa\" y=\"75.473321\"/>\n     <use style=\"fill:#ff7f0e;stroke:#ff7f0e;\" x=\"240.971761\" xlink:href=\"#mad832accfa\" y=\"75.914933\"/>\n     <use style=\"fill:#ff7f0e;stroke:#ff7f0e;\" x=\"246.044489\" xlink:href=\"#mad832accfa\" y=\"75.857484\"/>\n     <use style=\"fill:#ff7f0e;stroke:#ff7f0e;\" x=\"251.117216\" xlink:href=\"#mad832accfa\" y=\"75.781836\"/>\n     <use style=\"fill:#ff7f0e;stroke:#ff7f0e;\" x=\"256.189943\" xlink:href=\"#mad832accfa\" y=\"75.838188\"/>\n     <use style=\"fill:#ff7f0e;stroke:#ff7f0e;\" x=\"261.26267\" xlink:href=\"#mad832accfa\" y=\"76.136397\"/>\n     <use style=\"fill:#ff7f0e;stroke:#ff7f0e;\" x=\"266.335398\" xlink:href=\"#mad832accfa\" y=\"76.021499\"/>\n     <use style=\"fill:#ff7f0e;stroke:#ff7f0e;\" x=\"271.408125\" xlink:href=\"#mad832accfa\" y=\"75.56388\"/>\n     <use style=\"fill:#ff7f0e;stroke:#ff7f0e;\" x=\"276.480852\" xlink:href=\"#mad832accfa\" y=\"76.021061\"/>\n     <use style=\"fill:#ff7f0e;stroke:#ff7f0e;\" x=\"281.55358\" xlink:href=\"#mad832accfa\" y=\"76.110523\"/>\n     <use style=\"fill:#ff7f0e;stroke:#ff7f0e;\" x=\"286.626307\" xlink:href=\"#mad832accfa\" y=\"75.782932\"/>\n     <use style=\"fill:#ff7f0e;stroke:#ff7f0e;\" x=\"291.699034\" xlink:href=\"#mad832accfa\" y=\"75.729649\"/>\n     <use style=\"fill:#ff7f0e;stroke:#ff7f0e;\" x=\"296.771761\" xlink:href=\"#mad832accfa\" y=\"76.116444\"/>\n     <use style=\"fill:#ff7f0e;stroke:#ff7f0e;\" x=\"301.844489\" xlink:href=\"#mad832accfa\" y=\"75.902873\"/>\n     <use style=\"fill:#ff7f0e;stroke:#ff7f0e;\" x=\"306.917216\" xlink:href=\"#mad832accfa\" y=\"75.386051\"/>\n     <use style=\"fill:#ff7f0e;stroke:#ff7f0e;\" x=\"311.989943\" xlink:href=\"#mad832accfa\" y=\"76.039918\"/>\n     <use style=\"fill:#ff7f0e;stroke:#ff7f0e;\" x=\"317.06267\" xlink:href=\"#mad832accfa\" y=\"75.866255\"/>\n     <use style=\"fill:#ff7f0e;stroke:#ff7f0e;\" x=\"322.135398\" xlink:href=\"#mad832accfa\" y=\"75.824374\"/>\n     <use style=\"fill:#ff7f0e;stroke:#ff7f0e;\" x=\"327.208125\" xlink:href=\"#mad832accfa\" y=\"75.874149\"/>\n     <use style=\"fill:#ff7f0e;stroke:#ff7f0e;\" x=\"332.280852\" xlink:href=\"#mad832accfa\" y=\"76.020841\"/>\n     <use style=\"fill:#ff7f0e;stroke:#ff7f0e;\" x=\"337.35358\" xlink:href=\"#mad832accfa\" y=\"75.744779\"/>\n     <use style=\"fill:#ff7f0e;stroke:#ff7f0e;\" x=\"342.426307\" xlink:href=\"#mad832accfa\" y=\"75.724606\"/>\n     <use style=\"fill:#ff7f0e;stroke:#ff7f0e;\" x=\"347.499034\" xlink:href=\"#mad832accfa\" y=\"75.658825\"/>\n     <use style=\"fill:#ff7f0e;stroke:#ff7f0e;\" x=\"352.571761\" xlink:href=\"#mad832accfa\" y=\"75.770214\"/>\n     <use style=\"fill:#ff7f0e;stroke:#ff7f0e;\" x=\"357.644489\" xlink:href=\"#mad832accfa\" y=\"75.680971\"/>\n     <use style=\"fill:#ff7f0e;stroke:#ff7f0e;\" x=\"362.717216\" xlink:href=\"#mad832accfa\" y=\"76.012509\"/>\n     <use style=\"fill:#ff7f0e;stroke:#ff7f0e;\" x=\"367.789943\" xlink:href=\"#mad832accfa\" y=\"75.289572\"/>\n    </g>\n   </g>\n   <g id=\"patch_3\">\n    <path d=\"M 48.208125 106.036364 \nL 48.208125 7.2 \n\" style=\"fill:none;stroke:#000000;stroke-linecap:square;stroke-linejoin:miter;stroke-width:0.8;\"/>\n   </g>\n   <g id=\"patch_4\">\n    <path d=\"M 383.008125 106.036364 \nL 383.008125 7.2 \n\" style=\"fill:none;stroke:#000000;stroke-linecap:square;stroke-linejoin:miter;stroke-width:0.8;\"/>\n   </g>\n   <g id=\"patch_5\">\n    <path d=\"M 48.208125 106.036364 \nL 383.008125 106.036364 \n\" style=\"fill:none;stroke:#000000;stroke-linecap:square;stroke-linejoin:miter;stroke-width:0.8;\"/>\n   </g>\n   <g id=\"patch_6\">\n    <path d=\"M 48.208125 7.2 \nL 383.008125 7.2 \n\" style=\"fill:none;stroke:#000000;stroke-linecap:square;stroke-linejoin:miter;stroke-width:0.8;\"/>\n   </g>\n   <g id=\"legend_1\">\n    <g id=\"patch_7\">\n     <path d=\"M 55.208125 44.55625 \nL 159.083125 44.55625 \nQ 161.083125 44.55625 161.083125 42.55625 \nL 161.083125 14.2 \nQ 161.083125 12.2 159.083125 12.2 \nL 55.208125 12.2 \nQ 53.208125 12.2 53.208125 14.2 \nL 53.208125 42.55625 \nQ 53.208125 44.55625 55.208125 44.55625 \nz\n\" style=\"fill:#ffffff;opacity:0.8;stroke:#cccccc;stroke-linejoin:miter;\"/>\n    </g>\n    <g id=\"line2d_13\">\n     <path d=\"M 57.208125 20.298438 \nL 77.208125 20.298438 \n\" style=\"fill:none;stroke:#1f77b4;stroke-linecap:square;stroke-width:1.5;\"/>\n    </g>\n    <g id=\"line2d_14\">\n     <g>\n      <use style=\"fill:#1f77b4;stroke:#1f77b4;\" x=\"67.208125\" xlink:href=\"#me12fced5ae\" y=\"20.298438\"/>\n     </g>\n    </g>\n    <g id=\"text_13\">\n     <!-- Training loss -->\n     <g transform=\"translate(85.208125 23.798438)scale(0.1 -0.1)\">\n      <defs>\n       <path d=\"M -19 4666 \nL 3928 4666 \nL 3928 4134 \nL 2272 4134 \nL 2272 0 \nL 1638 0 \nL 1638 4134 \nL -19 4134 \nL -19 4666 \nz\n\" id=\"DejaVuSans-54\" transform=\"scale(0.015625)\"/>\n       <path d=\"M 2194 1759 \nQ 1497 1759 1228 1600 \nQ 959 1441 959 1056 \nQ 959 750 1161 570 \nQ 1363 391 1709 391 \nQ 2188 391 2477 730 \nQ 2766 1069 2766 1631 \nL 2766 1759 \nL 2194 1759 \nz\nM 3341 1997 \nL 3341 0 \nL 2766 0 \nL 2766 531 \nQ 2569 213 2275 61 \nQ 1981 -91 1556 -91 \nQ 1019 -91 701 211 \nQ 384 513 384 1019 \nQ 384 1609 779 1909 \nQ 1175 2209 1959 2209 \nL 2766 2209 \nL 2766 2266 \nQ 2766 2663 2505 2880 \nQ 2244 3097 1772 3097 \nQ 1472 3097 1187 3025 \nQ 903 2953 641 2809 \nL 641 3341 \nQ 956 3463 1253 3523 \nQ 1550 3584 1831 3584 \nQ 2591 3584 2966 3190 \nQ 3341 2797 3341 1997 \nz\n\" id=\"DejaVuSans-61\" transform=\"scale(0.015625)\"/>\n       <path d=\"M 603 3500 \nL 1178 3500 \nL 1178 0 \nL 603 0 \nL 603 3500 \nz\nM 603 4863 \nL 1178 4863 \nL 1178 4134 \nL 603 4134 \nL 603 4863 \nz\n\" id=\"DejaVuSans-69\" transform=\"scale(0.015625)\"/>\n       <path d=\"M 3513 2113 \nL 3513 0 \nL 2938 0 \nL 2938 2094 \nQ 2938 2591 2744 2837 \nQ 2550 3084 2163 3084 \nQ 1697 3084 1428 2787 \nQ 1159 2491 1159 1978 \nL 1159 0 \nL 581 0 \nL 581 3500 \nL 1159 3500 \nL 1159 2956 \nQ 1366 3272 1645 3428 \nQ 1925 3584 2291 3584 \nQ 2894 3584 3203 3211 \nQ 3513 2838 3513 2113 \nz\n\" id=\"DejaVuSans-6e\" transform=\"scale(0.015625)\"/>\n       <path d=\"M 2906 1791 \nQ 2906 2416 2648 2759 \nQ 2391 3103 1925 3103 \nQ 1463 3103 1205 2759 \nQ 947 2416 947 1791 \nQ 947 1169 1205 825 \nQ 1463 481 1925 481 \nQ 2391 481 2648 825 \nQ 2906 1169 2906 1791 \nz\nM 3481 434 \nQ 3481 -459 3084 -895 \nQ 2688 -1331 1869 -1331 \nQ 1566 -1331 1297 -1286 \nQ 1028 -1241 775 -1147 \nL 775 -588 \nQ 1028 -725 1275 -790 \nQ 1522 -856 1778 -856 \nQ 2344 -856 2625 -561 \nQ 2906 -266 2906 331 \nL 2906 616 \nQ 2728 306 2450 153 \nQ 2172 0 1784 0 \nQ 1141 0 747 490 \nQ 353 981 353 1791 \nQ 353 2603 747 3093 \nQ 1141 3584 1784 3584 \nQ 2172 3584 2450 3431 \nQ 2728 3278 2906 2969 \nL 2906 3500 \nL 3481 3500 \nL 3481 434 \nz\n\" id=\"DejaVuSans-67\" transform=\"scale(0.015625)\"/>\n       <path d=\"M 603 4863 \nL 1178 4863 \nL 1178 0 \nL 603 0 \nL 603 4863 \nz\n\" id=\"DejaVuSans-6c\" transform=\"scale(0.015625)\"/>\n      </defs>\n      <use xlink:href=\"#DejaVuSans-54\"/>\n      <use x=\"46.333984\" xlink:href=\"#DejaVuSans-72\"/>\n      <use x=\"87.447266\" xlink:href=\"#DejaVuSans-61\"/>\n      <use x=\"148.726562\" xlink:href=\"#DejaVuSans-69\"/>\n      <use x=\"176.509766\" xlink:href=\"#DejaVuSans-6e\"/>\n      <use x=\"239.888672\" xlink:href=\"#DejaVuSans-69\"/>\n      <use x=\"267.671875\" xlink:href=\"#DejaVuSans-6e\"/>\n      <use x=\"331.050781\" xlink:href=\"#DejaVuSans-67\"/>\n      <use x=\"394.527344\" xlink:href=\"#DejaVuSans-20\"/>\n      <use x=\"426.314453\" xlink:href=\"#DejaVuSans-6c\"/>\n      <use x=\"454.097656\" xlink:href=\"#DejaVuSans-6f\"/>\n      <use x=\"515.279297\" xlink:href=\"#DejaVuSans-73\"/>\n      <use x=\"567.378906\" xlink:href=\"#DejaVuSans-73\"/>\n     </g>\n    </g>\n    <g id=\"line2d_15\">\n     <path d=\"M 57.208125 34.976563 \nL 77.208125 34.976563 \n\" style=\"fill:none;stroke:#ff7f0e;stroke-linecap:square;stroke-width:1.5;\"/>\n    </g>\n    <g id=\"line2d_16\">\n     <g>\n      <use style=\"fill:#ff7f0e;stroke:#ff7f0e;\" x=\"67.208125\" xlink:href=\"#mad832accfa\" y=\"34.976563\"/>\n     </g>\n    </g>\n    <g id=\"text_14\">\n     <!-- Validation loss -->\n     <g transform=\"translate(85.208125 38.476563)scale(0.1 -0.1)\">\n      <defs>\n       <path d=\"M 1831 0 \nL 50 4666 \nL 709 4666 \nL 2188 738 \nL 3669 4666 \nL 4325 4666 \nL 2547 0 \nL 1831 0 \nz\n\" id=\"DejaVuSans-56\" transform=\"scale(0.015625)\"/>\n       <path d=\"M 2906 2969 \nL 2906 4863 \nL 3481 4863 \nL 3481 0 \nL 2906 0 \nL 2906 525 \nQ 2725 213 2448 61 \nQ 2172 -91 1784 -91 \nQ 1150 -91 751 415 \nQ 353 922 353 1747 \nQ 353 2572 751 3078 \nQ 1150 3584 1784 3584 \nQ 2172 3584 2448 3432 \nQ 2725 3281 2906 2969 \nz\nM 947 1747 \nQ 947 1113 1208 752 \nQ 1469 391 1925 391 \nQ 2381 391 2643 752 \nQ 2906 1113 2906 1747 \nQ 2906 2381 2643 2742 \nQ 2381 3103 1925 3103 \nQ 1469 3103 1208 2742 \nQ 947 2381 947 1747 \nz\n\" id=\"DejaVuSans-64\" transform=\"scale(0.015625)\"/>\n      </defs>\n      <use xlink:href=\"#DejaVuSans-56\"/>\n      <use x=\"60.658203\" xlink:href=\"#DejaVuSans-61\"/>\n      <use x=\"121.9375\" xlink:href=\"#DejaVuSans-6c\"/>\n      <use x=\"149.720703\" xlink:href=\"#DejaVuSans-69\"/>\n      <use x=\"177.503906\" xlink:href=\"#DejaVuSans-64\"/>\n      <use x=\"240.980469\" xlink:href=\"#DejaVuSans-61\"/>\n      <use x=\"302.259766\" xlink:href=\"#DejaVuSans-74\"/>\n      <use x=\"341.46875\" xlink:href=\"#DejaVuSans-69\"/>\n      <use x=\"369.251953\" xlink:href=\"#DejaVuSans-6f\"/>\n      <use x=\"430.433594\" xlink:href=\"#DejaVuSans-6e\"/>\n      <use x=\"493.8125\" xlink:href=\"#DejaVuSans-20\"/>\n      <use x=\"525.599609\" xlink:href=\"#DejaVuSans-6c\"/>\n      <use x=\"553.382812\" xlink:href=\"#DejaVuSans-6f\"/>\n      <use x=\"614.564453\" xlink:href=\"#DejaVuSans-73\"/>\n      <use x=\"666.664062\" xlink:href=\"#DejaVuSans-73\"/>\n     </g>\n    </g>\n   </g>\n  </g>\n </g>\n <defs>\n  <clipPath id=\"p006bd5b095\">\n   <rect height=\"98.836364\" width=\"334.8\" x=\"48.208125\" y=\"7.2\"/>\n  </clipPath>\n </defs>\n</svg>\n"
     },
     "metadata": {}
    },
    {
     "output_type": "display_data",
     "data": {
      "text/plain": "<Figure size 432x288 with 1 Axes>",
      "image/svg+xml": "<?xml version=\"1.0\" encoding=\"utf-8\" standalone=\"no\"?>\n<!DOCTYPE svg PUBLIC \"-//W3C//DTD SVG 1.1//EN\"\n  \"http://www.w3.org/Graphics/SVG/1.1/DTD/svg11.dtd\">\n<svg height=\"143.592614pt\" version=\"1.1\" viewBox=\"0 0 390.208125 143.592614\" width=\"390.208125pt\" xmlns=\"http://www.w3.org/2000/svg\" xmlns:xlink=\"http://www.w3.org/1999/xlink\">\n <metadata>\n  <rdf:RDF xmlns:cc=\"http://creativecommons.org/ns#\" xmlns:dc=\"http://purl.org/dc/elements/1.1/\" xmlns:rdf=\"http://www.w3.org/1999/02/22-rdf-syntax-ns#\">\n   <cc:Work>\n    <dc:type rdf:resource=\"http://purl.org/dc/dcmitype/StillImage\"/>\n    <dc:date>2021-05-20T17:16:26.589205</dc:date>\n    <dc:format>image/svg+xml</dc:format>\n    <dc:creator>\n     <cc:Agent>\n      <dc:title>Matplotlib v3.4.1, https://matplotlib.org/</dc:title>\n     </cc:Agent>\n    </dc:creator>\n   </cc:Work>\n  </rdf:RDF>\n </metadata>\n <defs>\n  <style type=\"text/css\">*{stroke-linecap:butt;stroke-linejoin:round;}</style>\n </defs>\n <g id=\"figure_1\">\n  <g id=\"patch_1\">\n   <path d=\"M 0 143.592614 \nL 390.208125 143.592614 \nL 390.208125 0 \nL 0 0 \nz\n\" style=\"fill:#e0e0e0;\"/>\n  </g>\n  <g id=\"axes_1\">\n   <g id=\"patch_2\">\n    <path d=\"M 48.208125 106.036364 \nL 383.008125 106.036364 \nL 383.008125 7.2 \nL 48.208125 7.2 \nz\n\" style=\"fill:#ffffff;\"/>\n   </g>\n   <g id=\"matplotlib.axis_1\">\n    <g id=\"xtick_1\">\n     <g id=\"line2d_1\">\n      <defs>\n       <path d=\"M 0 0 \nL 0 3.5 \n\" id=\"m2491f29bba\" style=\"stroke:#000000;stroke-width:0.8;\"/>\n      </defs>\n      <g>\n       <use style=\"stroke:#000000;stroke-width:0.8;\" x=\"63.426307\" xlink:href=\"#m2491f29bba\" y=\"106.036364\"/>\n      </g>\n     </g>\n     <g id=\"text_1\">\n      <!-- 0 -->\n      <g transform=\"translate(60.245057 120.634801)scale(0.1 -0.1)\">\n       <defs>\n        <path d=\"M 2034 4250 \nQ 1547 4250 1301 3770 \nQ 1056 3291 1056 2328 \nQ 1056 1369 1301 889 \nQ 1547 409 2034 409 \nQ 2525 409 2770 889 \nQ 3016 1369 3016 2328 \nQ 3016 3291 2770 3770 \nQ 2525 4250 2034 4250 \nz\nM 2034 4750 \nQ 2819 4750 3233 4129 \nQ 3647 3509 3647 2328 \nQ 3647 1150 3233 529 \nQ 2819 -91 2034 -91 \nQ 1250 -91 836 529 \nQ 422 1150 422 2328 \nQ 422 3509 836 4129 \nQ 1250 4750 2034 4750 \nz\n\" id=\"DejaVuSans-30\" transform=\"scale(0.015625)\"/>\n       </defs>\n       <use xlink:href=\"#DejaVuSans-30\"/>\n      </g>\n     </g>\n    </g>\n    <g id=\"xtick_2\">\n     <g id=\"line2d_2\">\n      <g>\n       <use style=\"stroke:#000000;stroke-width:0.8;\" x=\"114.15358\" xlink:href=\"#m2491f29bba\" y=\"106.036364\"/>\n      </g>\n     </g>\n     <g id=\"text_2\">\n      <!-- 10 -->\n      <g transform=\"translate(107.79108 120.634801)scale(0.1 -0.1)\">\n       <defs>\n        <path d=\"M 794 531 \nL 1825 531 \nL 1825 4091 \nL 703 3866 \nL 703 4441 \nL 1819 4666 \nL 2450 4666 \nL 2450 531 \nL 3481 531 \nL 3481 0 \nL 794 0 \nL 794 531 \nz\n\" id=\"DejaVuSans-31\" transform=\"scale(0.015625)\"/>\n       </defs>\n       <use xlink:href=\"#DejaVuSans-31\"/>\n       <use x=\"63.623047\" xlink:href=\"#DejaVuSans-30\"/>\n      </g>\n     </g>\n    </g>\n    <g id=\"xtick_3\">\n     <g id=\"line2d_3\">\n      <g>\n       <use style=\"stroke:#000000;stroke-width:0.8;\" x=\"164.880852\" xlink:href=\"#m2491f29bba\" y=\"106.036364\"/>\n      </g>\n     </g>\n     <g id=\"text_3\">\n      <!-- 20 -->\n      <g transform=\"translate(158.518352 120.634801)scale(0.1 -0.1)\">\n       <defs>\n        <path d=\"M 1228 531 \nL 3431 531 \nL 3431 0 \nL 469 0 \nL 469 531 \nQ 828 903 1448 1529 \nQ 2069 2156 2228 2338 \nQ 2531 2678 2651 2914 \nQ 2772 3150 2772 3378 \nQ 2772 3750 2511 3984 \nQ 2250 4219 1831 4219 \nQ 1534 4219 1204 4116 \nQ 875 4013 500 3803 \nL 500 4441 \nQ 881 4594 1212 4672 \nQ 1544 4750 1819 4750 \nQ 2544 4750 2975 4387 \nQ 3406 4025 3406 3419 \nQ 3406 3131 3298 2873 \nQ 3191 2616 2906 2266 \nQ 2828 2175 2409 1742 \nQ 1991 1309 1228 531 \nz\n\" id=\"DejaVuSans-32\" transform=\"scale(0.015625)\"/>\n       </defs>\n       <use xlink:href=\"#DejaVuSans-32\"/>\n       <use x=\"63.623047\" xlink:href=\"#DejaVuSans-30\"/>\n      </g>\n     </g>\n    </g>\n    <g id=\"xtick_4\">\n     <g id=\"line2d_4\">\n      <g>\n       <use style=\"stroke:#000000;stroke-width:0.8;\" x=\"215.608125\" xlink:href=\"#m2491f29bba\" y=\"106.036364\"/>\n      </g>\n     </g>\n     <g id=\"text_4\">\n      <!-- 30 -->\n      <g transform=\"translate(209.245625 120.634801)scale(0.1 -0.1)\">\n       <defs>\n        <path d=\"M 2597 2516 \nQ 3050 2419 3304 2112 \nQ 3559 1806 3559 1356 \nQ 3559 666 3084 287 \nQ 2609 -91 1734 -91 \nQ 1441 -91 1130 -33 \nQ 819 25 488 141 \nL 488 750 \nQ 750 597 1062 519 \nQ 1375 441 1716 441 \nQ 2309 441 2620 675 \nQ 2931 909 2931 1356 \nQ 2931 1769 2642 2001 \nQ 2353 2234 1838 2234 \nL 1294 2234 \nL 1294 2753 \nL 1863 2753 \nQ 2328 2753 2575 2939 \nQ 2822 3125 2822 3475 \nQ 2822 3834 2567 4026 \nQ 2313 4219 1838 4219 \nQ 1578 4219 1281 4162 \nQ 984 4106 628 3988 \nL 628 4550 \nQ 988 4650 1302 4700 \nQ 1616 4750 1894 4750 \nQ 2613 4750 3031 4423 \nQ 3450 4097 3450 3541 \nQ 3450 3153 3228 2886 \nQ 3006 2619 2597 2516 \nz\n\" id=\"DejaVuSans-33\" transform=\"scale(0.015625)\"/>\n       </defs>\n       <use xlink:href=\"#DejaVuSans-33\"/>\n       <use x=\"63.623047\" xlink:href=\"#DejaVuSans-30\"/>\n      </g>\n     </g>\n    </g>\n    <g id=\"xtick_5\">\n     <g id=\"line2d_5\">\n      <g>\n       <use style=\"stroke:#000000;stroke-width:0.8;\" x=\"266.335398\" xlink:href=\"#m2491f29bba\" y=\"106.036364\"/>\n      </g>\n     </g>\n     <g id=\"text_5\">\n      <!-- 40 -->\n      <g transform=\"translate(259.972898 120.634801)scale(0.1 -0.1)\">\n       <defs>\n        <path d=\"M 2419 4116 \nL 825 1625 \nL 2419 1625 \nL 2419 4116 \nz\nM 2253 4666 \nL 3047 4666 \nL 3047 1625 \nL 3713 1625 \nL 3713 1100 \nL 3047 1100 \nL 3047 0 \nL 2419 0 \nL 2419 1100 \nL 313 1100 \nL 313 1709 \nL 2253 4666 \nz\n\" id=\"DejaVuSans-34\" transform=\"scale(0.015625)\"/>\n       </defs>\n       <use xlink:href=\"#DejaVuSans-34\"/>\n       <use x=\"63.623047\" xlink:href=\"#DejaVuSans-30\"/>\n      </g>\n     </g>\n    </g>\n    <g id=\"xtick_6\">\n     <g id=\"line2d_6\">\n      <g>\n       <use style=\"stroke:#000000;stroke-width:0.8;\" x=\"317.06267\" xlink:href=\"#m2491f29bba\" y=\"106.036364\"/>\n      </g>\n     </g>\n     <g id=\"text_6\">\n      <!-- 50 -->\n      <g transform=\"translate(310.70017 120.634801)scale(0.1 -0.1)\">\n       <defs>\n        <path d=\"M 691 4666 \nL 3169 4666 \nL 3169 4134 \nL 1269 4134 \nL 1269 2991 \nQ 1406 3038 1543 3061 \nQ 1681 3084 1819 3084 \nQ 2600 3084 3056 2656 \nQ 3513 2228 3513 1497 \nQ 3513 744 3044 326 \nQ 2575 -91 1722 -91 \nQ 1428 -91 1123 -41 \nQ 819 9 494 109 \nL 494 744 \nQ 775 591 1075 516 \nQ 1375 441 1709 441 \nQ 2250 441 2565 725 \nQ 2881 1009 2881 1497 \nQ 2881 1984 2565 2268 \nQ 2250 2553 1709 2553 \nQ 1456 2553 1204 2497 \nQ 953 2441 691 2322 \nL 691 4666 \nz\n\" id=\"DejaVuSans-35\" transform=\"scale(0.015625)\"/>\n       </defs>\n       <use xlink:href=\"#DejaVuSans-35\"/>\n       <use x=\"63.623047\" xlink:href=\"#DejaVuSans-30\"/>\n      </g>\n     </g>\n    </g>\n    <g id=\"xtick_7\">\n     <g id=\"line2d_7\">\n      <g>\n       <use style=\"stroke:#000000;stroke-width:0.8;\" x=\"367.789943\" xlink:href=\"#m2491f29bba\" y=\"106.036364\"/>\n      </g>\n     </g>\n     <g id=\"text_7\">\n      <!-- 60 -->\n      <g transform=\"translate(361.427443 120.634801)scale(0.1 -0.1)\">\n       <defs>\n        <path d=\"M 2113 2584 \nQ 1688 2584 1439 2293 \nQ 1191 2003 1191 1497 \nQ 1191 994 1439 701 \nQ 1688 409 2113 409 \nQ 2538 409 2786 701 \nQ 3034 994 3034 1497 \nQ 3034 2003 2786 2293 \nQ 2538 2584 2113 2584 \nz\nM 3366 4563 \nL 3366 3988 \nQ 3128 4100 2886 4159 \nQ 2644 4219 2406 4219 \nQ 1781 4219 1451 3797 \nQ 1122 3375 1075 2522 \nQ 1259 2794 1537 2939 \nQ 1816 3084 2150 3084 \nQ 2853 3084 3261 2657 \nQ 3669 2231 3669 1497 \nQ 3669 778 3244 343 \nQ 2819 -91 2113 -91 \nQ 1303 -91 875 529 \nQ 447 1150 447 2328 \nQ 447 3434 972 4092 \nQ 1497 4750 2381 4750 \nQ 2619 4750 2861 4703 \nQ 3103 4656 3366 4563 \nz\n\" id=\"DejaVuSans-36\" transform=\"scale(0.015625)\"/>\n       </defs>\n       <use xlink:href=\"#DejaVuSans-36\"/>\n       <use x=\"63.623047\" xlink:href=\"#DejaVuSans-30\"/>\n      </g>\n     </g>\n    </g>\n    <g id=\"text_8\">\n     <!-- Every 500 steps -->\n     <g transform=\"translate(175.255781 134.312926)scale(0.1 -0.1)\">\n      <defs>\n       <path d=\"M 628 4666 \nL 3578 4666 \nL 3578 4134 \nL 1259 4134 \nL 1259 2753 \nL 3481 2753 \nL 3481 2222 \nL 1259 2222 \nL 1259 531 \nL 3634 531 \nL 3634 0 \nL 628 0 \nL 628 4666 \nz\n\" id=\"DejaVuSans-45\" transform=\"scale(0.015625)\"/>\n       <path d=\"M 191 3500 \nL 800 3500 \nL 1894 563 \nL 2988 3500 \nL 3597 3500 \nL 2284 0 \nL 1503 0 \nL 191 3500 \nz\n\" id=\"DejaVuSans-76\" transform=\"scale(0.015625)\"/>\n       <path d=\"M 3597 1894 \nL 3597 1613 \nL 953 1613 \nQ 991 1019 1311 708 \nQ 1631 397 2203 397 \nQ 2534 397 2845 478 \nQ 3156 559 3463 722 \nL 3463 178 \nQ 3153 47 2828 -22 \nQ 2503 -91 2169 -91 \nQ 1331 -91 842 396 \nQ 353 884 353 1716 \nQ 353 2575 817 3079 \nQ 1281 3584 2069 3584 \nQ 2775 3584 3186 3129 \nQ 3597 2675 3597 1894 \nz\nM 3022 2063 \nQ 3016 2534 2758 2815 \nQ 2500 3097 2075 3097 \nQ 1594 3097 1305 2825 \nQ 1016 2553 972 2059 \nL 3022 2063 \nz\n\" id=\"DejaVuSans-65\" transform=\"scale(0.015625)\"/>\n       <path d=\"M 2631 2963 \nQ 2534 3019 2420 3045 \nQ 2306 3072 2169 3072 \nQ 1681 3072 1420 2755 \nQ 1159 2438 1159 1844 \nL 1159 0 \nL 581 0 \nL 581 3500 \nL 1159 3500 \nL 1159 2956 \nQ 1341 3275 1631 3429 \nQ 1922 3584 2338 3584 \nQ 2397 3584 2469 3576 \nQ 2541 3569 2628 3553 \nL 2631 2963 \nz\n\" id=\"DejaVuSans-72\" transform=\"scale(0.015625)\"/>\n       <path d=\"M 2059 -325 \nQ 1816 -950 1584 -1140 \nQ 1353 -1331 966 -1331 \nL 506 -1331 \nL 506 -850 \nL 844 -850 \nQ 1081 -850 1212 -737 \nQ 1344 -625 1503 -206 \nL 1606 56 \nL 191 3500 \nL 800 3500 \nL 1894 763 \nL 2988 3500 \nL 3597 3500 \nL 2059 -325 \nz\n\" id=\"DejaVuSans-79\" transform=\"scale(0.015625)\"/>\n       <path id=\"DejaVuSans-20\" transform=\"scale(0.015625)\"/>\n       <path d=\"M 2834 3397 \nL 2834 2853 \nQ 2591 2978 2328 3040 \nQ 2066 3103 1784 3103 \nQ 1356 3103 1142 2972 \nQ 928 2841 928 2578 \nQ 928 2378 1081 2264 \nQ 1234 2150 1697 2047 \nL 1894 2003 \nQ 2506 1872 2764 1633 \nQ 3022 1394 3022 966 \nQ 3022 478 2636 193 \nQ 2250 -91 1575 -91 \nQ 1294 -91 989 -36 \nQ 684 19 347 128 \nL 347 722 \nQ 666 556 975 473 \nQ 1284 391 1588 391 \nQ 1994 391 2212 530 \nQ 2431 669 2431 922 \nQ 2431 1156 2273 1281 \nQ 2116 1406 1581 1522 \nL 1381 1569 \nQ 847 1681 609 1914 \nQ 372 2147 372 2553 \nQ 372 3047 722 3315 \nQ 1072 3584 1716 3584 \nQ 2034 3584 2315 3537 \nQ 2597 3491 2834 3397 \nz\n\" id=\"DejaVuSans-73\" transform=\"scale(0.015625)\"/>\n       <path d=\"M 1172 4494 \nL 1172 3500 \nL 2356 3500 \nL 2356 3053 \nL 1172 3053 \nL 1172 1153 \nQ 1172 725 1289 603 \nQ 1406 481 1766 481 \nL 2356 481 \nL 2356 0 \nL 1766 0 \nQ 1100 0 847 248 \nQ 594 497 594 1153 \nL 594 3053 \nL 172 3053 \nL 172 3500 \nL 594 3500 \nL 594 4494 \nL 1172 4494 \nz\n\" id=\"DejaVuSans-74\" transform=\"scale(0.015625)\"/>\n       <path d=\"M 1159 525 \nL 1159 -1331 \nL 581 -1331 \nL 581 3500 \nL 1159 3500 \nL 1159 2969 \nQ 1341 3281 1617 3432 \nQ 1894 3584 2278 3584 \nQ 2916 3584 3314 3078 \nQ 3713 2572 3713 1747 \nQ 3713 922 3314 415 \nQ 2916 -91 2278 -91 \nQ 1894 -91 1617 61 \nQ 1341 213 1159 525 \nz\nM 3116 1747 \nQ 3116 2381 2855 2742 \nQ 2594 3103 2138 3103 \nQ 1681 3103 1420 2742 \nQ 1159 2381 1159 1747 \nQ 1159 1113 1420 752 \nQ 1681 391 2138 391 \nQ 2594 391 2855 752 \nQ 3116 1113 3116 1747 \nz\n\" id=\"DejaVuSans-70\" transform=\"scale(0.015625)\"/>\n      </defs>\n      <use xlink:href=\"#DejaVuSans-45\"/>\n      <use x=\"63.183594\" xlink:href=\"#DejaVuSans-76\"/>\n      <use x=\"122.363281\" xlink:href=\"#DejaVuSans-65\"/>\n      <use x=\"183.886719\" xlink:href=\"#DejaVuSans-72\"/>\n      <use x=\"225\" xlink:href=\"#DejaVuSans-79\"/>\n      <use x=\"284.179688\" xlink:href=\"#DejaVuSans-20\"/>\n      <use x=\"315.966797\" xlink:href=\"#DejaVuSans-35\"/>\n      <use x=\"379.589844\" xlink:href=\"#DejaVuSans-30\"/>\n      <use x=\"443.212891\" xlink:href=\"#DejaVuSans-30\"/>\n      <use x=\"506.835938\" xlink:href=\"#DejaVuSans-20\"/>\n      <use x=\"538.623047\" xlink:href=\"#DejaVuSans-73\"/>\n      <use x=\"590.722656\" xlink:href=\"#DejaVuSans-74\"/>\n      <use x=\"629.931641\" xlink:href=\"#DejaVuSans-65\"/>\n      <use x=\"691.455078\" xlink:href=\"#DejaVuSans-70\"/>\n      <use x=\"754.931641\" xlink:href=\"#DejaVuSans-73\"/>\n     </g>\n    </g>\n   </g>\n   <g id=\"matplotlib.axis_2\">\n    <g id=\"ytick_1\">\n     <g id=\"line2d_8\">\n      <defs>\n       <path d=\"M 0 0 \nL -3.5 0 \n\" id=\"m71d7258105\" style=\"stroke:#000000;stroke-width:0.8;\"/>\n      </defs>\n      <g>\n       <use style=\"stroke:#000000;stroke-width:0.8;\" x=\"48.208125\" xlink:href=\"#m71d7258105\" y=\"78.84881\"/>\n      </g>\n     </g>\n     <g id=\"text_9\">\n      <!-- 0.80 -->\n      <g transform=\"translate(18.9425 82.648029)scale(0.1 -0.1)\">\n       <defs>\n        <path d=\"M 684 794 \nL 1344 794 \nL 1344 0 \nL 684 0 \nL 684 794 \nz\n\" id=\"DejaVuSans-2e\" transform=\"scale(0.015625)\"/>\n        <path d=\"M 2034 2216 \nQ 1584 2216 1326 1975 \nQ 1069 1734 1069 1313 \nQ 1069 891 1326 650 \nQ 1584 409 2034 409 \nQ 2484 409 2743 651 \nQ 3003 894 3003 1313 \nQ 3003 1734 2745 1975 \nQ 2488 2216 2034 2216 \nz\nM 1403 2484 \nQ 997 2584 770 2862 \nQ 544 3141 544 3541 \nQ 544 4100 942 4425 \nQ 1341 4750 2034 4750 \nQ 2731 4750 3128 4425 \nQ 3525 4100 3525 3541 \nQ 3525 3141 3298 2862 \nQ 3072 2584 2669 2484 \nQ 3125 2378 3379 2068 \nQ 3634 1759 3634 1313 \nQ 3634 634 3220 271 \nQ 2806 -91 2034 -91 \nQ 1263 -91 848 271 \nQ 434 634 434 1313 \nQ 434 1759 690 2068 \nQ 947 2378 1403 2484 \nz\nM 1172 3481 \nQ 1172 3119 1398 2916 \nQ 1625 2713 2034 2713 \nQ 2441 2713 2670 2916 \nQ 2900 3119 2900 3481 \nQ 2900 3844 2670 4047 \nQ 2441 4250 2034 4250 \nQ 1625 4250 1398 4047 \nQ 1172 3844 1172 3481 \nz\n\" id=\"DejaVuSans-38\" transform=\"scale(0.015625)\"/>\n       </defs>\n       <use xlink:href=\"#DejaVuSans-30\"/>\n       <use x=\"63.623047\" xlink:href=\"#DejaVuSans-2e\"/>\n       <use x=\"95.410156\" xlink:href=\"#DejaVuSans-38\"/>\n       <use x=\"159.033203\" xlink:href=\"#DejaVuSans-30\"/>\n      </g>\n     </g>\n    </g>\n    <g id=\"ytick_2\">\n     <g id=\"line2d_9\">\n      <g>\n       <use style=\"stroke:#000000;stroke-width:0.8;\" x=\"48.208125\" xlink:href=\"#m71d7258105\" y=\"32.790699\"/>\n      </g>\n     </g>\n     <g id=\"text_10\">\n      <!-- 0.85 -->\n      <g transform=\"translate(18.9425 36.589918)scale(0.1 -0.1)\">\n       <use xlink:href=\"#DejaVuSans-30\"/>\n       <use x=\"63.623047\" xlink:href=\"#DejaVuSans-2e\"/>\n       <use x=\"95.410156\" xlink:href=\"#DejaVuSans-38\"/>\n       <use x=\"159.033203\" xlink:href=\"#DejaVuSans-35\"/>\n      </g>\n     </g>\n    </g>\n    <g id=\"text_11\">\n     <!-- Acuuracy -->\n     <g transform=\"translate(13.27875 75.216307)rotate(-90)scale(0.08 -0.08)\">\n      <defs>\n       <path d=\"M 2188 4044 \nL 1331 1722 \nL 3047 1722 \nL 2188 4044 \nz\nM 1831 4666 \nL 2547 4666 \nL 4325 0 \nL 3669 0 \nL 3244 1197 \nL 1141 1197 \nL 716 0 \nL 50 0 \nL 1831 4666 \nz\n\" id=\"DejaVuSans-41\" transform=\"scale(0.015625)\"/>\n       <path d=\"M 3122 3366 \nL 3122 2828 \nQ 2878 2963 2633 3030 \nQ 2388 3097 2138 3097 \nQ 1578 3097 1268 2742 \nQ 959 2388 959 1747 \nQ 959 1106 1268 751 \nQ 1578 397 2138 397 \nQ 2388 397 2633 464 \nQ 2878 531 3122 666 \nL 3122 134 \nQ 2881 22 2623 -34 \nQ 2366 -91 2075 -91 \nQ 1284 -91 818 406 \nQ 353 903 353 1747 \nQ 353 2603 823 3093 \nQ 1294 3584 2113 3584 \nQ 2378 3584 2631 3529 \nQ 2884 3475 3122 3366 \nz\n\" id=\"DejaVuSans-63\" transform=\"scale(0.015625)\"/>\n       <path d=\"M 544 1381 \nL 544 3500 \nL 1119 3500 \nL 1119 1403 \nQ 1119 906 1312 657 \nQ 1506 409 1894 409 \nQ 2359 409 2629 706 \nQ 2900 1003 2900 1516 \nL 2900 3500 \nL 3475 3500 \nL 3475 0 \nL 2900 0 \nL 2900 538 \nQ 2691 219 2414 64 \nQ 2138 -91 1772 -91 \nQ 1169 -91 856 284 \nQ 544 659 544 1381 \nz\nM 1991 3584 \nL 1991 3584 \nz\n\" id=\"DejaVuSans-75\" transform=\"scale(0.015625)\"/>\n       <path d=\"M 2194 1759 \nQ 1497 1759 1228 1600 \nQ 959 1441 959 1056 \nQ 959 750 1161 570 \nQ 1363 391 1709 391 \nQ 2188 391 2477 730 \nQ 2766 1069 2766 1631 \nL 2766 1759 \nL 2194 1759 \nz\nM 3341 1997 \nL 3341 0 \nL 2766 0 \nL 2766 531 \nQ 2569 213 2275 61 \nQ 1981 -91 1556 -91 \nQ 1019 -91 701 211 \nQ 384 513 384 1019 \nQ 384 1609 779 1909 \nQ 1175 2209 1959 2209 \nL 2766 2209 \nL 2766 2266 \nQ 2766 2663 2505 2880 \nQ 2244 3097 1772 3097 \nQ 1472 3097 1187 3025 \nQ 903 2953 641 2809 \nL 641 3341 \nQ 956 3463 1253 3523 \nQ 1550 3584 1831 3584 \nQ 2591 3584 2966 3190 \nQ 3341 2797 3341 1997 \nz\n\" id=\"DejaVuSans-61\" transform=\"scale(0.015625)\"/>\n      </defs>\n      <use xlink:href=\"#DejaVuSans-41\"/>\n      <use x=\"66.658203\" xlink:href=\"#DejaVuSans-63\"/>\n      <use x=\"121.638672\" xlink:href=\"#DejaVuSans-75\"/>\n      <use x=\"185.017578\" xlink:href=\"#DejaVuSans-75\"/>\n      <use x=\"248.396484\" xlink:href=\"#DejaVuSans-72\"/>\n      <use x=\"289.509766\" xlink:href=\"#DejaVuSans-61\"/>\n      <use x=\"350.789062\" xlink:href=\"#DejaVuSans-63\"/>\n      <use x=\"405.769531\" xlink:href=\"#DejaVuSans-79\"/>\n     </g>\n    </g>\n   </g>\n   <g id=\"line2d_10\">\n    <path clip-path=\"url(#p36a407fd97)\" d=\"M 63.426307 94.318162 \nL 68.499034 61.618944 \nL 73.571761 48.781424 \nL 78.644489 43.677184 \nL 83.717216 57.644277 \nL 88.789943 48.439417 \nL 93.86267 32.758887 \nL 98.935398 38.027074 \nL 104.008125 37.006435 \nL 109.080852 55.39002 \nL 114.15358 45.614966 \nL 119.226307 35.580648 \nL 124.299034 31.128851 \nL 129.371761 45.663667 \nL 134.444489 21.684493 \nL 139.517216 32.285217 \nL 144.589943 35.998259 \nL 149.66267 33.791935 \nL 154.735398 45.099677 \nL 159.808125 35.424881 \nL 164.880852 39.293196 \nL 169.95358 29.502988 \nL 175.026307 42.501986 \nL 180.099034 32.043797 \nL 185.171761 33.104023 \nL 190.244489 37.149519 \nL 195.317216 31.817861 \nL 200.389943 39.788938 \nL 205.46267 55.521464 \nL 210.535398 36.240887 \nL 215.608125 38.339047 \nL 220.680852 22.413199 \nL 225.75358 33.097764 \nL 230.826307 36.96586 \nL 235.899034 34.633033 \nL 240.971761 48.480102 \nL 246.044489 20.401076 \nL 251.117216 41.40371 \nL 256.189943 34.633033 \nL 261.26267 42.042976 \nL 266.335398 52.792164 \nL 271.408125 43.0517 \nL 276.480852 48.990943 \nL 281.55358 32.390855 \nL 286.626307 35.518879 \nL 291.699034 50.877992 \nL 296.771761 33.795119 \nL 301.844489 53.829604 \nL 306.917216 30.990324 \nL 311.989943 28.878437 \nL 317.06267 28.359854 \nL 322.135398 36.098736 \nL 327.208125 42.077621 \nL 332.280852 33.237828 \nL 337.35358 44.527781 \nL 342.426307 27.033391 \nL 347.499034 35.652519 \nL 352.571761 35.9254 \nL 357.644489 40.113759 \nL 362.717216 32.234155 \nL 367.789943 11.692562 \n\" style=\"fill:none;stroke:#1f77b4;stroke-linecap:square;stroke-width:1.5;\"/>\n    <defs>\n     <path d=\"M 0 3 \nC 0.795609 3 1.55874 2.683901 2.12132 2.12132 \nC 2.683901 1.55874 3 0.795609 3 0 \nC 3 -0.795609 2.683901 -1.55874 2.12132 -2.12132 \nC 1.55874 -2.683901 0.795609 -3 0 -3 \nC -0.795609 -3 -1.55874 -2.683901 -2.12132 -2.12132 \nC -2.683901 -1.55874 -3 -0.795609 -3 0 \nC -3 0.795609 -2.683901 1.55874 -2.12132 2.12132 \nC -1.55874 2.683901 -0.795609 3 0 3 \nz\n\" id=\"mb512ac6c6c\" style=\"stroke:#1f77b4;\"/>\n    </defs>\n    <g clip-path=\"url(#p36a407fd97)\">\n     <use style=\"fill:#1f77b4;stroke:#1f77b4;\" x=\"63.426307\" xlink:href=\"#mb512ac6c6c\" y=\"94.318162\"/>\n     <use style=\"fill:#1f77b4;stroke:#1f77b4;\" x=\"68.499034\" xlink:href=\"#mb512ac6c6c\" y=\"61.618944\"/>\n     <use style=\"fill:#1f77b4;stroke:#1f77b4;\" x=\"73.571761\" xlink:href=\"#mb512ac6c6c\" y=\"48.781424\"/>\n     <use style=\"fill:#1f77b4;stroke:#1f77b4;\" x=\"78.644489\" xlink:href=\"#mb512ac6c6c\" y=\"43.677184\"/>\n     <use style=\"fill:#1f77b4;stroke:#1f77b4;\" x=\"83.717216\" xlink:href=\"#mb512ac6c6c\" y=\"57.644277\"/>\n     <use style=\"fill:#1f77b4;stroke:#1f77b4;\" x=\"88.789943\" xlink:href=\"#mb512ac6c6c\" y=\"48.439417\"/>\n     <use style=\"fill:#1f77b4;stroke:#1f77b4;\" x=\"93.86267\" xlink:href=\"#mb512ac6c6c\" y=\"32.758887\"/>\n     <use style=\"fill:#1f77b4;stroke:#1f77b4;\" x=\"98.935398\" xlink:href=\"#mb512ac6c6c\" y=\"38.027074\"/>\n     <use style=\"fill:#1f77b4;stroke:#1f77b4;\" x=\"104.008125\" xlink:href=\"#mb512ac6c6c\" y=\"37.006435\"/>\n     <use style=\"fill:#1f77b4;stroke:#1f77b4;\" x=\"109.080852\" xlink:href=\"#mb512ac6c6c\" y=\"55.39002\"/>\n     <use style=\"fill:#1f77b4;stroke:#1f77b4;\" x=\"114.15358\" xlink:href=\"#mb512ac6c6c\" y=\"45.614966\"/>\n     <use style=\"fill:#1f77b4;stroke:#1f77b4;\" x=\"119.226307\" xlink:href=\"#mb512ac6c6c\" y=\"35.580648\"/>\n     <use style=\"fill:#1f77b4;stroke:#1f77b4;\" x=\"124.299034\" xlink:href=\"#mb512ac6c6c\" y=\"31.128851\"/>\n     <use style=\"fill:#1f77b4;stroke:#1f77b4;\" x=\"129.371761\" xlink:href=\"#mb512ac6c6c\" y=\"45.663667\"/>\n     <use style=\"fill:#1f77b4;stroke:#1f77b4;\" x=\"134.444489\" xlink:href=\"#mb512ac6c6c\" y=\"21.684493\"/>\n     <use style=\"fill:#1f77b4;stroke:#1f77b4;\" x=\"139.517216\" xlink:href=\"#mb512ac6c6c\" y=\"32.285217\"/>\n     <use style=\"fill:#1f77b4;stroke:#1f77b4;\" x=\"144.589943\" xlink:href=\"#mb512ac6c6c\" y=\"35.998259\"/>\n     <use style=\"fill:#1f77b4;stroke:#1f77b4;\" x=\"149.66267\" xlink:href=\"#mb512ac6c6c\" y=\"33.791935\"/>\n     <use style=\"fill:#1f77b4;stroke:#1f77b4;\" x=\"154.735398\" xlink:href=\"#mb512ac6c6c\" y=\"45.099677\"/>\n     <use style=\"fill:#1f77b4;stroke:#1f77b4;\" x=\"159.808125\" xlink:href=\"#mb512ac6c6c\" y=\"35.424881\"/>\n     <use style=\"fill:#1f77b4;stroke:#1f77b4;\" x=\"164.880852\" xlink:href=\"#mb512ac6c6c\" y=\"39.293196\"/>\n     <use style=\"fill:#1f77b4;stroke:#1f77b4;\" x=\"169.95358\" xlink:href=\"#mb512ac6c6c\" y=\"29.502988\"/>\n     <use style=\"fill:#1f77b4;stroke:#1f77b4;\" x=\"175.026307\" xlink:href=\"#mb512ac6c6c\" y=\"42.501986\"/>\n     <use style=\"fill:#1f77b4;stroke:#1f77b4;\" x=\"180.099034\" xlink:href=\"#mb512ac6c6c\" y=\"32.043797\"/>\n     <use style=\"fill:#1f77b4;stroke:#1f77b4;\" x=\"185.171761\" xlink:href=\"#mb512ac6c6c\" y=\"33.104023\"/>\n     <use style=\"fill:#1f77b4;stroke:#1f77b4;\" x=\"190.244489\" xlink:href=\"#mb512ac6c6c\" y=\"37.149519\"/>\n     <use style=\"fill:#1f77b4;stroke:#1f77b4;\" x=\"195.317216\" xlink:href=\"#mb512ac6c6c\" y=\"31.817861\"/>\n     <use style=\"fill:#1f77b4;stroke:#1f77b4;\" x=\"200.389943\" xlink:href=\"#mb512ac6c6c\" y=\"39.788938\"/>\n     <use style=\"fill:#1f77b4;stroke:#1f77b4;\" x=\"205.46267\" xlink:href=\"#mb512ac6c6c\" y=\"55.521464\"/>\n     <use style=\"fill:#1f77b4;stroke:#1f77b4;\" x=\"210.535398\" xlink:href=\"#mb512ac6c6c\" y=\"36.240887\"/>\n     <use style=\"fill:#1f77b4;stroke:#1f77b4;\" x=\"215.608125\" xlink:href=\"#mb512ac6c6c\" y=\"38.339047\"/>\n     <use style=\"fill:#1f77b4;stroke:#1f77b4;\" x=\"220.680852\" xlink:href=\"#mb512ac6c6c\" y=\"22.413199\"/>\n     <use style=\"fill:#1f77b4;stroke:#1f77b4;\" x=\"225.75358\" xlink:href=\"#mb512ac6c6c\" y=\"33.097764\"/>\n     <use style=\"fill:#1f77b4;stroke:#1f77b4;\" x=\"230.826307\" xlink:href=\"#mb512ac6c6c\" y=\"36.96586\"/>\n     <use style=\"fill:#1f77b4;stroke:#1f77b4;\" x=\"235.899034\" xlink:href=\"#mb512ac6c6c\" y=\"34.633033\"/>\n     <use style=\"fill:#1f77b4;stroke:#1f77b4;\" x=\"240.971761\" xlink:href=\"#mb512ac6c6c\" y=\"48.480102\"/>\n     <use style=\"fill:#1f77b4;stroke:#1f77b4;\" x=\"246.044489\" xlink:href=\"#mb512ac6c6c\" y=\"20.401076\"/>\n     <use style=\"fill:#1f77b4;stroke:#1f77b4;\" x=\"251.117216\" xlink:href=\"#mb512ac6c6c\" y=\"41.40371\"/>\n     <use style=\"fill:#1f77b4;stroke:#1f77b4;\" x=\"256.189943\" xlink:href=\"#mb512ac6c6c\" y=\"34.633033\"/>\n     <use style=\"fill:#1f77b4;stroke:#1f77b4;\" x=\"261.26267\" xlink:href=\"#mb512ac6c6c\" y=\"42.042976\"/>\n     <use style=\"fill:#1f77b4;stroke:#1f77b4;\" x=\"266.335398\" xlink:href=\"#mb512ac6c6c\" y=\"52.792164\"/>\n     <use style=\"fill:#1f77b4;stroke:#1f77b4;\" x=\"271.408125\" xlink:href=\"#mb512ac6c6c\" y=\"43.0517\"/>\n     <use style=\"fill:#1f77b4;stroke:#1f77b4;\" x=\"276.480852\" xlink:href=\"#mb512ac6c6c\" y=\"48.990943\"/>\n     <use style=\"fill:#1f77b4;stroke:#1f77b4;\" x=\"281.55358\" xlink:href=\"#mb512ac6c6c\" y=\"32.390855\"/>\n     <use style=\"fill:#1f77b4;stroke:#1f77b4;\" x=\"286.626307\" xlink:href=\"#mb512ac6c6c\" y=\"35.518879\"/>\n     <use style=\"fill:#1f77b4;stroke:#1f77b4;\" x=\"291.699034\" xlink:href=\"#mb512ac6c6c\" y=\"50.877992\"/>\n     <use style=\"fill:#1f77b4;stroke:#1f77b4;\" x=\"296.771761\" xlink:href=\"#mb512ac6c6c\" y=\"33.795119\"/>\n     <use style=\"fill:#1f77b4;stroke:#1f77b4;\" x=\"301.844489\" xlink:href=\"#mb512ac6c6c\" y=\"53.829604\"/>\n     <use style=\"fill:#1f77b4;stroke:#1f77b4;\" x=\"306.917216\" xlink:href=\"#mb512ac6c6c\" y=\"30.990324\"/>\n     <use style=\"fill:#1f77b4;stroke:#1f77b4;\" x=\"311.989943\" xlink:href=\"#mb512ac6c6c\" y=\"28.878437\"/>\n     <use style=\"fill:#1f77b4;stroke:#1f77b4;\" x=\"317.06267\" xlink:href=\"#mb512ac6c6c\" y=\"28.359854\"/>\n     <use style=\"fill:#1f77b4;stroke:#1f77b4;\" x=\"322.135398\" xlink:href=\"#mb512ac6c6c\" y=\"36.098736\"/>\n     <use style=\"fill:#1f77b4;stroke:#1f77b4;\" x=\"327.208125\" xlink:href=\"#mb512ac6c6c\" y=\"42.077621\"/>\n     <use style=\"fill:#1f77b4;stroke:#1f77b4;\" x=\"332.280852\" xlink:href=\"#mb512ac6c6c\" y=\"33.237828\"/>\n     <use style=\"fill:#1f77b4;stroke:#1f77b4;\" x=\"337.35358\" xlink:href=\"#mb512ac6c6c\" y=\"44.527781\"/>\n     <use style=\"fill:#1f77b4;stroke:#1f77b4;\" x=\"342.426307\" xlink:href=\"#mb512ac6c6c\" y=\"27.033391\"/>\n     <use style=\"fill:#1f77b4;stroke:#1f77b4;\" x=\"347.499034\" xlink:href=\"#mb512ac6c6c\" y=\"35.652519\"/>\n     <use style=\"fill:#1f77b4;stroke:#1f77b4;\" x=\"352.571761\" xlink:href=\"#mb512ac6c6c\" y=\"35.9254\"/>\n     <use style=\"fill:#1f77b4;stroke:#1f77b4;\" x=\"357.644489\" xlink:href=\"#mb512ac6c6c\" y=\"40.113759\"/>\n     <use style=\"fill:#1f77b4;stroke:#1f77b4;\" x=\"362.717216\" xlink:href=\"#mb512ac6c6c\" y=\"32.234155\"/>\n     <use style=\"fill:#1f77b4;stroke:#1f77b4;\" x=\"367.789943\" xlink:href=\"#mb512ac6c6c\" y=\"11.692562\"/>\n    </g>\n   </g>\n   <g id=\"line2d_11\">\n    <path clip-path=\"url(#p36a407fd97)\" d=\"M 63.426307 101.543802 \nL 68.499034 63.676124 \nL 73.571761 42.159427 \nL 78.644489 42.074044 \nL 83.717216 42.159427 \nL 88.789943 40.238294 \nL 93.86267 40.024834 \nL 98.935398 40.024834 \nL 104.008125 40.024834 \nL 109.080852 40.024834 \nL 114.15358 39.939451 \nL 119.226307 40.024834 \nL 124.299034 40.024834 \nL 129.371761 40.024834 \nL 134.444489 37.207172 \nL 139.517216 37.16448 \nL 144.589943 37.16448 \nL 149.66267 37.16448 \nL 154.735398 37.16448 \nL 159.808125 37.16448 \nL 164.880852 37.16448 \nL 169.95358 37.16448 \nL 175.026307 37.16448 \nL 180.099034 37.16448 \nL 185.171761 37.16448 \nL 190.244489 37.16448 \nL 195.317216 37.16448 \nL 200.389943 37.16448 \nL 205.46267 37.16448 \nL 210.535398 37.16448 \nL 215.608125 37.16448 \nL 220.680852 37.16448 \nL 225.75358 37.16448 \nL 230.826307 37.16448 \nL 235.899034 37.16448 \nL 240.971761 37.16448 \nL 246.044489 37.16448 \nL 251.117216 37.16448 \nL 256.189943 37.16448 \nL 261.26267 37.16448 \nL 266.335398 37.16448 \nL 271.408125 37.16448 \nL 276.480852 37.16448 \nL 281.55358 37.16448 \nL 286.626307 37.16448 \nL 291.699034 37.16448 \nL 296.771761 37.16448 \nL 301.844489 37.16448 \nL 306.917216 37.16448 \nL 311.989943 37.16448 \nL 317.06267 37.16448 \nL 322.135398 37.16448 \nL 327.208125 37.16448 \nL 332.280852 37.16448 \nL 337.35358 37.16448 \nL 342.426307 37.16448 \nL 347.499034 37.16448 \nL 352.571761 37.16448 \nL 357.644489 37.16448 \nL 362.717216 37.16448 \nL 367.789943 37.16448 \n\" style=\"fill:none;stroke:#ff7f0e;stroke-linecap:square;stroke-width:1.5;\"/>\n    <defs>\n     <path d=\"M 0 3 \nC 0.795609 3 1.55874 2.683901 2.12132 2.12132 \nC 2.683901 1.55874 3 0.795609 3 0 \nC 3 -0.795609 2.683901 -1.55874 2.12132 -2.12132 \nC 1.55874 -2.683901 0.795609 -3 0 -3 \nC -0.795609 -3 -1.55874 -2.683901 -2.12132 -2.12132 \nC -2.683901 -1.55874 -3 -0.795609 -3 0 \nC -3 0.795609 -2.683901 1.55874 -2.12132 2.12132 \nC -1.55874 2.683901 -0.795609 3 0 3 \nz\n\" id=\"m7f6232260b\" style=\"stroke:#ff7f0e;\"/>\n    </defs>\n    <g clip-path=\"url(#p36a407fd97)\">\n     <use style=\"fill:#ff7f0e;stroke:#ff7f0e;\" x=\"63.426307\" xlink:href=\"#m7f6232260b\" y=\"101.543802\"/>\n     <use style=\"fill:#ff7f0e;stroke:#ff7f0e;\" x=\"68.499034\" xlink:href=\"#m7f6232260b\" y=\"63.676124\"/>\n     <use style=\"fill:#ff7f0e;stroke:#ff7f0e;\" x=\"73.571761\" xlink:href=\"#m7f6232260b\" y=\"42.159427\"/>\n     <use style=\"fill:#ff7f0e;stroke:#ff7f0e;\" x=\"78.644489\" xlink:href=\"#m7f6232260b\" y=\"42.074044\"/>\n     <use style=\"fill:#ff7f0e;stroke:#ff7f0e;\" x=\"83.717216\" xlink:href=\"#m7f6232260b\" y=\"42.159427\"/>\n     <use style=\"fill:#ff7f0e;stroke:#ff7f0e;\" x=\"88.789943\" xlink:href=\"#m7f6232260b\" y=\"40.238294\"/>\n     <use style=\"fill:#ff7f0e;stroke:#ff7f0e;\" x=\"93.86267\" xlink:href=\"#m7f6232260b\" y=\"40.024834\"/>\n     <use style=\"fill:#ff7f0e;stroke:#ff7f0e;\" x=\"98.935398\" xlink:href=\"#m7f6232260b\" y=\"40.024834\"/>\n     <use style=\"fill:#ff7f0e;stroke:#ff7f0e;\" x=\"104.008125\" xlink:href=\"#m7f6232260b\" y=\"40.024834\"/>\n     <use style=\"fill:#ff7f0e;stroke:#ff7f0e;\" x=\"109.080852\" xlink:href=\"#m7f6232260b\" y=\"40.024834\"/>\n     <use style=\"fill:#ff7f0e;stroke:#ff7f0e;\" x=\"114.15358\" xlink:href=\"#m7f6232260b\" y=\"39.939451\"/>\n     <use style=\"fill:#ff7f0e;stroke:#ff7f0e;\" x=\"119.226307\" xlink:href=\"#m7f6232260b\" y=\"40.024834\"/>\n     <use style=\"fill:#ff7f0e;stroke:#ff7f0e;\" x=\"124.299034\" xlink:href=\"#m7f6232260b\" y=\"40.024834\"/>\n     <use style=\"fill:#ff7f0e;stroke:#ff7f0e;\" x=\"129.371761\" xlink:href=\"#m7f6232260b\" y=\"40.024834\"/>\n     <use style=\"fill:#ff7f0e;stroke:#ff7f0e;\" x=\"134.444489\" xlink:href=\"#m7f6232260b\" y=\"37.207172\"/>\n     <use style=\"fill:#ff7f0e;stroke:#ff7f0e;\" x=\"139.517216\" xlink:href=\"#m7f6232260b\" y=\"37.16448\"/>\n     <use style=\"fill:#ff7f0e;stroke:#ff7f0e;\" x=\"144.589943\" xlink:href=\"#m7f6232260b\" y=\"37.16448\"/>\n     <use style=\"fill:#ff7f0e;stroke:#ff7f0e;\" x=\"149.66267\" xlink:href=\"#m7f6232260b\" y=\"37.16448\"/>\n     <use style=\"fill:#ff7f0e;stroke:#ff7f0e;\" x=\"154.735398\" xlink:href=\"#m7f6232260b\" y=\"37.16448\"/>\n     <use style=\"fill:#ff7f0e;stroke:#ff7f0e;\" x=\"159.808125\" xlink:href=\"#m7f6232260b\" y=\"37.16448\"/>\n     <use style=\"fill:#ff7f0e;stroke:#ff7f0e;\" x=\"164.880852\" xlink:href=\"#m7f6232260b\" y=\"37.16448\"/>\n     <use style=\"fill:#ff7f0e;stroke:#ff7f0e;\" x=\"169.95358\" xlink:href=\"#m7f6232260b\" y=\"37.16448\"/>\n     <use style=\"fill:#ff7f0e;stroke:#ff7f0e;\" x=\"175.026307\" xlink:href=\"#m7f6232260b\" y=\"37.16448\"/>\n     <use style=\"fill:#ff7f0e;stroke:#ff7f0e;\" x=\"180.099034\" xlink:href=\"#m7f6232260b\" y=\"37.16448\"/>\n     <use style=\"fill:#ff7f0e;stroke:#ff7f0e;\" x=\"185.171761\" xlink:href=\"#m7f6232260b\" y=\"37.16448\"/>\n     <use style=\"fill:#ff7f0e;stroke:#ff7f0e;\" x=\"190.244489\" xlink:href=\"#m7f6232260b\" y=\"37.16448\"/>\n     <use style=\"fill:#ff7f0e;stroke:#ff7f0e;\" x=\"195.317216\" xlink:href=\"#m7f6232260b\" y=\"37.16448\"/>\n     <use style=\"fill:#ff7f0e;stroke:#ff7f0e;\" x=\"200.389943\" xlink:href=\"#m7f6232260b\" y=\"37.16448\"/>\n     <use style=\"fill:#ff7f0e;stroke:#ff7f0e;\" x=\"205.46267\" xlink:href=\"#m7f6232260b\" y=\"37.16448\"/>\n     <use style=\"fill:#ff7f0e;stroke:#ff7f0e;\" x=\"210.535398\" xlink:href=\"#m7f6232260b\" y=\"37.16448\"/>\n     <use style=\"fill:#ff7f0e;stroke:#ff7f0e;\" x=\"215.608125\" xlink:href=\"#m7f6232260b\" y=\"37.16448\"/>\n     <use style=\"fill:#ff7f0e;stroke:#ff7f0e;\" x=\"220.680852\" xlink:href=\"#m7f6232260b\" y=\"37.16448\"/>\n     <use style=\"fill:#ff7f0e;stroke:#ff7f0e;\" x=\"225.75358\" xlink:href=\"#m7f6232260b\" y=\"37.16448\"/>\n     <use style=\"fill:#ff7f0e;stroke:#ff7f0e;\" x=\"230.826307\" xlink:href=\"#m7f6232260b\" y=\"37.16448\"/>\n     <use style=\"fill:#ff7f0e;stroke:#ff7f0e;\" x=\"235.899034\" xlink:href=\"#m7f6232260b\" y=\"37.16448\"/>\n     <use style=\"fill:#ff7f0e;stroke:#ff7f0e;\" x=\"240.971761\" xlink:href=\"#m7f6232260b\" y=\"37.16448\"/>\n     <use style=\"fill:#ff7f0e;stroke:#ff7f0e;\" x=\"246.044489\" xlink:href=\"#m7f6232260b\" y=\"37.16448\"/>\n     <use style=\"fill:#ff7f0e;stroke:#ff7f0e;\" x=\"251.117216\" xlink:href=\"#m7f6232260b\" y=\"37.16448\"/>\n     <use style=\"fill:#ff7f0e;stroke:#ff7f0e;\" x=\"256.189943\" xlink:href=\"#m7f6232260b\" y=\"37.16448\"/>\n     <use style=\"fill:#ff7f0e;stroke:#ff7f0e;\" x=\"261.26267\" xlink:href=\"#m7f6232260b\" y=\"37.16448\"/>\n     <use style=\"fill:#ff7f0e;stroke:#ff7f0e;\" x=\"266.335398\" xlink:href=\"#m7f6232260b\" y=\"37.16448\"/>\n     <use style=\"fill:#ff7f0e;stroke:#ff7f0e;\" x=\"271.408125\" xlink:href=\"#m7f6232260b\" y=\"37.16448\"/>\n     <use style=\"fill:#ff7f0e;stroke:#ff7f0e;\" x=\"276.480852\" xlink:href=\"#m7f6232260b\" y=\"37.16448\"/>\n     <use style=\"fill:#ff7f0e;stroke:#ff7f0e;\" x=\"281.55358\" xlink:href=\"#m7f6232260b\" y=\"37.16448\"/>\n     <use style=\"fill:#ff7f0e;stroke:#ff7f0e;\" x=\"286.626307\" xlink:href=\"#m7f6232260b\" y=\"37.16448\"/>\n     <use style=\"fill:#ff7f0e;stroke:#ff7f0e;\" x=\"291.699034\" xlink:href=\"#m7f6232260b\" y=\"37.16448\"/>\n     <use style=\"fill:#ff7f0e;stroke:#ff7f0e;\" x=\"296.771761\" xlink:href=\"#m7f6232260b\" y=\"37.16448\"/>\n     <use style=\"fill:#ff7f0e;stroke:#ff7f0e;\" x=\"301.844489\" xlink:href=\"#m7f6232260b\" y=\"37.16448\"/>\n     <use style=\"fill:#ff7f0e;stroke:#ff7f0e;\" x=\"306.917216\" xlink:href=\"#m7f6232260b\" y=\"37.16448\"/>\n     <use style=\"fill:#ff7f0e;stroke:#ff7f0e;\" x=\"311.989943\" xlink:href=\"#m7f6232260b\" y=\"37.16448\"/>\n     <use style=\"fill:#ff7f0e;stroke:#ff7f0e;\" x=\"317.06267\" xlink:href=\"#m7f6232260b\" y=\"37.16448\"/>\n     <use style=\"fill:#ff7f0e;stroke:#ff7f0e;\" x=\"322.135398\" xlink:href=\"#m7f6232260b\" y=\"37.16448\"/>\n     <use style=\"fill:#ff7f0e;stroke:#ff7f0e;\" x=\"327.208125\" xlink:href=\"#m7f6232260b\" y=\"37.16448\"/>\n     <use style=\"fill:#ff7f0e;stroke:#ff7f0e;\" x=\"332.280852\" xlink:href=\"#m7f6232260b\" y=\"37.16448\"/>\n     <use style=\"fill:#ff7f0e;stroke:#ff7f0e;\" x=\"337.35358\" xlink:href=\"#m7f6232260b\" y=\"37.16448\"/>\n     <use style=\"fill:#ff7f0e;stroke:#ff7f0e;\" x=\"342.426307\" xlink:href=\"#m7f6232260b\" y=\"37.16448\"/>\n     <use style=\"fill:#ff7f0e;stroke:#ff7f0e;\" x=\"347.499034\" xlink:href=\"#m7f6232260b\" y=\"37.16448\"/>\n     <use style=\"fill:#ff7f0e;stroke:#ff7f0e;\" x=\"352.571761\" xlink:href=\"#m7f6232260b\" y=\"37.16448\"/>\n     <use style=\"fill:#ff7f0e;stroke:#ff7f0e;\" x=\"357.644489\" xlink:href=\"#m7f6232260b\" y=\"37.16448\"/>\n     <use style=\"fill:#ff7f0e;stroke:#ff7f0e;\" x=\"362.717216\" xlink:href=\"#m7f6232260b\" y=\"37.16448\"/>\n     <use style=\"fill:#ff7f0e;stroke:#ff7f0e;\" x=\"367.789943\" xlink:href=\"#m7f6232260b\" y=\"37.16448\"/>\n    </g>\n   </g>\n   <g id=\"patch_3\">\n    <path d=\"M 48.208125 106.036364 \nL 48.208125 7.2 \n\" style=\"fill:none;stroke:#000000;stroke-linecap:square;stroke-linejoin:miter;stroke-width:0.8;\"/>\n   </g>\n   <g id=\"patch_4\">\n    <path d=\"M 383.008125 106.036364 \nL 383.008125 7.2 \n\" style=\"fill:none;stroke:#000000;stroke-linecap:square;stroke-linejoin:miter;stroke-width:0.8;\"/>\n   </g>\n   <g id=\"patch_5\">\n    <path d=\"M 48.208125 106.036364 \nL 383.008125 106.036364 \n\" style=\"fill:none;stroke:#000000;stroke-linecap:square;stroke-linejoin:miter;stroke-width:0.8;\"/>\n   </g>\n   <g id=\"patch_6\">\n    <path d=\"M 48.208125 7.2 \nL 383.008125 7.2 \n\" style=\"fill:none;stroke:#000000;stroke-linecap:square;stroke-linejoin:miter;stroke-width:0.8;\"/>\n   </g>\n   <g id=\"legend_1\">\n    <g id=\"patch_7\">\n     <path d=\"M 55.208125 44.55625 \nL 184.88625 44.55625 \nQ 186.88625 44.55625 186.88625 42.55625 \nL 186.88625 14.2 \nQ 186.88625 12.2 184.88625 12.2 \nL 55.208125 12.2 \nQ 53.208125 12.2 53.208125 14.2 \nL 53.208125 42.55625 \nQ 53.208125 44.55625 55.208125 44.55625 \nz\n\" style=\"fill:#ffffff;opacity:0.8;stroke:#cccccc;stroke-linejoin:miter;\"/>\n    </g>\n    <g id=\"line2d_12\">\n     <path d=\"M 57.208125 20.298437 \nL 77.208125 20.298437 \n\" style=\"fill:none;stroke:#1f77b4;stroke-linecap:square;stroke-width:1.5;\"/>\n    </g>\n    <g id=\"line2d_13\">\n     <g>\n      <use style=\"fill:#1f77b4;stroke:#1f77b4;\" x=\"67.208125\" xlink:href=\"#mb512ac6c6c\" y=\"20.298437\"/>\n     </g>\n    </g>\n    <g id=\"text_12\">\n     <!-- Training accuracy -->\n     <g transform=\"translate(85.208125 23.798437)scale(0.1 -0.1)\">\n      <defs>\n       <path d=\"M -19 4666 \nL 3928 4666 \nL 3928 4134 \nL 2272 4134 \nL 2272 0 \nL 1638 0 \nL 1638 4134 \nL -19 4134 \nL -19 4666 \nz\n\" id=\"DejaVuSans-54\" transform=\"scale(0.015625)\"/>\n       <path d=\"M 603 3500 \nL 1178 3500 \nL 1178 0 \nL 603 0 \nL 603 3500 \nz\nM 603 4863 \nL 1178 4863 \nL 1178 4134 \nL 603 4134 \nL 603 4863 \nz\n\" id=\"DejaVuSans-69\" transform=\"scale(0.015625)\"/>\n       <path d=\"M 3513 2113 \nL 3513 0 \nL 2938 0 \nL 2938 2094 \nQ 2938 2591 2744 2837 \nQ 2550 3084 2163 3084 \nQ 1697 3084 1428 2787 \nQ 1159 2491 1159 1978 \nL 1159 0 \nL 581 0 \nL 581 3500 \nL 1159 3500 \nL 1159 2956 \nQ 1366 3272 1645 3428 \nQ 1925 3584 2291 3584 \nQ 2894 3584 3203 3211 \nQ 3513 2838 3513 2113 \nz\n\" id=\"DejaVuSans-6e\" transform=\"scale(0.015625)\"/>\n       <path d=\"M 2906 1791 \nQ 2906 2416 2648 2759 \nQ 2391 3103 1925 3103 \nQ 1463 3103 1205 2759 \nQ 947 2416 947 1791 \nQ 947 1169 1205 825 \nQ 1463 481 1925 481 \nQ 2391 481 2648 825 \nQ 2906 1169 2906 1791 \nz\nM 3481 434 \nQ 3481 -459 3084 -895 \nQ 2688 -1331 1869 -1331 \nQ 1566 -1331 1297 -1286 \nQ 1028 -1241 775 -1147 \nL 775 -588 \nQ 1028 -725 1275 -790 \nQ 1522 -856 1778 -856 \nQ 2344 -856 2625 -561 \nQ 2906 -266 2906 331 \nL 2906 616 \nQ 2728 306 2450 153 \nQ 2172 0 1784 0 \nQ 1141 0 747 490 \nQ 353 981 353 1791 \nQ 353 2603 747 3093 \nQ 1141 3584 1784 3584 \nQ 2172 3584 2450 3431 \nQ 2728 3278 2906 2969 \nL 2906 3500 \nL 3481 3500 \nL 3481 434 \nz\n\" id=\"DejaVuSans-67\" transform=\"scale(0.015625)\"/>\n      </defs>\n      <use xlink:href=\"#DejaVuSans-54\"/>\n      <use x=\"46.333984\" xlink:href=\"#DejaVuSans-72\"/>\n      <use x=\"87.447266\" xlink:href=\"#DejaVuSans-61\"/>\n      <use x=\"148.726562\" xlink:href=\"#DejaVuSans-69\"/>\n      <use x=\"176.509766\" xlink:href=\"#DejaVuSans-6e\"/>\n      <use x=\"239.888672\" xlink:href=\"#DejaVuSans-69\"/>\n      <use x=\"267.671875\" xlink:href=\"#DejaVuSans-6e\"/>\n      <use x=\"331.050781\" xlink:href=\"#DejaVuSans-67\"/>\n      <use x=\"394.527344\" xlink:href=\"#DejaVuSans-20\"/>\n      <use x=\"426.314453\" xlink:href=\"#DejaVuSans-61\"/>\n      <use x=\"487.59375\" xlink:href=\"#DejaVuSans-63\"/>\n      <use x=\"542.574219\" xlink:href=\"#DejaVuSans-63\"/>\n      <use x=\"597.554688\" xlink:href=\"#DejaVuSans-75\"/>\n      <use x=\"660.933594\" xlink:href=\"#DejaVuSans-72\"/>\n      <use x=\"702.046875\" xlink:href=\"#DejaVuSans-61\"/>\n      <use x=\"763.326172\" xlink:href=\"#DejaVuSans-63\"/>\n      <use x=\"818.306641\" xlink:href=\"#DejaVuSans-79\"/>\n     </g>\n    </g>\n    <g id=\"line2d_14\">\n     <path d=\"M 57.208125 34.976562 \nL 77.208125 34.976562 \n\" style=\"fill:none;stroke:#ff7f0e;stroke-linecap:square;stroke-width:1.5;\"/>\n    </g>\n    <g id=\"line2d_15\">\n     <g>\n      <use style=\"fill:#ff7f0e;stroke:#ff7f0e;\" x=\"67.208125\" xlink:href=\"#m7f6232260b\" y=\"34.976562\"/>\n     </g>\n    </g>\n    <g id=\"text_13\">\n     <!-- Validation accuracy -->\n     <g transform=\"translate(85.208125 38.476562)scale(0.1 -0.1)\">\n      <defs>\n       <path d=\"M 1831 0 \nL 50 4666 \nL 709 4666 \nL 2188 738 \nL 3669 4666 \nL 4325 4666 \nL 2547 0 \nL 1831 0 \nz\n\" id=\"DejaVuSans-56\" transform=\"scale(0.015625)\"/>\n       <path d=\"M 603 4863 \nL 1178 4863 \nL 1178 0 \nL 603 0 \nL 603 4863 \nz\n\" id=\"DejaVuSans-6c\" transform=\"scale(0.015625)\"/>\n       <path d=\"M 2906 2969 \nL 2906 4863 \nL 3481 4863 \nL 3481 0 \nL 2906 0 \nL 2906 525 \nQ 2725 213 2448 61 \nQ 2172 -91 1784 -91 \nQ 1150 -91 751 415 \nQ 353 922 353 1747 \nQ 353 2572 751 3078 \nQ 1150 3584 1784 3584 \nQ 2172 3584 2448 3432 \nQ 2725 3281 2906 2969 \nz\nM 947 1747 \nQ 947 1113 1208 752 \nQ 1469 391 1925 391 \nQ 2381 391 2643 752 \nQ 2906 1113 2906 1747 \nQ 2906 2381 2643 2742 \nQ 2381 3103 1925 3103 \nQ 1469 3103 1208 2742 \nQ 947 2381 947 1747 \nz\n\" id=\"DejaVuSans-64\" transform=\"scale(0.015625)\"/>\n       <path d=\"M 1959 3097 \nQ 1497 3097 1228 2736 \nQ 959 2375 959 1747 \nQ 959 1119 1226 758 \nQ 1494 397 1959 397 \nQ 2419 397 2687 759 \nQ 2956 1122 2956 1747 \nQ 2956 2369 2687 2733 \nQ 2419 3097 1959 3097 \nz\nM 1959 3584 \nQ 2709 3584 3137 3096 \nQ 3566 2609 3566 1747 \nQ 3566 888 3137 398 \nQ 2709 -91 1959 -91 \nQ 1206 -91 779 398 \nQ 353 888 353 1747 \nQ 353 2609 779 3096 \nQ 1206 3584 1959 3584 \nz\n\" id=\"DejaVuSans-6f\" transform=\"scale(0.015625)\"/>\n      </defs>\n      <use xlink:href=\"#DejaVuSans-56\"/>\n      <use x=\"60.658203\" xlink:href=\"#DejaVuSans-61\"/>\n      <use x=\"121.9375\" xlink:href=\"#DejaVuSans-6c\"/>\n      <use x=\"149.720703\" xlink:href=\"#DejaVuSans-69\"/>\n      <use x=\"177.503906\" xlink:href=\"#DejaVuSans-64\"/>\n      <use x=\"240.980469\" xlink:href=\"#DejaVuSans-61\"/>\n      <use x=\"302.259766\" xlink:href=\"#DejaVuSans-74\"/>\n      <use x=\"341.46875\" xlink:href=\"#DejaVuSans-69\"/>\n      <use x=\"369.251953\" xlink:href=\"#DejaVuSans-6f\"/>\n      <use x=\"430.433594\" xlink:href=\"#DejaVuSans-6e\"/>\n      <use x=\"493.8125\" xlink:href=\"#DejaVuSans-20\"/>\n      <use x=\"525.599609\" xlink:href=\"#DejaVuSans-61\"/>\n      <use x=\"586.878906\" xlink:href=\"#DejaVuSans-63\"/>\n      <use x=\"641.859375\" xlink:href=\"#DejaVuSans-63\"/>\n      <use x=\"696.839844\" xlink:href=\"#DejaVuSans-75\"/>\n      <use x=\"760.21875\" xlink:href=\"#DejaVuSans-72\"/>\n      <use x=\"801.332031\" xlink:href=\"#DejaVuSans-61\"/>\n      <use x=\"862.611328\" xlink:href=\"#DejaVuSans-63\"/>\n      <use x=\"917.591797\" xlink:href=\"#DejaVuSans-79\"/>\n     </g>\n    </g>\n   </g>\n  </g>\n </g>\n <defs>\n  <clipPath id=\"p36a407fd97\">\n   <rect height=\"98.836364\" width=\"334.8\" x=\"48.208125\" y=\"7.2\"/>\n  </clipPath>\n </defs>\n</svg>\n"
     },
     "metadata": {}
    },
    {
     "output_type": "stream",
     "name": "stdout",
     "text": [
      "HEDULE                                                   0   \n",
      "W_Nabellen offertes_START                                                      0   \n",
      "W_Valideren aanvraag_COMPLETE                                                  0   \n",
      "W_Valideren aanvraag_SCHEDULE                                                  0   \n",
      "W_Valideren aanvraag_START                                                   159   \n",
      "W_Wijzigen contractgegevens_SCHEDULE                                           0   \n",
      "<PAD>                                                                          0   \n",
      "\n",
      "                                         W_Nabellen incomplete dossiers_START  \\\n",
      "<EOS>                                                                       0   \n",
      "<SOS>                                                                       0   \n",
      "O_ACCEPTED_COMPLETE                                                         0   \n",
      "O_CANCELLED_COMPLETE                                                        0   \n",
      "O_CREATED_COMPLETE                                                          0   \n",
      "O_DECLINED_COMPLETE                                                         0   \n",
      "O_SELECTED_COMPLETE                                                         0   \n",
      "O_SENT_BACK_COMPLETE                                                        0   \n",
      "O_SENT_COMPLETE                                                             0   \n",
      "W_Afhandelen leads_COMPLETE                                                 0   \n",
      "W_Afhandelen leads_SCHEDULE                                                 0   \n",
      "W_Afhandelen leads_START                                                    0   \n",
      "W_Beoordelen fraude_COMPLETE                                                0   \n",
      "W_Beoordelen fraude_SCHEDULE                                                0   \n",
      "W_Beoordelen fraude_START                                                   0   \n",
      "W_Completeren aanvraag_COMPLETE                                             0   \n",
      "W_Completeren aanvraag_SCHEDULE                                             0   \n",
      "W_Completeren aanvraag_START                                                0   \n",
      "W_Nabellen incomplete dossiers_COMPLETE                                     0   \n",
      "W_Nabellen incomplete dossiers_SCHEDULE                                     0   \n",
      "W_Nabellen incomplete dossiers_START                                        0   \n",
      "W_Nabellen offertes_COMPLETE                                                0   \n",
      "W_Nabellen offertes_SCHEDULE                                                0   \n",
      "W_Nabellen offertes_START                                                   0   \n",
      "W_Valideren aanvraag_COMPLETE                                               0   \n",
      "W_Valideren aanvraag_SCHEDULE                                               0   \n",
      "W_Valideren aanvraag_START                                                  0   \n",
      "W_Wijzigen contractgegevens_SCHEDULE                                        0   \n",
      "<PAD>                                                                       0   \n",
      "\n",
      "                                         W_Nabellen offertes_COMPLETE  \\\n",
      "<EOS>                                                               0   \n",
      "<SOS>                                                               5   \n",
      "O_ACCEPTED_COMPLETE                                                 0   \n",
      "O_CANCELLED_COMPLETE                                                0   \n",
      "O_CREATED_COMPLETE                                                  0   \n",
      "O_DECLINED_COMPLETE                                                 0   \n",
      "O_SELECTED_COMPLETE                                                 0   \n",
      "O_SENT_BACK_COMPLETE                                                0   \n",
      "O_SENT_COMPLETE                                                     0   \n",
      "W_Afhandelen leads_COMPLETE                                         0   \n",
      "W_Afhandelen leads_SCHEDULE                                         0   \n",
      "W_Afhandelen leads_START                                            0   \n",
      "W_Beoordelen fraude_COMPLETE                                        0   \n",
      "W_Beoordelen fraude_SCHEDULE                                        0   \n",
      "W_Beoordelen fraude_START                                           0   \n",
      "W_Completeren aanvraag_COMPLETE                                     0   \n",
      "W_Completeren aanvraag_SCHEDULE                                     0   \n",
      "W_Completeren aanvraag_START                                        0   \n",
      "W_Nabellen incomplete dossiers_COMPLETE                             0   \n",
      "W_Nabellen incomplete dossiers_SCHEDULE                             1   \n",
      "W_Nabellen incomplete dossiers_START                                0   \n",
      "W_Nabellen offertes_COMPLETE                                     1223   \n",
      "W_Nabellen offertes_SCHEDULE                                        0   \n",
      "W_Nabellen offertes_START                                           0   \n",
      "W_Valideren aanvraag_COMPLETE                                       0   \n",
      "W_Valideren aanvraag_SCHEDULE                                       0   \n",
      "W_Valideren aanvraag_START                                          0   \n",
      "W_Wijzigen contractgegevens_SCHEDULE                                0   \n",
      "<PAD>                                                               0   \n",
      "\n",
      "                                         W_Nabellen offertes_SCHEDULE  \\\n",
      "<EOS>                                                               0   \n",
      "<SOS>                                                               0   \n",
      "O_ACCEPTED_COMPLETE                                                 0   \n",
      "O_CANCELLED_COMPLETE                                                0   \n",
      "O_CREATED_COMPLETE                                                177   \n",
      "O_DECLINED_COMPLETE                                                 0   \n",
      "O_SELECTED_COMPLETE                                                 6   \n",
      "O_SENT_BACK_COMPLETE                                              150   \n",
      "O_SENT_COMPLETE                                                   323   \n",
      "W_Afhandelen leads_COMPLETE                                         0   \n",
      "W_Afhandelen leads_SCHEDULE                                         0   \n",
      "W_Afhandelen leads_START                                            0   \n",
      "W_Beoordelen fraude_COMPLETE                                        0   \n",
      "W_Beoordelen fraude_SCHEDULE                                        0   \n",
      "W_Beoordelen fraude_START                                           0   \n",
      "W_Completeren aanvraag_COMPLETE                                     0   \n",
      "W_Completeren aanvraag_SCHEDULE                                     0   \n",
      "W_Completeren aanvraag_START                                        0   \n",
      "W_Nabellen incomplete dossiers_COMPLETE                             0   \n",
      "W_Nabellen incomplete dossiers_SCHEDULE                             0   \n",
      "W_Nabellen incomplete dossiers_START                                0   \n",
      "W_Nabellen offertes_COMPLETE                                        0   \n",
      "W_Nabellen offertes_SCHEDULE                                     2258   \n",
      "W_Nabellen offertes_START                                           0   \n",
      "W_Valideren aanvraag_COMPLETE                                       0   \n",
      "W_Valideren aanvraag_SCHEDULE                                       0   \n",
      "W_Valideren aanvraag_START                                          0   \n",
      "W_Wijzigen contractgegevens_SCHEDULE                                0   \n",
      "<PAD>                                                               0   \n",
      "\n",
      "                                         W_Nabellen offertes_START  \\\n",
      "<EOS>                                                            0   \n",
      "<SOS>                                                            0   \n",
      "O_ACCEPTED_COMPLETE                                              0   \n",
      "O_CANCELLED_COMPLETE                                             0   \n",
      "O_CREATED_COMPLETE                                               0   \n",
      "O_DECLINED_COMPLETE                                              0   \n",
      "O_SELECTED_COMPLETE                                              0   \n",
      "O_SENT_BACK_COMPLETE                                             0   \n",
      "O_SENT_COMPLETE                                                  0   \n",
      "W_Afhandelen leads_COMPLETE                                      0   \n",
      "W_Afhandelen leads_SCHEDULE                                      0   \n",
      "W_Afhandelen leads_START                                         0   \n",
      "W_Beoordelen fraude_COMPLETE                                     0   \n",
      "W_Beoordelen fraude_SCHEDULE                                     0   \n",
      "W_Beoordelen fraude_START                                        0   \n",
      "W_Completeren aanvraag_COMPLETE                                  0   \n",
      "W_Completeren aanvraag_SCHEDULE                                  0   \n",
      "W_Completeren aanvraag_START                                     0   \n",
      "W_Nabellen incomplete dossiers_COMPLETE                          0   \n",
      "W_Nabellen incomplete dossiers_SCHEDULE                          0   \n",
      "W_Nabellen incomplete dossiers_START                            35   \n",
      "W_Nabellen offertes_COMPLETE                                     0   \n",
      "W_Nabellen offertes_SCHEDULE                                     0   \n",
      "W_Nabellen offertes_START                                      651   \n",
      "W_Valideren aanvraag_COMPLETE                                    0   \n",
      "W_Valideren aanvraag_SCHEDULE                                    0   \n",
      "W_Valideren aanvraag_START                                       0   \n",
      "W_Wijzigen contractgegevens_SCHEDULE                             0   \n",
      "<PAD>                                                            0   \n",
      "\n",
      "                                         W_Valideren aanvraag_COMPLETE  \\\n",
      "<EOS>                                                                0   \n",
      "<SOS>                                                               24   \n",
      "O_ACCEPTED_COMPLETE                                                  0   \n",
      "O_CANCELLED_COMPLETE                                                 0   \n",
      "O_CREATED_COMPLETE                                                   6   \n",
      "O_DECLINED_COMPLETE                                                  0   \n",
      "O_SELECTED_COMPLETE                                                  0   \n",
      "O_SENT_BACK_COMPLETE                                                 0   \n",
      "O_SENT_COMPLETE                                                      0   \n",
      "W_Afhandelen leads_COMPLETE                                          0   \n",
      "W_Afhandelen leads_SCHEDULE                                          0   \n",
      "W_Afhandelen leads_START                                             0   \n",
      "W_Beoordelen fraude_COMPLETE                                         0   \n",
      "W_Beoordelen fraude_SCHEDULE                                         0   \n",
      "W_Beoordelen fraude_START                                            0   \n",
      "W_Completeren aanvraag_COMPLETE                                      0   \n",
      "W_Completeren aanvraag_SCHEDULE                                      0   \n",
      "W_Completeren aanvraag_START                                         0   \n",
      "W_Nabellen incomplete dossiers_COMPLETE                              0   \n",
      "W_Nabellen incomplete dossiers_SCHEDULE                              0   \n",
      "W_Nabellen incomplete dossiers_START                                 0   \n",
      "W_Nabellen offertes_COMPLETE                                         0   \n",
      "W_Nabellen offertes_SCHEDULE                                        48   \n",
      "W_Nabellen offertes_START                                            0   \n",
      "W_Valideren aanvraag_COMPLETE                                     2252   \n",
      "W_Valideren aanvraag_SCHEDULE                                        0   \n",
      "W_Valideren aanvraag_START                                           0   \n",
      "W_Wijzigen contractgegevens_SCHEDULE                                 0   \n",
      "<PAD>                                                                0   \n",
      "\n",
      "                                         W_Valideren aanvraag_SCHEDULE  \\\n",
      "<EOS>                                                                0   \n",
      "<SOS>                                                                0   \n",
      "O_ACCEPTED_COMPLETE                                                  0   \n",
      "O_CANCELLED_COMPLETE                                               119   \n",
      "O_CREATED_COMPLETE                                                   8   \n",
      "O_DECLINED_COMPLETE                                                  0   \n",
      "O_SELECTED_COMPLETE                                                 57   \n",
      "O_SENT_BACK_COMPLETE                                                16   \n",
      "O_SENT_COMPLETE                                                      0   \n",
      "W_Afhandelen leads_COMPLETE                                          0   \n",
      "W_Afhandelen leads_SCHEDULE                                          0   \n",
      "W_Afhandelen leads_START                                             0   \n",
      "W_Beoordelen fraude_COMPLETE                                         0   \n",
      "W_Beoordelen fraude_SCHEDULE                                         0   \n",
      "W_Beoordelen fraude_START                                            3   \n",
      "W_Completeren aanvraag_COMPLETE                                      0   \n",
      "W_Completeren aanvraag_SCHEDULE                                      0   \n",
      "W_Completeren aanvraag_START                                         0   \n",
      "W_Nabellen incomplete dossiers_COMPLETE                              0   \n",
      "W_Nabellen incomplete dossiers_SCHEDULE                              0   \n",
      "W_Nabellen incomplete dossiers_START                               177   \n",
      "W_Nabellen offertes_COMPLETE                                         0   \n",
      "W_Nabellen offertes_SCHEDULE                                         0   \n",
      "W_Nabellen offertes_START                                            0   \n",
      "W_Valideren aanvraag_COMPLETE                                        0   \n",
      "W_Valideren aanvraag_SCHEDULE                                      691   \n",
      "W_Valideren aanvraag_START                                           0   \n",
      "W_Wijzigen contractgegevens_SCHEDULE                                 0   \n",
      "<PAD>                                                                0   \n",
      "\n",
      "                                         W_Valideren aanvraag_START  \\\n",
      "<EOS>                                                             0   \n",
      "<SOS>                                                             0   \n",
      "O_ACCEPTED_COMPLETE                                               0   \n",
      "O_CANCELLED_COMPLETE                                              0   \n",
      "O_CREATED_COMPLETE                                                0   \n",
      "O_DECLINED_COMPLETE                                               0   \n",
      "O_SELECTED_COMPLETE                                               0   \n",
      "O_SENT_BACK_COMPLETE                                              0   \n",
      "O_SENT_COMPLETE                                                   0   \n",
      "W_Afhandelen leads_COMPLETE                                       0   \n",
      "W_Afhandelen leads_SCHEDULE                                       0   \n",
      "W_Afhandelen leads_START                                          0   \n",
      "W_Beoordelen fraude_COMPLETE                                      0   \n",
      "W_Beoordelen fraude_SCHEDULE                                      0   \n",
      "W_Beoordelen fraude_START                                         0   \n",
      "W_Completeren aanvraag_COMPLETE                                   0   \n",
      "W_Completeren aanvraag_SCHEDULE                                   0   \n",
      "W_Completeren aanvraag_START                                      0   \n",
      "W_Nabellen incomplete dossiers_COMPLETE                           0   \n",
      "W_Nabellen incomplete dossiers_SCHEDULE                           0   \n",
      "W_Nabellen incomplete dossiers_START                              0   \n",
      "W_Nabellen offertes_COMPLETE                                      0   \n",
      "W_Nabellen offertes_SCHEDULE                                      0   \n",
      "W_Nabellen offertes_START                                         0   \n",
      "W_Valideren aanvraag_COMPLETE                                     0   \n",
      "W_Valideren aanvraag_SCHEDULE                                     0   \n",
      "W_Valideren aanvraag_START                                      340   \n",
      "W_Wijzigen contractgegevens_SCHEDULE                              0   \n",
      "<PAD>                                                             0   \n",
      "\n",
      "                                         W_Wijzigen contractgegevens_SCHEDULE  \\\n",
      "<EOS>                                                                       0   \n",
      "<SOS>                                                                       3   \n",
      "O_ACCEPTED_COMPLETE                                                         0   \n",
      "O_CANCELLED_COMPLETE                                                        0   \n",
      "O_CREATED_COMPLETE                                                          0   \n",
      "O_DECLINED_COMPLETE                                                         0   \n",
      "O_SELECTED_COMPLETE                                                         0   \n",
      "O_SENT_BACK_COMPLETE                                                        0   \n",
      "O_SENT_COMPLETE                                                             0   \n",
      "W_Afhandelen leads_COMPLETE                                                 0   \n",
      "W_Afhandelen leads_SCHEDULE                                                 0   \n",
      "W_Afhandelen leads_START                                                    0   \n",
      "W_Beoordelen fraude_COMPLETE                                                0   \n",
      "W_Beoordelen fraude_SCHEDULE                                                0   \n",
      "W_Beoordelen fraude_START                                                   0   \n",
      "W_Completeren aanvraag_COMPLETE                                             0   \n",
      "W_Completeren aanvraag_SCHEDULE                                             0   \n",
      "W_Completeren aanvraag_START                                                0   \n",
      "W_Nabellen incomplete dossiers_COMPLETE                                     0   \n",
      "W_Nabellen incomplete dossiers_SCHEDULE                                     0   \n",
      "W_Nabellen incomplete dossiers_START                                        0   \n",
      "W_Nabellen offertes_COMPLETE                                                0   \n",
      "W_Nabellen offertes_SCHEDULE                                                0   \n",
      "W_Nabellen offertes_START                                                   0   \n",
      "W_Valideren aanvraag_COMPLETE                                               0   \n",
      "W_Valideren aanvraag_SCHEDULE                                               0   \n",
      "W_Valideren aanvraag_START                                                  0   \n",
      "W_Wijzigen contractgegevens_SCHEDULE                                      738   \n",
      "<PAD>                                                                       0   \n",
      "\n",
      "                                         <PAD>  \n",
      "<EOS>                                        0  \n",
      "<SOS>                                        0  \n",
      "O_ACCEPTED_COMPLETE                          0  \n",
      "O_CANCELLED_COMPLETE                         0  \n",
      "O_CREATED_COMPLETE                           0  \n",
      "O_DECLINED_COMPLETE                          0  \n",
      "O_SELECTED_COMPLETE                          0  \n",
      "O_SENT_BACK_COMPLETE                         0  \n",
      "O_SENT_COMPLETE                              0  \n",
      "W_Afhandelen leads_COMPLETE                  0  \n",
      "W_Afhandelen leads_SCHEDULE                  0  \n",
      "W_Afhandelen leads_START                     0  \n",
      "W_Beoordelen fraude_COMPLETE                 0  \n",
      "W_Beoordelen fraude_SCHEDULE                 0  \n",
      "W_Beoordelen fraude_START                    0  \n",
      "W_Completeren aanvraag_COMPLETE              0  \n",
      "W_Completeren aanvraag_SCHEDULE              0  \n",
      "W_Completeren aanvraag_START                 0  \n",
      "W_Nabellen incomplete dossiers_COMPLETE      0  \n",
      "W_Nabellen incomplete dossiers_SCHEDULE      0  \n",
      "W_Nabellen incomplete dossiers_START         0  \n",
      "W_Nabellen offertes_COMPLETE                 0  \n",
      "W_Nabellen offertes_SCHEDULE                 0  \n",
      "W_Nabellen offertes_START                    0  \n",
      "W_Valideren aanvraag_COMPLETE                0  \n",
      "W_Valideren aanvraag_SCHEDULE                0  \n",
      "W_Valideren aanvraag_START                   0  \n",
      "W_Wijzigen contractgegevens_SCHEDULE         0  \n",
      "<PAD>                                        0  \n",
      "\n",
      "[29 rows x 29 columns]\n",
      "====================\n"
     ]
    }
   ],
   "source": [
    "trainer.train()"
   ]
  },
  {
   "cell_type": "code",
   "execution_count": 6,
   "metadata": {},
   "outputs": [
    {
     "output_type": "stream",
     "name": "stdout",
     "text": [
      "\n=================================================\n| Model saved successfully to: ./SavedModels/0.8493_BPI2012_BaseLineLSTMModel_2021-05-20 17:16:26.933094  \n=================================================\n"
     ]
    },
    {
     "output_type": "display_data",
     "data": {
      "text/plain": "<Figure size 432x288 with 0 Axes>"
     },
     "metadata": {}
    }
   ],
   "source": [
    "trainer.save_training_result(\"training_v2.ipynb\")"
   ]
  },
  {
   "cell_type": "code",
   "execution_count": 7,
   "metadata": {},
   "outputs": [],
   "source": [
    "# 0.8591_BPI2012_BaseLineLSTMModel_2021-05-13 04:01:28.647044\n",
    "# 0.7632_Diabetes_BaseNNModel_2021-05-13 04:25:57.514112"
   ]
  },
  {
   "cell_type": "code",
   "execution_count": 8,
   "metadata": {},
   "outputs": [],
   "source": [
    "# Get some example from the test set, to see why the accuracy is still low on the A only dataset."
   ]
  },
  {
   "cell_type": "code",
   "execution_count": 9,
   "metadata": {},
   "outputs": [],
   "source": [
    "testing_full_trace = trainer.test_dataset[16][\"trace\"]"
   ]
  },
  {
   "cell_type": "code",
   "execution_count": 10,
   "metadata": {},
   "outputs": [],
   "source": [
    "testing_trace = testing_full_trace[:3]"
   ]
  },
  {
   "cell_type": "code",
   "execution_count": 11,
   "metadata": {},
   "outputs": [],
   "source": [
    "testing_vocab_trace = trainer.model.vocab.list_of_index_to_vocab(testing_trace)"
   ]
  },
  {
   "cell_type": "code",
   "execution_count": 12,
   "metadata": {},
   "outputs": [
    {
     "output_type": "execute_result",
     "data": {
      "text/plain": [
       "['<SOS>',\n",
       " 'W_Afhandelen leads_SCHEDULE',\n",
       " 'W_Afhandelen leads_START',\n",
       " 'W_Afhandelen leads_COMPLETE',\n",
       " '<EOS>']"
      ]
     },
     "metadata": {},
     "execution_count": 12
    }
   ],
   "source": [
    "trainer.model.vocab.list_of_index_to_vocab(testing_full_trace)"
   ]
  },
  {
   "cell_type": "code",
   "execution_count": 13,
   "metadata": {},
   "outputs": [
    {
     "output_type": "execute_result",
     "data": {
      "text/plain": [
       "['<SOS>', 'W_Afhandelen leads_SCHEDULE', 'W_Afhandelen leads_START']"
      ]
     },
     "metadata": {},
     "execution_count": 13
    }
   ],
   "source": [
    "testing_vocab_trace"
   ]
  },
  {
   "cell_type": "code",
   "execution_count": 14,
   "metadata": {},
   "outputs": [
    {
     "output_type": "execute_result",
     "data": {
      "text/plain": [
       "[['<SOS>',\n",
       "  'W_Afhandelen leads_SCHEDULE',\n",
       "  'W_Afhandelen leads_START',\n",
       "  'W_Completeren aanvraag_SCHEDULE',\n",
       "  'W_Afhandelen leads_COMPLETE',\n",
       "  'W_Completeren aanvraag_START',\n",
       "  'W_Completeren aanvraag_COMPLETE',\n",
       "  'W_Completeren aanvraag_START']]"
      ]
     },
     "metadata": {},
     "execution_count": 14
    }
   ],
   "source": [
    "trainer.model.predicting_from_list_of_vacab_trace([testing_vocab_trace], n_steps=5, use_argmax=True)"
   ]
  },
  {
   "cell_type": "code",
   "execution_count": null,
   "metadata": {},
   "outputs": [],
   "source": []
  }
 ]
}