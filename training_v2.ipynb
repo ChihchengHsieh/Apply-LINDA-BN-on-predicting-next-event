{
 "metadata": {
  "language_info": {
   "codemirror_mode": {
    "name": "ipython",
    "version": 3
   },
   "file_extension": ".py",
   "mimetype": "text/x-python",
   "name": "python",
   "nbconvert_exporter": "python",
   "pygments_lexer": "ipython3",
   "version": "3.9.4"
  },
  "orig_nbformat": 2,
  "kernelspec": {
   "name": "python394jvsc74a57bd0ce84662d2f539e4595bb685d63d62db000d81e5edf3f86cfc940c024e0f53738",
   "display_name": "Python 3.9.4 64-bit ('dl')",
   "language": "python"
  },
  "metadata": {
   "interpreter": {
    "hash": "ce84662d2f539e4595bb685d63d62db000d81e5edf3f86cfc940c024e0f53738"
   }
  }
 },
 "nbformat": 4,
 "nbformat_minor": 2,
 "cells": [
  {
   "cell_type": "code",
   "execution_count": 1,
   "metadata": {},
   "outputs": [],
   "source": [
    "from  Controller import TrainingController_V2"
   ]
  },
  {
   "cell_type": "code",
   "execution_count": 2,
   "metadata": {},
   "outputs": [
    {
     "output_type": "stream",
     "name": "stdout",
     "text": [
      "\n",
      "=================================================\n",
      "| Running on cuda:0  \n",
      "=================================================\n",
      "\n",
      "=================================================\n",
      "| Model loaded successfully from: SavedModels/0.6974_Diabetes_BaseNNModel_2021-05-11 17:34:13.220265  \n",
      "=================================================\n"
     ]
    },
    {
     "output_type": "display_data",
     "data": {
      "text/plain": "<Figure size 1600x800 with 0 Axes>"
     },
     "metadata": {}
    }
   ],
   "source": [
    "trainer = TrainingController_V2()"
   ]
  },
  {
   "cell_type": "code",
   "execution_count": 3,
   "metadata": {
    "tags": []
   },
   "outputs": [
    {
     "output_type": "stream",
     "name": "stdout",
     "text": [
      "\n",
      "=================================================\n",
      "| Training Done! \n",
      "=================================================\n",
      "\n",
      "=================================================\n",
      "| Performing Testing ... \n",
      "=================================================\n",
      "\n",
      "=================================================\n",
      "| Performing Testing ... \n",
      "=================================================\n",
      "\n",
      "=================================================\n",
      "| Evaluation result | Loss [0.6268] | Accuracy [0.6974]  \n",
      "=================================================\n",
      "\n",
      "=================================================\n",
      "| Classification Report \n",
      "=================================================\n",
      "                True     False  accuracy  macro avg  weighted avg\n",
      "precision   0.705882   0.62500  0.697368   0.665441      0.679276\n",
      "recall      0.941176   0.20000  0.697368   0.570588      0.697368\n",
      "f1-score    0.806723   0.30303  0.697368   0.554876      0.641034\n",
      "support    51.000000  25.00000  0.697368  76.000000     76.000000\n",
      "\n",
      "=================================================\n",
      "| Confusion Matrix \n",
      "=================================================\n",
      "====================\n",
      "       True  False\n",
      "True     48      3\n",
      "False    20      5\n",
      "====================\n"
     ]
    }
   ],
   "source": [
    "trainer.train()"
   ]
  },
  {
   "cell_type": "code",
   "execution_count": 4,
   "metadata": {},
   "outputs": [
    {
     "output_type": "stream",
     "name": "stdout",
     "text": [
      "\n=================================================\n| Model saved successfully to: ./SavedModels/0.6974_Diabetes_BaseNNModel_2021-05-11 18:12:19.137805  \n=================================================\n"
     ]
    },
    {
     "output_type": "display_data",
     "data": {
      "text/plain": "<Figure size 432x288 with 0 Axes>"
     },
     "metadata": {}
    }
   ],
   "source": [
    "trainer.save_training_result(\"training_v2.ipynb\")"
   ]
  },
  {
   "cell_type": "code",
   "execution_count": 5,
   "metadata": {},
   "outputs": [],
   "source": [
    "######## Create a little model to see if it's trainable."
   ]
  },
  {
   "cell_type": "code",
   "execution_count": 6,
   "metadata": {},
   "outputs": [],
   "source": [
    "# Check for the accuracy calculation"
   ]
  },
  {
   "cell_type": "code",
   "execution_count": 18,
   "metadata": {},
   "outputs": [],
   "source": []
  },
  {
   "cell_type": "code",
   "execution_count": 10,
   "metadata": {},
   "outputs": [],
   "source": [
    "import torch"
   ]
  },
  {
   "cell_type": "code",
   "execution_count": 16,
   "metadata": {},
   "outputs": [],
   "source": [
    "input = torch.tensor(trainer.dataset[0][trainer.model.feature_names]).cuda()"
   ]
  },
  {
   "cell_type": "code",
   "execution_count": 17,
   "metadata": {},
   "outputs": [],
   "source": [
    "norm_input = trainer.model.normalize_input(input)"
   ]
  },
  {
   "cell_type": "code",
   "execution_count": 18,
   "metadata": {},
   "outputs": [
    {
     "output_type": "execute_result",
     "data": {
      "text/plain": [
       "tensor([ 0.6776,  0.8230,  0.1436,  0.8830, -0.6860,  0.2023,  0.4159,  1.4825],\n",
       "       device='cuda:0', dtype=torch.float64)"
      ]
     },
     "metadata": {},
     "execution_count": 18
    }
   ],
   "source": [
    "norm_input"
   ]
  },
  {
   "cell_type": "code",
   "execution_count": 19,
   "metadata": {},
   "outputs": [],
   "source": [
    "all_premutations = []"
   ]
  },
  {
   "cell_type": "code",
   "execution_count": 23,
   "metadata": {},
   "outputs": [],
   "source": [
    "input_backup = norm_input.clone()"
   ]
  },
  {
   "cell_type": "code",
   "execution_count": 25,
   "metadata": {},
   "outputs": [],
   "source": [
    "num_samples = 300"
   ]
  },
  {
   "cell_type": "code",
   "execution_count": 27,
   "metadata": {},
   "outputs": [
    {
     "output_type": "stream",
     "name": "stdout",
     "text": [
      "0\n1\n2\n3\n4\n5\n6\n7\n8\n9\n10\n11\n12\n13\n14\n15\n16\n17\n18\n19\n20\n21\n22\n23\n24\n25\n26\n27\n28\n29\n30\n31\n32\n33\n34\n35\n36\n37\n"
     ]
    }
   ],
   "source": []
  },
  {
   "cell_type": "code",
   "execution_count": null,
   "metadata": {},
   "outputs": [],
   "source": []
  },
  {
   "cell_type": "code",
   "execution_count": null,
   "metadata": {},
   "outputs": [],
   "source": []
  },
  {
   "cell_type": "code",
   "execution_count": null,
   "metadata": {},
   "outputs": [],
   "source": []
  },
  {
   "cell_type": "code",
   "execution_count": null,
   "metadata": {},
   "outputs": [],
   "source": [
    "for i in range(len(trainer.model.feature_names)):\n",
    "    input_to_permute = input_backup.clone()\n",
    "    max_range = 1 if trainer.model.mean_ + 0.25 > 1 else trainer.model.mean_ + 0.25  \n",
    "    min_range = -1 if trainer.model.mean_ - 0.25 < -1 else trainer.model.mean_ - 0.25 \n",
    "    for p in range(int(round(num_samples/len(trainer.model.feature_names)))):\n",
    "        \n",
    "    "
   ]
  },
  {
   "cell_type": "code",
   "execution_count": 22,
   "metadata": {},
   "outputs": [
    {
     "output_type": "execute_result",
     "data": {
      "text/plain": [
       "0.5"
      ]
     },
     "metadata": {},
     "execution_count": 22
    }
   ],
   "source": [
    "1 if False else 0.5"
   ]
  },
  {
   "cell_type": "code",
   "execution_count": 31,
   "metadata": {},
   "outputs": [
    {
     "output_type": "execute_result",
     "data": {
      "text/plain": [
       "tensor([ 1.0000,  1.0000, -1.0000,  0.5000,  0.7000, -0.3000])"
      ]
     },
     "metadata": {},
     "execution_count": 31
    }
   ],
   "source": [
    "a = torch.tensor([1.9, 1.3, -1.4, 0.5, 0.7,-0.3])\n",
    "\n",
    "torch.clip(a, -1, 1)"
   ]
  },
  {
   "cell_type": "code",
   "execution_count": 32,
   "metadata": {},
   "outputs": [],
   "source": [
    "input_to_permute = input_backup.clone()"
   ]
  },
  {
   "cell_type": "code",
   "execution_count": 81,
   "metadata": {},
   "outputs": [],
   "source": [
    "max_range = torch.clip(input_to_permute + .5 , - 1, 1)"
   ]
  },
  {
   "cell_type": "code",
   "execution_count": 82,
   "metadata": {},
   "outputs": [],
   "source": [
    "min_range = torch.clip(input_to_permute - .5, -1, 1)"
   ]
  },
  {
   "cell_type": "code",
   "execution_count": 36,
   "metadata": {},
   "outputs": [
    {
     "output_type": "execute_result",
     "data": {
      "text/plain": [
       "tensor([ 0.9276,  1.0000,  0.3936,  1.0000, -0.4360,  0.4523,  0.6659,  1.0000],\n",
       "       device='cuda:0', dtype=torch.float64)"
      ]
     },
     "metadata": {},
     "execution_count": 36
    }
   ],
   "source": [
    "max_range"
   ]
  },
  {
   "cell_type": "code",
   "execution_count": 37,
   "metadata": {},
   "outputs": [
    {
     "output_type": "error",
     "ename": "IndentationError",
     "evalue": "expected an indented block (<ipython-input-37-5c1f248298a1>, line 1)",
     "traceback": [
      "\u001b[0;36m  File \u001b[0;32m\"<ipython-input-37-5c1f248298a1>\"\u001b[0;36m, line \u001b[0;32m1\u001b[0m\n\u001b[0;31m    for i in range(len(trainer.model.feature_names)):\u001b[0m\n\u001b[0m                                                     ^\u001b[0m\n\u001b[0;31mIndentationError\u001b[0m\u001b[0;31m:\u001b[0m expected an indented block\n"
     ]
    }
   ],
   "source": [
    "for i in range(len(trainer.model.feature_names)):"
   ]
  },
  {
   "cell_type": "code",
   "execution_count": 38,
   "metadata": {},
   "outputs": [],
   "source": [
    "a = torch.ones(5,5)"
   ]
  },
  {
   "cell_type": "code",
   "execution_count": 43,
   "metadata": {},
   "outputs": [
    {
     "output_type": "execute_result",
     "data": {
      "text/plain": [
       "tensor([[-0.9749,  0.0435,  0.0524,  0.3899,  0.8803],\n",
       "        [ 0.9429,  0.6522,  0.5863,  0.5084, -0.1987],\n",
       "        [ 0.3882, -0.5774, -0.9177, -0.5789,  0.4997],\n",
       "        [-0.5720,  0.9711, -0.8153, -0.1348, -0.4560],\n",
       "        [-0.5579,  0.7086, -0.3107,  0.5504, -0.5049]])"
      ]
     },
     "metadata": {},
     "execution_count": 43
    }
   ],
   "source": [
    "a.uniform_(-1, 1)"
   ]
  },
  {
   "cell_type": "code",
   "execution_count": 48,
   "metadata": {},
   "outputs": [],
   "source": [
    "a[:,1] = 5"
   ]
  },
  {
   "cell_type": "code",
   "execution_count": 49,
   "metadata": {},
   "outputs": [
    {
     "output_type": "execute_result",
     "data": {
      "text/plain": [
       "tensor([[-0.9749,  5.0000,  0.0524,  0.3899,  0.8803],\n",
       "        [ 5.0000,  5.0000,  5.0000,  5.0000,  5.0000],\n",
       "        [ 0.3882,  5.0000, -0.9177, -0.5789,  0.4997],\n",
       "        [-0.5720,  5.0000, -0.8153, -0.1348, -0.4560],\n",
       "        [-0.5579,  5.0000, -0.3107,  0.5504, -0.5049]])"
      ]
     },
     "metadata": {},
     "execution_count": 49
    }
   ],
   "source": [
    "a"
   ]
  },
  {
   "cell_type": "code",
   "execution_count": 68,
   "metadata": {},
   "outputs": [],
   "source": [
    "samples_per_feature =30"
   ]
  },
  {
   "cell_type": "code",
   "execution_count": 69,
   "metadata": {},
   "outputs": [],
   "source": [
    "ps = input_to_permute.unsqueeze(0).repeat(samples_per_feature, 1)"
   ]
  },
  {
   "cell_type": "code",
   "execution_count": 78,
   "metadata": {},
   "outputs": [
    {
     "output_type": "execute_result",
     "data": {
      "text/plain": [
       "tensor([ 0.9276,  1.0000,  0.3936,  1.0000, -0.4360,  0.4523,  0.6659,  1.0000],\n",
       "       device='cuda:0', dtype=torch.float64)"
      ]
     },
     "metadata": {},
     "execution_count": 78
    }
   ],
   "source": []
  },
  {
   "cell_type": "code",
   "execution_count": 70,
   "metadata": {},
   "outputs": [],
   "source": [
    "# Using torch concat to concat them"
   ]
  },
  {
   "cell_type": "code",
   "execution_count": 83,
   "metadata": {},
   "outputs": [],
   "source": [
    "feature_idx_to_permuter = 1"
   ]
  },
  {
   "cell_type": "code",
   "execution_count": 84,
   "metadata": {},
   "outputs": [],
   "source": [
    "ps[:,feature_idx_to_permuter] = torch.zeros(samples_per_feature).uniform_(min_range[feature_idx_to_permuter], max_range[feature_idx_to_permuter])"
   ]
  },
  {
   "cell_type": "code",
   "execution_count": 80,
   "metadata": {},
   "outputs": [
    {
     "output_type": "execute_result",
     "data": {
      "text/plain": [
       "tensor([[ 0.6776,  0.8128,  0.1436,  0.8830, -0.6860,  0.2023,  0.4159,  1.4825],\n",
       "        [ 0.6776,  0.6374,  0.1436,  0.8830, -0.6860,  0.2023,  0.4159,  1.4825],\n",
       "        [ 0.6776,  0.8525,  0.1436,  0.8830, -0.6860,  0.2023,  0.4159,  1.4825],\n",
       "        [ 0.6776,  0.8895,  0.1436,  0.8830, -0.6860,  0.2023,  0.4159,  1.4825],\n",
       "        [ 0.6776,  0.8288,  0.1436,  0.8830, -0.6860,  0.2023,  0.4159,  1.4825],\n",
       "        [ 0.6776,  0.8701,  0.1436,  0.8830, -0.6860,  0.2023,  0.4159,  1.4825],\n",
       "        [ 0.6776,  0.8782,  0.1436,  0.8830, -0.6860,  0.2023,  0.4159,  1.4825],\n",
       "        [ 0.6776,  0.5981,  0.1436,  0.8830, -0.6860,  0.2023,  0.4159,  1.4825],\n",
       "        [ 0.6776,  0.8462,  0.1436,  0.8830, -0.6860,  0.2023,  0.4159,  1.4825],\n",
       "        [ 0.6776,  0.6100,  0.1436,  0.8830, -0.6860,  0.2023,  0.4159,  1.4825],\n",
       "        [ 0.6776,  0.6193,  0.1436,  0.8830, -0.6860,  0.2023,  0.4159,  1.4825],\n",
       "        [ 0.6776,  0.7290,  0.1436,  0.8830, -0.6860,  0.2023,  0.4159,  1.4825],\n",
       "        [ 0.6776,  0.6625,  0.1436,  0.8830, -0.6860,  0.2023,  0.4159,  1.4825],\n",
       "        [ 0.6776,  0.8017,  0.1436,  0.8830, -0.6860,  0.2023,  0.4159,  1.4825],\n",
       "        [ 0.6776,  0.9359,  0.1436,  0.8830, -0.6860,  0.2023,  0.4159,  1.4825],\n",
       "        [ 0.6776,  0.8383,  0.1436,  0.8830, -0.6860,  0.2023,  0.4159,  1.4825],\n",
       "        [ 0.6776,  0.7297,  0.1436,  0.8830, -0.6860,  0.2023,  0.4159,  1.4825],\n",
       "        [ 0.6776,  0.6323,  0.1436,  0.8830, -0.6860,  0.2023,  0.4159,  1.4825],\n",
       "        [ 0.6776,  0.8255,  0.1436,  0.8830, -0.6860,  0.2023,  0.4159,  1.4825],\n",
       "        [ 0.6776,  0.8388,  0.1436,  0.8830, -0.6860,  0.2023,  0.4159,  1.4825],\n",
       "        [ 0.6776,  0.7043,  0.1436,  0.8830, -0.6860,  0.2023,  0.4159,  1.4825],\n",
       "        [ 0.6776,  0.9539,  0.1436,  0.8830, -0.6860,  0.2023,  0.4159,  1.4825],\n",
       "        [ 0.6776,  0.6697,  0.1436,  0.8830, -0.6860,  0.2023,  0.4159,  1.4825],\n",
       "        [ 0.6776,  0.6171,  0.1436,  0.8830, -0.6860,  0.2023,  0.4159,  1.4825],\n",
       "        [ 0.6776,  0.6782,  0.1436,  0.8830, -0.6860,  0.2023,  0.4159,  1.4825],\n",
       "        [ 0.6776,  0.6289,  0.1436,  0.8830, -0.6860,  0.2023,  0.4159,  1.4825],\n",
       "        [ 0.6776,  0.8734,  0.1436,  0.8830, -0.6860,  0.2023,  0.4159,  1.4825],\n",
       "        [ 0.6776,  0.9922,  0.1436,  0.8830, -0.6860,  0.2023,  0.4159,  1.4825],\n",
       "        [ 0.6776,  0.8630,  0.1436,  0.8830, -0.6860,  0.2023,  0.4159,  1.4825],\n",
       "        [ 0.6776,  0.6722,  0.1436,  0.8830, -0.6860,  0.2023,  0.4159,  1.4825]],\n",
       "       device='cuda:0', dtype=torch.float64)"
      ]
     },
     "metadata": {},
     "execution_count": 80
    }
   ],
   "source": [
    "ps"
   ]
  },
  {
   "cell_type": "code",
   "execution_count": 87,
   "metadata": {},
   "outputs": [],
   "source": [
    "ps2  = ps.clone()"
   ]
  },
  {
   "cell_type": "code",
   "execution_count": 88,
   "metadata": {},
   "outputs": [
    {
     "output_type": "execute_result",
     "data": {
      "text/plain": [
       "torch.Size([30, 8])"
      ]
     },
     "metadata": {},
     "execution_count": 88
    }
   ],
   "source": [
    "ps.size()"
   ]
  },
  {
   "cell_type": "code",
   "execution_count": 89,
   "metadata": {},
   "outputs": [
    {
     "output_type": "execute_result",
     "data": {
      "text/plain": [
       "torch.Size([30, 8])"
      ]
     },
     "metadata": {},
     "execution_count": 89
    }
   ],
   "source": [
    "ps2.size()"
   ]
  },
  {
   "cell_type": "code",
   "execution_count": 91,
   "metadata": {},
   "outputs": [
    {
     "output_type": "execute_result",
     "data": {
      "text/plain": [
       "torch.Size([60, 8])"
      ]
     },
     "metadata": {},
     "execution_count": 91
    }
   ],
   "source": [
    "torch.cat([ps, ps2], dim=0).shape"
   ]
  },
  {
   "cell_type": "code",
   "execution_count": null,
   "metadata": {},
   "outputs": [],
   "source": []
  },
  {
   "cell_type": "code",
   "execution_count": null,
   "metadata": {},
   "outputs": [],
   "source": []
  }
 ]
}